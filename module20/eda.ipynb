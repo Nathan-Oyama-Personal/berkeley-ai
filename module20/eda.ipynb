{
 "cells": [
  {
   "cell_type": "markdown",
   "id": "2befb9d9",
   "metadata": {},
   "source": [
    "# Capstone Assignment 20.1: Initial Report and Exploratory Data Analysis (EDA)\n",
    "\n",
    "Nathan Oyama"
   ]
  },
  {
   "cell_type": "markdown",
   "id": "d46de7c9",
   "metadata": {},
   "source": [
    "## 1 &emsp; Planning the project\n",
    "\n",
    "There are three data sets to accomplish this project. \n",
    "\n",
    "* Kaggle: \"Percent Sunshine by US City\". kaggle.com/datasets/thedevastator/annual-percent-of-possible-sunshine-by-us-city.\n",
    "\n",
    "* US Geological Survey: \"The United States Large-Scale Solar Photovoltaic Database (USPVDB)\". US Department of the Interior. energy.usgs.gov/uspvdb/data.\n",
    "\n",
    "* landvalue: \"ZHVI 3-Bedroom Time Series($) - City\". landvalue.com/research/data.\n",
    "\n",
    "Then take the following steps _for every dataset_:\n",
    "\n",
    "1. From the data set which is in CSV format, create a pandas DataFrame object.\n",
    "1. Analyze every DataFrame and identify which columns to use for this project.\n",
    "1. Format the DataFrames before merge them.\n",
    "\n",
    "Finally, merge the three DataFrames into one."
   ]
  },
  {
   "cell_type": "markdown",
   "id": "bd62ac95",
   "metadata": {},
   "source": [
    "## 2 &emsp; Analyzing Data Sets"
   ]
  },
  {
   "cell_type": "markdown",
   "id": "ec97b352",
   "metadata": {},
   "source": [
    "Analyze those three data sets."
   ]
  },
  {
   "cell_type": "code",
   "execution_count": 39,
   "id": "06695ac5",
   "metadata": {},
   "outputs": [],
   "source": [
    "import pandas as pd\n",
    "import re\n",
    "\n",
    "pd.options.mode.copy_on_write = True\n",
    "\n",
    "from sklearn.model_selection import train_test_split, GridSearchCV\n",
    "\n",
    "import warnings\n",
    "from pkg_resources import PkgResourcesDeprecationWarning\n",
    "\n",
    "warnings.filterwarnings(\"ignore\", category=UserWarning)"
   ]
  },
  {
   "cell_type": "markdown",
   "id": "036be2da",
   "metadata": {},
   "source": [
    "### 2.1 Analyzing Data Set 1: \"Percent Sunshine by US City\""
   ]
  },
  {
   "cell_type": "code",
   "execution_count": 40,
   "id": "959e4691",
   "metadata": {},
   "outputs": [
    {
     "name": "stdout",
     "output_type": "stream",
     "text": [
      "(317, 16)\n",
      "   index           CITY JAN FEB MAR APR MAY JUN JUL AUG SEP OCT NOV DEC ANN  \\\n",
      "0      0  BIRMINGHAM,AL  46  53  57  65  65  67  59  62  59  66  55  49  58   \n",
      "1      1  MONTGOMERY,AL  47  55  58  64  63  64  61  61  59  63  55  49  58   \n",
      "2      2   ANCHORAGE,AK  43  46  51  50  51  46  43  43  41  36  35  33  43   \n",
      "3      3      JUNEAU,AK  39  35  38  42  44  37  33  35  27  21  26  21  33   \n",
      "4      4        NOME,AK  38  56  54  52  52  43  39  34  38  35  30  36  42   \n",
      "\n",
      "   Unnamed: 14  \n",
      "0          NaN  \n",
      "1          NaN  \n",
      "2          NaN  \n",
      "3          NaN  \n",
      "4          NaN  \n"
     ]
    }
   ],
   "source": [
    "df_sunshine_original = pd.read_csv(\n",
    "    './data/Average Percent of Possible Sunshine by US City.csv'\n",
    "    )\n",
    "\n",
    "print(df_sunshine_original.shape)\n",
    "print(df_sunshine_original.head())"
   ]
  },
  {
   "cell_type": "markdown",
   "id": "d863eb52",
   "metadata": {},
   "source": [
    "You can use all columns except \"index\" and \"Unnamed: 14\". The \"CITY\" column includes the name of the city in all uppercase, followed by a comma (\",\") and the state abbreviation."
   ]
  },
  {
   "cell_type": "code",
   "execution_count": 41,
   "id": "f5b014a0",
   "metadata": {},
   "outputs": [],
   "source": [
    "del df_sunshine_original"
   ]
  },
  {
   "cell_type": "markdown",
   "id": "2c76a523",
   "metadata": {},
   "source": [
    "### 2.2 &emsp; Analyzing Data Set 2: \"The US Large-Scale Solar Photovoltaic Database (USPVDB)\""
   ]
  },
  {
   "cell_type": "code",
   "execution_count": 42,
   "id": "de029c0b",
   "metadata": {},
   "outputs": [
    {
     "name": "stdout",
     "output_type": "stream",
     "text": [
      "(5712, 26)\n"
     ]
    }
   ],
   "source": [
    "df_photovoltaic_original = pd.read_csv(\n",
    "    './data/uspvdb_v3_0_20250430.csv'\n",
    "    )\n",
    "\n",
    "print(df_photovoltaic_original.shape)"
   ]
  },
  {
   "cell_type": "code",
   "execution_count": 43,
   "id": "c697e98f",
   "metadata": {},
   "outputs": [
    {
     "name": "stdout",
     "output_type": "stream",
     "text": [
      "   case_id multi_poly  eia_id p_state           p_county       ylat  \\\n",
      "0   406374     single   66887      AK  Matanuska-Susitna  61.587349   \n",
      "1   405016      multi    6304      AK   Northwest Arctic  66.838470   \n",
      "2   401476      multi   60058      AL         Lauderdale  34.833809   \n",
      "3   401865      multi   60679      AL               Dale  31.331732   \n",
      "4   401866      multi   60680      AL            Calhoun  33.626301   \n",
      "\n",
      "        xlong   p_area  p_img_date  p_dig_conf                   p_name  \\\n",
      "0 -149.789413   172005    20240814           4            Houston Solar   \n",
      "1 -162.553146     8740    20240719           4          Kotzebue Hybrid   \n",
      "2  -87.838394  1735134    20220212           4    River Bend Solar, LLC   \n",
      "3  -85.729469   187820    20220609           4  Fort Rucker Solar Array   \n",
      "4  -85.940590    39717    20210814           4         ANAD Solar Array   \n",
      "\n",
      "   p_year p_pwr_reg  \n",
      "0    2023        AK  \n",
      "1    2020       NaN  \n",
      "2    2016       TVA  \n",
      "3    2017      SOCO  \n",
      "4    2017      SOCO  \n"
     ]
    }
   ],
   "source": [
    "print(df_photovoltaic_original.iloc[:,:13].head())"
   ]
  },
  {
   "cell_type": "code",
   "execution_count": 44,
   "id": "9d5b3015",
   "metadata": {},
   "outputs": [
    {
     "name": "stdout",
     "output_type": "stream",
     "text": [
      "  p_tech_pri p_tech_sec p_sys_type       p_axis  p_azimuth  p_tilt  p_battery  \\\n",
      "0         PV        NaN     ground   fixed-tilt      180.0    40.0        NaN   \n",
      "1         PV        NaN     ground  single-axis      156.0    40.0  batteries   \n",
      "2         PV       c-si     ground  single-axis      270.0    17.0        NaN   \n",
      "3         PV  thin-film     ground  single-axis      188.0    20.0        NaN   \n",
      "4         PV  thin-film     ground   fixed-tilt      180.0    20.0        NaN   \n",
      "\n",
      "   p_cap_ac  p_cap_dc      p_type       p_agrivolt p_comm  p_zscore  \n",
      "0       6.0       8.4  greenfield             crop    NaN -0.457675  \n",
      "1       1.7       3.4  greenfield  non-agrivoltaic    NaN  5.617232  \n",
      "2      75.0     100.2  greenfield  non-agrivoltaic    NaN -0.298527  \n",
      "3      10.6      12.7  greenfield  non-agrivoltaic    NaN -0.122265  \n",
      "4       7.4       9.7   superfund  non-agrivoltaic    NaN  3.031619  \n"
     ]
    }
   ],
   "source": [
    "print(df_photovoltaic_original.iloc[:,13:26].head())"
   ]
  },
  {
   "cell_type": "code",
   "execution_count": 45,
   "id": "d1a0b739",
   "metadata": {},
   "outputs": [
    {
     "data": {
      "text/plain": [
       "(0, 26)"
      ]
     },
     "execution_count": 45,
     "metadata": {},
     "output_type": "execute_result"
    }
   ],
   "source": [
    "df_photovoltaic_original.query('p_cap_ac.isnull() | p_cap_dc.isnull()').shape"
   ]
  },
  {
   "cell_type": "code",
   "execution_count": 46,
   "id": "3c2d59fe",
   "metadata": {},
   "outputs": [],
   "source": [
    "del df_photovoltaic_original"
   ]
  },
  {
   "cell_type": "markdown",
   "id": "d725d236",
   "metadata": {},
   "source": [
    "### 2.3 &emsp; Analyzing Data Set 3: \"ZHVI 3-Bedroom Time Series($) - City\""
   ]
  },
  {
   "cell_type": "code",
   "execution_count": 47,
   "id": "34dd771a",
   "metadata": {},
   "outputs": [
    {
     "data": {
      "text/plain": [
       "Index(['RegionID', 'SizeRank', 'RegionName', 'RegionType', 'StateName',\n",
       "       'State', 'Metro', 'CountyName', '2000-01-31', '2000-02-29',\n",
       "       ...\n",
       "       '2024-08-31', '2024-09-30', '2024-10-31', '2024-11-30', '2024-12-31',\n",
       "       '2025-01-31', '2025-02-28', '2025-03-31', '2025-04-30', '2025-05-31'],\n",
       "      dtype='object', length=313)"
      ]
     },
     "execution_count": 47,
     "metadata": {},
     "output_type": "execute_result"
    }
   ],
   "source": [
    "df_landvalue_original = pd.read_csv(\n",
    "    './data/City_zhvi_bdrmcnt_3_uc_sfrcondo_tier_0.33_0.67_sm_sa_month.csv.zip',\n",
    "    compression='zip'\n",
    "    )\n",
    "\n",
    "df_landvalue_original.columns"
   ]
  },
  {
   "cell_type": "code",
   "execution_count": 48,
   "id": "1ae32f78",
   "metadata": {},
   "outputs": [
    {
     "name": "stdout",
     "output_type": "stream",
     "text": [
      "<class 'pandas.core.frame.DataFrame'>\n",
      "RangeIndex: 15711 entries, 0 to 15710\n",
      "Columns: 313 entries, RegionID to 2025-05-31\n",
      "dtypes: float64(305), int64(2), object(6)\n",
      "memory usage: 37.5+ MB\n"
     ]
    }
   ],
   "source": [
    "df_landvalue_original.info()"
   ]
  },
  {
   "cell_type": "code",
   "execution_count": 49,
   "id": "9ac01ebb",
   "metadata": {},
   "outputs": [
    {
     "name": "stdout",
     "output_type": "stream",
     "text": [
      "   RegionID  SizeRank   RegionName RegionType StateName State  \\\n",
      "0      6181         0     New York       city        NY    NY   \n",
      "1     12447         1  Los Angeles       city        CA    CA   \n",
      "2     39051         2      Houston       city        TX    TX   \n",
      "3     17426         3      Chicago       city        IL    IL   \n",
      "4      6915         4  San Antonio       city        TX    TX   \n",
      "\n",
      "                                   Metro          CountyName     2025-05-31  \n",
      "0  New York-Newark-Jersey City, NY-NJ-PA       Queens County  840048.900964  \n",
      "1     Los Angeles-Long Beach-Anaheim, CA  Los Angeles County  964249.977821  \n",
      "2   Houston-The Woodlands-Sugar Land, TX       Harris County  253134.060059  \n",
      "3     Chicago-Naperville-Elgin, IL-IN-WI         Cook County  336756.496352  \n",
      "4          San Antonio-New Braunfels, TX        Bexar County  235986.092899  \n"
     ]
    }
   ],
   "source": [
    "print(\n",
    "    df_landvalue_original[[\n",
    "        'RegionID', 'SizeRank', 'RegionName', 'RegionType', 'StateName',\n",
    "        'State', 'Metro', 'CountyName', '2025-05-31'\n",
    "        ]].head()\n",
    "    )"
   ]
  },
  {
   "cell_type": "code",
   "execution_count": 50,
   "id": "02705824",
   "metadata": {},
   "outputs": [],
   "source": [
    "del df_landvalue_original"
   ]
  },
  {
   "cell_type": "markdown",
   "id": "89311cad",
   "metadata": {},
   "source": [
    "### 2.4 &emsp; Planning the merged Data Frame"
   ]
  },
  {
   "cell_type": "markdown",
   "id": "2ddfccdf",
   "metadata": {},
   "source": [
    "\n",
    "A combined DataFrame: `df_solar`\n",
    "\n",
    "| Column               | Example          | Data Sets                          |\n",
    "| :------------------- | :--------------- | :--------------------------------- |\n",
    "| County-State         | BERKELEY,CA      | Photovoltaic, Land Value           |\n",
    "| City-State           | ALAMEDA,CA       | Sunshine, Land Value               |\n",
    "| Longitude            | -149.789413.     | Photovoltaic                       |\n",
    "| Latitude             | 61.587349        | Sunshine, Photovoltaic, Land Value |\n",
    "| Sunshine (Jan ... Dec) | 58             | Sunshine                           |\n",
    "| DC                   | 6.0              | Photovoltaic                       |\n",
    "| AC                   | 8.4              | Photovoltaic                       |\n",
    "| Current              | 14.4             | (DC + AC)                          |\n",
    "| Land Value           | 840048.900963529 | Land Value                         |\n",
    "\n",
    "Some cities that are listed in the Land Value data set and the Sunshine data set do not have solar power plants. In later steps, you predict the current in cities that do not have solar power plants and tell which cities you should build solar power plants.\n",
    "\n",
    "\n",
    "Note that in the United States, city names are unique only within the same state. Some cities share the same name and even the same county name while those are located in different states.\n",
    "\n",
    "| Column | Land Value  | Solar   | Sunshine | (Example 1)  | (Example 2)  |\n",
    "| :----- | :---------: | :-----: | :------: | :----------- | :----------- |\n",
    "| City   | &#9679;     | -       | &#9679;  | Franklin     | Franklin     |\n",
    "| County | &#9679;     | &#9679; | -        | Williamson   | Williamson   |\n",
    "| State  | &#9679;     | &#9679; | &#9679;  | Tennessee    | Texas        |\n"
   ]
  },
  {
   "cell_type": "markdown",
   "id": "3f03caf1",
   "metadata": {},
   "source": [
    "## 3 &emsp; Extracting Data Sets"
   ]
  },
  {
   "cell_type": "markdown",
   "id": "75585566",
   "metadata": {},
   "source": [
    "### 3.1 &emsp; Dataset 1: Sunshine"
   ]
  },
  {
   "cell_type": "code",
   "execution_count": 51,
   "id": "8c766e14",
   "metadata": {},
   "outputs": [],
   "source": [
    "df_sunshine_original = pd.read_csv(\n",
    "    './data/Average Percent of Possible Sunshine by US City.csv'\n",
    "    )"
   ]
  },
  {
   "cell_type": "markdown",
   "id": "5cac2b1e",
   "metadata": {},
   "source": [
    "Check the `CITY` column:"
   ]
  },
  {
   "cell_type": "code",
   "execution_count": 52,
   "id": "506e8d6f",
   "metadata": {},
   "outputs": [
    {
     "name": "stdout",
     "output_type": "stream",
     "text": [
      "CITY                  \n",
      "CITY                      1\n",
      "ABERDEEN,SD               2\n",
      "NOME,AK                   2\n",
      "NORFOLK,VA                2\n",
      "NORTH PLATTE,NE           2\n",
      "                         ..\n",
      "GRAND RAPIDS,MI           2\n",
      "GREAT FALLS,MT            2\n",
      "GREEN BAY,WI              2\n",
      "FLAGSTAFF,AZ              2\n",
      "YAP- W CAROLINE IS.,PC    2\n",
      "Name: count, Length: 159, dtype: int64\n"
     ]
    }
   ],
   "source": [
    "print(df_sunshine_original[['CITY']].value_counts(ascending=True))"
   ]
  },
  {
   "cell_type": "markdown",
   "id": "709cbd8c",
   "metadata": {},
   "source": [
    "There is one invalid entry `\"CITY\"`, and every other city has exact two entries. Check the row where the `CITY` column is `CITY`:"
   ]
  },
  {
   "cell_type": "code",
   "execution_count": 53,
   "id": "5bc60d3d",
   "metadata": {},
   "outputs": [
    {
     "name": "stdout",
     "output_type": "stream",
     "text": [
      "     index  CITY  JAN  FEB  MAR  APR  MAY  JUN  JUL  AUG  SEP  OCT  NOV  DEC  \\\n",
      "158    158  CITY  JAN  FEB  MAR  APR  MAY  JUN  JUL  AUG  SEP  OCT  NOV  DEC   \n",
      "\n",
      "     ANN  Unnamed: 14  \n",
      "158  ANN          NaN  \n"
     ]
    }
   ],
   "source": [
    "print(df_sunshine_original[df_sunshine_original['CITY'] == 'CITY'])"
   ]
  },
  {
   "cell_type": "code",
   "execution_count": 54,
   "id": "11e123ee",
   "metadata": {},
   "outputs": [
    {
     "name": "stdout",
     "output_type": "stream",
     "text": [
      "     index            CITY  JAN  FEB  MAR  APR  MAY  JUN JUL AUG SEP OCT NOV  \\\n",
      "115    115     ABERDEEN,SD  NaN   54   58   63   65   66  74  78  68  48  21   \n",
      "315    315     ABERDEEN,SD  NaN   54   58   63   65   66  74  78  68  48  21   \n",
      "123    123      ABILENE,TX   63   66   70   71   71   77  80  75  69  68  64   \n",
      "182    182      ABILENE,TX   63   66   70   71   71   77  80  75  69  68  64   \n",
      "86      86       ALBANY,NY   46   52   51   55   53   55  62  58  54  46  33   \n",
      "287    287       ALBANY,NY   46   52   51   55   53   55  62  58  54  46  33   \n",
      "84      84  ALBUQUERQUE,NM   73   73   73   78   80   82  76  76  77  80  75   \n",
      "169    169  ALBUQUERQUE,NM   73   73   73   78   80   82  76  76  77  80  75   \n",
      "108    108    ALLENTOWN,PA  NaN  NaN  NaN  NaN  NaN  NaN  90  93  82  52  47   \n",
      "314    314    ALLENTOWN,PA  NaN  NaN  NaN  NaN  NaN  NaN  90  93  82  52  47   \n",
      "\n",
      "     DEC  ANN  Unnamed: 14  \n",
      "115  NaN  NaN          NaN  \n",
      "315  NaN  NaN          NaN  \n",
      "123   65   69          NaN  \n",
      "182   65   69          NaN  \n",
      "86    36   50          NaN  \n",
      "287   36   50          NaN  \n",
      "84    73   76          NaN  \n",
      "169   73   76          NaN  \n",
      "108  NaN  NaN          NaN  \n",
      "314  NaN  NaN          NaN  \n"
     ]
    }
   ],
   "source": [
    "print(df_sunshine_original.sort_values(by=['CITY','index']).head(10))"
   ]
  },
  {
   "cell_type": "markdown",
   "id": "072fe01a",
   "metadata": {},
   "source": [
    "In this data set, the row where `'index'` is 158 does not include appopriate values thus you can remvoe it.\n",
    "\n",
    "See the `\"index\"` field of every pairs of rows for every city; one of those rows have the value of less than 158 and the other rows have the value of greater than 158. Also all other values such as `\"ANN\"` are the same.\n",
    "\n",
    "Assume that this data set includes two tables with the same rows in different orders. The first table spans between line 1 and line 157 in the original CSV file, and the second table spans between line 158 and line 318. You only need the first one.\n",
    "\n",
    "Construct a new DataFrame that is based on the original data set for the sunshine information with the following changes:\n",
    "\n",
    "* Include all rows of the first 157 records.\n",
    "* Trim off the unnecessary column `\"Unnamed: 14\"`.\n",
    "* Split the \"`CITY`\" entries by the city names and the state abbreviations."
   ]
  },
  {
   "cell_type": "code",
   "execution_count": 55,
   "id": "15aab4b1",
   "metadata": {},
   "outputs": [],
   "source": [
    "df_sunshine_original = pd.read_csv(\n",
    "    './data/Average Percent of Possible Sunshine by US City.csv'\n",
    "    )\n",
    "\n",
    "df_sunshine = df_sunshine_original\\\n",
    "    .iloc[1:157]\\\n",
    "    .set_index(['index'])\n",
    "\n",
    "del df_sunshine['Unnamed: 14']\n",
    "\n",
    "df_sunshine.rename(columns={'CITY': 'City-State'}, inplace=True)"
   ]
  },
  {
   "cell_type": "code",
   "execution_count": 56,
   "id": "20f47247",
   "metadata": {},
   "outputs": [
    {
     "name": "stdout",
     "output_type": "stream",
     "text": [
      "          City-State JAN FEB MAR APR MAY JUN JUL AUG SEP OCT NOV DEC ANN\n",
      "index                                                                   \n",
      "1      MONTGOMERY,AL  47  55  58  64  63  64  61  61  59  63  55  49  58\n",
      "2       ANCHORAGE,AK  43  46  51  50  51  46  43  43  41  36  35  33  43\n",
      "3          JUNEAU,AK  39  35  38  42  44  37  33  35  27  21  26  21  33\n",
      "4            NOME,AK  38  56  54  52  52  43  39  34  38  35  30  36  42\n",
      "5       FLAGSTAFF,AZ  71  73  72  82  83  88  74  75  79  77  72  76  76\n"
     ]
    }
   ],
   "source": [
    "print(df_sunshine.head())"
   ]
  },
  {
   "cell_type": "code",
   "execution_count": 57,
   "id": "445bb333",
   "metadata": {},
   "outputs": [
    {
     "data": {
      "application/vnd.microsoft.datawrangler.viewer.v0+json": {
       "columns": [
        {
         "name": "index",
         "rawType": "int64",
         "type": "integer"
        },
        {
         "name": "City-State",
         "rawType": "object",
         "type": "string"
        },
        {
         "name": "JAN",
         "rawType": "object",
         "type": "unknown"
        },
        {
         "name": "FEB",
         "rawType": "object",
         "type": "unknown"
        },
        {
         "name": "MAR",
         "rawType": "object",
         "type": "unknown"
        },
        {
         "name": "APR",
         "rawType": "object",
         "type": "unknown"
        },
        {
         "name": "MAY",
         "rawType": "object",
         "type": "unknown"
        },
        {
         "name": "JUN",
         "rawType": "object",
         "type": "unknown"
        },
        {
         "name": "JUL",
         "rawType": "object",
         "type": "string"
        },
        {
         "name": "AUG",
         "rawType": "object",
         "type": "string"
        },
        {
         "name": "SEP",
         "rawType": "object",
         "type": "string"
        },
        {
         "name": "OCT",
         "rawType": "object",
         "type": "string"
        },
        {
         "name": "NOV",
         "rawType": "object",
         "type": "string"
        },
        {
         "name": "DEC",
         "rawType": "object",
         "type": "unknown"
        },
        {
         "name": "ANN",
         "rawType": "object",
         "type": "unknown"
        }
       ],
       "ref": "55f2d37e-cdbd-4de3-bef5-7952cfc332a8",
       "rows": [
        [
         "1",
         "MONTGOMERY,AL",
         "47",
         "55",
         "58",
         "64",
         "63",
         "64",
         "61",
         "61",
         "59",
         "63",
         "55",
         "49",
         "58"
        ],
        [
         "2",
         "ANCHORAGE,AK",
         "43",
         "46",
         "51",
         "50",
         "51",
         "46",
         "43",
         "43",
         "41",
         "36",
         "35",
         "33",
         "43"
        ],
        [
         "3",
         "JUNEAU,AK",
         "39",
         "35",
         "38",
         "42",
         "44",
         "37",
         "33",
         "35",
         "27",
         "21",
         "26",
         "21",
         "33"
        ],
        [
         "4",
         "NOME,AK",
         "38",
         "56",
         "54",
         "52",
         "52",
         "43",
         "39",
         "34",
         "38",
         "35",
         "30",
         "36",
         "42"
        ],
        [
         "5",
         "FLAGSTAFF,AZ",
         "71",
         "73",
         "72",
         "82",
         "83",
         "88",
         "74",
         "75",
         "79",
         "77",
         "72",
         "76",
         "76"
        ],
        [
         "6",
         "PHOENIX,AZ",
         "79",
         "81",
         "83",
         "90",
         "93",
         "95",
         "86",
         "87",
         "89",
         "88",
         "79",
         "79",
         "85"
        ],
        [
         "7",
         "TUCSON,AZ",
         "80",
         "82",
         "86",
         "92",
         "94",
         "93",
         "80",
         "84",
         "87",
         "88",
         "83",
         "79",
         "85"
        ],
        [
         "8",
         "FORT SMITH,AR",
         "52",
         "56",
         "58",
         "60",
         "63",
         "70",
         "75",
         "70",
         "63",
         "63",
         "51",
         "51",
         "61"
        ],
        [
         "9",
         "LITTLE ROCK,AR",
         "52",
         "63",
         "63",
         "69",
         "78",
         "82",
         "81",
         "79",
         "73",
         "72",
         "56",
         "52",
         "68"
        ],
        [
         "10",
         "FRESNO,CA",
         "44",
         "60",
         "74",
         "83",
         "91",
         "93",
         "96",
         "95",
         "93",
         "86",
         "59",
         "44",
         "76"
        ],
        [
         "11",
         "LOS ANGELES,CA",
         "69",
         "70",
         "70",
         "78",
         "63",
         "63",
         "82",
         "85",
         "74",
         "74",
         "70",
         "71",
         "72"
        ],
        [
         "12",
         "SACRAMENTO,CA",
         "45",
         "62",
         "73",
         "82",
         "92",
         "94",
         "97",
         "96",
         "93",
         "84",
         "61",
         "47",
         "77"
        ],
        [
         "13",
         "SAN DIEGO,CA",
         "74",
         "73",
         "71",
         "72",
         "56",
         "57",
         "70",
         "72",
         "65",
         "70",
         "73",
         "75",
         "69"
        ],
        [
         "14",
         "SAN FRANCISCO,CA",
         "58",
         "66",
         "71",
         "77",
         "75",
         "69",
         "70",
         "69",
         "73",
         "71",
         "55",
         "55",
         "67"
        ],
        [
         "15",
         "DENVER,CO",
         "71",
         "73",
         "71",
         "71",
         "64",
         "71",
         "71",
         "72",
         "74",
         "71",
         "64",
         "65",
         "69"
        ],
        [
         "16",
         "GRAND JUNCTION,CO",
         "59",
         "64",
         "63",
         "69",
         "72",
         "80",
         "78",
         "78",
         "79",
         "71",
         "60",
         "57",
         "69"
        ],
        [
         "17",
         "PUEBLO,CO",
         "75",
         "77",
         "78",
         "82",
         "79",
         "83",
         "81",
         "81",
         "82",
         "79",
         "73",
         "71",
         "78"
        ],
        [
         "18",
         "HARTFORD,CT",
         "59",
         "61",
         "56",
         "59",
         "58",
         "61",
         "66",
         "63",
         "59",
         "57",
         "47",
         "50",
         "58"
        ],
        [
         "19",
         "WASHINGTON NAT'L,DC",
         "47",
         "53",
         "54",
         "60",
         "61",
         "64",
         "64",
         "66",
         "62",
         "57",
         "49",
         "45",
         "56"
        ],
        [
         "20",
         "JACKSONVILLE,FL",
         "58",
         "61",
         "69",
         "74",
         "71",
         "66",
         "65",
         "63",
         "62",
         "60",
         "63",
         "59",
         "64"
        ],
        [
         "21",
         "KEY WEST,FL",
         "74",
         "76",
         "84",
         "85",
         "82",
         "77",
         "79",
         "78",
         "74",
         "72",
         "71",
         "73",
         "77"
        ],
        [
         "22",
         "MIAMI,FL",
         "68",
         "70",
         "74",
         "81",
         "73",
         "73",
         "81",
         "77",
         "75",
         "72",
         "65",
         "66",
         "72"
        ],
        [
         "23",
         "PENSACOLA,FL",
         "53",
         "56",
         "65",
         "67",
         "64",
         "66",
         "59",
         "56",
         "58",
         "71",
         "63",
         "47",
         "60"
        ],
        [
         "24",
         "TAMPA,FL",
         "66",
         "68",
         "75",
         "80",
         "77",
         "70",
         "67",
         "65",
         "65",
         "67",
         "66",
         "62",
         "69"
        ],
        [
         "25",
         "ATLANTA,GA",
         "50",
         "56",
         "59",
         "66",
         "65",
         "66",
         "62",
         "62",
         "60",
         "67",
         "61",
         "53",
         "60"
        ],
        [
         "26",
         "MACON,GA",
         "53",
         "59",
         "66",
         "71",
         "69",
         "68",
         "65",
         "67",
         "62",
         "67",
         "61",
         "56",
         "63"
        ],
        [
         "27",
         "SAVANNAH,GA",
         "54",
         "58",
         "62",
         "70",
         "64",
         "62",
         "59",
         "57",
         "56",
         "62",
         "61",
         "53",
         "59"
        ],
        [
         "28",
         "HILO,HI",
         "47",
         "45",
         "39",
         "36",
         "40",
         "45",
         "41",
         "44",
         "47",
         "38",
         "35",
         "37",
         "41"
        ],
        [
         "29",
         "HONOLULU,HI",
         "59",
         "62",
         "68",
         "63",
         "66",
         "67",
         "71",
         "73",
         "75",
         "67",
         "60",
         "56",
         "65"
        ],
        [
         "30",
         "KAHULUI,HI",
         "65",
         "65",
         "65",
         "63",
         "70",
         "74",
         "72",
         "72",
         "76",
         "70",
         "66",
         "65",
         "68"
        ],
        [
         "31",
         "LIHUE,HI",
         "52",
         "54",
         "55",
         "57",
         "62",
         "62",
         "61",
         "65",
         "63",
         "56",
         "47",
         "46",
         "56"
        ],
        [
         "32",
         "BOISE,ID",
         "32",
         "49",
         "66",
         "68",
         "74",
         "76",
         "85",
         "82",
         "80",
         "69",
         "41",
         "34",
         "63"
        ],
        [
         "33",
         "POCATELLO,ID",
         "38",
         "55",
         "63",
         "64",
         "68",
         "74",
         "82",
         "80",
         "78",
         "68",
         "43",
         "36",
         "62"
        ],
        [
         "34",
         "CHICAGO,IL",
         "41",
         "42",
         "53",
         "53",
         "58",
         "66",
         "68",
         "61",
         "61",
         "56",
         "35",
         "35",
         "52"
        ],
        [
         "35",
         "MOLINE,IL",
         "48",
         "53",
         "49",
         "51",
         "54",
         "62",
         "65",
         "63",
         "60",
         "56",
         "40",
         "38",
         "53"
        ],
        [
         "36",
         "PEORIA,IL",
         "47",
         "53",
         "52",
         "53",
         "57",
         "66",
         "67",
         "63",
         "61",
         "58",
         "41",
         "38",
         "54"
        ],
        [
         "37",
         "SPRINGFIELD,IL",
         "50",
         "53",
         "51",
         "54",
         "61",
         "68",
         "71",
         "67",
         "66",
         "61",
         "45",
         "40",
         "57"
        ],
        [
         "38",
         "EVANSVILLE,IN",
         "46",
         "50",
         "56",
         "57",
         "63",
         "72",
         "72",
         "71",
         "65",
         "63",
         "46",
         "42",
         "58"
        ],
        [
         "39",
         "FORT WAYNE,IN",
         "50",
         "55",
         "57",
         "63",
         "69",
         "74",
         "76",
         "75",
         "67",
         "60",
         "40",
         "36",
         "60"
        ],
        [
         "40",
         "INDIANAPOLIS,IN",
         "42",
         "49",
         "48",
         "51",
         "58",
         "63",
         "65",
         "64",
         "61",
         "54",
         "36",
         "32",
         "51"
        ],
        [
         "41",
         "DES MOINES,IA",
         "50",
         "54",
         "55",
         "55",
         "61",
         "69",
         "74",
         "70",
         "66",
         "59",
         "45",
         "43",
         "58"
        ],
        [
         "42",
         "SIOUX CITY,IA",
         "57",
         "57",
         "59",
         "59",
         "62",
         "70",
         "73",
         "70",
         "65",
         "60",
         "48",
         "48",
         "60"
        ],
        [
         "43",
         "CONCORDIA,KS",
         "62",
         "63",
         "63",
         "66",
         "70",
         "78",
         "80",
         "78",
         "72",
         "69",
         "59",
         "58",
         "68"
        ],
        [
         "44",
         "DODGE CITY,KS",
         "65",
         "67",
         "64",
         "66",
         "68",
         "77",
         "80",
         "76",
         "72",
         "71",
         "63",
         "63",
         "69"
        ],
        [
         "45",
         "TOPEKA,KS",
         "55",
         "56",
         "56",
         "56",
         "60",
         "64",
         "72",
         "68",
         "62",
         "60",
         "50",
         "50",
         "59"
        ],
        [
         "46",
         "WICHITA,KS",
         "59",
         "63",
         "61",
         "64",
         "66",
         "70",
         "76",
         "74",
         "66",
         "66",
         "57",
         "56",
         "64"
        ],
        [
         "47",
         "LOUISVILLE,KY",
         "46",
         "51",
         "50",
         "55",
         "59",
         "64",
         "66",
         "65",
         "62",
         "60",
         "44",
         "41",
         "55"
        ],
        [
         "48",
         "PADUCAH,KY",
         "58",
         "52",
         "60",
         "65",
         "60",
         "73",
         "77",
         "81",
         "72",
         "71",
         "58",
         "52",
         "64"
        ],
        [
         "49",
         "LAKE CHARLES,LA",
         "46",
         "48",
         "65",
         "65",
         "77",
         "80",
         "81",
         "83",
         "83",
         "77",
         "55",
         "49",
         "67"
        ],
        [
         "50",
         "NEW ORLEANS,LA",
         "48",
         "52",
         "56",
         "62",
         "59",
         "67",
         "61",
         "59",
         "61",
         "70",
         "57",
         "54",
         "58"
        ]
       ],
       "shape": {
        "columns": 14,
        "rows": 156
       }
      },
      "text/html": [
       "<div>\n",
       "<style scoped>\n",
       "    .dataframe tbody tr th:only-of-type {\n",
       "        vertical-align: middle;\n",
       "    }\n",
       "\n",
       "    .dataframe tbody tr th {\n",
       "        vertical-align: top;\n",
       "    }\n",
       "\n",
       "    .dataframe thead th {\n",
       "        text-align: right;\n",
       "    }\n",
       "</style>\n",
       "<table border=\"1\" class=\"dataframe\">\n",
       "  <thead>\n",
       "    <tr style=\"text-align: right;\">\n",
       "      <th></th>\n",
       "      <th>City-State</th>\n",
       "      <th>JAN</th>\n",
       "      <th>FEB</th>\n",
       "      <th>MAR</th>\n",
       "      <th>APR</th>\n",
       "      <th>MAY</th>\n",
       "      <th>JUN</th>\n",
       "      <th>JUL</th>\n",
       "      <th>AUG</th>\n",
       "      <th>SEP</th>\n",
       "      <th>OCT</th>\n",
       "      <th>NOV</th>\n",
       "      <th>DEC</th>\n",
       "      <th>ANN</th>\n",
       "    </tr>\n",
       "    <tr>\n",
       "      <th>index</th>\n",
       "      <th></th>\n",
       "      <th></th>\n",
       "      <th></th>\n",
       "      <th></th>\n",
       "      <th></th>\n",
       "      <th></th>\n",
       "      <th></th>\n",
       "      <th></th>\n",
       "      <th></th>\n",
       "      <th></th>\n",
       "      <th></th>\n",
       "      <th></th>\n",
       "      <th></th>\n",
       "      <th></th>\n",
       "    </tr>\n",
       "  </thead>\n",
       "  <tbody>\n",
       "    <tr>\n",
       "      <th>1</th>\n",
       "      <td>MONTGOMERY,AL</td>\n",
       "      <td>47</td>\n",
       "      <td>55</td>\n",
       "      <td>58</td>\n",
       "      <td>64</td>\n",
       "      <td>63</td>\n",
       "      <td>64</td>\n",
       "      <td>61</td>\n",
       "      <td>61</td>\n",
       "      <td>59</td>\n",
       "      <td>63</td>\n",
       "      <td>55</td>\n",
       "      <td>49</td>\n",
       "      <td>58</td>\n",
       "    </tr>\n",
       "    <tr>\n",
       "      <th>2</th>\n",
       "      <td>ANCHORAGE,AK</td>\n",
       "      <td>43</td>\n",
       "      <td>46</td>\n",
       "      <td>51</td>\n",
       "      <td>50</td>\n",
       "      <td>51</td>\n",
       "      <td>46</td>\n",
       "      <td>43</td>\n",
       "      <td>43</td>\n",
       "      <td>41</td>\n",
       "      <td>36</td>\n",
       "      <td>35</td>\n",
       "      <td>33</td>\n",
       "      <td>43</td>\n",
       "    </tr>\n",
       "    <tr>\n",
       "      <th>3</th>\n",
       "      <td>JUNEAU,AK</td>\n",
       "      <td>39</td>\n",
       "      <td>35</td>\n",
       "      <td>38</td>\n",
       "      <td>42</td>\n",
       "      <td>44</td>\n",
       "      <td>37</td>\n",
       "      <td>33</td>\n",
       "      <td>35</td>\n",
       "      <td>27</td>\n",
       "      <td>21</td>\n",
       "      <td>26</td>\n",
       "      <td>21</td>\n",
       "      <td>33</td>\n",
       "    </tr>\n",
       "    <tr>\n",
       "      <th>4</th>\n",
       "      <td>NOME,AK</td>\n",
       "      <td>38</td>\n",
       "      <td>56</td>\n",
       "      <td>54</td>\n",
       "      <td>52</td>\n",
       "      <td>52</td>\n",
       "      <td>43</td>\n",
       "      <td>39</td>\n",
       "      <td>34</td>\n",
       "      <td>38</td>\n",
       "      <td>35</td>\n",
       "      <td>30</td>\n",
       "      <td>36</td>\n",
       "      <td>42</td>\n",
       "    </tr>\n",
       "    <tr>\n",
       "      <th>5</th>\n",
       "      <td>FLAGSTAFF,AZ</td>\n",
       "      <td>71</td>\n",
       "      <td>73</td>\n",
       "      <td>72</td>\n",
       "      <td>82</td>\n",
       "      <td>83</td>\n",
       "      <td>88</td>\n",
       "      <td>74</td>\n",
       "      <td>75</td>\n",
       "      <td>79</td>\n",
       "      <td>77</td>\n",
       "      <td>72</td>\n",
       "      <td>76</td>\n",
       "      <td>76</td>\n",
       "    </tr>\n",
       "    <tr>\n",
       "      <th>...</th>\n",
       "      <td>...</td>\n",
       "      <td>...</td>\n",
       "      <td>...</td>\n",
       "      <td>...</td>\n",
       "      <td>...</td>\n",
       "      <td>...</td>\n",
       "      <td>...</td>\n",
       "      <td>...</td>\n",
       "      <td>...</td>\n",
       "      <td>...</td>\n",
       "      <td>...</td>\n",
       "      <td>...</td>\n",
       "      <td>...</td>\n",
       "      <td>...</td>\n",
       "    </tr>\n",
       "    <tr>\n",
       "      <th>152</th>\n",
       "      <td>MAJURO- MARSHALL</td>\n",
       "      <td>62</td>\n",
       "      <td>66</td>\n",
       "      <td>66</td>\n",
       "      <td>55</td>\n",
       "      <td>57</td>\n",
       "      <td>55</td>\n",
       "      <td>56</td>\n",
       "      <td>62</td>\n",
       "      <td>61</td>\n",
       "      <td>55</td>\n",
       "      <td>54</td>\n",
       "      <td>54</td>\n",
       "      <td>58</td>\n",
       "    </tr>\n",
       "    <tr>\n",
       "      <th>153</th>\n",
       "      <td>PAGO PAGO- AMER SAMOA,PC</td>\n",
       "      <td>43</td>\n",
       "      <td>45</td>\n",
       "      <td>50</td>\n",
       "      <td>44</td>\n",
       "      <td>38</td>\n",
       "      <td>38</td>\n",
       "      <td>45</td>\n",
       "      <td>51</td>\n",
       "      <td>57</td>\n",
       "      <td>44</td>\n",
       "      <td>42</td>\n",
       "      <td>40</td>\n",
       "      <td>44</td>\n",
       "    </tr>\n",
       "    <tr>\n",
       "      <th>154</th>\n",
       "      <td>POHNPEI- CAROLINE IS.,PC</td>\n",
       "      <td>40</td>\n",
       "      <td>43</td>\n",
       "      <td>47</td>\n",
       "      <td>43</td>\n",
       "      <td>41</td>\n",
       "      <td>40</td>\n",
       "      <td>40</td>\n",
       "      <td>43</td>\n",
       "      <td>44</td>\n",
       "      <td>38</td>\n",
       "      <td>41</td>\n",
       "      <td>35</td>\n",
       "      <td>41</td>\n",
       "    </tr>\n",
       "    <tr>\n",
       "      <th>155</th>\n",
       "      <td>CHUUK- E. CAROLINE IS.,PC</td>\n",
       "      <td>56</td>\n",
       "      <td>62</td>\n",
       "      <td>60</td>\n",
       "      <td>57</td>\n",
       "      <td>52</td>\n",
       "      <td>50</td>\n",
       "      <td>53</td>\n",
       "      <td>57</td>\n",
       "      <td>51</td>\n",
       "      <td>48</td>\n",
       "      <td>49</td>\n",
       "      <td>51</td>\n",
       "      <td>53</td>\n",
       "    </tr>\n",
       "    <tr>\n",
       "      <th>156</th>\n",
       "      <td>YAP- W CAROLINE IS.,PC</td>\n",
       "      <td>57</td>\n",
       "      <td>62</td>\n",
       "      <td>66</td>\n",
       "      <td>66</td>\n",
       "      <td>61</td>\n",
       "      <td>55</td>\n",
       "      <td>48</td>\n",
       "      <td>49</td>\n",
       "      <td>51</td>\n",
       "      <td>51</td>\n",
       "      <td>57</td>\n",
       "      <td>58</td>\n",
       "      <td>56</td>\n",
       "    </tr>\n",
       "  </tbody>\n",
       "</table>\n",
       "<p>156 rows × 14 columns</p>\n",
       "</div>"
      ],
      "text/plain": [
       "                      City-State JAN FEB MAR APR MAY JUN JUL AUG SEP OCT NOV  \\\n",
       "index                                                                          \n",
       "1                  MONTGOMERY,AL  47  55  58  64  63  64  61  61  59  63  55   \n",
       "2                   ANCHORAGE,AK  43  46  51  50  51  46  43  43  41  36  35   \n",
       "3                      JUNEAU,AK  39  35  38  42  44  37  33  35  27  21  26   \n",
       "4                        NOME,AK  38  56  54  52  52  43  39  34  38  35  30   \n",
       "5                   FLAGSTAFF,AZ  71  73  72  82  83  88  74  75  79  77  72   \n",
       "...                          ...  ..  ..  ..  ..  ..  ..  ..  ..  ..  ..  ..   \n",
       "152             MAJURO- MARSHALL  62  66  66  55  57  55  56  62  61  55  54   \n",
       "153     PAGO PAGO- AMER SAMOA,PC  43  45  50  44  38  38  45  51  57  44  42   \n",
       "154     POHNPEI- CAROLINE IS.,PC  40  43  47  43  41  40  40  43  44  38  41   \n",
       "155    CHUUK- E. CAROLINE IS.,PC  56  62  60  57  52  50  53  57  51  48  49   \n",
       "156       YAP- W CAROLINE IS.,PC  57  62  66  66  61  55  48  49  51  51  57   \n",
       "\n",
       "      DEC ANN  \n",
       "index          \n",
       "1      49  58  \n",
       "2      33  43  \n",
       "3      21  33  \n",
       "4      36  42  \n",
       "5      76  76  \n",
       "...    ..  ..  \n",
       "152    54  58  \n",
       "153    40  44  \n",
       "154    35  41  \n",
       "155    51  53  \n",
       "156    58  56  \n",
       "\n",
       "[156 rows x 14 columns]"
      ]
     },
     "execution_count": 57,
     "metadata": {},
     "output_type": "execute_result"
    }
   ],
   "source": [
    "df_sunshine"
   ]
  },
  {
   "cell_type": "code",
   "execution_count": 58,
   "id": "0ec1b23e",
   "metadata": {},
   "outputs": [],
   "source": [
    "del df_sunshine_original"
   ]
  },
  {
   "cell_type": "markdown",
   "id": "1b940571",
   "metadata": {},
   "source": [
    "### 3.2 &emsp; Data Set 2: Photovoltaic"
   ]
  },
  {
   "cell_type": "code",
   "execution_count": 59,
   "id": "f9bd619c",
   "metadata": {},
   "outputs": [
    {
     "name": "stdout",
     "output_type": "stream",
     "text": [
      "          Longitude   Latitude    AC     DC  Current          County-State\n",
      "case_id                                                                   \n",
      "406374  -149.789413  61.587349   6.0    8.4     14.4  MATANUSKA-SUSITNA,AK\n",
      "405016  -162.553146  66.838470   1.7    3.4      5.1   NORTHWEST ARCTIC,AK\n",
      "401476   -87.838394  34.833809  75.0  100.2    175.2         LAUDERDALE,AL\n",
      "401865   -85.729469  31.331732  10.6   12.7     23.3               DALE,AL\n",
      "401866   -85.940590  33.626301   7.4    9.7     17.1            CALHOUN,AL\n"
     ]
    }
   ],
   "source": [
    "df_photovoltaic_original = pd.read_csv(\n",
    "    './data/uspvdb_v3_0_20250430.csv'\n",
    "    )\n",
    "\n",
    "df_photovoltaic = pd.DataFrame()\n",
    "\n",
    "df_photovoltaic = df_photovoltaic_original[[\n",
    "    'case_id', 'p_county', 'p_state', 'xlong', 'ylat', 'p_cap_ac', 'p_cap_dc'\n",
    "    ]].set_index('case_id')\n",
    "\n",
    "df_photovoltaic.rename(\n",
    "    columns={\n",
    "        'xlong':    'Longitude',\n",
    "        'ylat':     'Latitude',\n",
    "        'p_cap_ac': 'AC',\n",
    "        'p_cap_dc': 'DC'\n",
    "        },\n",
    "    inplace=True\n",
    "    )\n",
    "\n",
    "df_photovoltaic['Current'] = df_photovoltaic['AC'] + df_photovoltaic['DC'] \n",
    "\n",
    "df_photovoltaic['County-State'] = df_photovoltaic['p_county'].str.upper() \\\n",
    "    + ',' +  df_photovoltaic['p_state']\n",
    "del df_photovoltaic['p_county']\n",
    "del df_photovoltaic['p_state']\n",
    "\n",
    "print(df_photovoltaic.head())"
   ]
  },
  {
   "cell_type": "markdown",
   "id": "e7e8dd03",
   "metadata": {},
   "source": [
    "### 3.3 &emsp; Dataset 3: Land Values"
   ]
  },
  {
   "cell_type": "markdown",
   "id": "0dfa51be",
   "metadata": {},
   "source": [
    "In this original data set, there are many columns of historical prices of the average home values of 3-bedroom houses but you only need the latest values: `\"2025-05-31\"`.\n",
    "\n",
    "See the first few rows of the original data set while excluding all the other columns for historical home values:"
   ]
  },
  {
   "cell_type": "code",
   "execution_count": 60,
   "id": "5747f0eb",
   "metadata": {},
   "outputs": [
    {
     "name": "stdout",
     "output_type": "stream",
     "text": [
      "          SizeRank     Land Value    County-State      City-State\n",
      "RegionID                                                         \n",
      "6181             0  840048.900964       QUEENS,NY     NEW YORK,NY\n",
      "12447            1  964249.977821  LOS ANGELES,CA  LOS ANGELES,CA\n",
      "39051            2  253134.060059       HARRIS,TX      HOUSTON,TX\n",
      "17426            3  336756.496352         COOK,IL      CHICAGO,IL\n",
      "6915             4  235986.092899        BEXAR,TX  SAN ANTONIO,TX\n"
     ]
    }
   ],
   "source": [
    "df_landvalue_original = pd.read_csv(\n",
    "    './data/City_zhvi_bdrmcnt_3_uc_sfrcondo_tier_0.33_0.67_sm_sa_month.csv.zip',\n",
    "    compression='zip'\n",
    "    )\n",
    "\n",
    "df_landvalue = pd.DataFrame()\n",
    "\n",
    "df_landvalue = df_landvalue_original[[\n",
    "    'RegionID', 'SizeRank', 'State', 'RegionName', 'CountyName', '2025-05-31'\n",
    "    ]].set_index('RegionID')\n",
    "\n",
    "df_landvalue.rename(columns={'2025-05-31': 'Land Value'}, inplace=True)\n",
    "\n",
    "df_landvalue['County-State']\\\n",
    "    = df_landvalue['CountyName']\\\n",
    "        .str.replace(r'\\s* County$', '', regex=True)\\\n",
    "        .str.upper() + ',' + df_landvalue['State']\n",
    "del df_landvalue['CountyName']\n",
    "\n",
    "df_landvalue['City-State'] \\\n",
    "    = df_landvalue['RegionName'].str.upper() + ',' + df_landvalue['State']\n",
    "del df_landvalue['RegionName']\n",
    "\n",
    "del df_landvalue['State']\n",
    "\n",
    "del df_landvalue_original\n",
    "print(df_landvalue.head())"
   ]
  },
  {
   "cell_type": "markdown",
   "id": "51b57578",
   "metadata": {},
   "source": [
    "## 4 &emsp; Combining Three DataFrames into One"
   ]
  },
  {
   "cell_type": "code",
   "execution_count": 61,
   "id": "de2df7f6",
   "metadata": {},
   "outputs": [
    {
     "name": "stdout",
     "output_type": "stream",
     "text": [
      "    SizeRank     Land Value County-State City-State JAN FEB MAR APR MAY JUN  \\\n",
      "2       97.0  474416.339219       ADA,ID   BOISE,ID  32  49  66  68  74  76   \n",
      "3       97.0  474416.339219       ADA,ID   BOISE,ID  32  49  66  68  74  76   \n",
      "63     246.0  314400.663535    ALBANY,NY  ALBANY,NY  46  52  51  55  53  55   \n",
      "64     246.0  314400.663535    ALBANY,NY  ALBANY,NY  46  52  51  55  53  55   \n",
      "65     246.0  314400.663535    ALBANY,NY  ALBANY,NY  46  52  51  55  53  55   \n",
      "\n",
      "    ... SEP OCT NOV DEC ANN   Longitude   Latitude    AC    DC  Current  \n",
      "2   ...  80  69  41  34  63 -116.327415  43.438301  40.0  54.6     94.6  \n",
      "3   ...  80  69  41  34  63 -116.289497  43.468910  20.0  26.0     46.0  \n",
      "63  ...  54  46  33  36  50  -73.865364  42.585896   2.0   2.3      4.3  \n",
      "64  ...  54  46  33  36  50  -73.826706  42.540352   1.7   2.4      4.1  \n",
      "65  ...  54  46  33  36  50  -73.830566  42.542080   1.0   1.2      2.2  \n",
      "\n",
      "[5 rows x 22 columns]\n",
      "(5764, 22)\n"
     ]
    }
   ],
   "source": [
    "df_solar = df_landvalue.copy()\n",
    "\n",
    "df_solar = pd.merge(df_solar, df_sunshine,     on='City-State',   how='inner')\n",
    "df_solar = pd.merge(df_solar, df_photovoltaic, on='County-State', how='outer')\n",
    "\n",
    "print(df_solar.query('ANN.notnull()').head())\n",
    "\n",
    "print(df_solar.shape)"
   ]
  },
  {
   "cell_type": "code",
   "execution_count": 62,
   "id": "808f7b31",
   "metadata": {},
   "outputs": [
    {
     "name": "stdout",
     "output_type": "stream",
     "text": [
      "   ANN     Land Value   Longitude   Latitude  Current\n",
      "2   63  474416.339219 -116.327415  43.438301     94.6\n",
      "3   63  474416.339219 -116.289497  43.468910     46.0\n",
      "63  50  314400.663535  -73.865364  42.585896      4.3\n",
      "64  50  314400.663535  -73.826706  42.540352      4.1\n",
      "65  50  314400.663535  -73.830566  42.542080      2.2\n"
     ]
    }
   ],
   "source": [
    "df_solar_ml = pd.DataFrame()\n",
    "df_solar_ml = df_solar[[\n",
    "    'ANN', 'Land Value', 'Longitude', 'Latitude', 'Current'\n",
    "    ]].query('ANN.notnull()') # SizeRank?\n",
    " \n",
    "print(df_solar_ml.head())"
   ]
  },
  {
   "cell_type": "code",
   "execution_count": 63,
   "id": "f6f74926",
   "metadata": {},
   "outputs": [
    {
     "name": "stdout",
     "output_type": "stream",
     "text": [
      "df_solar            ... (5764, 22)\n",
      "Current is not null ... (5712, 22)\n",
      "Current is     null ... (52, 22)\n"
     ]
    }
   ],
   "source": [
    "print(\"df_solar            ...\", df_solar.shape)\n",
    "print(\"Current is not null ...\", df_solar.query('Current.notnull()').shape)\n",
    "print(\"Current is     null ...\", df_solar.query('Current.isnull()' ).shape)"
   ]
  },
  {
   "cell_type": "code",
   "execution_count": 64,
   "id": "ea35d45a",
   "metadata": {},
   "outputs": [
    {
     "data": {
      "text/plain": [
       "(52, 22)"
      ]
     },
     "execution_count": 64,
     "metadata": {},
     "output_type": "execute_result"
    }
   ],
   "source": [
    "df_solar.query('Current.isnull()').shape"
   ]
  },
  {
   "cell_type": "markdown",
   "id": "81933965",
   "metadata": {},
   "source": [
    "## 5 &emsp; Splitting the DataFrame for Training and Testing"
   ]
  },
  {
   "cell_type": "code",
   "execution_count": 65,
   "id": "f7630d7b",
   "metadata": {},
   "outputs": [],
   "source": [
    "# df_solar_X_train \\\n",
    "#    = df_solar_ml.query('Current.notnull()').drop(['Current'], axis=1)\n",
    "\n",
    "# df_solar_y_train \\\n",
    "#     = df_solar_ml.query('Current.notnull()')['Current']\n",
    "\n",
    "X_train, X_test, y_train, y_test = train_test_split(\n",
    "    df_solar_ml.query('Current.notnull()').drop(['Current'], axis=1),\n",
    "    df_solar_ml.query('Current.notnull()')['Current'],\n",
    "    random_state=42\n",
    "    )\n",
    "\n",
    "X_predict \\\n",
    "    = df_solar_ml.query('Current.isnull()' ).drop(['Current'], axis=1)"
   ]
  },
  {
   "cell_type": "code",
   "execution_count": 66,
   "id": "1e82cbb4",
   "metadata": {},
   "outputs": [
    {
     "data": {
      "application/vnd.microsoft.datawrangler.viewer.v0+json": {
       "columns": [
        {
         "name": "index",
         "rawType": "int64",
         "type": "integer"
        },
        {
         "name": "ANN",
         "rawType": "object",
         "type": "string"
        },
        {
         "name": "Land Value",
         "rawType": "float64",
         "type": "float"
        },
        {
         "name": "Longitude",
         "rawType": "float64",
         "type": "float"
        },
        {
         "name": "Latitude",
         "rawType": "float64",
         "type": "float"
        }
       ],
       "ref": "9d16e5b9-689b-489d-b9a7-f5ebfb73aafb",
       "rows": [
        [
         "90",
         "60",
         "227793.6152400521",
         null,
         null
        ],
        [
         "93",
         "48",
         "191528.9777683832",
         null,
         null
        ],
        [
         "95",
         "43",
         "392428.04068303434",
         null,
         null
        ],
        [
         "174",
         "55",
         "206499.969439792",
         null,
         null
        ],
        [
         "199",
         "62",
         "317148.2413309358",
         null,
         null
        ],
        [
         "228",
         "63",
         "195944.26489475253",
         null,
         null
        ],
        [
         "469",
         "55",
         "272902.08367625094",
         null,
         null
        ],
        [
         "495",
         "59",
         "326276.7026145886",
         null,
         null
        ],
        [
         "544",
         "58",
         "146103.1254333134",
         null,
         null
        ],
        [
         "548",
         "67",
         "211510.2408039221",
         null,
         null
        ],
        [
         "632",
         "56",
         "289199.39583340316",
         null,
         null
        ],
        [
         "729",
         "64",
         "250759.54050630447",
         null,
         null
        ],
        [
         "957",
         "68",
         "143484.0793305627",
         null,
         null
        ],
        [
         "965",
         "76",
         "650010.7368425984",
         null,
         null
        ],
        [
         "1261",
         "61",
         "278435.5774532798",
         null,
         null
        ],
        [
         "1463",
         "69",
         "237736.09824611564",
         null,
         null
        ],
        [
         "1514",
         "45",
         "266192.8122212155",
         null,
         null
        ],
        [
         "1534",
         "67",
         "402722.42768172617",
         null,
         null
        ],
        [
         "1930",
         "55",
         "253134.06005882644",
         null,
         null
        ],
        [
         "2006",
         "67",
         "235186.50034498787",
         null,
         null
        ],
        [
         "2026",
         "59",
         "85274.89820239796",
         null,
         null
        ],
        [
         "2216",
         "55",
         "274989.4211912031",
         null,
         null
        ],
        [
         "2231",
         "57",
         "149655.1358545633",
         null,
         null
        ],
        [
         "2282",
         "33",
         "490940.1684842755",
         null,
         null
        ],
        [
         "2472",
         "45",
         "951553.6204113048",
         null,
         null
        ],
        [
         "2530",
         "57",
         "358574.4496188336",
         null,
         null
        ],
        [
         "2674",
         "67",
         "212305.20850488744",
         null,
         null
        ],
        [
         "3036",
         "64",
         "218768.7214284334",
         null,
         null
        ],
        [
         "3123",
         "55",
         "462251.0683958239",
         null,
         null
        ],
        [
         "3244",
         "56",
         "307324.18416241836",
         null,
         null
        ],
        [
         "3248",
         "54",
         "563126.8792703421",
         null,
         null
        ],
        [
         "3284",
         "77",
         "1285405.6375639627",
         null,
         null
        ],
        [
         "3503",
         "61",
         "290516.029464357",
         null,
         null
        ],
        [
         "3551",
         "59",
         "243797.2805610053",
         null,
         null
        ],
        [
         "3576",
         "66",
         "210829.50887044377",
         null,
         null
        ],
        [
         "3709",
         "58",
         "213007.07164822813",
         null,
         null
        ],
        [
         "3951",
         "58",
         "227345.51980472976",
         null,
         null
        ],
        [
         "4071",
         "72",
         "211068.54440419233",
         null,
         null
        ],
        [
         "4156",
         "62",
         "351806.5910835231",
         null,
         null
        ],
        [
         "4282",
         "53",
         "151212.04714127874",
         null,
         null
        ],
        [
         "4387",
         "50",
         "297098.2520194058",
         null,
         null
        ],
        [
         "4558",
         "57",
         "181895.9927327441",
         null,
         null
        ],
        [
         "4642",
         "61",
         "207988.00970439625",
         null,
         null
        ],
        [
         "4685",
         "60",
         "443398.680722272",
         null,
         null
        ],
        [
         "4773",
         "52",
         "406295.6783561154",
         null,
         null
        ],
        [
         "4988",
         "69",
         "215666.4487925071",
         null,
         null
        ],
        [
         "5075",
         "59",
         "217766.30519333528",
         null,
         null
        ],
        [
         "5416",
         "73",
         "255374.78273784617",
         null,
         null
        ],
        [
         "5446",
         "60",
         "344312.71305679507",
         null,
         null
        ]
       ],
       "shape": {
        "columns": 4,
        "rows": 49
       }
      },
      "text/html": [
       "<div>\n",
       "<style scoped>\n",
       "    .dataframe tbody tr th:only-of-type {\n",
       "        vertical-align: middle;\n",
       "    }\n",
       "\n",
       "    .dataframe tbody tr th {\n",
       "        vertical-align: top;\n",
       "    }\n",
       "\n",
       "    .dataframe thead th {\n",
       "        text-align: right;\n",
       "    }\n",
       "</style>\n",
       "<table border=\"1\" class=\"dataframe\">\n",
       "  <thead>\n",
       "    <tr style=\"text-align: right;\">\n",
       "      <th></th>\n",
       "      <th>ANN</th>\n",
       "      <th>Land Value</th>\n",
       "      <th>Longitude</th>\n",
       "      <th>Latitude</th>\n",
       "    </tr>\n",
       "  </thead>\n",
       "  <tbody>\n",
       "    <tr>\n",
       "      <th>90</th>\n",
       "      <td>60</td>\n",
       "      <td>2.277936e+05</td>\n",
       "      <td>NaN</td>\n",
       "      <td>NaN</td>\n",
       "    </tr>\n",
       "    <tr>\n",
       "      <th>93</th>\n",
       "      <td>48</td>\n",
       "      <td>1.915290e+05</td>\n",
       "      <td>NaN</td>\n",
       "      <td>NaN</td>\n",
       "    </tr>\n",
       "    <tr>\n",
       "      <th>95</th>\n",
       "      <td>43</td>\n",
       "      <td>3.924280e+05</td>\n",
       "      <td>NaN</td>\n",
       "      <td>NaN</td>\n",
       "    </tr>\n",
       "    <tr>\n",
       "      <th>174</th>\n",
       "      <td>55</td>\n",
       "      <td>2.065000e+05</td>\n",
       "      <td>NaN</td>\n",
       "      <td>NaN</td>\n",
       "    </tr>\n",
       "    <tr>\n",
       "      <th>199</th>\n",
       "      <td>62</td>\n",
       "      <td>3.171482e+05</td>\n",
       "      <td>NaN</td>\n",
       "      <td>NaN</td>\n",
       "    </tr>\n",
       "    <tr>\n",
       "      <th>228</th>\n",
       "      <td>63</td>\n",
       "      <td>1.959443e+05</td>\n",
       "      <td>NaN</td>\n",
       "      <td>NaN</td>\n",
       "    </tr>\n",
       "    <tr>\n",
       "      <th>469</th>\n",
       "      <td>55</td>\n",
       "      <td>2.729021e+05</td>\n",
       "      <td>NaN</td>\n",
       "      <td>NaN</td>\n",
       "    </tr>\n",
       "    <tr>\n",
       "      <th>495</th>\n",
       "      <td>59</td>\n",
       "      <td>3.262767e+05</td>\n",
       "      <td>NaN</td>\n",
       "      <td>NaN</td>\n",
       "    </tr>\n",
       "    <tr>\n",
       "      <th>544</th>\n",
       "      <td>58</td>\n",
       "      <td>1.461031e+05</td>\n",
       "      <td>NaN</td>\n",
       "      <td>NaN</td>\n",
       "    </tr>\n",
       "    <tr>\n",
       "      <th>548</th>\n",
       "      <td>67</td>\n",
       "      <td>2.115102e+05</td>\n",
       "      <td>NaN</td>\n",
       "      <td>NaN</td>\n",
       "    </tr>\n",
       "    <tr>\n",
       "      <th>632</th>\n",
       "      <td>56</td>\n",
       "      <td>2.891994e+05</td>\n",
       "      <td>NaN</td>\n",
       "      <td>NaN</td>\n",
       "    </tr>\n",
       "    <tr>\n",
       "      <th>729</th>\n",
       "      <td>64</td>\n",
       "      <td>2.507595e+05</td>\n",
       "      <td>NaN</td>\n",
       "      <td>NaN</td>\n",
       "    </tr>\n",
       "    <tr>\n",
       "      <th>957</th>\n",
       "      <td>68</td>\n",
       "      <td>1.434841e+05</td>\n",
       "      <td>NaN</td>\n",
       "      <td>NaN</td>\n",
       "    </tr>\n",
       "    <tr>\n",
       "      <th>965</th>\n",
       "      <td>76</td>\n",
       "      <td>6.500107e+05</td>\n",
       "      <td>NaN</td>\n",
       "      <td>NaN</td>\n",
       "    </tr>\n",
       "    <tr>\n",
       "      <th>1261</th>\n",
       "      <td>61</td>\n",
       "      <td>2.784356e+05</td>\n",
       "      <td>NaN</td>\n",
       "      <td>NaN</td>\n",
       "    </tr>\n",
       "    <tr>\n",
       "      <th>1463</th>\n",
       "      <td>69</td>\n",
       "      <td>2.377361e+05</td>\n",
       "      <td>NaN</td>\n",
       "      <td>NaN</td>\n",
       "    </tr>\n",
       "    <tr>\n",
       "      <th>1514</th>\n",
       "      <td>45</td>\n",
       "      <td>2.661928e+05</td>\n",
       "      <td>NaN</td>\n",
       "      <td>NaN</td>\n",
       "    </tr>\n",
       "    <tr>\n",
       "      <th>1534</th>\n",
       "      <td>67</td>\n",
       "      <td>4.027224e+05</td>\n",
       "      <td>NaN</td>\n",
       "      <td>NaN</td>\n",
       "    </tr>\n",
       "    <tr>\n",
       "      <th>1930</th>\n",
       "      <td>55</td>\n",
       "      <td>2.531341e+05</td>\n",
       "      <td>NaN</td>\n",
       "      <td>NaN</td>\n",
       "    </tr>\n",
       "    <tr>\n",
       "      <th>2006</th>\n",
       "      <td>67</td>\n",
       "      <td>2.351865e+05</td>\n",
       "      <td>NaN</td>\n",
       "      <td>NaN</td>\n",
       "    </tr>\n",
       "    <tr>\n",
       "      <th>2026</th>\n",
       "      <td>59</td>\n",
       "      <td>8.527490e+04</td>\n",
       "      <td>NaN</td>\n",
       "      <td>NaN</td>\n",
       "    </tr>\n",
       "    <tr>\n",
       "      <th>2216</th>\n",
       "      <td>55</td>\n",
       "      <td>2.749894e+05</td>\n",
       "      <td>NaN</td>\n",
       "      <td>NaN</td>\n",
       "    </tr>\n",
       "    <tr>\n",
       "      <th>2231</th>\n",
       "      <td>57</td>\n",
       "      <td>1.496551e+05</td>\n",
       "      <td>NaN</td>\n",
       "      <td>NaN</td>\n",
       "    </tr>\n",
       "    <tr>\n",
       "      <th>2282</th>\n",
       "      <td>33</td>\n",
       "      <td>4.909402e+05</td>\n",
       "      <td>NaN</td>\n",
       "      <td>NaN</td>\n",
       "    </tr>\n",
       "    <tr>\n",
       "      <th>2472</th>\n",
       "      <td>45</td>\n",
       "      <td>9.515536e+05</td>\n",
       "      <td>NaN</td>\n",
       "      <td>NaN</td>\n",
       "    </tr>\n",
       "    <tr>\n",
       "      <th>2530</th>\n",
       "      <td>57</td>\n",
       "      <td>3.585744e+05</td>\n",
       "      <td>NaN</td>\n",
       "      <td>NaN</td>\n",
       "    </tr>\n",
       "    <tr>\n",
       "      <th>2674</th>\n",
       "      <td>67</td>\n",
       "      <td>2.123052e+05</td>\n",
       "      <td>NaN</td>\n",
       "      <td>NaN</td>\n",
       "    </tr>\n",
       "    <tr>\n",
       "      <th>3036</th>\n",
       "      <td>64</td>\n",
       "      <td>2.187687e+05</td>\n",
       "      <td>NaN</td>\n",
       "      <td>NaN</td>\n",
       "    </tr>\n",
       "    <tr>\n",
       "      <th>3123</th>\n",
       "      <td>55</td>\n",
       "      <td>4.622511e+05</td>\n",
       "      <td>NaN</td>\n",
       "      <td>NaN</td>\n",
       "    </tr>\n",
       "    <tr>\n",
       "      <th>3244</th>\n",
       "      <td>56</td>\n",
       "      <td>3.073242e+05</td>\n",
       "      <td>NaN</td>\n",
       "      <td>NaN</td>\n",
       "    </tr>\n",
       "    <tr>\n",
       "      <th>3248</th>\n",
       "      <td>54</td>\n",
       "      <td>5.631269e+05</td>\n",
       "      <td>NaN</td>\n",
       "      <td>NaN</td>\n",
       "    </tr>\n",
       "    <tr>\n",
       "      <th>3284</th>\n",
       "      <td>77</td>\n",
       "      <td>1.285406e+06</td>\n",
       "      <td>NaN</td>\n",
       "      <td>NaN</td>\n",
       "    </tr>\n",
       "    <tr>\n",
       "      <th>3503</th>\n",
       "      <td>61</td>\n",
       "      <td>2.905160e+05</td>\n",
       "      <td>NaN</td>\n",
       "      <td>NaN</td>\n",
       "    </tr>\n",
       "    <tr>\n",
       "      <th>3551</th>\n",
       "      <td>59</td>\n",
       "      <td>2.437973e+05</td>\n",
       "      <td>NaN</td>\n",
       "      <td>NaN</td>\n",
       "    </tr>\n",
       "    <tr>\n",
       "      <th>3576</th>\n",
       "      <td>66</td>\n",
       "      <td>2.108295e+05</td>\n",
       "      <td>NaN</td>\n",
       "      <td>NaN</td>\n",
       "    </tr>\n",
       "    <tr>\n",
       "      <th>3709</th>\n",
       "      <td>58</td>\n",
       "      <td>2.130071e+05</td>\n",
       "      <td>NaN</td>\n",
       "      <td>NaN</td>\n",
       "    </tr>\n",
       "    <tr>\n",
       "      <th>3951</th>\n",
       "      <td>58</td>\n",
       "      <td>2.273455e+05</td>\n",
       "      <td>NaN</td>\n",
       "      <td>NaN</td>\n",
       "    </tr>\n",
       "    <tr>\n",
       "      <th>4071</th>\n",
       "      <td>72</td>\n",
       "      <td>2.110685e+05</td>\n",
       "      <td>NaN</td>\n",
       "      <td>NaN</td>\n",
       "    </tr>\n",
       "    <tr>\n",
       "      <th>4156</th>\n",
       "      <td>62</td>\n",
       "      <td>3.518066e+05</td>\n",
       "      <td>NaN</td>\n",
       "      <td>NaN</td>\n",
       "    </tr>\n",
       "    <tr>\n",
       "      <th>4282</th>\n",
       "      <td>53</td>\n",
       "      <td>1.512120e+05</td>\n",
       "      <td>NaN</td>\n",
       "      <td>NaN</td>\n",
       "    </tr>\n",
       "    <tr>\n",
       "      <th>4387</th>\n",
       "      <td>50</td>\n",
       "      <td>2.970983e+05</td>\n",
       "      <td>NaN</td>\n",
       "      <td>NaN</td>\n",
       "    </tr>\n",
       "    <tr>\n",
       "      <th>4558</th>\n",
       "      <td>57</td>\n",
       "      <td>1.818960e+05</td>\n",
       "      <td>NaN</td>\n",
       "      <td>NaN</td>\n",
       "    </tr>\n",
       "    <tr>\n",
       "      <th>4642</th>\n",
       "      <td>61</td>\n",
       "      <td>2.079880e+05</td>\n",
       "      <td>NaN</td>\n",
       "      <td>NaN</td>\n",
       "    </tr>\n",
       "    <tr>\n",
       "      <th>4685</th>\n",
       "      <td>60</td>\n",
       "      <td>4.433987e+05</td>\n",
       "      <td>NaN</td>\n",
       "      <td>NaN</td>\n",
       "    </tr>\n",
       "    <tr>\n",
       "      <th>4773</th>\n",
       "      <td>52</td>\n",
       "      <td>4.062957e+05</td>\n",
       "      <td>NaN</td>\n",
       "      <td>NaN</td>\n",
       "    </tr>\n",
       "    <tr>\n",
       "      <th>4988</th>\n",
       "      <td>69</td>\n",
       "      <td>2.156664e+05</td>\n",
       "      <td>NaN</td>\n",
       "      <td>NaN</td>\n",
       "    </tr>\n",
       "    <tr>\n",
       "      <th>5075</th>\n",
       "      <td>59</td>\n",
       "      <td>2.177663e+05</td>\n",
       "      <td>NaN</td>\n",
       "      <td>NaN</td>\n",
       "    </tr>\n",
       "    <tr>\n",
       "      <th>5416</th>\n",
       "      <td>73</td>\n",
       "      <td>2.553748e+05</td>\n",
       "      <td>NaN</td>\n",
       "      <td>NaN</td>\n",
       "    </tr>\n",
       "    <tr>\n",
       "      <th>5446</th>\n",
       "      <td>60</td>\n",
       "      <td>3.443127e+05</td>\n",
       "      <td>NaN</td>\n",
       "      <td>NaN</td>\n",
       "    </tr>\n",
       "  </tbody>\n",
       "</table>\n",
       "</div>"
      ],
      "text/plain": [
       "     ANN    Land Value  Longitude  Latitude\n",
       "90    60  2.277936e+05        NaN       NaN\n",
       "93    48  1.915290e+05        NaN       NaN\n",
       "95    43  3.924280e+05        NaN       NaN\n",
       "174   55  2.065000e+05        NaN       NaN\n",
       "199   62  3.171482e+05        NaN       NaN\n",
       "228   63  1.959443e+05        NaN       NaN\n",
       "469   55  2.729021e+05        NaN       NaN\n",
       "495   59  3.262767e+05        NaN       NaN\n",
       "544   58  1.461031e+05        NaN       NaN\n",
       "548   67  2.115102e+05        NaN       NaN\n",
       "632   56  2.891994e+05        NaN       NaN\n",
       "729   64  2.507595e+05        NaN       NaN\n",
       "957   68  1.434841e+05        NaN       NaN\n",
       "965   76  6.500107e+05        NaN       NaN\n",
       "1261  61  2.784356e+05        NaN       NaN\n",
       "1463  69  2.377361e+05        NaN       NaN\n",
       "1514  45  2.661928e+05        NaN       NaN\n",
       "1534  67  4.027224e+05        NaN       NaN\n",
       "1930  55  2.531341e+05        NaN       NaN\n",
       "2006  67  2.351865e+05        NaN       NaN\n",
       "2026  59  8.527490e+04        NaN       NaN\n",
       "2216  55  2.749894e+05        NaN       NaN\n",
       "2231  57  1.496551e+05        NaN       NaN\n",
       "2282  33  4.909402e+05        NaN       NaN\n",
       "2472  45  9.515536e+05        NaN       NaN\n",
       "2530  57  3.585744e+05        NaN       NaN\n",
       "2674  67  2.123052e+05        NaN       NaN\n",
       "3036  64  2.187687e+05        NaN       NaN\n",
       "3123  55  4.622511e+05        NaN       NaN\n",
       "3244  56  3.073242e+05        NaN       NaN\n",
       "3248  54  5.631269e+05        NaN       NaN\n",
       "3284  77  1.285406e+06        NaN       NaN\n",
       "3503  61  2.905160e+05        NaN       NaN\n",
       "3551  59  2.437973e+05        NaN       NaN\n",
       "3576  66  2.108295e+05        NaN       NaN\n",
       "3709  58  2.130071e+05        NaN       NaN\n",
       "3951  58  2.273455e+05        NaN       NaN\n",
       "4071  72  2.110685e+05        NaN       NaN\n",
       "4156  62  3.518066e+05        NaN       NaN\n",
       "4282  53  1.512120e+05        NaN       NaN\n",
       "4387  50  2.970983e+05        NaN       NaN\n",
       "4558  57  1.818960e+05        NaN       NaN\n",
       "4642  61  2.079880e+05        NaN       NaN\n",
       "4685  60  4.433987e+05        NaN       NaN\n",
       "4773  52  4.062957e+05        NaN       NaN\n",
       "4988  69  2.156664e+05        NaN       NaN\n",
       "5075  59  2.177663e+05        NaN       NaN\n",
       "5416  73  2.553748e+05        NaN       NaN\n",
       "5446  60  3.443127e+05        NaN       NaN"
      ]
     },
     "execution_count": 66,
     "metadata": {},
     "output_type": "execute_result"
    }
   ],
   "source": [
    "X_predict"
   ]
  },
  {
   "cell_type": "markdown",
   "id": "c07a53f7",
   "metadata": {},
   "source": [
    "## 6 &emsp; Predicting Current by Using Logistic Regression "
   ]
  },
  {
   "cell_type": "code",
   "execution_count": 67,
   "id": "1063480e",
   "metadata": {},
   "outputs": [],
   "source": [
    "from sklearn.metrics import mean_squared_error\n",
    "\n",
    "from sklearn.pipeline      import Pipeline\n",
    "from sklearn.preprocessing import StandardScaler\n",
    "from sklearn.linear_model  import LinearRegression, Ridge\n",
    "from sklearn.neighbors     import KNeighborsRegressor\n",
    "from sklearn.tree          import DecisionTreeRegressor\n",
    "from sklearn.svm           import SVR\n",
    "\n",
    "from sklearn.ensemble import VotingRegressor\n",
    "\n",
    "from sklearn.inspection import permutation_importance"
   ]
  },
  {
   "cell_type": "markdown",
   "id": "eb96c1c2",
   "metadata": {},
   "source": [
    "## Try-it 20_1"
   ]
  },
  {
   "cell_type": "code",
   "execution_count": 68,
   "id": "a8534b65",
   "metadata": {},
   "outputs": [
    {
     "name": "stdout",
     "output_type": "stream",
     "text": [
      "Results Before Grid Search:\n",
      "LinearRegression(): MSE = 14908.24559595547\n",
      "KNeighborsRegressor(): MSE = 14541.3172171123\n",
      "DecisionTreeRegressor(): MSE = 19333.273422459893\n",
      "Ridge(): MSE = 14908.339701162393\n",
      "SVR(): MSE = 17264.974070634056\n",
      "VotingRegressor(): MSE = 13566.934988825407\n"
     ]
    }
   ],
   "source": [
    "reg_linear = LinearRegression()\n",
    "reg_tree   = DecisionTreeRegressor(random_state=42)\n",
    "reg_ridge  = Ridge()\n",
    "\n",
    "# Create pipelines for each regressor\n",
    "pipelines = {\n",
    "    'LinearRegression()':      Pipeline([\n",
    "        ('scaler',    StandardScaler()),\n",
    "        ('regressor', reg_linear)\n",
    "        ]),\n",
    "    'KNeighborsRegressor()':   Pipeline([\n",
    "        ('scaler',    StandardScaler()),\n",
    "        ('regressor', KNeighborsRegressor())\n",
    "        ]),\n",
    "    'DecisionTreeRegressor()': Pipeline([\n",
    "        ('regressor', reg_tree)\n",
    "        ]),\n",
    "    'Ridge()':        Pipeline([\n",
    "        ('scaler',    StandardScaler()),\n",
    "        ('regressor', reg_ridge)\n",
    "        ]),\n",
    "    'SVR()':                   Pipeline([\n",
    "        ('scaler',    StandardScaler()),\n",
    "        ('regressor', SVR())\n",
    "        ])\n",
    "}\n",
    "\n",
    "# Define the Voting Regressor\n",
    "voting_reg = VotingRegressor(estimators=[\n",
    "    ('LinearRegression()',      pipelines['LinearRegression()']),\n",
    "    ('KNeighborsRegressor()',   pipelines['KNeighborsRegressor()']),\n",
    "    ('DecisionTreeRegressor()', pipelines['DecisionTreeRegressor()']),\n",
    "    ('Ridge()',                 pipelines['Ridge()']),\n",
    "    ('SVR()',                   pipelines['SVR()'])\n",
    "])\n",
    "\n",
    "# Function to evaluate models\n",
    "def evaluate_model(model, X_test, y_test):\n",
    "    y_pred = model.predict(X_test)\n",
    "    mse = mean_squared_error(y_test, y_pred)\n",
    "    return mse\n",
    "\n",
    "# Evaluate individual models without grid search\n",
    "results_before_gs = {}\n",
    "for name, pipeline in pipelines.items():\n",
    "    pipeline.fit(X_train, y_train)\n",
    "    mse = evaluate_model(pipeline, X_test, y_test)\n",
    "    results_before_gs[name] = mse\n",
    "\n",
    "# Evaluate Voting Regressor without grid search\n",
    "voting_reg.fit(X_train, y_train)\n",
    "voting_mse_before_gs = evaluate_model(voting_reg, X_test, y_test)\n",
    "results_before_gs['VotingRegressor()'] = voting_mse_before_gs\n",
    "\n",
    "# Print results before grid search\n",
    "print(\"Results Before Grid Search:\")\n",
    "for name, mse in results_before_gs.items():\n",
    "    print(f'{name}: MSE = {mse}')"
   ]
  },
  {
   "cell_type": "code",
   "execution_count": 69,
   "id": "877f100a",
   "metadata": {},
   "outputs": [
    {
     "data": {
      "application/vnd.microsoft.datawrangler.viewer.v0+json": {
       "columns": [
        {
         "name": "index",
         "rawType": "int64",
         "type": "integer"
        },
        {
         "name": "ANN",
         "rawType": "object",
         "type": "string"
        },
        {
         "name": "Land Value",
         "rawType": "float64",
         "type": "float"
        },
        {
         "name": "Longitude",
         "rawType": "float64",
         "type": "float"
        },
        {
         "name": "Latitude",
         "rawType": "float64",
         "type": "float"
        },
        {
         "name": "Current",
         "rawType": "float64",
         "type": "float"
        },
        {
         "name": "0",
         "rawType": "float64",
         "type": "float"
        }
       ],
       "ref": "51a5e95a-850d-4de4-84fa-6885b083fc02",
       "rows": [
        [
         "0",
         "85",
         "333210.54793020757",
         "-110.9739",
         "32.376358",
         "9.600000000000001",
         "59.83440733459118"
        ],
        [
         "1",
         "72",
         "964249.977821123",
         "-118.12854",
         "34.708324",
         "3.2",
         "17.048410079571077"
        ],
        [
         "2",
         "47",
         "122758.05773234765",
         "-81.751434",
         "41.443275",
         "7.7",
         "8.996719735517976"
        ],
        [
         "3",
         "58",
         "259950.44497433715",
         "-72.650566",
         "42.009109",
         "4.9",
         "20.646594271199618"
        ],
        [
         "4",
         "65",
         "1178751.7192979637",
         "-158.063095",
         "21.374256",
         "25.0",
         "24.897307463618425"
        ],
        [
         "5",
         "72",
         "964249.977821123",
         "-118.701241",
         "34.131489",
         "7.0",
         "16.09265602536243"
        ],
        [
         "6",
         "72",
         "964249.977821123",
         "-117.939377",
         "34.122639",
         "5.7",
         "16.27569749262181"
        ],
        [
         "7",
         "64",
         "276700.0188223663",
         "-81.715851",
         "30.456093",
         "14.0",
         "35.35596710758706"
        ],
        [
         "8",
         "48",
         "235367.3662137979",
         "-77.84697",
         "43.17424",
         "5.0",
         "5.0435623725932786"
        ],
        [
         "9",
         "59",
         "393384.40348901815",
         "-78.312103",
         "35.81461",
         "11.2",
         "17.866773611336882"
        ],
        [
         "10",
         "84",
         "419731.98946794635",
         "-114.996696",
         "35.785961",
         "22.4",
         "206.58884421919998"
        ],
        [
         "11",
         "62",
         "249476.90467781504",
         "-94.287971",
         "39.116482",
         "6.6",
         "23.109865545301098"
        ],
        [
         "12",
         "69",
         "386784.59717007633",
         "-82.452942",
         "27.673239",
         "121.8",
         "86.30478083378587"
        ],
        [
         "13",
         "52",
         "82438.12197586686",
         "-83.200089",
         "42.377872",
         "4.5",
         "14.573436210884427"
        ],
        [
         "14",
         "76",
         "381422.0185320137",
         "-120.134499",
         "36.382015",
         "47.0",
         "42.49135025971632"
        ],
        [
         "15",
         "58",
         "259950.44497433715",
         "-72.547859",
         "41.891525",
         "4.8",
         "20.92605540678917"
        ],
        [
         "16",
         "57",
         "235986.09289941637",
         "-98.417999",
         "29.241566",
         "21.5",
         "33.31801959470531"
        ],
        [
         "17",
         "58",
         "259950.44497433715",
         "-72.557945",
         "41.763557",
         "2.4",
         "19.896803625268955"
        ],
        [
         "18",
         "72",
         "964249.977821123",
         "-118.083046",
         "34.648952",
         "47.8",
         "16.25678077310399"
        ],
        [
         "19",
         "48",
         "235367.3662137979",
         "-77.951233",
         "43.171543",
         "11.6",
         "5.038347838026869"
        ],
        [
         "20",
         "85",
         "419632.5468800426",
         "-112.382462",
         "33.525059",
         "26.799999999999997",
         "48.29978773887528"
        ],
        [
         "21",
         "77",
         "470059.95291505445",
         "-121.586723",
         "38.700214",
         "14.7",
         "37.97714096089386"
        ],
        [
         "22",
         "69",
         "409548.7598707099",
         "-108.653259",
         "39.110489",
         "3.5",
         "35.887035996912694"
        ],
        [
         "23",
         "57",
         "472186.34938342613",
         "-112.065804",
         "46.696438",
         "7.2",
         "15.936856485064705"
        ],
        [
         "24",
         "49",
         "518349.5084842353",
         "-73.1605",
         "44.425522",
         "4.4",
         "-2.040686000290556"
        ],
        [
         "25",
         "69",
         "1054020.978039402",
         "-116.872108",
         "33.010433",
         "4.7",
         "13.791147145018362"
        ],
        [
         "26",
         "58",
         "259950.44497433715",
         "-72.562943",
         "41.763538",
         "2.4",
         "19.896443718008232"
        ],
        [
         "27",
         "72",
         "964249.977821123",
         "-118.061073",
         "34.647942",
         "9.4",
         "16.258942127674388"
        ],
        [
         "28",
         "76",
         "381422.0185320137",
         "-119.470062",
         "36.58503",
         "3.2",
         "34.77528584825585"
        ],
        [
         "29",
         "76",
         "381422.0185320137",
         "-120.246155",
         "36.647923",
         "2.9000000000000004",
         "71.20327276311883"
        ],
        [
         "30",
         "72",
         "964249.977821123",
         "-118.124893",
         "34.701057",
         "2.1",
         "15.75020618775049"
        ],
        [
         "31",
         "85",
         "419632.5468800426",
         "-112.817566",
         "33.321621",
         "349.2",
         "111.50517105254107"
        ],
        [
         "32",
         "50",
         "204258.9360295709",
         "-76.039909",
         "40.936161",
         "3.8",
         "11.274546128543367"
        ],
        [
         "33",
         "72",
         "964249.977821123",
         "-118.313873",
         "34.727222",
         "45.9",
         "23.766275839671753"
        ],
        [
         "34",
         "72",
         "964249.977821123",
         "-118.29789",
         "34.657696",
         "191.3",
         "25.91254018103163"
        ],
        [
         "35",
         "84",
         "419731.98946794635",
         "-114.993011",
         "35.781586",
         "108.5",
         "206.5924185069464"
        ],
        [
         "36",
         "76",
         "381422.0185320137",
         "-120.134209",
         "36.374847",
         "48.6",
         "42.49698579539268"
        ],
        [
         "37",
         "72",
         "964249.977821123",
         "-118.429237",
         "34.277584",
         "3.8000000000000003",
         "17.880773348384547"
        ],
        [
         "38",
         "84",
         "419731.98946794635",
         "-115.352013",
         "35.624657",
         "115.5",
         "226.23702288377007"
        ],
        [
         "39",
         "72",
         "964249.977821123",
         "-118.582375",
         "34.18552",
         "4.199999999999999",
         "16.430304460804884"
        ],
        [
         "40",
         "84",
         "419731.98946794635",
         "-114.964729",
         "36.392197",
         "44.8",
         "90.15869873992135"
        ],
        [
         "41",
         "59",
         "393384.40348901815",
         "-78.710182",
         "35.564621",
         "11.4",
         "20.214237834779265"
        ],
        [
         "42",
         "76",
         "338840.6226942612",
         "-106.529274",
         "35.048351",
         "4.5",
         "42.75716707887111"
        ],
        [
         "43",
         "52",
         "336756.4963523099",
         "-87.78933",
         "41.753799",
         "3.3",
         "6.431666286883393"
        ],
        [
         "44",
         "72",
         "964249.977821123",
         "-118.288162",
         "33.764172",
         "4.699999999999999",
         "17.320415424185608"
        ],
        [
         "45",
         "85",
         "333210.54793020757",
         "-110.958588",
         "32.030869",
         "64.0",
         "58.532929422652764"
        ],
        [
         "46",
         "85",
         "419632.5468800426",
         "-111.601784",
         "33.345242",
         "8.1",
         "57.27101747730404"
        ],
        [
         "47",
         "85",
         "333210.54793020757",
         "-110.824226",
         "32.107056",
         "3.9",
         "52.15165180514953"
        ],
        [
         "48",
         "72",
         "964249.977821123",
         "-118.23407",
         "34.693768",
         "5.0",
         "28.172913197296435"
        ],
        [
         "49",
         "72",
         "964249.977821123",
         "-118.282249",
         "34.716511",
         "45.0",
         "22.840464037008886"
        ]
       ],
       "shape": {
        "columns": 6,
        "rows": 187
       }
      },
      "text/html": [
       "<div>\n",
       "<style scoped>\n",
       "    .dataframe tbody tr th:only-of-type {\n",
       "        vertical-align: middle;\n",
       "    }\n",
       "\n",
       "    .dataframe tbody tr th {\n",
       "        vertical-align: top;\n",
       "    }\n",
       "\n",
       "    .dataframe thead th {\n",
       "        text-align: right;\n",
       "    }\n",
       "</style>\n",
       "<table border=\"1\" class=\"dataframe\">\n",
       "  <thead>\n",
       "    <tr style=\"text-align: right;\">\n",
       "      <th></th>\n",
       "      <th>ANN</th>\n",
       "      <th>Land Value</th>\n",
       "      <th>Longitude</th>\n",
       "      <th>Latitude</th>\n",
       "      <th>Current</th>\n",
       "      <th>0</th>\n",
       "    </tr>\n",
       "  </thead>\n",
       "  <tbody>\n",
       "    <tr>\n",
       "      <th>0</th>\n",
       "      <td>85</td>\n",
       "      <td>3.332105e+05</td>\n",
       "      <td>-110.973900</td>\n",
       "      <td>32.376358</td>\n",
       "      <td>9.6</td>\n",
       "      <td>59.834407</td>\n",
       "    </tr>\n",
       "    <tr>\n",
       "      <th>1</th>\n",
       "      <td>72</td>\n",
       "      <td>9.642500e+05</td>\n",
       "      <td>-118.128540</td>\n",
       "      <td>34.708324</td>\n",
       "      <td>3.2</td>\n",
       "      <td>17.048410</td>\n",
       "    </tr>\n",
       "    <tr>\n",
       "      <th>2</th>\n",
       "      <td>47</td>\n",
       "      <td>1.227581e+05</td>\n",
       "      <td>-81.751434</td>\n",
       "      <td>41.443275</td>\n",
       "      <td>7.7</td>\n",
       "      <td>8.996720</td>\n",
       "    </tr>\n",
       "    <tr>\n",
       "      <th>3</th>\n",
       "      <td>58</td>\n",
       "      <td>2.599504e+05</td>\n",
       "      <td>-72.650566</td>\n",
       "      <td>42.009109</td>\n",
       "      <td>4.9</td>\n",
       "      <td>20.646594</td>\n",
       "    </tr>\n",
       "    <tr>\n",
       "      <th>4</th>\n",
       "      <td>65</td>\n",
       "      <td>1.178752e+06</td>\n",
       "      <td>-158.063095</td>\n",
       "      <td>21.374256</td>\n",
       "      <td>25.0</td>\n",
       "      <td>24.897307</td>\n",
       "    </tr>\n",
       "    <tr>\n",
       "      <th>...</th>\n",
       "      <td>...</td>\n",
       "      <td>...</td>\n",
       "      <td>...</td>\n",
       "      <td>...</td>\n",
       "      <td>...</td>\n",
       "      <td>...</td>\n",
       "    </tr>\n",
       "    <tr>\n",
       "      <th>182</th>\n",
       "      <td>76</td>\n",
       "      <td>3.814220e+05</td>\n",
       "      <td>-120.343079</td>\n",
       "      <td>36.424538</td>\n",
       "      <td>46.3</td>\n",
       "      <td>133.363296</td>\n",
       "    </tr>\n",
       "    <tr>\n",
       "      <th>183</th>\n",
       "      <td>85</td>\n",
       "      <td>3.332105e+05</td>\n",
       "      <td>-110.891869</td>\n",
       "      <td>32.034618</td>\n",
       "      <td>265.0</td>\n",
       "      <td>58.535039</td>\n",
       "    </tr>\n",
       "    <tr>\n",
       "      <th>184</th>\n",
       "      <td>72</td>\n",
       "      <td>9.642500e+05</td>\n",
       "      <td>-118.191078</td>\n",
       "      <td>34.779060</td>\n",
       "      <td>6.9</td>\n",
       "      <td>78.554335</td>\n",
       "    </tr>\n",
       "    <tr>\n",
       "      <th>185</th>\n",
       "      <td>44</td>\n",
       "      <td>2.021899e+05</td>\n",
       "      <td>-75.958321</td>\n",
       "      <td>43.022732</td>\n",
       "      <td>12.4</td>\n",
       "      <td>1.678390</td>\n",
       "    </tr>\n",
       "    <tr>\n",
       "      <th>186</th>\n",
       "      <td>85</td>\n",
       "      <td>3.332105e+05</td>\n",
       "      <td>-111.028267</td>\n",
       "      <td>32.342892</td>\n",
       "      <td>3.1</td>\n",
       "      <td>59.854681</td>\n",
       "    </tr>\n",
       "  </tbody>\n",
       "</table>\n",
       "<p>187 rows × 6 columns</p>\n",
       "</div>"
      ],
      "text/plain": [
       "    ANN    Land Value   Longitude   Latitude  Current           0\n",
       "0    85  3.332105e+05 -110.973900  32.376358      9.6   59.834407\n",
       "1    72  9.642500e+05 -118.128540  34.708324      3.2   17.048410\n",
       "2    47  1.227581e+05  -81.751434  41.443275      7.7    8.996720\n",
       "3    58  2.599504e+05  -72.650566  42.009109      4.9   20.646594\n",
       "4    65  1.178752e+06 -158.063095  21.374256     25.0   24.897307\n",
       "..   ..           ...         ...        ...      ...         ...\n",
       "182  76  3.814220e+05 -120.343079  36.424538     46.3  133.363296\n",
       "183  85  3.332105e+05 -110.891869  32.034618    265.0   58.535039\n",
       "184  72  9.642500e+05 -118.191078  34.779060      6.9   78.554335\n",
       "185  44  2.021899e+05  -75.958321  43.022732     12.4    1.678390\n",
       "186  85  3.332105e+05 -111.028267  32.342892      3.1   59.854681\n",
       "\n",
       "[187 rows x 6 columns]"
      ]
     },
     "execution_count": 69,
     "metadata": {},
     "output_type": "execute_result"
    }
   ],
   "source": [
    "X_pred_voting_reg = voting_reg.predict(X_test)\n",
    "pd.concat([\n",
    "    X_test.reset_index(drop=True),\n",
    "    y_test.reset_index(drop=True),\n",
    "    pd.DataFrame(X_pred_voting_reg).reset_index(drop=True)\n",
    "    ], axis=1)"
   ]
  },
  {
   "cell_type": "code",
   "execution_count": 70,
   "id": "6645955b",
   "metadata": {},
   "outputs": [
    {
     "name": "stdout",
     "output_type": "stream",
     "text": [
      "\n",
      "Results After Grid Search:\n",
      "LinearRegression(): MSE = 14908.24559595547\n",
      "KNeighborsRegressor(): MSE = 15015.098692810458\n",
      "DecisionTreeRegressor(): MSE = 14355.609352091227\n",
      "Ridge(): MSE = 14909.929849860975\n",
      "SVR(): MSE = 16725.370063272545\n",
      "VotingRegressor(): MSE = 13700.591274336293\n"
     ]
    }
   ],
   "source": [
    "# Define parameter grids for Grid Search\n",
    "param_grids = {\n",
    "    'LinearRegression()':      {},\n",
    "    'KNeighborsRegressor()':   {'regressor__n_neighbors': [3, 5, 7]},\n",
    "    'DecisionTreeRegressor()': {'regressor__max_depth':   [3, 5, 7]},\n",
    "    'Ridge()':                 {'regressor__alpha':       [0.1, 1.0, 10.0]},\n",
    "    'SVR()':                   {\n",
    "                                'regressor__C':           [0.1, 1.0, 10.0],\n",
    "                                'regressor__gamma':       ['scale', 'auto']\n",
    "        }\n",
    "}\n",
    "\n",
    "# Perform Grid Search and evaluate models\n",
    "results_after_gs = {}\n",
    "best_pipelines   = {}\n",
    "\n",
    "for name, pipeline in pipelines.items():\n",
    "    grid_search = GridSearchCV(\n",
    "        pipeline, param_grids[name], cv=10, scoring='neg_mean_squared_error'\n",
    "        )\n",
    "    grid_search.fit(X_train, y_train)\n",
    "    best_pipeline = grid_search.best_estimator_\n",
    "    best_pipelines[name] = best_pipeline\n",
    "    mse = evaluate_model(best_pipeline, X_test, y_test)\n",
    "    results_after_gs[name] = mse\n",
    "\n",
    "# Define the optimized Voting Regressor\n",
    "optimized_voting_reg = VotingRegressor(estimators=[\n",
    "    ('LinearRegression()',      best_pipelines['LinearRegression()']),\n",
    "    ('KNeighborsRegressor()',   best_pipelines['KNeighborsRegressor()']),\n",
    "    ('DecisionTreeRegressor()', best_pipelines['DecisionTreeRegressor()']),\n",
    "    ('Ridge()',                 best_pipelines['Ridge()']),\n",
    "    ('SVR()',                   best_pipelines['SVR()'])\n",
    "])\n",
    "\n",
    "# Fit the optimized Voting Regressor\n",
    "optimized_voting_reg.fit(X_train, y_train)\n",
    "voting_mse_after_gs = evaluate_model(optimized_voting_reg, X_test, y_test)\n",
    "results_after_gs['VotingRegressor()'] = voting_mse_after_gs\n",
    "\n",
    "# Print results after grid search\n",
    "print(\"\\nResults After Grid Search:\")\n",
    "for name, mse in results_after_gs.items():\n",
    "    print(f'{name}: MSE = {mse}')"
   ]
  },
  {
   "cell_type": "markdown",
   "id": "917f7d11",
   "metadata": {},
   "source": [
    "---\n",
    "Coefficient analysis"
   ]
  },
  {
   "cell_type": "code",
   "execution_count": 71,
   "id": "61f316ca",
   "metadata": {},
   "outputs": [
    {
     "name": "stdout",
     "output_type": "stream",
     "text": [
      "Feature Importance from Decision Tree:\n",
      "      feature  importance\n",
      "2   Longitude    0.501636\n",
      "3    Latitude    0.285450\n",
      "0         ANN    0.152020\n",
      "1  Land Value    0.060894\n"
     ]
    }
   ],
   "source": [
    "print(\"Feature Importance from Decision Tree:\")\n",
    "reg_tree.fit(X_train, y_train)\n",
    "\n",
    "importances_tree = reg_tree.feature_importances_\n",
    "\n",
    "feature_importance_tree_df = pd.DataFrame({\n",
    "    'feature': X_train.columns,\n",
    "    'importance': importances_tree\n",
    "    })\n",
    "\n",
    "feature_importance_tree_df = feature_importance_tree_df\\\n",
    "    .sort_values(by='importance', ascending=False)\n",
    "print(feature_importance_tree_df)"
   ]
  },
  {
   "cell_type": "code",
   "execution_count": 72,
   "id": "aecc21b7",
   "metadata": {},
   "outputs": [
    {
     "name": "stdout",
     "output_type": "stream",
     "text": [
      "Coefficients from Linear Regression:\n",
      "      feature  coefficient\n",
      "0         ANN     2.765114\n",
      "2   Longitude     0.167502\n",
      "1  Land Value    -0.000063\n",
      "3    Latitude    -1.925622\n"
     ]
    }
   ],
   "source": [
    "print(\"Coefficients from Linear Regression:\")\n",
    "reg_linear.fit(X_train, y_train)\n",
    "coefficients_linear = reg_linear.coef_\n",
    "coefficients_linear_df = pd.DataFrame({\n",
    "    'feature': X_train.columns, 'coefficient': coefficients_linear\n",
    "    })\n",
    "coefficients_linear_df = coefficients_linear_df\\\n",
    "    .sort_values(by='coefficient', ascending=False)\n",
    "print(coefficients_linear_df)"
   ]
  },
  {
   "cell_type": "code",
   "execution_count": 73,
   "id": "96b6ecbc",
   "metadata": {},
   "outputs": [
    {
     "name": "stdout",
     "output_type": "stream",
     "text": [
      "Coefficients from Ridge Regression:\n",
      "      feature  coefficient\n",
      "0         ANN     2.765061\n",
      "2   Longitude     0.167450\n",
      "1  Land Value    -0.000063\n",
      "3    Latitude    -1.925409\n"
     ]
    }
   ],
   "source": [
    "print(\"Coefficients from Ridge Regression:\")\n",
    "\n",
    "reg_ridge.fit(X_train, y_train)\n",
    "coefficients_ridge = reg_ridge.coef_\n",
    "coefficients_ridge_df = pd.DataFrame({\n",
    "    'feature': X_train.columns,\n",
    "    'coefficient': coefficients_ridge\n",
    "    })\n",
    "coefficients_ridge_df = coefficients_ridge_df\\\n",
    "    .sort_values(by='coefficient', ascending=False)\n",
    "\n",
    "print(coefficients_ridge_df)"
   ]
  },
  {
   "cell_type": "code",
   "execution_count": 74,
   "id": "aead6f80",
   "metadata": {},
   "outputs": [
    {
     "name": "stdout",
     "output_type": "stream",
     "text": [
      "Permutation Importance from KNeighborsRegressor():\n",
      "      feature  importance\n",
      "3    Latitude    1.003524\n",
      "0         ANN    0.852624\n",
      "2   Longitude    0.516412\n",
      "1  Land Value    0.240275\n"
     ]
    }
   ],
   "source": [
    "print(\"Permutation Importance from KNeighborsRegressor():\")\n",
    "result_knn = permutation_importance(\n",
    "    best_pipelines['KNeighborsRegressor()'], \n",
    "    X_test, y_test, n_repeats=10, random_state=42, n_jobs=-1\n",
    "    )\n",
    "\n",
    "perm_importances_knn = pd.DataFrame({\n",
    "    'feature':    X_test.columns,\n",
    "    'importance': result_knn.importances_mean\n",
    "    })\n",
    "\n",
    "perm_importances_knn = perm_importances_knn\\\n",
    "    .sort_values(by='importance', ascending=False)\n",
    "\n",
    "print(perm_importances_knn)"
   ]
  },
  {
   "cell_type": "code",
   "execution_count": 75,
   "id": "cc617bd5",
   "metadata": {},
   "outputs": [
    {
     "name": "stdout",
     "output_type": "stream",
     "text": [
      "Permutation Importance from SVR():\n",
      "      feature  importance\n",
      "0         ANN    0.045318\n",
      "3    Latitude    0.005719\n",
      "1  Land Value    0.003567\n",
      "2   Longitude   -0.004472\n"
     ]
    }
   ],
   "source": [
    "print(\"Permutation Importance from SVR():\")\n",
    "\n",
    "result_svr = permutation_importance(\n",
    "    best_pipelines['SVR()'],\n",
    "    X_test, y_test, n_repeats=10, random_state=42, n_jobs=-1\n",
    "    )\n",
    "\n",
    "perm_importances_svr = pd.DataFrame({\n",
    "    'feature':    X_test.columns,\n",
    "    'importance': result_svr.importances_mean\n",
    "    })\n",
    "\n",
    "perm_importances_svr = perm_importances_svr\\\n",
    "    .sort_values(by='importance', ascending=False)\n",
    "\n",
    "print(perm_importances_svr)"
   ]
  }
 ],
 "metadata": {
  "kernelspec": {
   "display_name": "junko",
   "language": "python",
   "name": "python3"
  },
  "language_info": {
   "codemirror_mode": {
    "name": "ipython",
    "version": 3
   },
   "file_extension": ".py",
   "mimetype": "text/x-python",
   "name": "python",
   "nbconvert_exporter": "python",
   "pygments_lexer": "ipython3",
   "version": "3.12.11"
  }
 },
 "nbformat": 4,
 "nbformat_minor": 5
}
