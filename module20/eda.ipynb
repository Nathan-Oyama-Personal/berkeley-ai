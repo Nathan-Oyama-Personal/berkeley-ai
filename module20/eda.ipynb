{
 "cells": [
  {
   "cell_type": "markdown",
   "id": "2befb9d9",
   "metadata": {},
   "source": [
    "# Capstone Assignment 20.1: Initial Report and Exploratory Data Analysis (EDA)\n",
    "\n",
    "Nathan Oyama"
   ]
  },
  {
   "cell_type": "markdown",
   "id": "d46de7c9",
   "metadata": {},
   "source": [
    "## 1 &emsp; Planning the project\n",
    "\n",
    "There are three data sets to accomplish this project. \n",
    "\n",
    "* Kaggle: \"Percent Sunshine by US City\". kaggle.com/datasets/thedevastator/annual-percent-of-possible-sunshine-by-us-city.\n",
    "\n",
    "* US Geological Survey: \"The United States Large-Scale Solar Photovoltaic Database (USPVDB)\". US Department of the Interior. energy.usgs.gov/uspvdb/data.\n",
    "\n",
    "* landvalue: \"ZHVI 3-Bedroom Time Series($) - City\". landvalue.com/research/data.\n",
    "\n",
    "Then take the following steps _for every dataset_:\n",
    "\n",
    "1. From the data set which is in CSV format, create a pandas DataFrame object.\n",
    "1. Analyze every DataFrame and identify which columns to use for this project.\n",
    "1. Format the DataFrames before merge them.\n",
    "\n",
    "Finally, merge the three DataFrames into one."
   ]
  },
  {
   "cell_type": "markdown",
   "id": "bd62ac95",
   "metadata": {},
   "source": [
    "## 2 &emsp; Analyzing Data Sets"
   ]
  },
  {
   "cell_type": "markdown",
   "id": "ec97b352",
   "metadata": {},
   "source": [
    "Analyze those three data sets."
   ]
  },
  {
   "cell_type": "code",
   "execution_count": 180,
   "id": "06695ac5",
   "metadata": {},
   "outputs": [],
   "source": [
    "import pandas as pd\n",
    "import re\n",
    "\n",
    "pd.options.mode.copy_on_write = True"
   ]
  },
  {
   "cell_type": "markdown",
   "id": "036be2da",
   "metadata": {},
   "source": [
    "### 2.1 Analyzing Data Set 1: \"Percent Sunshine by US City\""
   ]
  },
  {
   "cell_type": "code",
   "execution_count": 181,
   "id": "959e4691",
   "metadata": {},
   "outputs": [
    {
     "name": "stdout",
     "output_type": "stream",
     "text": [
      "(317, 16)\n",
      "   index           CITY JAN FEB MAR APR MAY JUN JUL AUG SEP OCT NOV DEC ANN  \\\n",
      "0      0  BIRMINGHAM,AL  46  53  57  65  65  67  59  62  59  66  55  49  58   \n",
      "1      1  MONTGOMERY,AL  47  55  58  64  63  64  61  61  59  63  55  49  58   \n",
      "2      2   ANCHORAGE,AK  43  46  51  50  51  46  43  43  41  36  35  33  43   \n",
      "3      3      JUNEAU,AK  39  35  38  42  44  37  33  35  27  21  26  21  33   \n",
      "4      4        NOME,AK  38  56  54  52  52  43  39  34  38  35  30  36  42   \n",
      "\n",
      "   Unnamed: 14  \n",
      "0          NaN  \n",
      "1          NaN  \n",
      "2          NaN  \n",
      "3          NaN  \n",
      "4          NaN  \n"
     ]
    }
   ],
   "source": [
    "df_sunshine_original = pd.read_csv(\n",
    "    './data/Average Percent of Possible Sunshine by US City.csv'\n",
    "    )\n",
    "\n",
    "print(df_sunshine_original.shape)\n",
    "print(df_sunshine_original.head())"
   ]
  },
  {
   "cell_type": "markdown",
   "id": "d863eb52",
   "metadata": {},
   "source": [
    "You can use all columns except \"index\" and \"Unnamed: 14\". The \"CITY\" column includes the name of the city in all uppercase, followed by a comma (\",\") and the state abbreviation."
   ]
  },
  {
   "cell_type": "code",
   "execution_count": 182,
   "id": "f5b014a0",
   "metadata": {},
   "outputs": [],
   "source": [
    "del df_sunshine_original"
   ]
  },
  {
   "cell_type": "markdown",
   "id": "2c76a523",
   "metadata": {},
   "source": [
    "### 2.2 &emsp; Analyzing Data Set 2: \"The US Large-Scale Solar Photovoltaic Database (USPVDB)\""
   ]
  },
  {
   "cell_type": "code",
   "execution_count": null,
   "id": "de029c0b",
   "metadata": {},
   "outputs": [
    {
     "name": "stdout",
     "output_type": "stream",
     "text": [
      "(5712, 26)\n"
     ]
    }
   ],
   "source": [
    "df_photovoltaic_original = pd.read_csv(\n",
    "    './data/uspvdb_v3_0_20250430.csv'\n",
    "    )\n",
    "\n",
    "print(df_photovoltaic_original.shape)"
   ]
  },
  {
   "cell_type": "code",
   "execution_count": null,
   "id": "c697e98f",
   "metadata": {},
   "outputs": [
    {
     "name": "stdout",
     "output_type": "stream",
     "text": [
      "   case_id multi_poly  eia_id p_state           p_county       ylat  \\\n",
      "0   406374     single   66887      AK  Matanuska-Susitna  61.587349   \n",
      "1   405016      multi    6304      AK   Northwest Arctic  66.838470   \n",
      "2   401476      multi   60058      AL         Lauderdale  34.833809   \n",
      "3   401865      multi   60679      AL               Dale  31.331732   \n",
      "4   401866      multi   60680      AL            Calhoun  33.626301   \n",
      "\n",
      "        xlong   p_area  p_img_date  p_dig_conf                   p_name  \\\n",
      "0 -149.789413   172005    20240814           4            Houston Solar   \n",
      "1 -162.553146     8740    20240719           4          Kotzebue Hybrid   \n",
      "2  -87.838394  1735134    20220212           4    River Bend Solar, LLC   \n",
      "3  -85.729469   187820    20220609           4  Fort Rucker Solar Array   \n",
      "4  -85.940590    39717    20210814           4         ANAD Solar Array   \n",
      "\n",
      "   p_year p_pwr_reg  \n",
      "0    2023        AK  \n",
      "1    2020       NaN  \n",
      "2    2016       TVA  \n",
      "3    2017      SOCO  \n",
      "4    2017      SOCO  \n"
     ]
    }
   ],
   "source": [
    "print(df_photovoltaic_original.iloc[:,:13].head())"
   ]
  },
  {
   "cell_type": "code",
   "execution_count": null,
   "id": "9d5b3015",
   "metadata": {},
   "outputs": [
    {
     "name": "stdout",
     "output_type": "stream",
     "text": [
      "  p_tech_pri p_tech_sec p_sys_type       p_axis  p_azimuth  p_tilt  p_battery  \\\n",
      "0         PV        NaN     ground   fixed-tilt      180.0    40.0        NaN   \n",
      "1         PV        NaN     ground  single-axis      156.0    40.0  batteries   \n",
      "2         PV       c-si     ground  single-axis      270.0    17.0        NaN   \n",
      "3         PV  thin-film     ground  single-axis      188.0    20.0        NaN   \n",
      "4         PV  thin-film     ground   fixed-tilt      180.0    20.0        NaN   \n",
      "\n",
      "   p_cap_ac  p_cap_dc      p_type       p_agrivolt p_comm  p_zscore  \n",
      "0       6.0       8.4  greenfield             crop    NaN -0.457675  \n",
      "1       1.7       3.4  greenfield  non-agrivoltaic    NaN  5.617232  \n",
      "2      75.0     100.2  greenfield  non-agrivoltaic    NaN -0.298527  \n",
      "3      10.6      12.7  greenfield  non-agrivoltaic    NaN -0.122265  \n",
      "4       7.4       9.7   superfund  non-agrivoltaic    NaN  3.031619  \n"
     ]
    }
   ],
   "source": [
    "print(df_photovoltaic_original.iloc[:,13:26].head())"
   ]
  },
  {
   "cell_type": "code",
   "execution_count": 257,
   "id": "d1a0b739",
   "metadata": {},
   "outputs": [
    {
     "data": {
      "text/plain": [
       "(0, 26)"
      ]
     },
     "execution_count": 257,
     "metadata": {},
     "output_type": "execute_result"
    }
   ],
   "source": [
    "df_photovoltaic_original.query('p_cap_ac.isnull() | p_cap_dc.isnull()').shape"
   ]
  },
  {
   "cell_type": "code",
   "execution_count": null,
   "id": "3c2d59fe",
   "metadata": {},
   "outputs": [],
   "source": [
    "del df_photovoltaic_original"
   ]
  },
  {
   "cell_type": "markdown",
   "id": "d725d236",
   "metadata": {},
   "source": [
    "### 2.3 &emsp; Analyzing Data Set 3: \"ZHVI 3-Bedroom Time Series($) - City\""
   ]
  },
  {
   "cell_type": "code",
   "execution_count": 207,
   "id": "34dd771a",
   "metadata": {},
   "outputs": [
    {
     "data": {
      "text/plain": [
       "Index(['RegionID', 'SizeRank', 'RegionName', 'RegionType', 'StateName',\n",
       "       'State', 'Metro', 'CountyName', '2000-01-31', '2000-02-29',\n",
       "       ...\n",
       "       '2024-08-31', '2024-09-30', '2024-10-31', '2024-11-30', '2024-12-31',\n",
       "       '2025-01-31', '2025-02-28', '2025-03-31', '2025-04-30', '2025-05-31'],\n",
       "      dtype='object', length=313)"
      ]
     },
     "execution_count": 207,
     "metadata": {},
     "output_type": "execute_result"
    }
   ],
   "source": [
    "df_landvalue_original = pd.read_csv(\n",
    "    './data/City_zhvi_bdrmcnt_3_uc_sfrcondo_tier_0.33_0.67_sm_sa_month.csv.zip',\n",
    "    compression='zip'\n",
    "    )\n",
    "\n",
    "df_landvalue_original.columns"
   ]
  },
  {
   "cell_type": "code",
   "execution_count": 188,
   "id": "1ae32f78",
   "metadata": {},
   "outputs": [
    {
     "name": "stdout",
     "output_type": "stream",
     "text": [
      "<class 'pandas.core.frame.DataFrame'>\n",
      "RangeIndex: 15711 entries, 0 to 15710\n",
      "Columns: 313 entries, RegionID to 2025-05-31\n",
      "dtypes: float64(305), int64(2), object(6)\n",
      "memory usage: 37.5+ MB\n"
     ]
    }
   ],
   "source": [
    "df_landvalue_original.info()"
   ]
  },
  {
   "cell_type": "code",
   "execution_count": 209,
   "id": "9ac01ebb",
   "metadata": {},
   "outputs": [
    {
     "name": "stdout",
     "output_type": "stream",
     "text": [
      "   RegionID  SizeRank   RegionName RegionType StateName State  \\\n",
      "0      6181         0     New York       city        NY    NY   \n",
      "1     12447         1  Los Angeles       city        CA    CA   \n",
      "2     39051         2      Houston       city        TX    TX   \n",
      "3     17426         3      Chicago       city        IL    IL   \n",
      "4      6915         4  San Antonio       city        TX    TX   \n",
      "\n",
      "                                   Metro          CountyName     2025-05-31  \n",
      "0  New York-Newark-Jersey City, NY-NJ-PA       Queens County  840048.900964  \n",
      "1     Los Angeles-Long Beach-Anaheim, CA  Los Angeles County  964249.977821  \n",
      "2   Houston-The Woodlands-Sugar Land, TX       Harris County  253134.060059  \n",
      "3     Chicago-Naperville-Elgin, IL-IN-WI         Cook County  336756.496352  \n",
      "4          San Antonio-New Braunfels, TX        Bexar County  235986.092899  \n"
     ]
    }
   ],
   "source": [
    "print(\n",
    "    df_landvalue_original[[\n",
    "        'RegionID', 'SizeRank', 'RegionName', 'RegionType', 'StateName',\n",
    "        'State', 'Metro', 'CountyName', '2025-05-31'\n",
    "        ]].head()\n",
    "    )"
   ]
  },
  {
   "cell_type": "code",
   "execution_count": null,
   "id": "02705824",
   "metadata": {},
   "outputs": [],
   "source": [
    "del df_landvalue_original"
   ]
  },
  {
   "cell_type": "markdown",
   "id": "89311cad",
   "metadata": {},
   "source": [
    "### 2.4 &emsp; Planning the merged Data Frame"
   ]
  },
  {
   "cell_type": "markdown",
   "id": "2ddfccdf",
   "metadata": {},
   "source": [
    "\n",
    "A combined DataFrame: `df_solar`\n",
    "\n",
    "| Column               | Example          | Data Sets                          |\n",
    "| :------------------- | :--------------- | :--------------------------------- |\n",
    "| County-State         | BERKELEY,CA      | Photovoltaic, Land Value           |\n",
    "| City-State           | ALAMEDA,CA       | Sunshine, Land Value               |\n",
    "| Longitude            | -149.789413.     | Photovoltaic                       |\n",
    "| Latitude             | 61.587349        | Sunshine, Photovoltaic, Land Value |\n",
    "| Sunshine (Jan ... Dec) | 58             | Sunshine                           |\n",
    "| DC                   | 6.0              | Photovoltaic                       |\n",
    "| AC                   | 8.4              | Photovoltaic                       |\n",
    "| Current              | 14.4             | (DC + AC)                          |\n",
    "| Land Value           | 840048.900963529 | Land Value                         |\n",
    "\n",
    "Some cities that are listed in the Land Value data set and the Sunshine data set do not have solar power plants. In later steps, you predict the current in cities that do not have solar power plants and tell which cities you should build solar power plants.\n",
    "\n",
    "\n",
    "Note that in the United States, city names are unique only within the same state. Some cities share the same name and even the same county name while those are located in different states.\n",
    "\n",
    "| Column | Land Value  | Solar   | Sunshine | (Example 1)  | (Example 2)  |\n",
    "| :----- | :---------: | :-----: | :------: | :----------- | :----------- |\n",
    "| City   | &#9679;     | -       | &#9679;  | Franklin     | Franklin     |\n",
    "| County | &#9679;     | &#9679; | -        | Williamson   | Williamson   |\n",
    "| State  | &#9679;     | &#9679; | &#9679;  | Tennessee    | Texas        |\n"
   ]
  },
  {
   "cell_type": "markdown",
   "id": "3f03caf1",
   "metadata": {},
   "source": [
    "## 3 &emsp; Extracting Data Sets"
   ]
  },
  {
   "cell_type": "markdown",
   "id": "75585566",
   "metadata": {},
   "source": [
    "### 3.1 &emsp; Dataset 1: Sunshine"
   ]
  },
  {
   "cell_type": "code",
   "execution_count": 191,
   "id": "8c766e14",
   "metadata": {},
   "outputs": [],
   "source": [
    "df_sunshine_original = pd.read_csv(\n",
    "    './data/Average Percent of Possible Sunshine by US City.csv'\n",
    "    )"
   ]
  },
  {
   "cell_type": "markdown",
   "id": "5cac2b1e",
   "metadata": {},
   "source": [
    "Check the `CITY` column:"
   ]
  },
  {
   "cell_type": "code",
   "execution_count": 192,
   "id": "506e8d6f",
   "metadata": {},
   "outputs": [
    {
     "name": "stdout",
     "output_type": "stream",
     "text": [
      "CITY                  \n",
      "CITY                      1\n",
      "ABERDEEN,SD               2\n",
      "NOME,AK                   2\n",
      "NORFOLK,VA                2\n",
      "NORTH PLATTE,NE           2\n",
      "                         ..\n",
      "GRAND RAPIDS,MI           2\n",
      "GREAT FALLS,MT            2\n",
      "GREEN BAY,WI              2\n",
      "FLAGSTAFF,AZ              2\n",
      "YAP- W CAROLINE IS.,PC    2\n",
      "Name: count, Length: 159, dtype: int64\n"
     ]
    }
   ],
   "source": [
    "print(df_sunshine_original[['CITY']].value_counts(ascending=True))"
   ]
  },
  {
   "cell_type": "markdown",
   "id": "709cbd8c",
   "metadata": {},
   "source": [
    "There is one invalid entry `\"CITY\"`, and every other city has exact two entries. Check the row where the `CITY` column is `CITY`:"
   ]
  },
  {
   "cell_type": "code",
   "execution_count": 193,
   "id": "5bc60d3d",
   "metadata": {},
   "outputs": [
    {
     "name": "stdout",
     "output_type": "stream",
     "text": [
      "     index  CITY  JAN  FEB  MAR  APR  MAY  JUN  JUL  AUG  SEP  OCT  NOV  DEC  \\\n",
      "158    158  CITY  JAN  FEB  MAR  APR  MAY  JUN  JUL  AUG  SEP  OCT  NOV  DEC   \n",
      "\n",
      "     ANN  Unnamed: 14  \n",
      "158  ANN          NaN  \n"
     ]
    }
   ],
   "source": [
    "print(df_sunshine_original[df_sunshine_original['CITY'] == 'CITY'])"
   ]
  },
  {
   "cell_type": "code",
   "execution_count": 194,
   "id": "11e123ee",
   "metadata": {},
   "outputs": [
    {
     "name": "stdout",
     "output_type": "stream",
     "text": [
      "     index            CITY  JAN  FEB  MAR  APR  MAY  JUN JUL AUG SEP OCT NOV  \\\n",
      "115    115     ABERDEEN,SD  NaN   54   58   63   65   66  74  78  68  48  21   \n",
      "315    315     ABERDEEN,SD  NaN   54   58   63   65   66  74  78  68  48  21   \n",
      "123    123      ABILENE,TX   63   66   70   71   71   77  80  75  69  68  64   \n",
      "182    182      ABILENE,TX   63   66   70   71   71   77  80  75  69  68  64   \n",
      "86      86       ALBANY,NY   46   52   51   55   53   55  62  58  54  46  33   \n",
      "287    287       ALBANY,NY   46   52   51   55   53   55  62  58  54  46  33   \n",
      "84      84  ALBUQUERQUE,NM   73   73   73   78   80   82  76  76  77  80  75   \n",
      "169    169  ALBUQUERQUE,NM   73   73   73   78   80   82  76  76  77  80  75   \n",
      "108    108    ALLENTOWN,PA  NaN  NaN  NaN  NaN  NaN  NaN  90  93  82  52  47   \n",
      "314    314    ALLENTOWN,PA  NaN  NaN  NaN  NaN  NaN  NaN  90  93  82  52  47   \n",
      "\n",
      "     DEC  ANN  Unnamed: 14  \n",
      "115  NaN  NaN          NaN  \n",
      "315  NaN  NaN          NaN  \n",
      "123   65   69          NaN  \n",
      "182   65   69          NaN  \n",
      "86    36   50          NaN  \n",
      "287   36   50          NaN  \n",
      "84    73   76          NaN  \n",
      "169   73   76          NaN  \n",
      "108  NaN  NaN          NaN  \n",
      "314  NaN  NaN          NaN  \n"
     ]
    }
   ],
   "source": [
    "print(df_sunshine_original.sort_values(by=['CITY','index']).head(10))"
   ]
  },
  {
   "cell_type": "markdown",
   "id": "072fe01a",
   "metadata": {},
   "source": [
    "In this data set, the row where `'index'` is 158 does not include appopriate values thus you can remvoe it.\n",
    "\n",
    "See the `\"index\"` field of every pairs of rows for every city; one of those rows have the value of less than 158 and the other rows have the value of greater than 158. Also all other values such as `\"ANN\"` are the same.\n",
    "\n",
    "Assume that this data set includes two tables with the same rows in different orders. The first table spans between line 1 and line 157 in the original CSV file, and the second table spans between line 158 and line 318. You only need the first one.\n",
    "\n",
    "Construct a new DataFrame that is based on the original data set for the sunshine information with the following changes:\n",
    "\n",
    "* Include all rows of the first 157 records.\n",
    "* Trim off the unnecessary column `\"Unnamed: 14\"`.\n",
    "* Split the \"`CITY`\" entries by the city names and the state abbreviations."
   ]
  },
  {
   "cell_type": "code",
   "execution_count": 220,
   "id": "15aab4b1",
   "metadata": {},
   "outputs": [
    {
     "name": "stdout",
     "output_type": "stream",
     "text": [
      "          City-State JAN FEB MAR APR MAY JUN JUL AUG SEP OCT NOV DEC ANN\n",
      "index                                                                   \n",
      "1      MONTGOMERY,AL  47  55  58  64  63  64  61  61  59  63  55  49  58\n",
      "2       ANCHORAGE,AK  43  46  51  50  51  46  43  43  41  36  35  33  43\n",
      "3          JUNEAU,AK  39  35  38  42  44  37  33  35  27  21  26  21  33\n",
      "4            NOME,AK  38  56  54  52  52  43  39  34  38  35  30  36  42\n",
      "5       FLAGSTAFF,AZ  71  73  72  82  83  88  74  75  79  77  72  76  76\n"
     ]
    }
   ],
   "source": [
    "df_sunshine_original = pd.read_csv(\n",
    "    './data/Average Percent of Possible Sunshine by US City.csv'\n",
    "    )\n",
    "\n",
    "df_sunshine = df_sunshine_original\\\n",
    "    .iloc[1:157]\\\n",
    "    .set_index(['index'])\n",
    "\n",
    "del df_sunshine['Unnamed: 14']\n",
    "\n",
    "df_sunshine.rename(columns={'CITY': 'City-State'}, inplace=True)\n",
    "\n",
    "print(df_sunshine.head())"
   ]
  },
  {
   "cell_type": "code",
   "execution_count": 196,
   "id": "0ec1b23e",
   "metadata": {},
   "outputs": [],
   "source": [
    "del df_sunshine_original"
   ]
  },
  {
   "cell_type": "markdown",
   "id": "1b940571",
   "metadata": {},
   "source": [
    "### 3.2 &emsp; Data Set 2: Photovoltaic"
   ]
  },
  {
   "cell_type": "code",
   "execution_count": 228,
   "id": "f9bd619c",
   "metadata": {},
   "outputs": [
    {
     "name": "stdout",
     "output_type": "stream",
     "text": [
      "          Longitude   Latitude    AC     DC  Current          County-State\n",
      "case_id                                                                   \n",
      "406374  -149.789413  61.587349   6.0    8.4     14.4  MATANUSKA-SUSITNA,AK\n",
      "405016  -162.553146  66.838470   1.7    3.4      5.1   NORTHWEST ARCTIC,AK\n",
      "401476   -87.838394  34.833809  75.0  100.2    175.2         LAUDERDALE,AL\n",
      "401865   -85.729469  31.331732  10.6   12.7     23.3               DALE,AL\n",
      "401866   -85.940590  33.626301   7.4    9.7     17.1            CALHOUN,AL\n"
     ]
    }
   ],
   "source": [
    "df_photovoltaic_original = pd.read_csv(\n",
    "    './data/uspvdb_v3_0_20250430.csv'\n",
    "    )\n",
    "\n",
    "df_photovoltaic = pd.DataFrame()\n",
    "\n",
    "df_photovoltaic = df_photovoltaic_original[[\n",
    "    'case_id', 'p_county', 'p_state', 'xlong', 'ylat', 'p_cap_ac', 'p_cap_dc'\n",
    "    ]].set_index('case_id')\n",
    "\n",
    "df_photovoltaic.rename(\n",
    "    columns={\n",
    "        'xlong':    'Longitude',\n",
    "        'ylat':     'Latitude',\n",
    "        'p_cap_ac': 'AC',\n",
    "        'p_cap_dc': 'DC'\n",
    "        },\n",
    "    inplace=True\n",
    "    )\n",
    "\n",
    "df_photovoltaic['Current'] = df_photovoltaic['AC'] + df_photovoltaic['DC'] \n",
    "\n",
    "df_photovoltaic['County-State'] = df_photovoltaic['p_county'].str.upper() \\\n",
    "    + ',' +  df_photovoltaic['p_state']\n",
    "del df_photovoltaic['p_county']\n",
    "del df_photovoltaic['p_state']\n",
    "\n",
    "print(df_photovoltaic.head())"
   ]
  },
  {
   "cell_type": "markdown",
   "id": "e7e8dd03",
   "metadata": {},
   "source": [
    "### 3.3 &emsp; Dataset 3: Land Values"
   ]
  },
  {
   "cell_type": "markdown",
   "id": "0dfa51be",
   "metadata": {},
   "source": [
    "In this original data set, there are many columns of historical prices of the average home values of 3-bedroom houses but you only need the latest values: `\"2025-05-31\"`.\n",
    "\n",
    "See the first few rows of the original data set while excluding all the other columns for historical home values:"
   ]
  },
  {
   "cell_type": "code",
   "execution_count": 232,
   "id": "5747f0eb",
   "metadata": {},
   "outputs": [
    {
     "name": "stdout",
     "output_type": "stream",
     "text": [
      "          SizeRank     Land Value    County-State      City-State\n",
      "RegionID                                                         \n",
      "6181             0  840048.900964       QUEENS,NY     NEW YORK,NY\n",
      "12447            1  964249.977821  LOS ANGELES,CA  LOS ANGELES,CA\n",
      "39051            2  253134.060059       HARRIS,TX      HOUSTON,TX\n",
      "17426            3  336756.496352         COOK,IL      CHICAGO,IL\n",
      "6915             4  235986.092899        BEXAR,TX  SAN ANTONIO,TX\n"
     ]
    }
   ],
   "source": [
    "df_landvalue_original = pd.read_csv(\n",
    "    './data/City_zhvi_bdrmcnt_3_uc_sfrcondo_tier_0.33_0.67_sm_sa_month.csv.zip',\n",
    "    compression='zip'\n",
    "    )\n",
    "\n",
    "df_landvalue = pd.DataFrame()\n",
    "\n",
    "df_landvalue = df_landvalue_original[[\n",
    "    'RegionID', 'SizeRank', 'State', 'RegionName', 'CountyName', '2025-05-31'\n",
    "    ]].set_index('RegionID')\n",
    "\n",
    "df_landvalue.rename(columns={'2025-05-31': 'Land Value'}, inplace=True)\n",
    "\n",
    "df_landvalue['County-State']\\\n",
    "    = df_landvalue['CountyName']\\\n",
    "        .str.replace(r'\\s* County$', '', regex=True)\\\n",
    "        .str.upper() + ',' + df_landvalue['State']\n",
    "del df_landvalue['CountyName']\n",
    "\n",
    "df_landvalue['City-State'] \\\n",
    "    = df_landvalue['RegionName'].str.upper() + ',' + df_landvalue['State']\n",
    "del df_landvalue['RegionName']\n",
    "\n",
    "del df_landvalue['State']\n",
    "\n",
    "del df_landvalue_original\n",
    "print(df_landvalue.head())"
   ]
  },
  {
   "cell_type": "markdown",
   "id": "51b57578",
   "metadata": {},
   "source": [
    "### 4 &emsp; Combining Three DataFrames into One"
   ]
  },
  {
   "cell_type": "code",
   "execution_count": 248,
   "id": "de2df7f6",
   "metadata": {},
   "outputs": [
    {
     "name": "stdout",
     "output_type": "stream",
     "text": [
      "    SizeRank     Land Value County-State City-State JAN FEB MAR APR MAY JUN  \\\n",
      "2       97.0  474416.339219       ADA,ID   BOISE,ID  32  49  66  68  74  76   \n",
      "3       97.0  474416.339219       ADA,ID   BOISE,ID  32  49  66  68  74  76   \n",
      "63     246.0  314400.663535    ALBANY,NY  ALBANY,NY  46  52  51  55  53  55   \n",
      "64     246.0  314400.663535    ALBANY,NY  ALBANY,NY  46  52  51  55  53  55   \n",
      "65     246.0  314400.663535    ALBANY,NY  ALBANY,NY  46  52  51  55  53  55   \n",
      "\n",
      "   JUL AUG SEP OCT NOV DEC ANN   Longitude   Latitude    AC    DC  Current  \n",
      "2   85  82  80  69  41  34  63 -116.327415  43.438301  40.0  54.6     94.6  \n",
      "3   85  82  80  69  41  34  63 -116.289497  43.468910  20.0  26.0     46.0  \n",
      "63  62  58  54  46  33  36  50  -73.865364  42.585896   2.0   2.3      4.3  \n",
      "64  62  58  54  46  33  36  50  -73.826706  42.540352   1.7   2.4      4.1  \n",
      "65  62  58  54  46  33  36  50  -73.830566  42.542080   1.0   1.2      2.2  \n",
      "(5764, 22)\n"
     ]
    }
   ],
   "source": [
    "df_solar = df_landvalue.copy()\n",
    "\n",
    "df_solar = pd.merge(df_solar, df_sunshine,     on='City-State',   how='inner')\n",
    "df_solar = pd.merge(df_solar, df_photovoltaic, on='County-State', how='outer')\n",
    "\n",
    "print(df_solar.query('ANN.notnull()').head())\n",
    "\n",
    "print(df_solar.shape)"
   ]
  },
  {
   "cell_type": "code",
   "execution_count": 250,
   "id": "ea35d45a",
   "metadata": {},
   "outputs": [
    {
     "name": "stdout",
     "output_type": "stream",
     "text": [
      "(52, 22)\n"
     ]
    }
   ],
   "source": [
    "print(df_solar.query('Current.isnull()').shape)"
   ]
  },
  {
   "cell_type": "code",
   "execution_count": 259,
   "id": "f7630d7b",
   "metadata": {},
   "outputs": [
    {
     "name": "stdout",
     "output_type": "stream",
     "text": [
      "<class 'pandas.core.frame.DataFrame'>\n",
      "RangeIndex: 5764 entries, 0 to 5763\n",
      "Data columns (total 22 columns):\n",
      " #   Column        Non-Null Count  Dtype  \n",
      "---  ------        --------------  -----  \n",
      " 0   SizeRank      802 non-null    float64\n",
      " 1   Land Value    802 non-null    float64\n",
      " 2   County-State  5764 non-null   object \n",
      " 3   City-State    802 non-null    object \n",
      " 4   JAN           797 non-null    object \n",
      " 5   FEB           798 non-null    object \n",
      " 6   MAR           798 non-null    object \n",
      " 7   APR           798 non-null    object \n",
      " 8   MAY           799 non-null    object \n",
      " 9   JUN           799 non-null    object \n",
      " 10  JUL           802 non-null    object \n",
      " 11  AUG           802 non-null    object \n",
      " 12  SEP           802 non-null    object \n",
      " 13  OCT           802 non-null    object \n",
      " 14  NOV           802 non-null    object \n",
      " 15  DEC           800 non-null    object \n",
      " 16  ANN           797 non-null    object \n",
      " 17  Longitude     5712 non-null   float64\n",
      " 18  Latitude      5712 non-null   float64\n",
      " 19  AC            5712 non-null   float64\n",
      " 20  DC            5712 non-null   float64\n",
      " 21  Current       5712 non-null   float64\n",
      "dtypes: float64(7), object(15)\n",
      "memory usage: 990.8+ KB\n"
     ]
    }
   ],
   "source": [
    "df_solar.info()"
   ]
  }
 ],
 "metadata": {
  "kernelspec": {
   "display_name": "junko",
   "language": "python",
   "name": "python3"
  },
  "language_info": {
   "codemirror_mode": {
    "name": "ipython",
    "version": 3
   },
   "file_extension": ".py",
   "mimetype": "text/x-python",
   "name": "python",
   "nbconvert_exporter": "python",
   "pygments_lexer": "ipython3",
   "version": "3.12.11"
  }
 },
 "nbformat": 4,
 "nbformat_minor": 5
}
