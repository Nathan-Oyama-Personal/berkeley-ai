{
 "cells": [
  {
   "cell_type": "markdown",
   "id": "2befb9d9",
   "metadata": {},
   "source": [
    "# Capstone Assignment 20.1: Initial Report and Exploratory Data Analysis (EDA)\n",
    "\n",
    "Nathan Oyama"
   ]
  },
  {
   "cell_type": "markdown",
   "id": "d46de7c9",
   "metadata": {},
   "source": [
    "## 1 &emsp; Planning the project\n",
    "\n",
    "There are three data sets to accomplish this project. \n",
    "\n",
    "* Kaggle: \"Percent Sunshine by US City\". 18 Jan 2023. kaggle.com/datasets/thedevastator/annual-percent-of-possible-sunshine-by-us-city.\n",
    "\n",
    "* US Geological Survey: \"The United States Large-Scale Solar Photovoltaic Database (USPVDB)\". 28 Apr 2025. US Department of the Interior. energy.usgs.gov/uspvdb/data.\n",
    "\n",
    "* landvalue: \"ZHVI 3-Bedroom Time Series($) - City\". 25 Jun 2025. landvalue.com/research/data.\n",
    "\n",
    "* Pareto Software: \"United States Cities Database - Basic\". 9 Jun 2025. simplemaps.com/data/us-cities.\n",
    "\n",
    "Then take the following steps _for every dataset_:\n",
    "\n",
    "1. From the data set which is in CSV format, create a pandas DataFrame object.\n",
    "1. Analyze every DataFrame and identify which columns to use for this project.\n",
    "1. Format the DataFrames before merge them.\n",
    "\n",
    "Finally, merge the three DataFrames into one."
   ]
  },
  {
   "cell_type": "markdown",
   "id": "bd62ac95",
   "metadata": {},
   "source": [
    "## 2 &emsp; Analyzing Data Sets"
   ]
  },
  {
   "cell_type": "markdown",
   "id": "ec97b352",
   "metadata": {},
   "source": [
    "Analyze those three data sets."
   ]
  },
  {
   "cell_type": "code",
   "execution_count": 1,
   "id": "06695ac5",
   "metadata": {},
   "outputs": [],
   "source": [
    "import pandas as pd\n",
    "import re\n",
    "\n",
    "pd.options.mode.copy_on_write = True\n",
    "\n",
    "from sklearn.model_selection import train_test_split, GridSearchCV\n",
    "\n",
    "import warnings\n",
    "\n",
    "warnings.filterwarnings(\"ignore\", message=\".*pkg_resources is deprecated as an API.*\")\n",
    "warnings.filterwarnings(\"ignore\", category=UserWarning)"
   ]
  },
  {
   "cell_type": "markdown",
   "id": "036be2da",
   "metadata": {},
   "source": [
    "### 2.1 &emsp; Analyzing Data Set 1: \"Percent Sunshine by US City\""
   ]
  },
  {
   "cell_type": "code",
   "execution_count": 2,
   "id": "959e4691",
   "metadata": {},
   "outputs": [
    {
     "name": "stdout",
     "output_type": "stream",
     "text": [
      "   index           CITY JAN FEB MAR APR MAY JUN JUL AUG SEP OCT NOV DEC ANN  \\\n",
      "0      0  BIRMINGHAM,AL  46  53  57  65  65  67  59  62  59  66  55  49  58   \n",
      "1      1  MONTGOMERY,AL  47  55  58  64  63  64  61  61  59  63  55  49  58   \n",
      "2      2   ANCHORAGE,AK  43  46  51  50  51  46  43  43  41  36  35  33  43   \n",
      "3      3      JUNEAU,AK  39  35  38  42  44  37  33  35  27  21  26  21  33   \n",
      "4      4        NOME,AK  38  56  54  52  52  43  39  34  38  35  30  36  42   \n",
      "\n",
      "   Unnamed: 14  \n",
      "0          NaN  \n",
      "1          NaN  \n",
      "2          NaN  \n",
      "3          NaN  \n",
      "4          NaN  \n"
     ]
    }
   ],
   "source": [
    "df_sunshine_original = pd.read_csv(\n",
    "    './data/Average Percent of Possible Sunshine by US City.csv'\n",
    "    )\n",
    "\n",
    "print(df_sunshine_original.head())"
   ]
  },
  {
   "cell_type": "markdown",
   "id": "d863eb52",
   "metadata": {},
   "source": [
    "See the first few records of the original DataFrame for sunshine hours. You can ignore and discard some unimportant columns: \"index\" and \"Unnamed: 14\".\n",
    "\n",
    "The remaining columns are the \"CITY\" column, the columns of all 12 months such as \"JAN\" and \"FEB\", and the annual. The \"CITY\" column includes the name of the city in all uppercase, followed by a comma (\",\") and the state abbreviation. You can use this column for the index of this DataFrame. The column for each month represents the number of sunshine hours of the month for every city. The \"ANN\" field represents the average of those monthly sunshine hours. For example, the city of Birmingham, Alabama observed approximately 46 sunshine hours in January; in average, Birmingham obseerved approximately 58 sunshine hours per month."
   ]
  },
  {
   "cell_type": "code",
   "execution_count": 3,
   "id": "f8b8bc13",
   "metadata": {},
   "outputs": [
    {
     "name": "stdout",
     "output_type": "stream",
     "text": [
      "<class 'pandas.core.frame.DataFrame'>\n",
      "RangeIndex: 317 entries, 0 to 316\n",
      "Data columns (total 16 columns):\n",
      " #   Column       Non-Null Count  Dtype  \n",
      "---  ------       --------------  -----  \n",
      " 0   index        317 non-null    int64  \n",
      " 1   CITY         317 non-null    object \n",
      " 2   JAN          307 non-null    object \n",
      " 3   FEB          309 non-null    object \n",
      " 4   MAR          309 non-null    object \n",
      " 5   APR          309 non-null    object \n",
      " 6   MAY          311 non-null    object \n",
      " 7   JUN          311 non-null    object \n",
      " 8   JUL          317 non-null    object \n",
      " 9   AUG          317 non-null    object \n",
      " 10  SEP          317 non-null    object \n",
      " 11  OCT          317 non-null    object \n",
      " 12  NOV          317 non-null    object \n",
      " 13  DEC          313 non-null    object \n",
      " 14  ANN          307 non-null    object \n",
      " 15  Unnamed: 14  0 non-null      float64\n",
      "dtypes: float64(1), int64(1), object(14)\n",
      "memory usage: 39.8+ KB\n"
     ]
    }
   ],
   "source": [
    "df_sunshine_original.info()"
   ]
  },
  {
   "cell_type": "markdown",
   "id": "2c76a523",
   "metadata": {},
   "source": [
    "### 2.2 &emsp; Analyzing Data Set 2: \"The US Large-Scale Solar Photovoltaic Database (USPVDB)\""
   ]
  },
  {
   "cell_type": "code",
   "execution_count": 4,
   "id": "de029c0b",
   "metadata": {},
   "outputs": [
    {
     "name": "stdout",
     "output_type": "stream",
     "text": [
      "(5712, 26)\n"
     ]
    }
   ],
   "source": [
    "df_photovoltaic_original = pd.read_csv(\n",
    "    './data/uspvdb_v3_0_20250430.csv'\n",
    "    )\n",
    "\n",
    "print(df_photovoltaic_original.shape)"
   ]
  },
  {
   "cell_type": "code",
   "execution_count": 5,
   "id": "c697e98f",
   "metadata": {},
   "outputs": [
    {
     "name": "stdout",
     "output_type": "stream",
     "text": [
      "   case_id multi_poly  eia_id p_state           p_county       ylat  \\\n",
      "0   406374     single   66887      AK  Matanuska-Susitna  61.587349   \n",
      "1   405016      multi    6304      AK   Northwest Arctic  66.838470   \n",
      "2   401476      multi   60058      AL         Lauderdale  34.833809   \n",
      "3   401865      multi   60679      AL               Dale  31.331732   \n",
      "4   401866      multi   60680      AL            Calhoun  33.626301   \n",
      "\n",
      "        xlong   p_area  p_img_date  p_dig_conf                   p_name  \\\n",
      "0 -149.789413   172005    20240814           4            Houston Solar   \n",
      "1 -162.553146     8740    20240719           4          Kotzebue Hybrid   \n",
      "2  -87.838394  1735134    20220212           4    River Bend Solar, LLC   \n",
      "3  -85.729469   187820    20220609           4  Fort Rucker Solar Array   \n",
      "4  -85.940590    39717    20210814           4         ANAD Solar Array   \n",
      "\n",
      "   p_year p_pwr_reg  \n",
      "0    2023        AK  \n",
      "1    2020       NaN  \n",
      "2    2016       TVA  \n",
      "3    2017      SOCO  \n",
      "4    2017      SOCO  \n"
     ]
    }
   ],
   "source": [
    "print(df_photovoltaic_original.iloc[:,:13].head())"
   ]
  },
  {
   "cell_type": "code",
   "execution_count": 6,
   "id": "9d5b3015",
   "metadata": {},
   "outputs": [
    {
     "name": "stdout",
     "output_type": "stream",
     "text": [
      "  p_tech_pri p_tech_sec p_sys_type       p_axis  p_azimuth  p_tilt  p_battery  \\\n",
      "0         PV        NaN     ground   fixed-tilt      180.0    40.0        NaN   \n",
      "1         PV        NaN     ground  single-axis      156.0    40.0  batteries   \n",
      "2         PV       c-si     ground  single-axis      270.0    17.0        NaN   \n",
      "3         PV  thin-film     ground  single-axis      188.0    20.0        NaN   \n",
      "4         PV  thin-film     ground   fixed-tilt      180.0    20.0        NaN   \n",
      "\n",
      "   p_cap_ac  p_cap_dc      p_type       p_agrivolt p_comm  p_zscore  \n",
      "0       6.0       8.4  greenfield             crop    NaN -0.457675  \n",
      "1       1.7       3.4  greenfield  non-agrivoltaic    NaN  5.617232  \n",
      "2      75.0     100.2  greenfield  non-agrivoltaic    NaN -0.298527  \n",
      "3      10.6      12.7  greenfield  non-agrivoltaic    NaN -0.122265  \n",
      "4       7.4       9.7   superfund  non-agrivoltaic    NaN  3.031619  \n"
     ]
    }
   ],
   "source": [
    "print(df_photovoltaic_original.iloc[:,13:26].head())"
   ]
  },
  {
   "cell_type": "code",
   "execution_count": 7,
   "id": "d1a0b739",
   "metadata": {},
   "outputs": [
    {
     "data": {
      "text/plain": [
       "(0, 26)"
      ]
     },
     "execution_count": 7,
     "metadata": {},
     "output_type": "execute_result"
    }
   ],
   "source": [
    "df_photovoltaic_original.query('p_cap_ac.isnull() | p_cap_dc.isnull()').shape"
   ]
  },
  {
   "cell_type": "markdown",
   "id": "d725d236",
   "metadata": {},
   "source": [
    "### 2.3 &emsp; Analyzing Data Set 3: \"ZHVI 3-Bedroom Time Series($) - City\""
   ]
  },
  {
   "cell_type": "code",
   "execution_count": 8,
   "id": "34dd771a",
   "metadata": {},
   "outputs": [
    {
     "data": {
      "text/plain": [
       "Index(['RegionID', 'SizeRank', 'RegionName', 'RegionType', 'StateName',\n",
       "       'State', 'Metro', 'CountyName', '2000-01-31', '2000-02-29',\n",
       "       ...\n",
       "       '2024-08-31', '2024-09-30', '2024-10-31', '2024-11-30', '2024-12-31',\n",
       "       '2025-01-31', '2025-02-28', '2025-03-31', '2025-04-30', '2025-05-31'],\n",
       "      dtype='object', length=313)"
      ]
     },
     "execution_count": 8,
     "metadata": {},
     "output_type": "execute_result"
    }
   ],
   "source": [
    "df_landvalue_original = pd.read_csv(\n",
    "    './data/City_zhvi_bdrmcnt_3_uc_sfrcondo_tier_0.33_0.67_sm_sa_month.csv.zip',\n",
    "    compression='zip'\n",
    "    )\n",
    "\n",
    "df_landvalue_original.columns"
   ]
  },
  {
   "cell_type": "code",
   "execution_count": 9,
   "id": "1ae32f78",
   "metadata": {},
   "outputs": [
    {
     "name": "stdout",
     "output_type": "stream",
     "text": [
      "<class 'pandas.core.frame.DataFrame'>\n",
      "RangeIndex: 15711 entries, 0 to 15710\n",
      "Columns: 313 entries, RegionID to 2025-05-31\n",
      "dtypes: float64(305), int64(2), object(6)\n",
      "memory usage: 37.5+ MB\n"
     ]
    }
   ],
   "source": [
    "df_landvalue_original.info()"
   ]
  },
  {
   "cell_type": "code",
   "execution_count": 10,
   "id": "9ac01ebb",
   "metadata": {},
   "outputs": [
    {
     "name": "stdout",
     "output_type": "stream",
     "text": [
      "   RegionID  SizeRank   RegionName RegionType StateName State  \\\n",
      "0      6181         0     New York       city        NY    NY   \n",
      "1     12447         1  Los Angeles       city        CA    CA   \n",
      "2     39051         2      Houston       city        TX    TX   \n",
      "3     17426         3      Chicago       city        IL    IL   \n",
      "4      6915         4  San Antonio       city        TX    TX   \n",
      "\n",
      "                                   Metro          CountyName     2025-05-31  \n",
      "0  New York-Newark-Jersey City, NY-NJ-PA       Queens County  840048.900964  \n",
      "1     Los Angeles-Long Beach-Anaheim, CA  Los Angeles County  964249.977821  \n",
      "2   Houston-The Woodlands-Sugar Land, TX       Harris County  253134.060059  \n",
      "3     Chicago-Naperville-Elgin, IL-IN-WI         Cook County  336756.496352  \n",
      "4          San Antonio-New Braunfels, TX        Bexar County  235986.092899  \n"
     ]
    }
   ],
   "source": [
    "print(\n",
    "    df_landvalue_original[[\n",
    "        'RegionID', 'SizeRank', 'RegionName', 'RegionType', 'StateName',\n",
    "        'State', 'Metro', 'CountyName', '2025-05-31'\n",
    "        ]].head()\n",
    "    )"
   ]
  },
  {
   "cell_type": "markdown",
   "id": "21d29bc2",
   "metadata": {},
   "source": [
    "### 2.4 &emsp; City information\n",
    "\n",
    "This data set contains the name of most cities in the United States and data fields for every city: the name, longitude, latitude, population density, and so on."
   ]
  },
  {
   "cell_type": "code",
   "execution_count": 11,
   "id": "c35cfc4a",
   "metadata": {},
   "outputs": [
    {
     "name": "stdout",
     "output_type": "stream",
     "text": [
      "          city   city_ascii state_id  state_name  county_fips  county_name  \\\n",
      "0     New York     New York       NY    New York        36081       Queens   \n",
      "1  Los Angeles  Los Angeles       CA  California         6037  Los Angeles   \n",
      "2      Chicago      Chicago       IL    Illinois        17031         Cook   \n",
      "3        Miami        Miami       FL     Florida        12086   Miami-Dade   \n",
      "4      Houston      Houston       TX       Texas        48201       Harris   \n",
      "\n",
      "       lat       lng  population  density source  military  incorporated  \\\n",
      "0  40.6943  -73.9249    18832416  10943.7  shape     False          True   \n",
      "1  34.1141 -118.4068    11885717   3165.7  shape     False          True   \n",
      "2  41.8375  -87.6866     8489066   4590.3  shape     False          True   \n",
      "3  25.7840  -80.2101     6113982   4791.1  shape     False          True   \n",
      "4  29.7860  -95.3885     6046392   1386.2  shape     False          True   \n",
      "\n",
      "              timezone  ranking  \\\n",
      "0     America/New_York        1   \n",
      "1  America/Los_Angeles        1   \n",
      "2      America/Chicago        1   \n",
      "3     America/New_York        1   \n",
      "4      America/Chicago        1   \n",
      "\n",
      "                                                zips          id  \n",
      "0  11229 11228 11226 11225 11224 11222 11221 1122...  1840034016  \n",
      "1  91367 90291 90293 90292 91316 91311 90035 9003...  1840020491  \n",
      "2  60018 60649 60641 60640 60643 60642 60645 6064...  1840000494  \n",
      "3  33128 33129 33125 33126 33127 33149 33144 3314...  1840015149  \n",
      "4  77069 77068 77061 77060 77063 77062 77065 7706...  1840020925  \n",
      "\n",
      "df_city_original.shape ... (31254, 17)\n"
     ]
    }
   ],
   "source": [
    "df_city_original = pd.read_csv(\n",
    "    './data/uscities.csv'\n",
    "    )\n",
    "\n",
    "print(df_city_original.head())\n",
    "print(\"\")\n",
    "print(\"df_city_original.shape ...\", df_city_original.shape)"
   ]
  },
  {
   "cell_type": "markdown",
   "id": "28d2431b",
   "metadata": {},
   "source": [
    "In this data set, there are the `city` column and the `city_ascii` column that you may want to check the difference:"
   ]
  },
  {
   "cell_type": "code",
   "execution_count": 12,
   "id": "bb4ead54",
   "metadata": {},
   "outputs": [
    {
     "name": "stdout",
     "output_type": "stream",
     "text": [
      "The first few rows out of 76 rows whose values in the city field and city_ascii field are different: \n",
      "\n",
      "            city  city_ascii state_id\n",
      "265      Bayamón     Bayamon       PR\n",
      "484   San Germán  San German       PR\n",
      "525     Mayagüez    Mayaguez       PR\n",
      "752   Juana Díaz  Juana Diaz       PR\n",
      "2014      Cataño      Catano       PR\n"
     ]
    }
   ],
   "source": [
    "df_city_diff = \\\n",
    "    df_city_original[['city','city_ascii','state_id']]\\\n",
    "    .query('city != city_ascii')\n",
    "\n",
    "print(\n",
    "    \"The first few rows out of\", df_city_diff.shape[0], \"rows \"\n",
    "    \"whose values in the city field and city_ascii field are different: \"\n",
    "    \"\\n\"\n",
    "    )\n",
    "\n",
    "print(df_city_diff.head())"
   ]
  },
  {
   "cell_type": "markdown",
   "id": "6ef12329",
   "metadata": {},
   "source": [
    "There should be many city names that contain Spanish letters on Puerto Rico. Check all cities on Puerto Rico in the sunshine data set:"
   ]
  },
  {
   "cell_type": "code",
   "execution_count": 13,
   "id": "ada7837d",
   "metadata": {},
   "outputs": [
    {
     "name": "stdout",
     "output_type": "stream",
     "text": [
      "157    SAN JUAN,PR\n",
      "Name: CITY, dtype: object\n"
     ]
    }
   ],
   "source": [
    "print(\n",
    "    df_sunshine_original.iloc[1:158].query('CITY.str.contains(\",PR\")')['CITY']\n",
    "    )"
   ]
  },
  {
   "cell_type": "markdown",
   "id": "1dd90d59",
   "metadata": {},
   "source": [
    "The sunshine data set contained only one city on Puerto Rico: San Juan. Check how \"San Juan\" is defined in the city data set:"
   ]
  },
  {
   "cell_type": "code",
   "execution_count": 14,
   "id": "0be70cd9",
   "metadata": {},
   "outputs": [
    {
     "name": "stdout",
     "output_type": "stream",
     "text": [
      "          city city_ascii state_id\n",
      "29    San Juan   San Juan       PR\n",
      "1298  San Juan   San Juan       TX\n"
     ]
    }
   ],
   "source": [
    "print(\n",
    "    df_city_original[['city','city_ascii','state_id']]\\\n",
    "        .query('city_ascii == \"San Juan\"')\n",
    "    )"
   ]
  },
  {
   "cell_type": "markdown",
   "id": "d904ee28",
   "metadata": {},
   "source": [
    "There are actually two cities of San Juan: one on Puerto Rico and the other one in Texas. But neither city name contains non-ascii letter and so you can keep the first record for San Juan, Puerto Rico.\n",
    "\n",
    "Check all cities containing non-ascii letters outside Puerto Rico:"
   ]
  },
  {
   "cell_type": "code",
   "execution_count": 15,
   "id": "3432c676",
   "metadata": {},
   "outputs": [
    {
     "name": "stdout",
     "output_type": "stream",
     "text": [
      "                       city            city_ascii state_id\n",
      "2250   La Cañada Flintridge  La Canada Flintridge       CA\n",
      "2627             Cañon City            Canon City       CO\n",
      "3944               Española              Espanola       NM\n",
      "5238            Piñon Hills           Pinon Hills       CA\n",
      "11895          César Chávez          Cesar Chavez       TX\n",
      "14389              Doña Ana              Dona Ana       NM\n",
      "15643             Cañoncito             Canoncito       NM\n",
      "17598           Peña Blanca           Pena Blanca       NM\n",
      "18469               Peñasco               Penasco       NM\n",
      "19962  Cañada de los Alamos  Canada de los Alamos       NM\n",
      "20794                 Cañon                 Canon       NM\n",
      "27154              Salineño              Salineno       TX\n",
      "28089               Cañones               Canones       NM\n",
      "28160        Salineño North        Salineno North       TX\n",
      "29328                Lopeño                Lopeno       TX\n"
     ]
    }
   ],
   "source": [
    "print(df_city_diff.query('state_id != \"PR\"'))"
   ]
  },
  {
   "cell_type": "markdown",
   "id": "abe6521d",
   "metadata": {},
   "source": [
    "These cities are located in California, Colorado, New Mexico, or Texas. Check cities in those states in the sunshine data set:"
   ]
  },
  {
   "cell_type": "code",
   "execution_count": 16,
   "id": "e1d9da8d",
   "metadata": {},
   "outputs": [
    {
     "name": "stdout",
     "output_type": "stream",
     "text": [
      "10             FRESNO,CA\n",
      "11        LOS ANGELES,CA\n",
      "12         SACRAMENTO,CA\n",
      "13          SAN DIEGO,CA\n",
      "14      SAN FRANCISCO,CA\n",
      "15             DENVER,CO\n",
      "16     GRAND JUNCTION,CO\n",
      "17             PUEBLO,CO\n",
      "84        ALBUQUERQUE,NM\n",
      "85            ROSWELL,NM\n",
      "123           ABILENE,TX\n",
      "124          AMARILLO,TX\n",
      "125            AUSTIN,TX\n",
      "126       BROWNSVILLE,TX\n",
      "127    CORPUS CHRISTI,TX\n",
      "128            DALLAS,TX\n",
      "129           EL PASO,TX\n",
      "130           HOUSTON,TX\n",
      "131           LUBBOCK,TX\n",
      "132    MIDLAND-ODESSA,TX\n",
      "133       PORT ARTHUR,TX\n",
      "134       SAN ANTONIO,TX\n",
      "Name: CITY, dtype: object\n"
     ]
    }
   ],
   "source": [
    "print(df_sunshine_original.iloc[1:158].query('False \\\n",
    "    |   CITY.str.contains(\",CA\") \\\n",
    "    |   CITY.str.contains(\",CO\") \\\n",
    "    |   CITY.str.contains(\",NM\") \\\n",
    "    |   CITY.str.contains(\",TX\") \\\n",
    "    ')['CITY'])"
   ]
  },
  {
   "cell_type": "markdown",
   "id": "e102b8df",
   "metadata": {},
   "source": [
    "Any of these cities in the sunshine data set appeared in the city data set where the city name contained non-English letters. Therefore, you can remove all records containing non-English letters from the city data set."
   ]
  },
  {
   "cell_type": "markdown",
   "id": "89311cad",
   "metadata": {},
   "source": [
    "### 2.4 &emsp; Planning the merged Data Frame"
   ]
  },
  {
   "cell_type": "markdown",
   "id": "2ddfccdf",
   "metadata": {},
   "source": [
    "\n",
    "A combined DataFrame: `df_solar`\n",
    "\n",
    "| Column               | Example          | Data Sets                          |\n",
    "| :------------------- | :--------------- | :--------------------------------- |\n",
    "| County-State         | BERKELEY,CA      | City, Photovoltaic, Land Value     |\n",
    "| City-State           | ALAMEDA,CA       | City, Sunshine, Land Value         |\n",
    "| Longitude            | -149.789413.     | City, Photovoltaic                 |\n",
    "| Latitude             | 61.587349        | Sunshine, Photovoltaic, Land Value |\n",
    "| ANN                  | 58               | Sunshine                           |\n",
    "| JAN ... DEC          | 58               | Sunshine                           |\n",
    "| DC                   | 6.0              | Photovoltaic                       |\n",
    "| AC                   | 8.4              | Photovoltaic                       |\n",
    "| Current              | 14.4             | (DC + AC)                          |\n",
    "| Land Value           | 840048.900963529 | Land Value                         |\n",
    "\n",
    "Some cities that are listed in the Land Value data set and the Sunshine data set do not have solar power plants. In later steps, you predict the current in cities that do not have solar power plants and tell which cities you should build solar power plants.\n",
    "\n",
    "\n",
    "Note that in the United States, city names are unique only within the same state. Some cities share the same name and even the same county name while those are located in different states.\n",
    "\n",
    "| Column | Sunshine | Land Value  | PV      | City    | Example 1  | Example 2  |\n",
    "| :----- | :------: | :---------: | :-----: | :-----: | :--------- | :--------- |\n",
    "| City   | &#9679;  | &#9679;     | -       | &#9679; | Franklin   | Franklin   |\n",
    "| County | -        | &#9679;     | &#9679; | &#9679; | Williamson | Williamson |\n",
    "| State  | &#9679;  | &#9679;     | &#9679; | &#9679; | Tennessee  | Texas      |\n"
   ]
  },
  {
   "cell_type": "markdown",
   "id": "f3287dc1",
   "metadata": {},
   "source": [
    "### 2.4. Converting Data Frames\n",
    "\n",
    "The original data sets are stored in CSV format. To load these CSV data sets and convert these to the pandas' DataFrame objects, all numeric entries should be recognized as either integer data type of float data type."
   ]
  },
  {
   "cell_type": "code",
   "execution_count": 17,
   "id": "78908b0a",
   "metadata": {},
   "outputs": [],
   "source": [
    "def convert_df_obj_numeric(df):\n",
    "    cols_obj = df.select_dtypes(include='object').columns\n",
    "    df[cols_obj] = df[cols_obj].apply(pd.to_numeric, errors='coerce')\n",
    "    return df"
   ]
  },
  {
   "cell_type": "markdown",
   "id": "3f03caf1",
   "metadata": {},
   "source": [
    "## 3 &emsp; Extracting Data Sets"
   ]
  },
  {
   "cell_type": "markdown",
   "id": "75585566",
   "metadata": {},
   "source": [
    "### 3.1 &emsp; Dataset 1: Sunshine"
   ]
  },
  {
   "cell_type": "code",
   "execution_count": 18,
   "id": "8c766e14",
   "metadata": {},
   "outputs": [],
   "source": [
    "df_sunshine_original = pd.read_csv(\n",
    "    './data/Average Percent of Possible Sunshine by US City.csv'\n",
    "    )"
   ]
  },
  {
   "cell_type": "markdown",
   "id": "5cac2b1e",
   "metadata": {},
   "source": [
    "Check the `CITY` column:"
   ]
  },
  {
   "cell_type": "code",
   "execution_count": 19,
   "id": "506e8d6f",
   "metadata": {},
   "outputs": [
    {
     "name": "stdout",
     "output_type": "stream",
     "text": [
      "CITY                  \n",
      "ABERDEEN,SD               2\n",
      "PENSACOLA,FL              2\n",
      "NOME,AK                   2\n",
      "NORFOLK,VA                2\n",
      "NORTH PLATTE,NE           2\n",
      "                         ..\n",
      "GRAND RAPIDS,MI           2\n",
      "GREAT FALLS,MT            2\n",
      "GREEN BAY,WI              2\n",
      "YAP- W CAROLINE IS.,PC    2\n",
      "CITY                      1\n",
      "Name: count, Length: 159, dtype: int64\n"
     ]
    }
   ],
   "source": [
    "print(df_sunshine_original[['CITY']].value_counts())"
   ]
  },
  {
   "cell_type": "markdown",
   "id": "709cbd8c",
   "metadata": {},
   "source": [
    "There is one invalid entry `\"CITY\"`, and every other city has exact two entries. Check the row where the `CITY` column is `CITY`:"
   ]
  },
  {
   "cell_type": "code",
   "execution_count": 20,
   "id": "5bc60d3d",
   "metadata": {},
   "outputs": [
    {
     "name": "stdout",
     "output_type": "stream",
     "text": [
      "     index  CITY  JAN  FEB  MAR  APR  MAY  JUN  JUL  AUG  SEP  OCT  NOV  DEC  \\\n",
      "158    158  CITY  JAN  FEB  MAR  APR  MAY  JUN  JUL  AUG  SEP  OCT  NOV  DEC   \n",
      "\n",
      "     ANN  Unnamed: 14  \n",
      "158  ANN          NaN  \n"
     ]
    }
   ],
   "source": [
    "print(df_sunshine_original[df_sunshine_original['CITY'] == 'CITY'])"
   ]
  },
  {
   "cell_type": "code",
   "execution_count": 21,
   "id": "11e123ee",
   "metadata": {},
   "outputs": [
    {
     "name": "stdout",
     "output_type": "stream",
     "text": [
      "     index            CITY  JAN  FEB  MAR  APR  MAY  JUN JUL AUG SEP OCT NOV  \\\n",
      "115    115     ABERDEEN,SD  NaN   54   58   63   65   66  74  78  68  48  21   \n",
      "315    315     ABERDEEN,SD  NaN   54   58   63   65   66  74  78  68  48  21   \n",
      "123    123      ABILENE,TX   63   66   70   71   71   77  80  75  69  68  64   \n",
      "182    182      ABILENE,TX   63   66   70   71   71   77  80  75  69  68  64   \n",
      "86      86       ALBANY,NY   46   52   51   55   53   55  62  58  54  46  33   \n",
      "287    287       ALBANY,NY   46   52   51   55   53   55  62  58  54  46  33   \n",
      "84      84  ALBUQUERQUE,NM   73   73   73   78   80   82  76  76  77  80  75   \n",
      "169    169  ALBUQUERQUE,NM   73   73   73   78   80   82  76  76  77  80  75   \n",
      "108    108    ALLENTOWN,PA  NaN  NaN  NaN  NaN  NaN  NaN  90  93  82  52  47   \n",
      "314    314    ALLENTOWN,PA  NaN  NaN  NaN  NaN  NaN  NaN  90  93  82  52  47   \n",
      "\n",
      "     DEC  ANN  Unnamed: 14  \n",
      "115  NaN  NaN          NaN  \n",
      "315  NaN  NaN          NaN  \n",
      "123   65   69          NaN  \n",
      "182   65   69          NaN  \n",
      "86    36   50          NaN  \n",
      "287   36   50          NaN  \n",
      "84    73   76          NaN  \n",
      "169   73   76          NaN  \n",
      "108  NaN  NaN          NaN  \n",
      "314  NaN  NaN          NaN  \n"
     ]
    }
   ],
   "source": [
    "print(df_sunshine_original.sort_values(by=['CITY','index']).head(10))"
   ]
  },
  {
   "cell_type": "markdown",
   "id": "072fe01a",
   "metadata": {},
   "source": [
    "In this data set, the row where `'index'` is 158 does not include appopriate values thus you can remvoe it.\n",
    "\n",
    "See the `\"index\"` field of every pairs of rows for every city; one of those rows have the value of less than 158 and the other rows have the value of greater than 158. Also all other values such as `\"ANN\"` are the same.\n",
    "\n",
    "Assume that this data set includes two tables with the same rows in different orders. The first table spans between line 1 and line 157 in the original CSV file, and the second table spans between line 158 and line 318. You only need the first one.\n",
    "\n",
    "Construct a new DataFrame that is based on the original data set for the sunshine information with the following changes:\n",
    "\n",
    "* Include all rows of the first 157 records.\n",
    "* Rename the `CITY` column `City-State`.\n",
    "* Change the index column from the `index` column to the `City-State` column.\n",
    "* Trim off the unnecessary columns: `index` and `\"Unnamed: 14\"`."
   ]
  },
  {
   "cell_type": "code",
   "execution_count": 22,
   "id": "15aab4b1",
   "metadata": {},
   "outputs": [],
   "source": [
    "df_sunshine = df_sunshine_original.iloc[1:158]\n",
    "\n",
    "df_sunshine.rename(columns={'CITY': 'City-State'}, inplace=True)\n",
    "\n",
    "df_sunshine.set_index(['City-State'], inplace=True)\n",
    "\n",
    "del df_sunshine['index']\n",
    "del df_sunshine['Unnamed: 14']"
   ]
  },
  {
   "cell_type": "markdown",
   "id": "d2afc274",
   "metadata": {},
   "source": [
    "Check rows that include a null value in any field:"
   ]
  },
  {
   "cell_type": "code",
   "execution_count": 23,
   "id": "65d350ff",
   "metadata": {},
   "outputs": [
    {
     "name": "stdout",
     "output_type": "stream",
     "text": [
      "               JAN  FEB  MAR  APR  MAY  JUN JUL AUG SEP OCT NOV  DEC  ANN\n",
      "City-State                                                               \n",
      "TUPELO,MS      NaN  NaN  NaN  NaN  NaN  NaN  66  59  61  67  57   45  NaN\n",
      "CINCINNATI,OH  NaN  NaN  NaN  NaN   47   70  85  76  77  50  44   30  NaN\n",
      "ALLENTOWN,PA   NaN  NaN  NaN  NaN  NaN  NaN  90  93  82  52  47  NaN  NaN\n",
      "ABERDEEN,SD    NaN   54   58   63   65   66  74  78  68  48  21  NaN  NaN\n",
      "ELKINS,WV      NaN  NaN  NaN  NaN  NaN  NaN  69  50  52  43  31   18  NaN\n"
     ]
    }
   ],
   "source": [
    "print(df_sunshine[df_sunshine.isna().any(axis=1)])"
   ]
  },
  {
   "cell_type": "markdown",
   "id": "c673f6bc",
   "metadata": {},
   "source": [
    "There are 5 rows which constitutes ~3.2% of the whole DataFrame. Because these rows seem almost impossible to find appropriate values to fill in the null fields, you should discard these 5 records."
   ]
  },
  {
   "cell_type": "code",
   "execution_count": 24,
   "id": "73b0d6d4",
   "metadata": {},
   "outputs": [],
   "source": [
    "df_sunshine.dropna(inplace=True)"
   ]
  },
  {
   "cell_type": "code",
   "execution_count": 25,
   "id": "46ca0160",
   "metadata": {},
   "outputs": [],
   "source": [
    "del df_sunshine['ANN']"
   ]
  },
  {
   "cell_type": "markdown",
   "id": "72228609",
   "metadata": {},
   "source": [
    "Convert entries in the numeric columns to numeric data type:"
   ]
  },
  {
   "cell_type": "code",
   "execution_count": 26,
   "id": "ddfc5a41",
   "metadata": {},
   "outputs": [
    {
     "name": "stdout",
     "output_type": "stream",
     "text": [
      "               JAN  FEB  MAR  APR  MAY  JUN  JUL  AUG  SEP  OCT  NOV  DEC\n",
      "City-State                                                               \n",
      "MONTGOMERY,AL   47   55   58   64   63   64   61   61   59   63   55   49\n",
      "ANCHORAGE,AK    43   46   51   50   51   46   43   43   41   36   35   33\n",
      "JUNEAU,AK       39   35   38   42   44   37   33   35   27   21   26   21\n",
      "NOME,AK         38   56   54   52   52   43   39   34   38   35   30   36\n",
      "FLAGSTAFF,AZ    71   73   72   82   83   88   74   75   79   77   72   76\n"
     ]
    }
   ],
   "source": [
    "cols_numeric = [\n",
    "    'JAN','FEB','MAR','APR','MAY','JUN','JUL','AUG','SEP','OCT','NOV','DEC'\n",
    "    ]\n",
    "\n",
    "df_sunshine[cols_numeric] = df_sunshine[cols_numeric]\\\n",
    "    .apply(pd.to_numeric, errors='coerce')\n",
    "\n",
    "print(df_sunshine.head())"
   ]
  },
  {
   "cell_type": "code",
   "execution_count": 27,
   "id": "3d975007",
   "metadata": {},
   "outputs": [
    {
     "name": "stdout",
     "output_type": "stream",
     "text": [
      "              JAN         FEB         MAR         APR         MAY         JUN  \\\n",
      "count  152.000000  152.000000  152.000000  152.000000  152.000000  152.000000   \n",
      "mean    51.039474   56.013158   59.164474   61.625000   62.921053   66.302632   \n",
      "std     11.677159    9.966159   10.116830   10.474701   10.261822   11.132578   \n",
      "min     20.000000   28.000000   31.000000   36.000000   37.000000   31.000000   \n",
      "25%     43.000000   50.000000   52.000000   55.000000   58.000000   61.000000   \n",
      "50%     51.000000   56.000000   59.000000   59.000000   61.000000   65.500000   \n",
      "75%     58.000000   62.000000   65.000000   67.000000   66.250000   72.000000   \n",
      "max     80.000000   83.000000   87.000000   92.000000   94.000000   95.000000   \n",
      "\n",
      "              JUL         AUG         SEP         OCT         NOV         DEC  \n",
      "count  152.000000  152.000000  152.000000  152.000000  152.000000  152.000000  \n",
      "mean    68.848684   67.315789   64.217105   60.184211   50.105263   47.309211  \n",
      "std     11.375447   11.030614   10.945934   12.026693   13.457885   13.877531  \n",
      "min     30.000000   30.000000   27.000000   21.000000   21.000000   16.000000  \n",
      "25%     64.000000   62.000000   58.750000   54.000000   41.000000   37.750000  \n",
      "50%     69.000000   67.000000   63.000000   60.000000   50.500000   48.000000  \n",
      "75%     76.000000   75.000000   70.000000   67.000000   59.000000   56.000000  \n",
      "max     97.000000   96.000000   95.000000   88.000000   83.000000   79.000000  \n"
     ]
    }
   ],
   "source": [
    "print(df_sunshine.describe())"
   ]
  },
  {
   "cell_type": "markdown",
   "id": "26dae6c2",
   "metadata": {},
   "source": [
    "All the maximum and minimum values look reasonable. For example, there was a city where the sunshine hours were only 16 hours in December, whereas another city observed 97 sunshine hours in July. Remember, the United States is located in the northern hemisphere, and day time is longer in summer.\n",
    "\n",
    "Take a look at the cities of the highest sunshine hours in July and the lowest hours in December:"
   ]
  },
  {
   "cell_type": "code",
   "execution_count": 28,
   "id": "e513e06a",
   "metadata": {},
   "outputs": [
    {
     "name": "stdout",
     "output_type": "stream",
     "text": [
      "               JUL  DEC\n",
      "City-State             \n",
      "SACRAMENTO,CA   97   47\n",
      "QUILLAYUTE,WA   42   16\n"
     ]
    }
   ],
   "source": [
    "print(df_sunshine.query('JUL == 97.0 | DEC == 16.0')[['JUL','DEC']])"
   ]
  },
  {
   "cell_type": "code",
   "execution_count": 29,
   "id": "0ec1b23e",
   "metadata": {},
   "outputs": [],
   "source": [
    "del df_sunshine_original"
   ]
  },
  {
   "cell_type": "markdown",
   "id": "1b940571",
   "metadata": {},
   "source": [
    "### 3.2 &emsp; Data Set 2: Photovoltaic"
   ]
  },
  {
   "cell_type": "code",
   "execution_count": 30,
   "id": "f9bd619c",
   "metadata": {},
   "outputs": [
    {
     "name": "stdout",
     "output_type": "stream",
     "text": [
      "          Longitude   Latitude    AC     DC          County-State\n",
      "case_id                                                          \n",
      "406374  -149.789413  61.587349   6.0    8.4  MATANUSKA-SUSITNA,AK\n",
      "405016  -162.553146  66.838470   1.7    3.4   NORTHWEST ARCTIC,AK\n",
      "401476   -87.838394  34.833809  75.0  100.2         LAUDERDALE,AL\n",
      "401865   -85.729469  31.331732  10.6   12.7               DALE,AL\n",
      "401866   -85.940590  33.626301   7.4    9.7            CALHOUN,AL\n"
     ]
    }
   ],
   "source": [
    "df_photovoltaic = df_photovoltaic_original[[\n",
    "    'case_id', 'p_county', 'p_state', 'xlong', 'ylat', 'p_cap_ac', 'p_cap_dc'\n",
    "    ]].set_index('case_id')\n",
    "\n",
    "df_photovoltaic.rename(\n",
    "    columns={\n",
    "        'xlong':    'Longitude',\n",
    "        'ylat':     'Latitude',\n",
    "        'p_cap_ac': 'AC',\n",
    "        'p_cap_dc': 'DC'\n",
    "        },\n",
    "    inplace=True\n",
    "    )\n",
    "\n",
    "df_photovoltaic['County-State'] = df_photovoltaic['p_county'].str.upper() \\\n",
    "    + ',' +  df_photovoltaic['p_state']\n",
    "\n",
    "del df_photovoltaic['p_county']\n",
    "del df_photovoltaic['p_state']\n",
    "del df_photovoltaic_original\n",
    "\n",
    "print(df_photovoltaic.head())"
   ]
  },
  {
   "cell_type": "code",
   "execution_count": 31,
   "id": "a9bd2575",
   "metadata": {},
   "outputs": [],
   "source": [
    "df_photovoltaic_lng_lat = df_photovoltaic[['County-State','Longitude','Latitude']]\n",
    "\n",
    "del df_photovoltaic['Longitude']\n",
    "del df_photovoltaic['Latitude']"
   ]
  },
  {
   "cell_type": "code",
   "execution_count": 32,
   "id": "9d1b93de",
   "metadata": {},
   "outputs": [
    {
     "name": "stdout",
     "output_type": "stream",
     "text": [
      "                 AC     DC\n",
      "County-State              \n",
      "ACCOMACK,VA    84.3  110.0\n",
      "ADA,ID         60.0   80.6\n",
      "ADAIR,IA       25.0   31.1\n",
      "ADAMS,CO      126.9  159.8\n",
      "ADAMS,IL        1.5    1.8\n"
     ]
    }
   ],
   "source": [
    "print(df_photovoltaic.groupby('County-State').sum().head())"
   ]
  },
  {
   "cell_type": "code",
   "execution_count": 33,
   "id": "42e1c8e0",
   "metadata": {},
   "outputs": [
    {
     "name": "stdout",
     "output_type": "stream",
     "text": [
      "  County-State    AC     DC   Longitude   Latitude\n",
      "0  ACCOMACK,VA  84.3  110.0  -75.586983  37.940174\n",
      "1  ACCOMACK,VA  84.3  110.0  -75.468468  37.926327\n",
      "2       ADA,ID  60.0   80.6 -116.327415  43.438301\n",
      "3       ADA,ID  60.0   80.6 -116.289497  43.468910\n",
      "4     ADAIR,IA  25.0   31.1  -94.280495  41.459377\n"
     ]
    }
   ],
   "source": [
    "df_photovoltaic = pd.merge(\n",
    "    df_photovoltaic.groupby('County-State').sum(),\n",
    "    df_photovoltaic_lng_lat,\n",
    "    on='County-State', how='inner'\n",
    "    )\n",
    "\n",
    "print(df_photovoltaic.head())"
   ]
  },
  {
   "cell_type": "code",
   "execution_count": 34,
   "id": "17a05850",
   "metadata": {},
   "outputs": [],
   "source": [
    "df_photovoltaic = df_photovoltaic\\\n",
    "    .sort_values('County-State')\\\n",
    "    .drop_duplicates('County-State')"
   ]
  },
  {
   "cell_type": "code",
   "execution_count": 35,
   "id": "c7906305",
   "metadata": {},
   "outputs": [],
   "source": [
    "df_photovoltaic['Current'] = df_photovoltaic['AC'] + df_photovoltaic['DC'] "
   ]
  },
  {
   "cell_type": "code",
   "execution_count": 36,
   "id": "4cf762bf",
   "metadata": {},
   "outputs": [
    {
     "name": "stdout",
     "output_type": "stream",
     "text": [
      "   County-State     AC     DC   Longitude   Latitude  Current\n",
      "0   ACCOMACK,VA   84.3  110.0  -75.586983  37.940174    194.3\n",
      "2        ADA,ID   60.0   80.6 -116.327415  43.438301    140.6\n",
      "4      ADAIR,IA   25.0   31.1  -94.280495  41.459377     56.1\n",
      "26     ADAMS,CO  126.9  159.8 -104.973793  39.826149    286.7\n",
      "27     ADAMS,IL    1.5    1.8  -91.389252  39.856396      3.3 \n",
      " (1100, 6)\n"
     ]
    }
   ],
   "source": [
    "print(\n",
    "    df_photovoltaic.head(),\n",
    "    \"\\n\",\n",
    "    df_photovoltaic.shape\n",
    "    )"
   ]
  },
  {
   "cell_type": "code",
   "execution_count": 37,
   "id": "c33e6561",
   "metadata": {},
   "outputs": [
    {
     "data": {
      "application/vnd.microsoft.datawrangler.viewer.v0+json": {
       "columns": [
        {
         "name": "index",
         "rawType": "object",
         "type": "string"
        },
        {
         "name": "AC",
         "rawType": "float64",
         "type": "float"
        },
        {
         "name": "DC",
         "rawType": "float64",
         "type": "float"
        },
        {
         "name": "Longitude",
         "rawType": "float64",
         "type": "float"
        },
        {
         "name": "Latitude",
         "rawType": "float64",
         "type": "float"
        },
        {
         "name": "Current",
         "rawType": "float64",
         "type": "float"
        }
       ],
       "ref": "30b36bda-bda3-46d1-a9da-0a6122e5921d",
       "rows": [
        [
         "count",
         "1100.0",
         "1100.0",
         "1100.0",
         "1100.0",
         "1100.0"
        ],
        [
         "mean",
         "90.13272727272727",
         "112.66418181818182",
         "-89.51875976090909",
         "37.99145724181819",
         "202.79690909090908"
        ],
        [
         "std",
         "257.4943346140693",
         "316.0622679242595",
         "13.993775119872819",
         "4.952132134260207",
         "573.2372055927527"
        ],
        [
         "min",
         "0.3",
         "1.0",
         "-162.553146",
         "19.901075",
         "1.8"
        ],
        [
         "25%",
         "4.5",
         "5.7",
         "-96.0295965",
         "34.41446",
         "10.174999999999999"
        ],
        [
         "50%",
         "20.0",
         "26.9",
         "-85.819866",
         "38.5468045",
         "47.25"
        ],
        [
         "75%",
         "80.0",
         "104.075",
         "-79.19977975",
         "41.75372425",
         "185.25"
        ],
        [
         "max",
         "3690.6",
         "4498.2",
         "-68.364952",
         "66.83847",
         "8180.2"
        ]
       ],
       "shape": {
        "columns": 5,
        "rows": 8
       }
      },
      "text/html": [
       "<div>\n",
       "<style scoped>\n",
       "    .dataframe tbody tr th:only-of-type {\n",
       "        vertical-align: middle;\n",
       "    }\n",
       "\n",
       "    .dataframe tbody tr th {\n",
       "        vertical-align: top;\n",
       "    }\n",
       "\n",
       "    .dataframe thead th {\n",
       "        text-align: right;\n",
       "    }\n",
       "</style>\n",
       "<table border=\"1\" class=\"dataframe\">\n",
       "  <thead>\n",
       "    <tr style=\"text-align: right;\">\n",
       "      <th></th>\n",
       "      <th>AC</th>\n",
       "      <th>DC</th>\n",
       "      <th>Longitude</th>\n",
       "      <th>Latitude</th>\n",
       "      <th>Current</th>\n",
       "    </tr>\n",
       "  </thead>\n",
       "  <tbody>\n",
       "    <tr>\n",
       "      <th>count</th>\n",
       "      <td>1100.000000</td>\n",
       "      <td>1100.000000</td>\n",
       "      <td>1100.000000</td>\n",
       "      <td>1100.000000</td>\n",
       "      <td>1100.000000</td>\n",
       "    </tr>\n",
       "    <tr>\n",
       "      <th>mean</th>\n",
       "      <td>90.132727</td>\n",
       "      <td>112.664182</td>\n",
       "      <td>-89.518760</td>\n",
       "      <td>37.991457</td>\n",
       "      <td>202.796909</td>\n",
       "    </tr>\n",
       "    <tr>\n",
       "      <th>std</th>\n",
       "      <td>257.494335</td>\n",
       "      <td>316.062268</td>\n",
       "      <td>13.993775</td>\n",
       "      <td>4.952132</td>\n",
       "      <td>573.237206</td>\n",
       "    </tr>\n",
       "    <tr>\n",
       "      <th>min</th>\n",
       "      <td>0.300000</td>\n",
       "      <td>1.000000</td>\n",
       "      <td>-162.553146</td>\n",
       "      <td>19.901075</td>\n",
       "      <td>1.800000</td>\n",
       "    </tr>\n",
       "    <tr>\n",
       "      <th>25%</th>\n",
       "      <td>4.500000</td>\n",
       "      <td>5.700000</td>\n",
       "      <td>-96.029596</td>\n",
       "      <td>34.414460</td>\n",
       "      <td>10.175000</td>\n",
       "    </tr>\n",
       "    <tr>\n",
       "      <th>50%</th>\n",
       "      <td>20.000000</td>\n",
       "      <td>26.900000</td>\n",
       "      <td>-85.819866</td>\n",
       "      <td>38.546805</td>\n",
       "      <td>47.250000</td>\n",
       "    </tr>\n",
       "    <tr>\n",
       "      <th>75%</th>\n",
       "      <td>80.000000</td>\n",
       "      <td>104.075000</td>\n",
       "      <td>-79.199780</td>\n",
       "      <td>41.753724</td>\n",
       "      <td>185.250000</td>\n",
       "    </tr>\n",
       "    <tr>\n",
       "      <th>max</th>\n",
       "      <td>3690.600000</td>\n",
       "      <td>4498.200000</td>\n",
       "      <td>-68.364952</td>\n",
       "      <td>66.838470</td>\n",
       "      <td>8180.200000</td>\n",
       "    </tr>\n",
       "  </tbody>\n",
       "</table>\n",
       "</div>"
      ],
      "text/plain": [
       "                AC           DC    Longitude     Latitude      Current\n",
       "count  1100.000000  1100.000000  1100.000000  1100.000000  1100.000000\n",
       "mean     90.132727   112.664182   -89.518760    37.991457   202.796909\n",
       "std     257.494335   316.062268    13.993775     4.952132   573.237206\n",
       "min       0.300000     1.000000  -162.553146    19.901075     1.800000\n",
       "25%       4.500000     5.700000   -96.029596    34.414460    10.175000\n",
       "50%      20.000000    26.900000   -85.819866    38.546805    47.250000\n",
       "75%      80.000000   104.075000   -79.199780    41.753724   185.250000\n",
       "max    3690.600000  4498.200000   -68.364952    66.838470  8180.200000"
      ]
     },
     "execution_count": 37,
     "metadata": {},
     "output_type": "execute_result"
    }
   ],
   "source": [
    "df_photovoltaic.describe()"
   ]
  },
  {
   "cell_type": "markdown",
   "id": "e7e8dd03",
   "metadata": {},
   "source": [
    "### 3.3 &emsp; Dataset 3: Land Values"
   ]
  },
  {
   "cell_type": "markdown",
   "id": "0dfa51be",
   "metadata": {},
   "source": [
    "In this original data set, there are many columns of historical prices of the average home values of 3-bedroom houses but you only need the latest values: `\"2025-05-31\"`.\n",
    "\n",
    "See the first few rows of the original data set while excluding all the other columns for historical home values:"
   ]
  },
  {
   "cell_type": "code",
   "execution_count": 38,
   "id": "5747f0eb",
   "metadata": {},
   "outputs": [
    {
     "name": "stdout",
     "output_type": "stream",
     "text": [
      "          SizeRank     Land Value    County-State      City-State\n",
      "RegionID                                                         \n",
      "6181             0  840048.900964       QUEENS,NY     NEW YORK,NY\n",
      "12447            1  964249.977821  LOS ANGELES,CA  LOS ANGELES,CA\n",
      "39051            2  253134.060059       HARRIS,TX      HOUSTON,TX\n",
      "17426            3  336756.496352         COOK,IL      CHICAGO,IL\n",
      "6915             4  235986.092899        BEXAR,TX  SAN ANTONIO,TX\n"
     ]
    }
   ],
   "source": [
    "df_landvalue = df_landvalue_original.copy()[[\n",
    "    'RegionID', 'SizeRank', 'State', 'RegionName', 'CountyName', '2025-05-31'\n",
    "    ]].set_index('RegionID')\n",
    "\n",
    "df_landvalue.rename(columns={'2025-05-31': 'Land Value'}, inplace=True)\n",
    "\n",
    "df_landvalue['County-State']\\\n",
    "    = df_landvalue['CountyName']\\\n",
    "        .str.replace(r'\\s* County$', '', regex=True)\\\n",
    "        .str.upper() + ',' + df_landvalue['State']\n",
    "del df_landvalue['CountyName']\n",
    "\n",
    "df_landvalue['City-State'] \\\n",
    "    = df_landvalue['RegionName'].str.upper() + ',' + df_landvalue['State']\n",
    "del df_landvalue['RegionName']\n",
    "\n",
    "del df_landvalue['State']\n",
    "\n",
    "del df_landvalue_original\n",
    "print(df_landvalue.head())"
   ]
  },
  {
   "cell_type": "code",
   "execution_count": 39,
   "id": "454fbd0b",
   "metadata": {},
   "outputs": [
    {
     "name": "stdout",
     "output_type": "stream",
     "text": [
      "<class 'pandas.core.frame.DataFrame'>\n",
      "Index: 15711 entries, 6181 to 52600\n",
      "Data columns (total 4 columns):\n",
      " #   Column        Non-Null Count  Dtype  \n",
      "---  ------        --------------  -----  \n",
      " 0   SizeRank      15711 non-null  int64  \n",
      " 1   Land Value    15711 non-null  float64\n",
      " 2   County-State  15711 non-null  object \n",
      " 3   City-State    15711 non-null  object \n",
      "dtypes: float64(1), int64(1), object(2)\n",
      "memory usage: 613.7+ KB\n"
     ]
    }
   ],
   "source": [
    "df_landvalue.info()"
   ]
  },
  {
   "cell_type": "markdown",
   "id": "07653345",
   "metadata": {},
   "source": [
    "### 3.4 &emsp; Loading and optimizing the city data set"
   ]
  },
  {
   "cell_type": "code",
   "execution_count": 40,
   "id": "3c1ed8b1",
   "metadata": {},
   "outputs": [
    {
     "name": "stdout",
     "output_type": "stream",
     "text": [
      "          city state_id  county_name      lat       lng  population  density\n",
      "0     New York       NY       Queens  40.6943  -73.9249    18832416  10943.7\n",
      "1  Los Angeles       CA  Los Angeles  34.1141 -118.4068    11885717   3165.7\n",
      "2      Chicago       IL         Cook  41.8375  -87.6866     8489066   4590.3\n",
      "3        Miami       FL   Miami-Dade  25.7840  -80.2101     6113982   4791.1\n",
      "4      Houston       TX       Harris  29.7860  -95.3885     6046392   1386.2\n"
     ]
    }
   ],
   "source": [
    "df_city = df_city_original.copy()\\\n",
    "    [['city','state_id','county_name','lat','lng','population','density']]\n",
    "\n",
    "print(df_city.head())"
   ]
  },
  {
   "cell_type": "code",
   "execution_count": 41,
   "id": "6e6b3ed6",
   "metadata": {},
   "outputs": [],
   "source": [
    "df_city['City-State'] \\\n",
    "    = df_city['city'].str.upper()        + ',' + df_city['state_id']\n",
    "df_city['County-State'] \\\n",
    "    = df_city['county_name'].str.upper() + ',' + df_city['state_id']\n",
    "\n",
    "del df_city['city']\n",
    "del df_city['county_name']\n",
    "del df_city['state_id']"
   ]
  },
  {
   "cell_type": "code",
   "execution_count": 42,
   "id": "537071ed",
   "metadata": {},
   "outputs": [
    {
     "name": "stdout",
     "output_type": "stream",
     "text": [
      "City-State\n",
      "OAKWOOD,OH           3\n",
      "SAN ANTONIO,PR       3\n",
      "OAKLAND,PA           3\n",
      "GEORGETOWN,PA        3\n",
      "MIDWAY,FL            3\n",
      "                    ..\n",
      "BOUTTE,LA            1\n",
      "BEDFORD HILLS,NY     1\n",
      "BOWLING GREEN,FL     1\n",
      "PIRU,CA              1\n",
      "FALCON VILLAGE,TX    1\n",
      "Name: count, Length: 31183, dtype: int64\n"
     ]
    }
   ],
   "source": [
    "print(df_city['City-State'].value_counts())"
   ]
  },
  {
   "cell_type": "code",
   "execution_count": 43,
   "id": "143f4b24",
   "metadata": {},
   "outputs": [
    {
     "name": "stdout",
     "output_type": "stream",
     "text": [
      "           lat      lng  population  density  City-State   County-State\n",
      "4258   39.7202 -84.1734        9480   1667.9  OAKWOOD,OH  MONTGOMERY,OH\n",
      "8100   41.3669 -81.5036        3526    394.7  OAKWOOD,OH    CUYAHOGA,OH\n",
      "20508  41.0927 -84.3747         443    243.5  OAKWOOD,OH    PAULDING,OH\n"
     ]
    }
   ],
   "source": [
    "print(df_city.query('`City-State` == \"OAKWOOD,OH\"'))"
   ]
  },
  {
   "cell_type": "code",
   "execution_count": 44,
   "id": "a0dc9842",
   "metadata": {},
   "outputs": [
    {
     "name": "stdout",
     "output_type": "stream",
     "text": [
      "          lat      lng  population  density  City-State   County-State\n",
      "4258  39.7202 -84.1734        9480   1667.9  OAKWOOD,OH  MONTGOMERY,OH\n"
     ]
    }
   ],
   "source": [
    "df_city = df_city\\\n",
    "    .sort_values('population', ascending=False)\\\n",
    "    .drop_duplicates('City-State')\n",
    "\n",
    "print(df_city.query('`City-State` == \"OAKWOOD,OH\"'))"
   ]
  },
  {
   "cell_type": "code",
   "execution_count": 45,
   "id": "97f16417",
   "metadata": {},
   "outputs": [
    {
     "name": "stdout",
     "output_type": "stream",
     "text": [
      "City-State\n",
      "NEW YORK,NY          1\n",
      "SKELLYTOWN,TX        1\n",
      "PETER,UT             1\n",
      "MAMMOTH,PA           1\n",
      "ELMORA,PA            1\n",
      "                    ..\n",
      "ESTILL,SC            1\n",
      "SAND HILL,PA         1\n",
      "MAUNAWILI,HI         1\n",
      "HANAPEPE,HI          1\n",
      "FALCON VILLAGE,TX    1\n",
      "Name: count, Length: 31183, dtype: int64\n"
     ]
    }
   ],
   "source": [
    "print(df_city['City-State'].value_counts())"
   ]
  },
  {
   "cell_type": "markdown",
   "id": "5186671d",
   "metadata": {},
   "source": [
    "Now you can use the `City-State` column for the index of the city DataFrame."
   ]
  },
  {
   "cell_type": "code",
   "execution_count": 46,
   "id": "1d5d96f0",
   "metadata": {},
   "outputs": [],
   "source": [
    "df_city.set_index(['City-State'], inplace=True)"
   ]
  },
  {
   "cell_type": "code",
   "execution_count": 47,
   "id": "540b81fc",
   "metadata": {},
   "outputs": [
    {
     "name": "stdout",
     "output_type": "stream",
     "text": [
      "                    lat       lng  population  density    County-State\n",
      "City-State                                                            \n",
      "NEW YORK,NY     40.6943  -73.9249    18832416  10943.7       QUEENS,NY\n",
      "LOS ANGELES,CA  34.1141 -118.4068    11885717   3165.7  LOS ANGELES,CA\n",
      "CHICAGO,IL      41.8375  -87.6866     8489066   4590.3         COOK,IL\n",
      "MIAMI,FL        25.7840  -80.2101     6113982   4791.1   MIAMI-DADE,FL\n",
      "HOUSTON,TX      29.7860  -95.3885     6046392   1386.2       HARRIS,TX\n"
     ]
    }
   ],
   "source": [
    "print(df_city.head())"
   ]
  },
  {
   "cell_type": "markdown",
   "id": "51b57578",
   "metadata": {},
   "source": [
    "## 4 &emsp; Combining Four DataFrames into One"
   ]
  },
  {
   "cell_type": "code",
   "execution_count": 48,
   "id": "de2df7f6",
   "metadata": {},
   "outputs": [
    {
     "name": "stdout",
     "output_type": "stream",
     "text": [
      "   SizeRank     Land Value  County-State     City-State    AC    DC  \\\n",
      "0      97.0  474416.339219        ADA,ID       BOISE,ID  60.0  80.6   \n",
      "1     246.0  314400.663535     ALBANY,NY      ALBANY,NY  50.8  62.4   \n",
      "2      31.0  237749.893040  ALLEGHENY,PA  PITTSBURGH,PA   3.0   3.6   \n",
      "3      71.0  227793.615240      ALLEN,IN  FORT WAYNE,IN   NaN   NaN   \n",
      "4    3161.0  191528.977768     ALPENA,MI      ALPENA,MI   NaN   NaN   \n",
      "\n",
      "    Longitude   Latitude  Current  JAN  ...  MAR  APR  MAY  JUN  JUL  AUG  \\\n",
      "0 -116.327415  43.438301    140.6   32  ...   66   68   74   76   85   82   \n",
      "1  -73.748558  42.764828    113.2   46  ...   51   55   53   55   62   58   \n",
      "2  -80.254898  40.481522      6.6   28  ...   42   46   48   52   54   51   \n",
      "3         NaN        NaN      NaN   50  ...   57   63   69   74   76   75   \n",
      "4         NaN        NaN      NaN   36  ...   51   55   59   62   66   60   \n",
      "\n",
      "   SEP  OCT  NOV  DEC  \n",
      "0   80   69   41   34  \n",
      "1   54   46   33   36  \n",
      "2   52   46   31   23  \n",
      "3   67   60   40   36  \n",
      "4   52   41   28   25  \n",
      "\n",
      "[5 rows x 21 columns]\n",
      "(133, 21)\n"
     ]
    }
   ],
   "source": [
    "df_solar = df_landvalue.copy()\n",
    "\n",
    "df_solar = pd.merge(df_solar, df_photovoltaic, on='County-State', how='outer')\n",
    "df_solar = pd.merge(df_solar, df_sunshine,     on='City-State',   how='inner')\n",
    "\n",
    "print(df_solar.head())\n",
    "\n",
    "print(df_solar.shape)"
   ]
  },
  {
   "cell_type": "code",
   "execution_count": 49,
   "id": "808f7b31",
   "metadata": {},
   "outputs": [
    {
     "name": "stdout",
     "output_type": "stream",
     "text": [
      "   JAN  FEB  MAR  APR  MAY  JUN  JUL  AUG  SEP  OCT  NOV  DEC     Land Value  \\\n",
      "0   32   49   66   68   74   76   85   82   80   69   41   34  474416.339219   \n",
      "1   46   52   51   55   53   55   62   58   54   46   33   36  314400.663535   \n",
      "2   28   37   42   46   48   52   54   51   52   46   31   23  237749.893040   \n",
      "3   50   55   57   63   69   74   76   75   67   60   40   36  227793.615240   \n",
      "4   36   43   51   55   59   62   66   60   52   41   28   25  191528.977768   \n",
      "\n",
      "    Longitude   Latitude  Current  \n",
      "0 -116.327415  43.438301    140.6  \n",
      "1  -73.748558  42.764828    113.2  \n",
      "2  -80.254898  40.481522      6.6  \n",
      "3         NaN        NaN      NaN  \n",
      "4         NaN        NaN      NaN  \n"
     ]
    }
   ],
   "source": [
    "df_solar_ml = pd.DataFrame()\n",
    "df_solar_ml = df_solar[[\n",
    "    'JAN','FEB','MAR','APR','MAY','JUN','JUL','AUG','SEP','OCT','NOV','DEC',\n",
    "    'Land Value', 'Longitude', 'Latitude', 'Current'\n",
    "    ]]\n",
    " \n",
    "print(df_solar_ml.head())"
   ]
  },
  {
   "cell_type": "code",
   "execution_count": 50,
   "id": "f6f74926",
   "metadata": {},
   "outputs": [
    {
     "name": "stdout",
     "output_type": "stream",
     "text": [
      "df_solar_ml         ... 133\n",
      "Current is not null ... 84\n",
      "Current is     null ... 49\n"
     ]
    }
   ],
   "source": [
    "print(\"df_solar_ml         ...\", df_solar_ml.shape[0])\n",
    "print(\"Current is not null ...\", df_solar_ml.query('Current.notnull()').shape[0])\n",
    "print(\"Current is     null ...\", df_solar_ml.query('Current.isnull()' ).shape[0])"
   ]
  },
  {
   "cell_type": "code",
   "execution_count": 51,
   "id": "16ae1e5e",
   "metadata": {},
   "outputs": [
    {
     "name": "stdout",
     "output_type": "stream",
     "text": [
      "<class 'pandas.core.frame.DataFrame'>\n",
      "RangeIndex: 133 entries, 0 to 132\n",
      "Data columns (total 16 columns):\n",
      " #   Column      Non-Null Count  Dtype  \n",
      "---  ------      --------------  -----  \n",
      " 0   JAN         133 non-null    int64  \n",
      " 1   FEB         133 non-null    int64  \n",
      " 2   MAR         133 non-null    int64  \n",
      " 3   APR         133 non-null    int64  \n",
      " 4   MAY         133 non-null    int64  \n",
      " 5   JUN         133 non-null    int64  \n",
      " 6   JUL         133 non-null    int64  \n",
      " 7   AUG         133 non-null    int64  \n",
      " 8   SEP         133 non-null    int64  \n",
      " 9   OCT         133 non-null    int64  \n",
      " 10  NOV         133 non-null    int64  \n",
      " 11  DEC         133 non-null    int64  \n",
      " 12  Land Value  133 non-null    float64\n",
      " 13  Longitude   84 non-null     float64\n",
      " 14  Latitude    84 non-null     float64\n",
      " 15  Current     84 non-null     float64\n",
      "dtypes: float64(4), int64(12)\n",
      "memory usage: 16.8 KB\n"
     ]
    }
   ],
   "source": [
    "df_solar_ml.info()"
   ]
  },
  {
   "cell_type": "markdown",
   "id": "81933965",
   "metadata": {},
   "source": [
    "## 5 &emsp; Splitting the DataFrame for Training and Testing"
   ]
  },
  {
   "cell_type": "code",
   "execution_count": 52,
   "id": "f7630d7b",
   "metadata": {},
   "outputs": [],
   "source": [
    "X_train, X_test, y_train, y_test = train_test_split(\n",
    "    df_solar_ml.query('Current.notnull()').drop(['Current'], axis=1),\n",
    "    df_solar_ml.query('Current.notnull()')['Current'],\n",
    "    random_state=42\n",
    "    )\n",
    "\n",
    "X_predict \\\n",
    "    = df_solar_ml.query('Current.isnull()' ).drop(['Current'], axis=1)"
   ]
  },
  {
   "cell_type": "code",
   "execution_count": 53,
   "id": "1e82cbb4",
   "metadata": {},
   "outputs": [
    {
     "name": "stdout",
     "output_type": "stream",
     "text": [
      "   JAN  FEB  MAR  APR  MAY  JUN  JUL  AUG  SEP  OCT  NOV  DEC     Land Value  \\\n",
      "3   50   55   57   63   69   74   76   75   67   60   40   36  227793.615240   \n",
      "4   36   43   51   55   59   62   66   60   52   41   28   25  191528.977768   \n",
      "5   43   46   51   50   51   46   43   43   41   36   35   33  392428.040683   \n",
      "7   50   58   55   57   55   60   63   61   57   56   50   47  206499.969440   \n",
      "8   38   55   63   64   68   74   82   80   78   68   43   36  317148.241331   \n",
      "\n",
      "   Longitude  Latitude  \n",
      "3        NaN       NaN  \n",
      "4        NaN       NaN  \n",
      "5        NaN       NaN  \n",
      "7        NaN       NaN  \n",
      "8        NaN       NaN  \n"
     ]
    }
   ],
   "source": [
    "print(X_predict.head())"
   ]
  },
  {
   "cell_type": "markdown",
   "id": "c07a53f7",
   "metadata": {},
   "source": [
    "## 6 &emsp; Predicting Current by Using Logistic Regression "
   ]
  },
  {
   "cell_type": "code",
   "execution_count": null,
   "id": "1063480e",
   "metadata": {},
   "outputs": [],
   "source": [
    "from sklearn.metrics import mean_squared_error\n",
    "\n",
    "from sklearn.pipeline      import Pipeline\n",
    "from sklearn.preprocessing import StandardScaler\n",
    "from sklearn.linear_model  import LinearRegression, Ridge\n",
    "from sklearn.neighbors     import KNeighborsRegressor\n",
    "from sklearn.tree          import DecisionTreeRegressor\n",
    "from sklearn.svm           import SVR\n",
    "\n",
    "from sklearn.ensemble import VotingRegressor\n",
    "\n",
    "from sklearn.inspection import permutation_importance"
   ]
  },
  {
   "cell_type": "code",
   "execution_count": 55,
   "id": "8afb6f82",
   "metadata": {},
   "outputs": [
    {
     "name": "stdout",
     "output_type": "stream",
     "text": [
      "27,426\n"
     ]
    },
    {
     "data": {
      "application/vnd.microsoft.datawrangler.viewer.v0+json": {
       "columns": [
        {
         "name": "index",
         "rawType": "int64",
         "type": "integer"
        },
        {
         "name": "JAN",
         "rawType": "int64",
         "type": "integer"
        },
        {
         "name": "FEB",
         "rawType": "int64",
         "type": "integer"
        },
        {
         "name": "MAR",
         "rawType": "int64",
         "type": "integer"
        },
        {
         "name": "APR",
         "rawType": "int64",
         "type": "integer"
        },
        {
         "name": "MAY",
         "rawType": "int64",
         "type": "integer"
        },
        {
         "name": "JUN",
         "rawType": "int64",
         "type": "integer"
        },
        {
         "name": "JUL",
         "rawType": "int64",
         "type": "integer"
        },
        {
         "name": "AUG",
         "rawType": "int64",
         "type": "integer"
        },
        {
         "name": "SEP",
         "rawType": "int64",
         "type": "integer"
        },
        {
         "name": "OCT",
         "rawType": "int64",
         "type": "integer"
        },
        {
         "name": "NOV",
         "rawType": "int64",
         "type": "integer"
        },
        {
         "name": "DEC",
         "rawType": "int64",
         "type": "integer"
        },
        {
         "name": "Land Value",
         "rawType": "float64",
         "type": "float"
        },
        {
         "name": "Longitude",
         "rawType": "float64",
         "type": "float"
        },
        {
         "name": "Latitude",
         "rawType": "float64",
         "type": "float"
        },
        {
         "name": "Current",
         "rawType": "float64",
         "type": "float"
        },
        {
         "name": "0",
         "rawType": "float64",
         "type": "float"
        }
       ],
       "ref": "8acc3f54-8df2-4e68-8585-63dee2132584",
       "rows": [
        [
         "0",
         "59",
         "63",
         "61",
         "64",
         "66",
         "70",
         "76",
         "74",
         "66",
         "66",
         "57",
         "56",
         "204710.55498470925",
         "-97.715919",
         "37.62516",
         "2.4",
         "38.49999999999999"
        ],
        [
         "1",
         "32",
         "49",
         "66",
         "68",
         "74",
         "76",
         "85",
         "82",
         "80",
         "69",
         "41",
         "34",
         "474416.3392191775",
         "-116.327415",
         "43.438301",
         "140.6",
         "82.94000000000001"
        ],
        [
         "2",
         "28",
         "41",
         "55",
         "58",
         "63",
         "61",
         "72",
         "69",
         "64",
         "46",
         "29",
         "20",
         "544941.3433560164",
         "-122.663269",
         "45.52877",
         "3.4",
         "91.16"
        ],
        [
         "3",
         "42",
         "47",
         "52",
         "58",
         "60",
         "65",
         "64",
         "63",
         "59",
         "62",
         "47",
         "42",
         "431208.1179784197",
         "-86.746246",
         "36.24781",
         "3.4",
         "22.919999999999998"
        ],
        [
         "4",
         "42",
         "49",
         "64",
         "59",
         "62",
         "65",
         "79",
         "76",
         "69",
         "57",
         "44",
         "37",
         "322830.830077355",
         "-111.249977",
         "47.547642",
         "7.1",
         "89.64"
        ],
        [
         "5",
         "43",
         "59",
         "67",
         "69",
         "73",
         "81",
         "85",
         "83",
         "81",
         "71",
         "52",
         "39",
         "586045.0693929781",
         "-111.89605",
         "40.767033",
         "2.9000000000000004",
         "105.91999999999999"
        ],
        [
         "6",
         "38",
         "47",
         "55",
         "61",
         "64",
         "76",
         "80",
         "75",
         "69",
         "62",
         "51",
         "40",
         "209148.98910167933",
         "-97.802528",
         "26.095959",
         "421.0",
         "156.73999999999998"
        ],
        [
         "7",
         "57",
         "58",
         "53",
         "55",
         "53",
         "55",
         "62",
         "63",
         "60",
         "58",
         "47",
         "49",
         "578143.828747264",
         "-70.341583",
         "43.89035",
         "86.9",
         "113.3"
        ],
        [
         "8",
         "73",
         "73",
         "73",
         "78",
         "80",
         "82",
         "76",
         "76",
         "77",
         "80",
         "75",
         "73",
         "338840.6226942612",
         "-106.529274",
         "35.048351",
         "103.80000000000001",
         "596.4999999999999"
        ],
        [
         "9",
         "57",
         "58",
         "55",
         "56",
         "55",
         "59",
         "64",
         "61",
         "62",
         "61",
         "48",
         "51",
         "405876.8801725244",
         "-71.578194",
         "41.926773",
         "306.6",
         "74.5"
        ],
        [
         "10",
         "30",
         "38",
         "45",
         "51",
         "56",
         "61",
         "65",
         "62",
         "57",
         "44",
         "29",
         "22",
         "299672.4159629674",
         "-85.723946",
         "43.007217",
         "13.5",
         "81.66"
        ],
        [
         "11",
         "43",
         "50",
         "49",
         "55",
         "55",
         "60",
         "64",
         "62",
         "53",
         "48",
         "33",
         "33",
         "204258.9360295709",
         "-76.039909",
         "40.936161",
         "3.8",
         "62.9"
        ],
        [
         "12",
         "59",
         "62",
         "68",
         "63",
         "66",
         "67",
         "71",
         "73",
         "75",
         "67",
         "60",
         "56",
         "1178751.7192979637",
         "-157.985443",
         "21.366938",
         "643.6",
         "871.72"
        ],
        [
         "13",
         "39",
         "47",
         "50",
         "55",
         "60",
         "65",
         "69",
         "68",
         "61",
         "50",
         "35",
         "31",
         "82438.12197586686",
         "-83.200089",
         "42.377872",
         "6.8",
         "34.839999999999996"
        ],
        [
         "14",
         "36",
         "40",
         "47",
         "54",
         "58",
         "63",
         "67",
         "63",
         "56",
         "44",
         "25",
         "24",
         "235367.3662137979",
         "-77.955292",
         "43.333633",
         "168.60000000000002",
         "81.66"
        ],
        [
         "15",
         "47",
         "51",
         "50",
         "52",
         "60",
         "65",
         "69",
         "64",
         "57",
         "51",
         "37",
         "35",
         "227933.17920872036",
         "-87.888664",
         "42.936474",
         "13.2",
         "57.14000000000001"
        ],
        [
         "16",
         "47",
         "45",
         "39",
         "36",
         "40",
         "45",
         "41",
         "44",
         "47",
         "38",
         "35",
         "37",
         "531419.3697210827",
         "-155.764557",
         "19.901075",
         "60.0",
         "168.72"
        ],
        [
         "17",
         "56",
         "56",
         "56",
         "59",
         "60",
         "64",
         "68",
         "66",
         "64",
         "60",
         "48",
         "49",
         "826225.6603846875",
         "-71.047066",
         "42.30138",
         "11.3",
         "93.78"
        ],
        [
         "18",
         "58",
         "66",
         "67",
         "66",
         "63",
         "64",
         "67",
         "70",
         "70",
         "67",
         "56",
         "57",
         "362565.0891983152",
         "-104.800316",
         "41.016609",
         "300.0",
         "73.02000000000001"
        ],
        [
         "19",
         "42",
         "49",
         "48",
         "51",
         "58",
         "63",
         "65",
         "64",
         "61",
         "54",
         "36",
         "32",
         "232688.2914161257",
         "-86.014481",
         "39.85318",
         "186.60000000000002",
         "34.839999999999996"
        ],
        [
         "20",
         "53",
         "58",
         "60",
         "62",
         "63",
         "65",
         "62",
         "64",
         "60",
         "59",
         "55",
         "52",
         "278292.640183256",
         "-79.356606",
         "37.144112",
         "228.0",
         "105.36000000000001"
        ]
       ],
       "shape": {
        "columns": 17,
        "rows": 21
       }
      },
      "text/html": [
       "<div>\n",
       "<style scoped>\n",
       "    .dataframe tbody tr th:only-of-type {\n",
       "        vertical-align: middle;\n",
       "    }\n",
       "\n",
       "    .dataframe tbody tr th {\n",
       "        vertical-align: top;\n",
       "    }\n",
       "\n",
       "    .dataframe thead th {\n",
       "        text-align: right;\n",
       "    }\n",
       "</style>\n",
       "<table border=\"1\" class=\"dataframe\">\n",
       "  <thead>\n",
       "    <tr style=\"text-align: right;\">\n",
       "      <th></th>\n",
       "      <th>JAN</th>\n",
       "      <th>FEB</th>\n",
       "      <th>MAR</th>\n",
       "      <th>APR</th>\n",
       "      <th>MAY</th>\n",
       "      <th>JUN</th>\n",
       "      <th>JUL</th>\n",
       "      <th>AUG</th>\n",
       "      <th>SEP</th>\n",
       "      <th>OCT</th>\n",
       "      <th>NOV</th>\n",
       "      <th>DEC</th>\n",
       "      <th>Land Value</th>\n",
       "      <th>Longitude</th>\n",
       "      <th>Latitude</th>\n",
       "      <th>Current</th>\n",
       "      <th>0</th>\n",
       "    </tr>\n",
       "  </thead>\n",
       "  <tbody>\n",
       "    <tr>\n",
       "      <th>0</th>\n",
       "      <td>59</td>\n",
       "      <td>63</td>\n",
       "      <td>61</td>\n",
       "      <td>64</td>\n",
       "      <td>66</td>\n",
       "      <td>70</td>\n",
       "      <td>76</td>\n",
       "      <td>74</td>\n",
       "      <td>66</td>\n",
       "      <td>66</td>\n",
       "      <td>57</td>\n",
       "      <td>56</td>\n",
       "      <td>2.047106e+05</td>\n",
       "      <td>-97.715919</td>\n",
       "      <td>37.625160</td>\n",
       "      <td>2.4</td>\n",
       "      <td>38.50</td>\n",
       "    </tr>\n",
       "    <tr>\n",
       "      <th>1</th>\n",
       "      <td>32</td>\n",
       "      <td>49</td>\n",
       "      <td>66</td>\n",
       "      <td>68</td>\n",
       "      <td>74</td>\n",
       "      <td>76</td>\n",
       "      <td>85</td>\n",
       "      <td>82</td>\n",
       "      <td>80</td>\n",
       "      <td>69</td>\n",
       "      <td>41</td>\n",
       "      <td>34</td>\n",
       "      <td>4.744163e+05</td>\n",
       "      <td>-116.327415</td>\n",
       "      <td>43.438301</td>\n",
       "      <td>140.6</td>\n",
       "      <td>82.94</td>\n",
       "    </tr>\n",
       "    <tr>\n",
       "      <th>2</th>\n",
       "      <td>28</td>\n",
       "      <td>41</td>\n",
       "      <td>55</td>\n",
       "      <td>58</td>\n",
       "      <td>63</td>\n",
       "      <td>61</td>\n",
       "      <td>72</td>\n",
       "      <td>69</td>\n",
       "      <td>64</td>\n",
       "      <td>46</td>\n",
       "      <td>29</td>\n",
       "      <td>20</td>\n",
       "      <td>5.449413e+05</td>\n",
       "      <td>-122.663269</td>\n",
       "      <td>45.528770</td>\n",
       "      <td>3.4</td>\n",
       "      <td>91.16</td>\n",
       "    </tr>\n",
       "    <tr>\n",
       "      <th>3</th>\n",
       "      <td>42</td>\n",
       "      <td>47</td>\n",
       "      <td>52</td>\n",
       "      <td>58</td>\n",
       "      <td>60</td>\n",
       "      <td>65</td>\n",
       "      <td>64</td>\n",
       "      <td>63</td>\n",
       "      <td>59</td>\n",
       "      <td>62</td>\n",
       "      <td>47</td>\n",
       "      <td>42</td>\n",
       "      <td>4.312081e+05</td>\n",
       "      <td>-86.746246</td>\n",
       "      <td>36.247810</td>\n",
       "      <td>3.4</td>\n",
       "      <td>22.92</td>\n",
       "    </tr>\n",
       "    <tr>\n",
       "      <th>4</th>\n",
       "      <td>42</td>\n",
       "      <td>49</td>\n",
       "      <td>64</td>\n",
       "      <td>59</td>\n",
       "      <td>62</td>\n",
       "      <td>65</td>\n",
       "      <td>79</td>\n",
       "      <td>76</td>\n",
       "      <td>69</td>\n",
       "      <td>57</td>\n",
       "      <td>44</td>\n",
       "      <td>37</td>\n",
       "      <td>3.228308e+05</td>\n",
       "      <td>-111.249977</td>\n",
       "      <td>47.547642</td>\n",
       "      <td>7.1</td>\n",
       "      <td>89.64</td>\n",
       "    </tr>\n",
       "    <tr>\n",
       "      <th>5</th>\n",
       "      <td>43</td>\n",
       "      <td>59</td>\n",
       "      <td>67</td>\n",
       "      <td>69</td>\n",
       "      <td>73</td>\n",
       "      <td>81</td>\n",
       "      <td>85</td>\n",
       "      <td>83</td>\n",
       "      <td>81</td>\n",
       "      <td>71</td>\n",
       "      <td>52</td>\n",
       "      <td>39</td>\n",
       "      <td>5.860451e+05</td>\n",
       "      <td>-111.896050</td>\n",
       "      <td>40.767033</td>\n",
       "      <td>2.9</td>\n",
       "      <td>105.92</td>\n",
       "    </tr>\n",
       "    <tr>\n",
       "      <th>6</th>\n",
       "      <td>38</td>\n",
       "      <td>47</td>\n",
       "      <td>55</td>\n",
       "      <td>61</td>\n",
       "      <td>64</td>\n",
       "      <td>76</td>\n",
       "      <td>80</td>\n",
       "      <td>75</td>\n",
       "      <td>69</td>\n",
       "      <td>62</td>\n",
       "      <td>51</td>\n",
       "      <td>40</td>\n",
       "      <td>2.091490e+05</td>\n",
       "      <td>-97.802528</td>\n",
       "      <td>26.095959</td>\n",
       "      <td>421.0</td>\n",
       "      <td>156.74</td>\n",
       "    </tr>\n",
       "    <tr>\n",
       "      <th>7</th>\n",
       "      <td>57</td>\n",
       "      <td>58</td>\n",
       "      <td>53</td>\n",
       "      <td>55</td>\n",
       "      <td>53</td>\n",
       "      <td>55</td>\n",
       "      <td>62</td>\n",
       "      <td>63</td>\n",
       "      <td>60</td>\n",
       "      <td>58</td>\n",
       "      <td>47</td>\n",
       "      <td>49</td>\n",
       "      <td>5.781438e+05</td>\n",
       "      <td>-70.341583</td>\n",
       "      <td>43.890350</td>\n",
       "      <td>86.9</td>\n",
       "      <td>113.30</td>\n",
       "    </tr>\n",
       "    <tr>\n",
       "      <th>8</th>\n",
       "      <td>73</td>\n",
       "      <td>73</td>\n",
       "      <td>73</td>\n",
       "      <td>78</td>\n",
       "      <td>80</td>\n",
       "      <td>82</td>\n",
       "      <td>76</td>\n",
       "      <td>76</td>\n",
       "      <td>77</td>\n",
       "      <td>80</td>\n",
       "      <td>75</td>\n",
       "      <td>73</td>\n",
       "      <td>3.388406e+05</td>\n",
       "      <td>-106.529274</td>\n",
       "      <td>35.048351</td>\n",
       "      <td>103.8</td>\n",
       "      <td>596.50</td>\n",
       "    </tr>\n",
       "    <tr>\n",
       "      <th>9</th>\n",
       "      <td>57</td>\n",
       "      <td>58</td>\n",
       "      <td>55</td>\n",
       "      <td>56</td>\n",
       "      <td>55</td>\n",
       "      <td>59</td>\n",
       "      <td>64</td>\n",
       "      <td>61</td>\n",
       "      <td>62</td>\n",
       "      <td>61</td>\n",
       "      <td>48</td>\n",
       "      <td>51</td>\n",
       "      <td>4.058769e+05</td>\n",
       "      <td>-71.578194</td>\n",
       "      <td>41.926773</td>\n",
       "      <td>306.6</td>\n",
       "      <td>74.50</td>\n",
       "    </tr>\n",
       "    <tr>\n",
       "      <th>10</th>\n",
       "      <td>30</td>\n",
       "      <td>38</td>\n",
       "      <td>45</td>\n",
       "      <td>51</td>\n",
       "      <td>56</td>\n",
       "      <td>61</td>\n",
       "      <td>65</td>\n",
       "      <td>62</td>\n",
       "      <td>57</td>\n",
       "      <td>44</td>\n",
       "      <td>29</td>\n",
       "      <td>22</td>\n",
       "      <td>2.996724e+05</td>\n",
       "      <td>-85.723946</td>\n",
       "      <td>43.007217</td>\n",
       "      <td>13.5</td>\n",
       "      <td>81.66</td>\n",
       "    </tr>\n",
       "    <tr>\n",
       "      <th>11</th>\n",
       "      <td>43</td>\n",
       "      <td>50</td>\n",
       "      <td>49</td>\n",
       "      <td>55</td>\n",
       "      <td>55</td>\n",
       "      <td>60</td>\n",
       "      <td>64</td>\n",
       "      <td>62</td>\n",
       "      <td>53</td>\n",
       "      <td>48</td>\n",
       "      <td>33</td>\n",
       "      <td>33</td>\n",
       "      <td>2.042589e+05</td>\n",
       "      <td>-76.039909</td>\n",
       "      <td>40.936161</td>\n",
       "      <td>3.8</td>\n",
       "      <td>62.90</td>\n",
       "    </tr>\n",
       "    <tr>\n",
       "      <th>12</th>\n",
       "      <td>59</td>\n",
       "      <td>62</td>\n",
       "      <td>68</td>\n",
       "      <td>63</td>\n",
       "      <td>66</td>\n",
       "      <td>67</td>\n",
       "      <td>71</td>\n",
       "      <td>73</td>\n",
       "      <td>75</td>\n",
       "      <td>67</td>\n",
       "      <td>60</td>\n",
       "      <td>56</td>\n",
       "      <td>1.178752e+06</td>\n",
       "      <td>-157.985443</td>\n",
       "      <td>21.366938</td>\n",
       "      <td>643.6</td>\n",
       "      <td>871.72</td>\n",
       "    </tr>\n",
       "    <tr>\n",
       "      <th>13</th>\n",
       "      <td>39</td>\n",
       "      <td>47</td>\n",
       "      <td>50</td>\n",
       "      <td>55</td>\n",
       "      <td>60</td>\n",
       "      <td>65</td>\n",
       "      <td>69</td>\n",
       "      <td>68</td>\n",
       "      <td>61</td>\n",
       "      <td>50</td>\n",
       "      <td>35</td>\n",
       "      <td>31</td>\n",
       "      <td>8.243812e+04</td>\n",
       "      <td>-83.200089</td>\n",
       "      <td>42.377872</td>\n",
       "      <td>6.8</td>\n",
       "      <td>34.84</td>\n",
       "    </tr>\n",
       "    <tr>\n",
       "      <th>14</th>\n",
       "      <td>36</td>\n",
       "      <td>40</td>\n",
       "      <td>47</td>\n",
       "      <td>54</td>\n",
       "      <td>58</td>\n",
       "      <td>63</td>\n",
       "      <td>67</td>\n",
       "      <td>63</td>\n",
       "      <td>56</td>\n",
       "      <td>44</td>\n",
       "      <td>25</td>\n",
       "      <td>24</td>\n",
       "      <td>2.353674e+05</td>\n",
       "      <td>-77.955292</td>\n",
       "      <td>43.333633</td>\n",
       "      <td>168.6</td>\n",
       "      <td>81.66</td>\n",
       "    </tr>\n",
       "    <tr>\n",
       "      <th>15</th>\n",
       "      <td>47</td>\n",
       "      <td>51</td>\n",
       "      <td>50</td>\n",
       "      <td>52</td>\n",
       "      <td>60</td>\n",
       "      <td>65</td>\n",
       "      <td>69</td>\n",
       "      <td>64</td>\n",
       "      <td>57</td>\n",
       "      <td>51</td>\n",
       "      <td>37</td>\n",
       "      <td>35</td>\n",
       "      <td>2.279332e+05</td>\n",
       "      <td>-87.888664</td>\n",
       "      <td>42.936474</td>\n",
       "      <td>13.2</td>\n",
       "      <td>57.14</td>\n",
       "    </tr>\n",
       "    <tr>\n",
       "      <th>16</th>\n",
       "      <td>47</td>\n",
       "      <td>45</td>\n",
       "      <td>39</td>\n",
       "      <td>36</td>\n",
       "      <td>40</td>\n",
       "      <td>45</td>\n",
       "      <td>41</td>\n",
       "      <td>44</td>\n",
       "      <td>47</td>\n",
       "      <td>38</td>\n",
       "      <td>35</td>\n",
       "      <td>37</td>\n",
       "      <td>5.314194e+05</td>\n",
       "      <td>-155.764557</td>\n",
       "      <td>19.901075</td>\n",
       "      <td>60.0</td>\n",
       "      <td>168.72</td>\n",
       "    </tr>\n",
       "    <tr>\n",
       "      <th>17</th>\n",
       "      <td>56</td>\n",
       "      <td>56</td>\n",
       "      <td>56</td>\n",
       "      <td>59</td>\n",
       "      <td>60</td>\n",
       "      <td>64</td>\n",
       "      <td>68</td>\n",
       "      <td>66</td>\n",
       "      <td>64</td>\n",
       "      <td>60</td>\n",
       "      <td>48</td>\n",
       "      <td>49</td>\n",
       "      <td>8.262257e+05</td>\n",
       "      <td>-71.047066</td>\n",
       "      <td>42.301380</td>\n",
       "      <td>11.3</td>\n",
       "      <td>93.78</td>\n",
       "    </tr>\n",
       "    <tr>\n",
       "      <th>18</th>\n",
       "      <td>58</td>\n",
       "      <td>66</td>\n",
       "      <td>67</td>\n",
       "      <td>66</td>\n",
       "      <td>63</td>\n",
       "      <td>64</td>\n",
       "      <td>67</td>\n",
       "      <td>70</td>\n",
       "      <td>70</td>\n",
       "      <td>67</td>\n",
       "      <td>56</td>\n",
       "      <td>57</td>\n",
       "      <td>3.625651e+05</td>\n",
       "      <td>-104.800316</td>\n",
       "      <td>41.016609</td>\n",
       "      <td>300.0</td>\n",
       "      <td>73.02</td>\n",
       "    </tr>\n",
       "    <tr>\n",
       "      <th>19</th>\n",
       "      <td>42</td>\n",
       "      <td>49</td>\n",
       "      <td>48</td>\n",
       "      <td>51</td>\n",
       "      <td>58</td>\n",
       "      <td>63</td>\n",
       "      <td>65</td>\n",
       "      <td>64</td>\n",
       "      <td>61</td>\n",
       "      <td>54</td>\n",
       "      <td>36</td>\n",
       "      <td>32</td>\n",
       "      <td>2.326883e+05</td>\n",
       "      <td>-86.014481</td>\n",
       "      <td>39.853180</td>\n",
       "      <td>186.6</td>\n",
       "      <td>34.84</td>\n",
       "    </tr>\n",
       "    <tr>\n",
       "      <th>20</th>\n",
       "      <td>53</td>\n",
       "      <td>58</td>\n",
       "      <td>60</td>\n",
       "      <td>62</td>\n",
       "      <td>63</td>\n",
       "      <td>65</td>\n",
       "      <td>62</td>\n",
       "      <td>64</td>\n",
       "      <td>60</td>\n",
       "      <td>59</td>\n",
       "      <td>55</td>\n",
       "      <td>52</td>\n",
       "      <td>2.782926e+05</td>\n",
       "      <td>-79.356606</td>\n",
       "      <td>37.144112</td>\n",
       "      <td>228.0</td>\n",
       "      <td>105.36</td>\n",
       "    </tr>\n",
       "  </tbody>\n",
       "</table>\n",
       "</div>"
      ],
      "text/plain": [
       "    JAN  FEB  MAR  APR  MAY  JUN  JUL  AUG  SEP  OCT  NOV  DEC    Land Value  \\\n",
       "0    59   63   61   64   66   70   76   74   66   66   57   56  2.047106e+05   \n",
       "1    32   49   66   68   74   76   85   82   80   69   41   34  4.744163e+05   \n",
       "2    28   41   55   58   63   61   72   69   64   46   29   20  5.449413e+05   \n",
       "3    42   47   52   58   60   65   64   63   59   62   47   42  4.312081e+05   \n",
       "4    42   49   64   59   62   65   79   76   69   57   44   37  3.228308e+05   \n",
       "5    43   59   67   69   73   81   85   83   81   71   52   39  5.860451e+05   \n",
       "6    38   47   55   61   64   76   80   75   69   62   51   40  2.091490e+05   \n",
       "7    57   58   53   55   53   55   62   63   60   58   47   49  5.781438e+05   \n",
       "8    73   73   73   78   80   82   76   76   77   80   75   73  3.388406e+05   \n",
       "9    57   58   55   56   55   59   64   61   62   61   48   51  4.058769e+05   \n",
       "10   30   38   45   51   56   61   65   62   57   44   29   22  2.996724e+05   \n",
       "11   43   50   49   55   55   60   64   62   53   48   33   33  2.042589e+05   \n",
       "12   59   62   68   63   66   67   71   73   75   67   60   56  1.178752e+06   \n",
       "13   39   47   50   55   60   65   69   68   61   50   35   31  8.243812e+04   \n",
       "14   36   40   47   54   58   63   67   63   56   44   25   24  2.353674e+05   \n",
       "15   47   51   50   52   60   65   69   64   57   51   37   35  2.279332e+05   \n",
       "16   47   45   39   36   40   45   41   44   47   38   35   37  5.314194e+05   \n",
       "17   56   56   56   59   60   64   68   66   64   60   48   49  8.262257e+05   \n",
       "18   58   66   67   66   63   64   67   70   70   67   56   57  3.625651e+05   \n",
       "19   42   49   48   51   58   63   65   64   61   54   36   32  2.326883e+05   \n",
       "20   53   58   60   62   63   65   62   64   60   59   55   52  2.782926e+05   \n",
       "\n",
       "     Longitude   Latitude  Current       0  \n",
       "0   -97.715919  37.625160      2.4   38.50  \n",
       "1  -116.327415  43.438301    140.6   82.94  \n",
       "2  -122.663269  45.528770      3.4   91.16  \n",
       "3   -86.746246  36.247810      3.4   22.92  \n",
       "4  -111.249977  47.547642      7.1   89.64  \n",
       "5  -111.896050  40.767033      2.9  105.92  \n",
       "6   -97.802528  26.095959    421.0  156.74  \n",
       "7   -70.341583  43.890350     86.9  113.30  \n",
       "8  -106.529274  35.048351    103.8  596.50  \n",
       "9   -71.578194  41.926773    306.6   74.50  \n",
       "10  -85.723946  43.007217     13.5   81.66  \n",
       "11  -76.039909  40.936161      3.8   62.90  \n",
       "12 -157.985443  21.366938    643.6  871.72  \n",
       "13  -83.200089  42.377872      6.8   34.84  \n",
       "14  -77.955292  43.333633    168.6   81.66  \n",
       "15  -87.888664  42.936474     13.2   57.14  \n",
       "16 -155.764557  19.901075     60.0  168.72  \n",
       "17  -71.047066  42.301380     11.3   93.78  \n",
       "18 -104.800316  41.016609    300.0   73.02  \n",
       "19  -86.014481  39.853180    186.6   34.84  \n",
       "20  -79.356606  37.144112    228.0  105.36  "
      ]
     },
     "execution_count": 55,
     "metadata": {},
     "output_type": "execute_result"
    }
   ],
   "source": [
    "scaled_pipe = Pipeline([\n",
    "    ('scaler',    StandardScaler()),\n",
    "    ('regressor', KNeighborsRegressor())\n",
    "]).fit(X_train,y_train)\n",
    "\n",
    "y_pred = scaled_pipe.predict(X_test)\n",
    "y_pred[y_pred < 0.0] = 0.0  # Don't allow negative current\n",
    "\n",
    "print(f\"{int(mean_squared_error(y_pred,y_test)):,}\")\n",
    "\n",
    "pd.concat([\n",
    "    X_test.reset_index(drop=True),\n",
    "    y_test.reset_index(drop=True),\n",
    "    pd.DataFrame(y_pred).reset_index(drop=True)\n",
    "    ], axis=1)\n",
    "\n"
   ]
  },
  {
   "cell_type": "markdown",
   "id": "eb96c1c2",
   "metadata": {},
   "source": [
    "## Try-it 20_1"
   ]
  },
  {
   "cell_type": "code",
   "execution_count": 56,
   "id": "a8534b65",
   "metadata": {},
   "outputs": [
    {
     "name": "stdout",
     "output_type": "stream",
     "text": [
      "Results Before Grid Search:\n",
      "MSE:  LinearRegression() ... 221,337\n",
      "MSE:  KNeighborsRegressor() ... 27,426\n",
      "MSE:  DecisionTreeRegressor() ... 37,160\n",
      "MSE:  Ridge() ... 197,759\n",
      "MSE:  SVR() ... 30,445\n",
      "MSE:  VotingRegressor() ... 56,660\n"
     ]
    }
   ],
   "source": [
    "reg_linear = LinearRegression()\n",
    "reg_knn    = KNeighborsRegressor()\n",
    "reg_tree   = DecisionTreeRegressor(random_state=42)\n",
    "reg_ridge  = Ridge()\n",
    "\n",
    "# Create pipelines for each regressor\n",
    "pipelines = {\n",
    "    'LinearRegression()':      Pipeline([\n",
    "        ('scaler',    StandardScaler()),\n",
    "        ('regressor', reg_linear)\n",
    "        ]),\n",
    "    'KNeighborsRegressor()':   Pipeline([\n",
    "        ('scaler',    StandardScaler()),\n",
    "        ('regressor', reg_knn)\n",
    "        ]),\n",
    "    'DecisionTreeRegressor()': Pipeline([\n",
    "        ('regressor', reg_tree)\n",
    "        ]),\n",
    "    'Ridge()':                 Pipeline([\n",
    "        ('scaler',    StandardScaler()),\n",
    "        ('regressor', reg_ridge)\n",
    "        ]),\n",
    "    'SVR()':                   Pipeline([\n",
    "        ('scaler',    StandardScaler()),\n",
    "        ('regressor', SVR())\n",
    "        ])\n",
    "}\n",
    "\n",
    "# Define the Voting Regressor\n",
    "voting_reg = VotingRegressor(estimators=[\n",
    "    ('LinearRegression()',      pipelines['LinearRegression()']),\n",
    "    ('KNeighborsRegressor()',   pipelines['KNeighborsRegressor()']),\n",
    "    ('DecisionTreeRegressor()', pipelines['DecisionTreeRegressor()']),\n",
    "    ('Ridge()',                 pipelines['Ridge()']),\n",
    "    ('SVR()',                   pipelines['SVR()'])\n",
    "])\n",
    "\n",
    "# Function to evaluate models\n",
    "def evaluate_model(model, X_test, y_test):\n",
    "    y_pred = model.predict(X_test)\n",
    "    y_pred[y_pred < 0.0] = 0.0  # Don't allow negative current\n",
    "    mse = mean_squared_error(y_test, y_pred)\n",
    "    return mse\n",
    "\n",
    "# Evaluate individual models without grid search\n",
    "results_before_gs = {}\n",
    "for name, pipeline in pipelines.items():\n",
    "    pipeline.fit(X_train, y_train)\n",
    "    mse = evaluate_model(pipeline, X_test, y_test)\n",
    "    results_before_gs[name] = mse\n",
    "\n",
    "# Evaluate Voting Regressor without grid search\n",
    "voting_reg.fit(X_train, y_train)\n",
    "voting_mse_before_gs = evaluate_model(voting_reg, X_test, y_test)\n",
    "results_before_gs['VotingRegressor()'] = voting_mse_before_gs\n",
    "\n",
    "# Print results before grid search\n",
    "print(\"Results Before Grid Search:\")\n",
    "for name, mse in results_before_gs.items():\n",
    "    print(\"MSE: \", name, \"...\", f'{int(mse):,}')"
   ]
  },
  {
   "cell_type": "code",
   "execution_count": 57,
   "id": "6645955b",
   "metadata": {},
   "outputs": [
    {
     "name": "stdout",
     "output_type": "stream",
     "text": [
      "\n",
      "Results After Grid Search:\n",
      "MSE:  LinearRegression() ... 221,337\n",
      "MSE:  KNeighborsRegressor() ... 21,157\n",
      "MSE:  DecisionTreeRegressor() ... 28,285\n",
      "MSE:  Ridge() ... 213,436\n",
      "MSE:  SVR() ... 28,079\n",
      "MSE:  VotingRegressor() ... 54,435\n"
     ]
    }
   ],
   "source": [
    "# Define parameter grids for Grid Search\n",
    "param_grids = {\n",
    "    'LinearRegression()':      {},\n",
    "    'KNeighborsRegressor()':   {'regressor__n_neighbors': [3, 5, 7]},\n",
    "    'DecisionTreeRegressor()': {'regressor__max_depth':   [3, 5, 7]},\n",
    "    'Ridge()':                 {'regressor__alpha':       [0.1, 1.0, 10.0]},\n",
    "    'SVR()':                   {\n",
    "                                'regressor__C':           [0.1, 1.0, 10.0],\n",
    "                                'regressor__gamma':       ['scale', 'auto']\n",
    "        }\n",
    "}\n",
    "\n",
    "# Perform Grid Search and evaluate models\n",
    "results_after_gs = {}\n",
    "best_pipelines   = {}\n",
    "\n",
    "for name, pipeline in pipelines.items():\n",
    "    grid_search = GridSearchCV(\n",
    "        pipeline, param_grids[name], cv=10, scoring='neg_mean_squared_error'\n",
    "        )\n",
    "    grid_search.fit(X_train, y_train)\n",
    "    best_pipeline = grid_search.best_estimator_\n",
    "    best_pipelines[name] = best_pipeline\n",
    "    mse = evaluate_model(best_pipeline, X_test, y_test)\n",
    "    results_after_gs[name] = mse\n",
    "\n",
    "# Define the optimized Voting Regressor\n",
    "optimized_voting_reg = VotingRegressor(estimators=[\n",
    "    ('LinearRegression()',      best_pipelines['LinearRegression()']),\n",
    "    ('KNeighborsRegressor()',   best_pipelines['KNeighborsRegressor()']),\n",
    "    ('DecisionTreeRegressor()', best_pipelines['DecisionTreeRegressor()']),\n",
    "    ('Ridge()',                 best_pipelines['Ridge()']),\n",
    "    ('SVR()',                   best_pipelines['SVR()'])\n",
    "])\n",
    "\n",
    "# Fit the optimized Voting Regressor\n",
    "optimized_voting_reg.fit(X_train, y_train)\n",
    "voting_mse_after_gs = evaluate_model(optimized_voting_reg, X_test, y_test)\n",
    "results_after_gs['VotingRegressor()'] = voting_mse_after_gs\n",
    "\n",
    "# Print results after grid search\n",
    "print(\"\\nResults After Grid Search:\")\n",
    "for name, mse in results_after_gs.items():\n",
    "    print(\"MSE: \", name, \"...\", f'{int(mse):,}')"
   ]
  },
  {
   "cell_type": "code",
   "execution_count": 58,
   "id": "877f100a",
   "metadata": {},
   "outputs": [
    {
     "data": {
      "application/vnd.microsoft.datawrangler.viewer.v0+json": {
       "columns": [
        {
         "name": "index",
         "rawType": "int64",
         "type": "integer"
        },
        {
         "name": "JAN",
         "rawType": "int64",
         "type": "integer"
        },
        {
         "name": "FEB",
         "rawType": "int64",
         "type": "integer"
        },
        {
         "name": "MAR",
         "rawType": "int64",
         "type": "integer"
        },
        {
         "name": "APR",
         "rawType": "int64",
         "type": "integer"
        },
        {
         "name": "MAY",
         "rawType": "int64",
         "type": "integer"
        },
        {
         "name": "JUN",
         "rawType": "int64",
         "type": "integer"
        },
        {
         "name": "JUL",
         "rawType": "int64",
         "type": "integer"
        },
        {
         "name": "AUG",
         "rawType": "int64",
         "type": "integer"
        },
        {
         "name": "SEP",
         "rawType": "int64",
         "type": "integer"
        },
        {
         "name": "OCT",
         "rawType": "int64",
         "type": "integer"
        },
        {
         "name": "NOV",
         "rawType": "int64",
         "type": "integer"
        },
        {
         "name": "DEC",
         "rawType": "int64",
         "type": "integer"
        },
        {
         "name": "Land Value",
         "rawType": "float64",
         "type": "float"
        },
        {
         "name": "Longitude",
         "rawType": "float64",
         "type": "float"
        },
        {
         "name": "Latitude",
         "rawType": "float64",
         "type": "float"
        },
        {
         "name": "Current",
         "rawType": "float64",
         "type": "float"
        },
        {
         "name": "0",
         "rawType": "float64",
         "type": "float"
        }
       ],
       "ref": "a86c90de-a7d4-49fa-bfe8-7e65d343713f",
       "rows": [
        [
         "0",
         "59",
         "63",
         "61",
         "64",
         "66",
         "70",
         "76",
         "74",
         "66",
         "66",
         "57",
         "56",
         "204710.55498470925",
         "-97.715919",
         "37.62516",
         "2.4",
         "294.0259652115023"
        ],
        [
         "1",
         "32",
         "49",
         "66",
         "68",
         "74",
         "76",
         "85",
         "82",
         "80",
         "69",
         "41",
         "34",
         "474416.3392191775",
         "-116.327415",
         "43.438301",
         "140.6",
         "353.0323798192909"
        ],
        [
         "2",
         "28",
         "41",
         "55",
         "58",
         "63",
         "61",
         "72",
         "69",
         "64",
         "46",
         "29",
         "20",
         "544941.3433560164",
         "-122.663269",
         "45.52877",
         "3.4",
         "72.44735855085074"
        ],
        [
         "3",
         "42",
         "47",
         "52",
         "58",
         "60",
         "65",
         "64",
         "63",
         "59",
         "62",
         "47",
         "42",
         "431208.1179784197",
         "-86.746246",
         "36.24781",
         "3.4",
         "0.0"
        ],
        [
         "4",
         "42",
         "49",
         "64",
         "59",
         "62",
         "65",
         "79",
         "76",
         "69",
         "57",
         "44",
         "37",
         "322830.830077355",
         "-111.249977",
         "47.547642",
         "7.1",
         "126.01895381486474"
        ],
        [
         "5",
         "43",
         "59",
         "67",
         "69",
         "73",
         "81",
         "85",
         "83",
         "81",
         "71",
         "52",
         "39",
         "586045.0693929781",
         "-111.89605",
         "40.767033",
         "2.9000000000000004",
         "512.3409853014966"
        ],
        [
         "6",
         "38",
         "47",
         "55",
         "61",
         "64",
         "76",
         "80",
         "75",
         "69",
         "62",
         "51",
         "40",
         "209148.98910167933",
         "-97.802528",
         "26.095959",
         "421.0",
         "277.36204325125243"
        ],
        [
         "7",
         "57",
         "58",
         "53",
         "55",
         "53",
         "55",
         "62",
         "63",
         "60",
         "58",
         "47",
         "49",
         "578143.828747264",
         "-70.341583",
         "43.89035",
         "86.9",
         "59.90407157085325"
        ],
        [
         "8",
         "73",
         "73",
         "73",
         "78",
         "80",
         "82",
         "76",
         "76",
         "77",
         "80",
         "75",
         "73",
         "338840.6226942612",
         "-106.529274",
         "35.048351",
         "103.80000000000001",
         "747.1567029665076"
        ],
        [
         "9",
         "57",
         "58",
         "55",
         "56",
         "55",
         "59",
         "64",
         "61",
         "62",
         "61",
         "48",
         "51",
         "405876.8801725244",
         "-71.578194",
         "41.926773",
         "306.6",
         "29.329445502293858"
        ],
        [
         "10",
         "30",
         "38",
         "45",
         "51",
         "56",
         "61",
         "65",
         "62",
         "57",
         "44",
         "29",
         "22",
         "299672.4159629674",
         "-85.723946",
         "43.007217",
         "13.5",
         "0.0"
        ],
        [
         "11",
         "43",
         "50",
         "49",
         "55",
         "55",
         "60",
         "64",
         "62",
         "53",
         "48",
         "33",
         "33",
         "204258.9360295709",
         "-76.039909",
         "40.936161",
         "3.8",
         "68.84140631300143"
        ],
        [
         "12",
         "59",
         "62",
         "68",
         "63",
         "66",
         "67",
         "71",
         "73",
         "75",
         "67",
         "60",
         "56",
         "1178751.7192979637",
         "-157.985443",
         "21.366938",
         "643.6",
         "302.07835407224206"
        ],
        [
         "13",
         "39",
         "47",
         "50",
         "55",
         "60",
         "65",
         "69",
         "68",
         "61",
         "50",
         "35",
         "31",
         "82438.12197586686",
         "-83.200089",
         "42.377872",
         "6.8",
         "111.22920296722934"
        ],
        [
         "14",
         "36",
         "40",
         "47",
         "54",
         "58",
         "63",
         "67",
         "63",
         "56",
         "44",
         "25",
         "24",
         "235367.3662137979",
         "-77.955292",
         "43.333633",
         "168.60000000000002",
         "60.756500857963985"
        ],
        [
         "15",
         "47",
         "51",
         "50",
         "52",
         "60",
         "65",
         "69",
         "64",
         "57",
         "51",
         "37",
         "35",
         "227933.17920872036",
         "-87.888664",
         "42.936474",
         "13.2",
         "0.0"
        ],
        [
         "16",
         "47",
         "45",
         "39",
         "36",
         "40",
         "45",
         "41",
         "44",
         "47",
         "38",
         "35",
         "37",
         "531419.3697210827",
         "-155.764557",
         "19.901075",
         "60.0",
         "0.0"
        ],
        [
         "17",
         "56",
         "56",
         "56",
         "59",
         "60",
         "64",
         "68",
         "66",
         "64",
         "60",
         "48",
         "49",
         "826225.6603846875",
         "-71.047066",
         "42.30138",
         "11.3",
         "52.60948957305864"
        ],
        [
         "18",
         "58",
         "66",
         "67",
         "66",
         "63",
         "64",
         "67",
         "70",
         "70",
         "67",
         "56",
         "57",
         "362565.0891983152",
         "-104.800316",
         "41.016609",
         "300.0",
         "320.76332182805265"
        ],
        [
         "19",
         "42",
         "49",
         "48",
         "51",
         "58",
         "63",
         "65",
         "64",
         "61",
         "54",
         "36",
         "32",
         "232688.2914161257",
         "-86.014481",
         "39.85318",
         "186.60000000000002",
         "0.0"
        ],
        [
         "20",
         "53",
         "58",
         "60",
         "62",
         "63",
         "65",
         "62",
         "64",
         "60",
         "59",
         "55",
         "52",
         "278292.640183256",
         "-79.356606",
         "37.144112",
         "228.0",
         "32.94123109262154"
        ]
       ],
       "shape": {
        "columns": 17,
        "rows": 21
       }
      },
      "text/html": [
       "<div>\n",
       "<style scoped>\n",
       "    .dataframe tbody tr th:only-of-type {\n",
       "        vertical-align: middle;\n",
       "    }\n",
       "\n",
       "    .dataframe tbody tr th {\n",
       "        vertical-align: top;\n",
       "    }\n",
       "\n",
       "    .dataframe thead th {\n",
       "        text-align: right;\n",
       "    }\n",
       "</style>\n",
       "<table border=\"1\" class=\"dataframe\">\n",
       "  <thead>\n",
       "    <tr style=\"text-align: right;\">\n",
       "      <th></th>\n",
       "      <th>JAN</th>\n",
       "      <th>FEB</th>\n",
       "      <th>MAR</th>\n",
       "      <th>APR</th>\n",
       "      <th>MAY</th>\n",
       "      <th>JUN</th>\n",
       "      <th>JUL</th>\n",
       "      <th>AUG</th>\n",
       "      <th>SEP</th>\n",
       "      <th>OCT</th>\n",
       "      <th>NOV</th>\n",
       "      <th>DEC</th>\n",
       "      <th>Land Value</th>\n",
       "      <th>Longitude</th>\n",
       "      <th>Latitude</th>\n",
       "      <th>Current</th>\n",
       "      <th>0</th>\n",
       "    </tr>\n",
       "  </thead>\n",
       "  <tbody>\n",
       "    <tr>\n",
       "      <th>0</th>\n",
       "      <td>59</td>\n",
       "      <td>63</td>\n",
       "      <td>61</td>\n",
       "      <td>64</td>\n",
       "      <td>66</td>\n",
       "      <td>70</td>\n",
       "      <td>76</td>\n",
       "      <td>74</td>\n",
       "      <td>66</td>\n",
       "      <td>66</td>\n",
       "      <td>57</td>\n",
       "      <td>56</td>\n",
       "      <td>2.047106e+05</td>\n",
       "      <td>-97.715919</td>\n",
       "      <td>37.625160</td>\n",
       "      <td>2.4</td>\n",
       "      <td>294.025965</td>\n",
       "    </tr>\n",
       "    <tr>\n",
       "      <th>1</th>\n",
       "      <td>32</td>\n",
       "      <td>49</td>\n",
       "      <td>66</td>\n",
       "      <td>68</td>\n",
       "      <td>74</td>\n",
       "      <td>76</td>\n",
       "      <td>85</td>\n",
       "      <td>82</td>\n",
       "      <td>80</td>\n",
       "      <td>69</td>\n",
       "      <td>41</td>\n",
       "      <td>34</td>\n",
       "      <td>4.744163e+05</td>\n",
       "      <td>-116.327415</td>\n",
       "      <td>43.438301</td>\n",
       "      <td>140.6</td>\n",
       "      <td>353.032380</td>\n",
       "    </tr>\n",
       "    <tr>\n",
       "      <th>2</th>\n",
       "      <td>28</td>\n",
       "      <td>41</td>\n",
       "      <td>55</td>\n",
       "      <td>58</td>\n",
       "      <td>63</td>\n",
       "      <td>61</td>\n",
       "      <td>72</td>\n",
       "      <td>69</td>\n",
       "      <td>64</td>\n",
       "      <td>46</td>\n",
       "      <td>29</td>\n",
       "      <td>20</td>\n",
       "      <td>5.449413e+05</td>\n",
       "      <td>-122.663269</td>\n",
       "      <td>45.528770</td>\n",
       "      <td>3.4</td>\n",
       "      <td>72.447359</td>\n",
       "    </tr>\n",
       "    <tr>\n",
       "      <th>3</th>\n",
       "      <td>42</td>\n",
       "      <td>47</td>\n",
       "      <td>52</td>\n",
       "      <td>58</td>\n",
       "      <td>60</td>\n",
       "      <td>65</td>\n",
       "      <td>64</td>\n",
       "      <td>63</td>\n",
       "      <td>59</td>\n",
       "      <td>62</td>\n",
       "      <td>47</td>\n",
       "      <td>42</td>\n",
       "      <td>4.312081e+05</td>\n",
       "      <td>-86.746246</td>\n",
       "      <td>36.247810</td>\n",
       "      <td>3.4</td>\n",
       "      <td>0.000000</td>\n",
       "    </tr>\n",
       "    <tr>\n",
       "      <th>4</th>\n",
       "      <td>42</td>\n",
       "      <td>49</td>\n",
       "      <td>64</td>\n",
       "      <td>59</td>\n",
       "      <td>62</td>\n",
       "      <td>65</td>\n",
       "      <td>79</td>\n",
       "      <td>76</td>\n",
       "      <td>69</td>\n",
       "      <td>57</td>\n",
       "      <td>44</td>\n",
       "      <td>37</td>\n",
       "      <td>3.228308e+05</td>\n",
       "      <td>-111.249977</td>\n",
       "      <td>47.547642</td>\n",
       "      <td>7.1</td>\n",
       "      <td>126.018954</td>\n",
       "    </tr>\n",
       "    <tr>\n",
       "      <th>5</th>\n",
       "      <td>43</td>\n",
       "      <td>59</td>\n",
       "      <td>67</td>\n",
       "      <td>69</td>\n",
       "      <td>73</td>\n",
       "      <td>81</td>\n",
       "      <td>85</td>\n",
       "      <td>83</td>\n",
       "      <td>81</td>\n",
       "      <td>71</td>\n",
       "      <td>52</td>\n",
       "      <td>39</td>\n",
       "      <td>5.860451e+05</td>\n",
       "      <td>-111.896050</td>\n",
       "      <td>40.767033</td>\n",
       "      <td>2.9</td>\n",
       "      <td>512.340985</td>\n",
       "    </tr>\n",
       "    <tr>\n",
       "      <th>6</th>\n",
       "      <td>38</td>\n",
       "      <td>47</td>\n",
       "      <td>55</td>\n",
       "      <td>61</td>\n",
       "      <td>64</td>\n",
       "      <td>76</td>\n",
       "      <td>80</td>\n",
       "      <td>75</td>\n",
       "      <td>69</td>\n",
       "      <td>62</td>\n",
       "      <td>51</td>\n",
       "      <td>40</td>\n",
       "      <td>2.091490e+05</td>\n",
       "      <td>-97.802528</td>\n",
       "      <td>26.095959</td>\n",
       "      <td>421.0</td>\n",
       "      <td>277.362043</td>\n",
       "    </tr>\n",
       "    <tr>\n",
       "      <th>7</th>\n",
       "      <td>57</td>\n",
       "      <td>58</td>\n",
       "      <td>53</td>\n",
       "      <td>55</td>\n",
       "      <td>53</td>\n",
       "      <td>55</td>\n",
       "      <td>62</td>\n",
       "      <td>63</td>\n",
       "      <td>60</td>\n",
       "      <td>58</td>\n",
       "      <td>47</td>\n",
       "      <td>49</td>\n",
       "      <td>5.781438e+05</td>\n",
       "      <td>-70.341583</td>\n",
       "      <td>43.890350</td>\n",
       "      <td>86.9</td>\n",
       "      <td>59.904072</td>\n",
       "    </tr>\n",
       "    <tr>\n",
       "      <th>8</th>\n",
       "      <td>73</td>\n",
       "      <td>73</td>\n",
       "      <td>73</td>\n",
       "      <td>78</td>\n",
       "      <td>80</td>\n",
       "      <td>82</td>\n",
       "      <td>76</td>\n",
       "      <td>76</td>\n",
       "      <td>77</td>\n",
       "      <td>80</td>\n",
       "      <td>75</td>\n",
       "      <td>73</td>\n",
       "      <td>3.388406e+05</td>\n",
       "      <td>-106.529274</td>\n",
       "      <td>35.048351</td>\n",
       "      <td>103.8</td>\n",
       "      <td>747.156703</td>\n",
       "    </tr>\n",
       "    <tr>\n",
       "      <th>9</th>\n",
       "      <td>57</td>\n",
       "      <td>58</td>\n",
       "      <td>55</td>\n",
       "      <td>56</td>\n",
       "      <td>55</td>\n",
       "      <td>59</td>\n",
       "      <td>64</td>\n",
       "      <td>61</td>\n",
       "      <td>62</td>\n",
       "      <td>61</td>\n",
       "      <td>48</td>\n",
       "      <td>51</td>\n",
       "      <td>4.058769e+05</td>\n",
       "      <td>-71.578194</td>\n",
       "      <td>41.926773</td>\n",
       "      <td>306.6</td>\n",
       "      <td>29.329446</td>\n",
       "    </tr>\n",
       "    <tr>\n",
       "      <th>10</th>\n",
       "      <td>30</td>\n",
       "      <td>38</td>\n",
       "      <td>45</td>\n",
       "      <td>51</td>\n",
       "      <td>56</td>\n",
       "      <td>61</td>\n",
       "      <td>65</td>\n",
       "      <td>62</td>\n",
       "      <td>57</td>\n",
       "      <td>44</td>\n",
       "      <td>29</td>\n",
       "      <td>22</td>\n",
       "      <td>2.996724e+05</td>\n",
       "      <td>-85.723946</td>\n",
       "      <td>43.007217</td>\n",
       "      <td>13.5</td>\n",
       "      <td>0.000000</td>\n",
       "    </tr>\n",
       "    <tr>\n",
       "      <th>11</th>\n",
       "      <td>43</td>\n",
       "      <td>50</td>\n",
       "      <td>49</td>\n",
       "      <td>55</td>\n",
       "      <td>55</td>\n",
       "      <td>60</td>\n",
       "      <td>64</td>\n",
       "      <td>62</td>\n",
       "      <td>53</td>\n",
       "      <td>48</td>\n",
       "      <td>33</td>\n",
       "      <td>33</td>\n",
       "      <td>2.042589e+05</td>\n",
       "      <td>-76.039909</td>\n",
       "      <td>40.936161</td>\n",
       "      <td>3.8</td>\n",
       "      <td>68.841406</td>\n",
       "    </tr>\n",
       "    <tr>\n",
       "      <th>12</th>\n",
       "      <td>59</td>\n",
       "      <td>62</td>\n",
       "      <td>68</td>\n",
       "      <td>63</td>\n",
       "      <td>66</td>\n",
       "      <td>67</td>\n",
       "      <td>71</td>\n",
       "      <td>73</td>\n",
       "      <td>75</td>\n",
       "      <td>67</td>\n",
       "      <td>60</td>\n",
       "      <td>56</td>\n",
       "      <td>1.178752e+06</td>\n",
       "      <td>-157.985443</td>\n",
       "      <td>21.366938</td>\n",
       "      <td>643.6</td>\n",
       "      <td>302.078354</td>\n",
       "    </tr>\n",
       "    <tr>\n",
       "      <th>13</th>\n",
       "      <td>39</td>\n",
       "      <td>47</td>\n",
       "      <td>50</td>\n",
       "      <td>55</td>\n",
       "      <td>60</td>\n",
       "      <td>65</td>\n",
       "      <td>69</td>\n",
       "      <td>68</td>\n",
       "      <td>61</td>\n",
       "      <td>50</td>\n",
       "      <td>35</td>\n",
       "      <td>31</td>\n",
       "      <td>8.243812e+04</td>\n",
       "      <td>-83.200089</td>\n",
       "      <td>42.377872</td>\n",
       "      <td>6.8</td>\n",
       "      <td>111.229203</td>\n",
       "    </tr>\n",
       "    <tr>\n",
       "      <th>14</th>\n",
       "      <td>36</td>\n",
       "      <td>40</td>\n",
       "      <td>47</td>\n",
       "      <td>54</td>\n",
       "      <td>58</td>\n",
       "      <td>63</td>\n",
       "      <td>67</td>\n",
       "      <td>63</td>\n",
       "      <td>56</td>\n",
       "      <td>44</td>\n",
       "      <td>25</td>\n",
       "      <td>24</td>\n",
       "      <td>2.353674e+05</td>\n",
       "      <td>-77.955292</td>\n",
       "      <td>43.333633</td>\n",
       "      <td>168.6</td>\n",
       "      <td>60.756501</td>\n",
       "    </tr>\n",
       "    <tr>\n",
       "      <th>15</th>\n",
       "      <td>47</td>\n",
       "      <td>51</td>\n",
       "      <td>50</td>\n",
       "      <td>52</td>\n",
       "      <td>60</td>\n",
       "      <td>65</td>\n",
       "      <td>69</td>\n",
       "      <td>64</td>\n",
       "      <td>57</td>\n",
       "      <td>51</td>\n",
       "      <td>37</td>\n",
       "      <td>35</td>\n",
       "      <td>2.279332e+05</td>\n",
       "      <td>-87.888664</td>\n",
       "      <td>42.936474</td>\n",
       "      <td>13.2</td>\n",
       "      <td>0.000000</td>\n",
       "    </tr>\n",
       "    <tr>\n",
       "      <th>16</th>\n",
       "      <td>47</td>\n",
       "      <td>45</td>\n",
       "      <td>39</td>\n",
       "      <td>36</td>\n",
       "      <td>40</td>\n",
       "      <td>45</td>\n",
       "      <td>41</td>\n",
       "      <td>44</td>\n",
       "      <td>47</td>\n",
       "      <td>38</td>\n",
       "      <td>35</td>\n",
       "      <td>37</td>\n",
       "      <td>5.314194e+05</td>\n",
       "      <td>-155.764557</td>\n",
       "      <td>19.901075</td>\n",
       "      <td>60.0</td>\n",
       "      <td>0.000000</td>\n",
       "    </tr>\n",
       "    <tr>\n",
       "      <th>17</th>\n",
       "      <td>56</td>\n",
       "      <td>56</td>\n",
       "      <td>56</td>\n",
       "      <td>59</td>\n",
       "      <td>60</td>\n",
       "      <td>64</td>\n",
       "      <td>68</td>\n",
       "      <td>66</td>\n",
       "      <td>64</td>\n",
       "      <td>60</td>\n",
       "      <td>48</td>\n",
       "      <td>49</td>\n",
       "      <td>8.262257e+05</td>\n",
       "      <td>-71.047066</td>\n",
       "      <td>42.301380</td>\n",
       "      <td>11.3</td>\n",
       "      <td>52.609490</td>\n",
       "    </tr>\n",
       "    <tr>\n",
       "      <th>18</th>\n",
       "      <td>58</td>\n",
       "      <td>66</td>\n",
       "      <td>67</td>\n",
       "      <td>66</td>\n",
       "      <td>63</td>\n",
       "      <td>64</td>\n",
       "      <td>67</td>\n",
       "      <td>70</td>\n",
       "      <td>70</td>\n",
       "      <td>67</td>\n",
       "      <td>56</td>\n",
       "      <td>57</td>\n",
       "      <td>3.625651e+05</td>\n",
       "      <td>-104.800316</td>\n",
       "      <td>41.016609</td>\n",
       "      <td>300.0</td>\n",
       "      <td>320.763322</td>\n",
       "    </tr>\n",
       "    <tr>\n",
       "      <th>19</th>\n",
       "      <td>42</td>\n",
       "      <td>49</td>\n",
       "      <td>48</td>\n",
       "      <td>51</td>\n",
       "      <td>58</td>\n",
       "      <td>63</td>\n",
       "      <td>65</td>\n",
       "      <td>64</td>\n",
       "      <td>61</td>\n",
       "      <td>54</td>\n",
       "      <td>36</td>\n",
       "      <td>32</td>\n",
       "      <td>2.326883e+05</td>\n",
       "      <td>-86.014481</td>\n",
       "      <td>39.853180</td>\n",
       "      <td>186.6</td>\n",
       "      <td>0.000000</td>\n",
       "    </tr>\n",
       "    <tr>\n",
       "      <th>20</th>\n",
       "      <td>53</td>\n",
       "      <td>58</td>\n",
       "      <td>60</td>\n",
       "      <td>62</td>\n",
       "      <td>63</td>\n",
       "      <td>65</td>\n",
       "      <td>62</td>\n",
       "      <td>64</td>\n",
       "      <td>60</td>\n",
       "      <td>59</td>\n",
       "      <td>55</td>\n",
       "      <td>52</td>\n",
       "      <td>2.782926e+05</td>\n",
       "      <td>-79.356606</td>\n",
       "      <td>37.144112</td>\n",
       "      <td>228.0</td>\n",
       "      <td>32.941231</td>\n",
       "    </tr>\n",
       "  </tbody>\n",
       "</table>\n",
       "</div>"
      ],
      "text/plain": [
       "    JAN  FEB  MAR  APR  MAY  JUN  JUL  AUG  SEP  OCT  NOV  DEC    Land Value  \\\n",
       "0    59   63   61   64   66   70   76   74   66   66   57   56  2.047106e+05   \n",
       "1    32   49   66   68   74   76   85   82   80   69   41   34  4.744163e+05   \n",
       "2    28   41   55   58   63   61   72   69   64   46   29   20  5.449413e+05   \n",
       "3    42   47   52   58   60   65   64   63   59   62   47   42  4.312081e+05   \n",
       "4    42   49   64   59   62   65   79   76   69   57   44   37  3.228308e+05   \n",
       "5    43   59   67   69   73   81   85   83   81   71   52   39  5.860451e+05   \n",
       "6    38   47   55   61   64   76   80   75   69   62   51   40  2.091490e+05   \n",
       "7    57   58   53   55   53   55   62   63   60   58   47   49  5.781438e+05   \n",
       "8    73   73   73   78   80   82   76   76   77   80   75   73  3.388406e+05   \n",
       "9    57   58   55   56   55   59   64   61   62   61   48   51  4.058769e+05   \n",
       "10   30   38   45   51   56   61   65   62   57   44   29   22  2.996724e+05   \n",
       "11   43   50   49   55   55   60   64   62   53   48   33   33  2.042589e+05   \n",
       "12   59   62   68   63   66   67   71   73   75   67   60   56  1.178752e+06   \n",
       "13   39   47   50   55   60   65   69   68   61   50   35   31  8.243812e+04   \n",
       "14   36   40   47   54   58   63   67   63   56   44   25   24  2.353674e+05   \n",
       "15   47   51   50   52   60   65   69   64   57   51   37   35  2.279332e+05   \n",
       "16   47   45   39   36   40   45   41   44   47   38   35   37  5.314194e+05   \n",
       "17   56   56   56   59   60   64   68   66   64   60   48   49  8.262257e+05   \n",
       "18   58   66   67   66   63   64   67   70   70   67   56   57  3.625651e+05   \n",
       "19   42   49   48   51   58   63   65   64   61   54   36   32  2.326883e+05   \n",
       "20   53   58   60   62   63   65   62   64   60   59   55   52  2.782926e+05   \n",
       "\n",
       "     Longitude   Latitude  Current           0  \n",
       "0   -97.715919  37.625160      2.4  294.025965  \n",
       "1  -116.327415  43.438301    140.6  353.032380  \n",
       "2  -122.663269  45.528770      3.4   72.447359  \n",
       "3   -86.746246  36.247810      3.4    0.000000  \n",
       "4  -111.249977  47.547642      7.1  126.018954  \n",
       "5  -111.896050  40.767033      2.9  512.340985  \n",
       "6   -97.802528  26.095959    421.0  277.362043  \n",
       "7   -70.341583  43.890350     86.9   59.904072  \n",
       "8  -106.529274  35.048351    103.8  747.156703  \n",
       "9   -71.578194  41.926773    306.6   29.329446  \n",
       "10  -85.723946  43.007217     13.5    0.000000  \n",
       "11  -76.039909  40.936161      3.8   68.841406  \n",
       "12 -157.985443  21.366938    643.6  302.078354  \n",
       "13  -83.200089  42.377872      6.8  111.229203  \n",
       "14  -77.955292  43.333633    168.6   60.756501  \n",
       "15  -87.888664  42.936474     13.2    0.000000  \n",
       "16 -155.764557  19.901075     60.0    0.000000  \n",
       "17  -71.047066  42.301380     11.3   52.609490  \n",
       "18 -104.800316  41.016609    300.0  320.763322  \n",
       "19  -86.014481  39.853180    186.6    0.000000  \n",
       "20  -79.356606  37.144112    228.0   32.941231  "
      ]
     },
     "execution_count": 58,
     "metadata": {},
     "output_type": "execute_result"
    }
   ],
   "source": [
    "y_pred = optimized_voting_reg.predict(X_test)\n",
    "y_pred[y_pred < 0.0] = 0.0  # Don't allow negative current\n",
    "\n",
    "pd.concat([\n",
    "    X_test.reset_index(drop=True),\n",
    "    y_test.reset_index(drop=True),\n",
    "    pd.DataFrame(y_pred).reset_index(drop=True)\n",
    "    ], axis=1)"
   ]
  },
  {
   "cell_type": "markdown",
   "id": "917f7d11",
   "metadata": {},
   "source": [
    "---\n",
    "Coefficient analysis"
   ]
  },
  {
   "cell_type": "code",
   "execution_count": 59,
   "id": "aecc21b7",
   "metadata": {},
   "outputs": [
    {
     "name": "stdout",
     "output_type": "stream",
     "text": [
      "Coefficients from Linear Regression:\n",
      "       feature  coefficient\n",
      "3          APR   177.400545\n",
      "5          JUN    51.668179\n",
      "0          JAN    44.087607\n",
      "8          SEP    42.039990\n",
      "7          AUG    38.754741\n",
      "1          FEB    14.106255\n",
      "14    Latitude     1.863072\n",
      "12  Land Value    -0.000876\n",
      "9          OCT    -4.833958\n",
      "13   Longitude   -13.442740\n",
      "10         NOV   -16.493488\n",
      "6          JUL   -31.515696\n",
      "11         DEC   -35.079681\n",
      "2          MAR   -89.434654\n",
      "4          MAY  -115.521498\n"
     ]
    }
   ],
   "source": [
    "print(\"Coefficients from Linear Regression:\")\n",
    "reg_linear.fit(X_train, y_train)\n",
    "coefficients_linear = reg_linear.coef_\n",
    "coefficients_linear_df = pd.DataFrame({\n",
    "    'feature': X_train.columns, 'coefficient': coefficients_linear\n",
    "    })\n",
    "coefficients_linear_df = coefficients_linear_df\\\n",
    "    .sort_values(by='coefficient', ascending=False)\n",
    "print(coefficients_linear_df)"
   ]
  },
  {
   "cell_type": "code",
   "execution_count": 60,
   "id": "aead6f80",
   "metadata": {},
   "outputs": [
    {
     "name": "stdout",
     "output_type": "stream",
     "text": [
      "Permutation Importance from KNeighborsRegressor():\n",
      "       feature  importance\n",
      "14    Latitude    2.768535\n",
      "13   Longitude    0.908372\n",
      "12  Land Value    0.882796\n",
      "4          MAY    0.699286\n",
      "5          JUN    0.533838\n",
      "6          JUL    0.453862\n",
      "9          OCT    0.238398\n",
      "10         NOV    0.122196\n",
      "1          FEB    0.093635\n",
      "8          SEP    0.087140\n",
      "7          AUG    0.084882\n",
      "0          JAN    0.082175\n",
      "2          MAR    0.070877\n",
      "3          APR    0.032562\n",
      "11         DEC    0.015994\n"
     ]
    }
   ],
   "source": [
    "print(\"Permutation Importance from KNeighborsRegressor():\")\n",
    "result_knn = permutation_importance(\n",
    "    best_pipelines['KNeighborsRegressor()'], \n",
    "    X_test, y_test, n_repeats=10, random_state=42, n_jobs=-1\n",
    "    )\n",
    "\n",
    "perm_importances_knn = pd.DataFrame({\n",
    "    'feature':    X_test.columns,\n",
    "    'importance': result_knn.importances_mean\n",
    "    })\n",
    "\n",
    "perm_importances_knn = perm_importances_knn\\\n",
    "    .sort_values(by='importance', ascending=False)\n",
    "\n",
    "print(perm_importances_knn)"
   ]
  },
  {
   "cell_type": "code",
   "execution_count": 61,
   "id": "61f316ca",
   "metadata": {},
   "outputs": [
    {
     "name": "stdout",
     "output_type": "stream",
     "text": [
      "Feature Importance from Decision Tree:\n",
      "       feature    importance\n",
      "7          AUG  5.742700e-01\n",
      "10         NOV  2.338968e-01\n",
      "14    Latitude  7.110246e-02\n",
      "0          JAN  5.665279e-02\n",
      "8          SEP  3.744405e-02\n",
      "6          JUL  1.590327e-02\n",
      "2          MAR  7.582508e-03\n",
      "3          APR  1.684545e-03\n",
      "9          OCT  6.812254e-04\n",
      "13   Longitude  4.686859e-04\n",
      "12  Land Value  2.343676e-04\n",
      "5          JUN  5.565000e-05\n",
      "1          FEB  1.289730e-05\n",
      "4          MAY  9.757460e-06\n",
      "11         DEC  9.837866e-07\n"
     ]
    }
   ],
   "source": [
    "print(\"Feature Importance from Decision Tree:\")\n",
    "reg_tree.fit(X_train, y_train)\n",
    "\n",
    "importances_tree = reg_tree.feature_importances_\n",
    "\n",
    "feature_importance_tree_df = pd.DataFrame({\n",
    "    'feature': X_train.columns,\n",
    "    'importance': importances_tree\n",
    "    })\n",
    "\n",
    "feature_importance_tree_df = feature_importance_tree_df\\\n",
    "    .sort_values(by='importance', ascending=False)\n",
    "print(feature_importance_tree_df)"
   ]
  },
  {
   "cell_type": "code",
   "execution_count": 62,
   "id": "96b6ecbc",
   "metadata": {},
   "outputs": [
    {
     "name": "stdout",
     "output_type": "stream",
     "text": [
      "Coefficients from Ridge Regression:\n",
      "       feature  coefficient\n",
      "3          APR   175.833195\n",
      "5          JUN    50.692379\n",
      "0          JAN    44.153218\n",
      "8          SEP    41.990358\n",
      "7          AUG    38.817470\n",
      "1          FEB    13.897431\n",
      "14    Latitude     1.930919\n",
      "12  Land Value    -0.000871\n",
      "9          OCT    -4.816355\n",
      "13   Longitude   -13.289251\n",
      "10         NOV   -16.125410\n",
      "6          JUL   -31.280417\n",
      "11         DEC   -35.059307\n",
      "2          MAR   -88.796251\n",
      "4          MAY  -114.040102\n"
     ]
    }
   ],
   "source": [
    "print(\"Coefficients from Ridge Regression:\")\n",
    "\n",
    "reg_ridge.fit(X_train, y_train)\n",
    "coefficients_ridge = reg_ridge.coef_\n",
    "coefficients_ridge_df = pd.DataFrame({\n",
    "    'feature': X_train.columns,\n",
    "    'coefficient': coefficients_ridge\n",
    "    })\n",
    "coefficients_ridge_df = coefficients_ridge_df\\\n",
    "    .sort_values(by='coefficient', ascending=False)\n",
    "\n",
    "print(coefficients_ridge_df)"
   ]
  },
  {
   "cell_type": "code",
   "execution_count": 63,
   "id": "cc617bd5",
   "metadata": {},
   "outputs": [
    {
     "name": "stdout",
     "output_type": "stream",
     "text": [
      "Permutation Importance from SVR():\n",
      "       feature  importance\n",
      "14    Latitude    0.036572\n",
      "13   Longitude    0.005435\n",
      "12  Land Value    0.005311\n",
      "1          FEB    0.002514\n",
      "11         DEC    0.000304\n",
      "10         NOV   -0.000010\n",
      "0          JAN   -0.000764\n",
      "5          JUN   -0.003013\n",
      "2          MAR   -0.003454\n",
      "3          APR   -0.004372\n",
      "4          MAY   -0.005116\n",
      "8          SEP   -0.006505\n",
      "9          OCT   -0.006693\n",
      "6          JUL   -0.009130\n",
      "7          AUG   -0.010487\n"
     ]
    }
   ],
   "source": [
    "print(\"Permutation Importance from SVR():\")\n",
    "\n",
    "result_svr = permutation_importance(\n",
    "    best_pipelines['SVR()'],\n",
    "    X_test, y_test, n_repeats=10, random_state=42, n_jobs=-1\n",
    "    )\n",
    "\n",
    "perm_importances_svr = pd.DataFrame({\n",
    "    'feature':    X_test.columns,\n",
    "    'importance': result_svr.importances_mean\n",
    "    })\n",
    "\n",
    "perm_importances_svr = perm_importances_svr\\\n",
    "    .sort_values(by='importance', ascending=False)\n",
    "\n",
    "print(perm_importances_svr)"
   ]
  }
 ],
 "metadata": {
  "kernelspec": {
   "display_name": "junko",
   "language": "python",
   "name": "python3"
  },
  "language_info": {
   "codemirror_mode": {
    "name": "ipython",
    "version": 3
   },
   "file_extension": ".py",
   "mimetype": "text/x-python",
   "name": "python",
   "nbconvert_exporter": "python",
   "pygments_lexer": "ipython3",
   "version": "3.12.11"
  }
 },
 "nbformat": 4,
 "nbformat_minor": 5
}
