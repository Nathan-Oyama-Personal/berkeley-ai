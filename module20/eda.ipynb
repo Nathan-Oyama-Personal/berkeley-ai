{
 "cells": [
  {
   "cell_type": "markdown",
   "id": "2befb9d9",
   "metadata": {},
   "source": [
    "# Capstone Assignment 20.1: Initial Report and Exploratory Data Analysis (EDA)\n",
    "\n",
    "Nathan Oyama"
   ]
  },
  {
   "cell_type": "markdown",
   "id": "d46de7c9",
   "metadata": {},
   "source": [
    "## 1 &emsp; Planning the project\n",
    "\n",
    "There are three data sets to accomplish this project. \n",
    "\n",
    "* Kaggle: \"Percent Sunshine by US City\". 18 Jan 2023. kaggle.com/datasets/thedevastator/annual-percent-of-possible-sunshine-by-us-city.\n",
    "\n",
    "* US Geological Survey: \"The United States Large-Scale Solar Photovoltaic Database (USPVDB)\". 28 Apr 2025. US Department of the Interior. energy.usgs.gov/uspvdb/data.\n",
    "\n",
    "* landvalue: \"ZHVI 3-Bedroom Time Series($) - City\". 25 Jun 2025. landvalue.com/research/data.\n",
    "\n",
    "* Pareto Software: \"United States Cities Database - Basic\". 9 Jun 2025. simplemaps.com/data/us-cities.\n",
    "\n",
    "Then take the following steps _for every dataset_:\n",
    "\n",
    "1. From the data set which is in CSV format, create a pandas DataFrame object.\n",
    "1. Analyze every DataFrame and identify which columns to use for this project.\n",
    "1. Format the DataFrames before merge them.\n",
    "\n",
    "Finally, merge the three DataFrames into one."
   ]
  },
  {
   "cell_type": "markdown",
   "id": "bd62ac95",
   "metadata": {},
   "source": [
    "## 2 &emsp; Analyzing Data Sets"
   ]
  },
  {
   "cell_type": "markdown",
   "id": "ec97b352",
   "metadata": {},
   "source": [
    "Analyze those three data sets.\n",
    "\n",
    "Import required package resources before working on all data sets:"
   ]
  },
  {
   "cell_type": "code",
   "execution_count": 1,
   "id": "06695ac5",
   "metadata": {},
   "outputs": [],
   "source": [
    "import numpy as np\n",
    "import pandas as pd\n",
    "\n",
    "pd.options.mode.copy_on_write = True\n",
    "\n",
    "from sklearn.model_selection import train_test_split, GridSearchCV\n",
    "\n",
    "import warnings\n",
    "\n",
    "warnings.filterwarnings(\"ignore\", message=\".*pkg_resources is deprecated as an API.*\")\n",
    "warnings.filterwarnings(\"ignore\", category=UserWarning)"
   ]
  },
  {
   "cell_type": "markdown",
   "id": "036be2da",
   "metadata": {},
   "source": [
    "### 2.1 &emsp; Analyzing Data Set 1: \"Percent Sunshine by US City\""
   ]
  },
  {
   "cell_type": "code",
   "execution_count": 2,
   "id": "959e4691",
   "metadata": {},
   "outputs": [
    {
     "name": "stdout",
     "output_type": "stream",
     "text": [
      "   index           CITY JAN FEB MAR APR MAY JUN JUL AUG SEP OCT NOV DEC ANN  \\\n",
      "0      0  BIRMINGHAM,AL  46  53  57  65  65  67  59  62  59  66  55  49  58   \n",
      "1      1  MONTGOMERY,AL  47  55  58  64  63  64  61  61  59  63  55  49  58   \n",
      "2      2   ANCHORAGE,AK  43  46  51  50  51  46  43  43  41  36  35  33  43   \n",
      "3      3      JUNEAU,AK  39  35  38  42  44  37  33  35  27  21  26  21  33   \n",
      "4      4        NOME,AK  38  56  54  52  52  43  39  34  38  35  30  36  42   \n",
      "\n",
      "   Unnamed: 14  \n",
      "0          NaN  \n",
      "1          NaN  \n",
      "2          NaN  \n",
      "3          NaN  \n",
      "4          NaN  \n"
     ]
    }
   ],
   "source": [
    "df_sunshine_original = pd.read_csv(\n",
    "    './data/Average Percent of Possible Sunshine by US City.csv'\n",
    "    )\n",
    "\n",
    "print(df_sunshine_original.head())"
   ]
  },
  {
   "cell_type": "markdown",
   "id": "d863eb52",
   "metadata": {},
   "source": [
    "See the first few records of the original DataFrame for sunshine hours. You can ignore and discard some unimportant columns: \"index\" and \"Unnamed: 14\".\n",
    "\n",
    "The remaining columns are the \"CITY\" column, the columns of all 12 months such as \"JAN\" and \"FEB\", and the annual. The \"CITY\" column includes the name of the city in all uppercase, followed by a comma (\",\") and the state abbreviation. You can use this column for the index of this DataFrame. The column for each month represents the number of sunshine hours of the month for every city. The \"ANN\" field represents the average of those monthly sunshine hours. For example, the city of Birmingham, Alabama observed approximately 46 sunshine hours in January; in average, Birmingham observed approximately 58 sunshine hours per month."
   ]
  },
  {
   "cell_type": "code",
   "execution_count": 3,
   "id": "f8b8bc13",
   "metadata": {},
   "outputs": [
    {
     "name": "stdout",
     "output_type": "stream",
     "text": [
      "<class 'pandas.core.frame.DataFrame'>\n",
      "RangeIndex: 317 entries, 0 to 316\n",
      "Data columns (total 16 columns):\n",
      " #   Column       Non-Null Count  Dtype  \n",
      "---  ------       --------------  -----  \n",
      " 0   index        317 non-null    int64  \n",
      " 1   CITY         317 non-null    object \n",
      " 2   JAN          307 non-null    object \n",
      " 3   FEB          309 non-null    object \n",
      " 4   MAR          309 non-null    object \n",
      " 5   APR          309 non-null    object \n",
      " 6   MAY          311 non-null    object \n",
      " 7   JUN          311 non-null    object \n",
      " 8   JUL          317 non-null    object \n",
      " 9   AUG          317 non-null    object \n",
      " 10  SEP          317 non-null    object \n",
      " 11  OCT          317 non-null    object \n",
      " 12  NOV          317 non-null    object \n",
      " 13  DEC          313 non-null    object \n",
      " 14  ANN          307 non-null    object \n",
      " 15  Unnamed: 14  0 non-null      float64\n",
      "dtypes: float64(1), int64(1), object(14)\n",
      "memory usage: 39.8+ KB\n"
     ]
    }
   ],
   "source": [
    "df_sunshine_original.info()"
   ]
  },
  {
   "cell_type": "markdown",
   "id": "2c76a523",
   "metadata": {},
   "source": [
    "### 2.2 &emsp; Analyzing Data Set 2: \"The US Large-Scale Solar Photovoltaic Database (USPVDB)\""
   ]
  },
  {
   "cell_type": "code",
   "execution_count": 4,
   "id": "de029c0b",
   "metadata": {},
   "outputs": [
    {
     "name": "stdout",
     "output_type": "stream",
     "text": [
      "(5712, 26)\n"
     ]
    }
   ],
   "source": [
    "df_photovoltaic_original = pd.read_csv(\n",
    "    './data/uspvdb_v3_0_20250430.csv'\n",
    "    )\n",
    "\n",
    "print(df_photovoltaic_original.shape)"
   ]
  },
  {
   "cell_type": "code",
   "execution_count": 5,
   "id": "c697e98f",
   "metadata": {},
   "outputs": [
    {
     "name": "stdout",
     "output_type": "stream",
     "text": [
      "   case_id multi_poly  eia_id p_state           p_county       ylat  \\\n",
      "0   406374     single   66887      AK  Matanuska-Susitna  61.587349   \n",
      "1   405016      multi    6304      AK   Northwest Arctic  66.838470   \n",
      "2   401476      multi   60058      AL         Lauderdale  34.833809   \n",
      "3   401865      multi   60679      AL               Dale  31.331732   \n",
      "4   401866      multi   60680      AL            Calhoun  33.626301   \n",
      "\n",
      "        xlong   p_area  p_img_date  p_dig_conf                   p_name  \\\n",
      "0 -149.789413   172005    20240814           4            Houston Solar   \n",
      "1 -162.553146     8740    20240719           4          Kotzebue Hybrid   \n",
      "2  -87.838394  1735134    20220212           4    River Bend Solar, LLC   \n",
      "3  -85.729469   187820    20220609           4  Fort Rucker Solar Array   \n",
      "4  -85.940590    39717    20210814           4         ANAD Solar Array   \n",
      "\n",
      "   p_year p_pwr_reg  \n",
      "0    2023        AK  \n",
      "1    2020       NaN  \n",
      "2    2016       TVA  \n",
      "3    2017      SOCO  \n",
      "4    2017      SOCO  \n"
     ]
    }
   ],
   "source": [
    "print(df_photovoltaic_original.iloc[:,:13].head())"
   ]
  },
  {
   "cell_type": "code",
   "execution_count": 6,
   "id": "9d5b3015",
   "metadata": {},
   "outputs": [
    {
     "name": "stdout",
     "output_type": "stream",
     "text": [
      "  p_tech_pri p_tech_sec p_sys_type       p_axis  p_azimuth  p_tilt  p_battery  \\\n",
      "0         PV        NaN     ground   fixed-tilt      180.0    40.0        NaN   \n",
      "1         PV        NaN     ground  single-axis      156.0    40.0  batteries   \n",
      "2         PV       c-si     ground  single-axis      270.0    17.0        NaN   \n",
      "3         PV  thin-film     ground  single-axis      188.0    20.0        NaN   \n",
      "4         PV  thin-film     ground   fixed-tilt      180.0    20.0        NaN   \n",
      "\n",
      "   p_cap_ac  p_cap_dc      p_type       p_agrivolt p_comm  p_zscore  \n",
      "0       6.0       8.4  greenfield             crop    NaN -0.457675  \n",
      "1       1.7       3.4  greenfield  non-agrivoltaic    NaN  5.617232  \n",
      "2      75.0     100.2  greenfield  non-agrivoltaic    NaN -0.298527  \n",
      "3      10.6      12.7  greenfield  non-agrivoltaic    NaN -0.122265  \n",
      "4       7.4       9.7   superfund  non-agrivoltaic    NaN  3.031619  \n"
     ]
    }
   ],
   "source": [
    "print(df_photovoltaic_original.iloc[:,13:26].head())"
   ]
  },
  {
   "cell_type": "code",
   "execution_count": 7,
   "id": "d1a0b739",
   "metadata": {},
   "outputs": [
    {
     "data": {
      "text/plain": [
       "(0, 26)"
      ]
     },
     "execution_count": 7,
     "metadata": {},
     "output_type": "execute_result"
    }
   ],
   "source": [
    "df_photovoltaic_original.query('p_cap_ac.isnull() | p_cap_dc.isnull()').shape"
   ]
  },
  {
   "cell_type": "markdown",
   "id": "d725d236",
   "metadata": {},
   "source": [
    "### 2.3 &emsp; Analyzing Data Set 3: \"ZHVI 3-Bedroom Time Series($) - City\""
   ]
  },
  {
   "cell_type": "code",
   "execution_count": 8,
   "id": "34dd771a",
   "metadata": {},
   "outputs": [
    {
     "data": {
      "text/plain": [
       "Index(['RegionID', 'SizeRank', 'RegionName', 'RegionType', 'StateName',\n",
       "       'State', 'Metro', 'CountyName', '2000-01-31', '2000-02-29',\n",
       "       ...\n",
       "       '2024-08-31', '2024-09-30', '2024-10-31', '2024-11-30', '2024-12-31',\n",
       "       '2025-01-31', '2025-02-28', '2025-03-31', '2025-04-30', '2025-05-31'],\n",
       "      dtype='object', length=313)"
      ]
     },
     "execution_count": 8,
     "metadata": {},
     "output_type": "execute_result"
    }
   ],
   "source": [
    "df_landvalue_original = pd.read_csv(\n",
    "    './data/City_zhvi_bdrmcnt_3_uc_sfrcondo_tier_0.33_0.67_sm_sa_month.csv.zip',\n",
    "    compression='zip'\n",
    "    )\n",
    "\n",
    "df_landvalue_original.columns"
   ]
  },
  {
   "cell_type": "code",
   "execution_count": 9,
   "id": "1ae32f78",
   "metadata": {},
   "outputs": [
    {
     "name": "stdout",
     "output_type": "stream",
     "text": [
      "<class 'pandas.core.frame.DataFrame'>\n",
      "RangeIndex: 15711 entries, 0 to 15710\n",
      "Columns: 313 entries, RegionID to 2025-05-31\n",
      "dtypes: float64(305), int64(2), object(6)\n",
      "memory usage: 37.5+ MB\n"
     ]
    }
   ],
   "source": [
    "df_landvalue_original.info()"
   ]
  },
  {
   "cell_type": "code",
   "execution_count": 10,
   "id": "9ac01ebb",
   "metadata": {},
   "outputs": [
    {
     "name": "stdout",
     "output_type": "stream",
     "text": [
      "   RegionID  SizeRank   RegionName RegionType StateName State  \\\n",
      "0      6181         0     New York       city        NY    NY   \n",
      "1     12447         1  Los Angeles       city        CA    CA   \n",
      "2     39051         2      Houston       city        TX    TX   \n",
      "3     17426         3      Chicago       city        IL    IL   \n",
      "4      6915         4  San Antonio       city        TX    TX   \n",
      "\n",
      "                                   Metro          CountyName     2025-05-31  \n",
      "0  New York-Newark-Jersey City, NY-NJ-PA       Queens County  840048.900964  \n",
      "1     Los Angeles-Long Beach-Anaheim, CA  Los Angeles County  964249.977821  \n",
      "2   Houston-The Woodlands-Sugar Land, TX       Harris County  253134.060059  \n",
      "3     Chicago-Naperville-Elgin, IL-IN-WI         Cook County  336756.496352  \n",
      "4          San Antonio-New Braunfels, TX        Bexar County  235986.092899  \n"
     ]
    }
   ],
   "source": [
    "print(\n",
    "    df_landvalue_original[[\n",
    "        'RegionID', 'SizeRank', 'RegionName', 'RegionType', 'StateName',\n",
    "        'State', 'Metro', 'CountyName', '2025-05-31'\n",
    "        ]].head()\n",
    "    )"
   ]
  },
  {
   "cell_type": "markdown",
   "id": "21d29bc2",
   "metadata": {},
   "source": [
    "### 2.4 &emsp; City information\n",
    "\n",
    "This data set contains the name of most cities in the United States and data fields for every city: the name, longitude, latitude, population density, and so on."
   ]
  },
  {
   "cell_type": "code",
   "execution_count": 11,
   "id": "c35cfc4a",
   "metadata": {},
   "outputs": [
    {
     "name": "stdout",
     "output_type": "stream",
     "text": [
      "          city   city_ascii state_id  state_name  county_fips  county_name  \\\n",
      "0     New York     New York       NY    New York        36081       Queens   \n",
      "1  Los Angeles  Los Angeles       CA  California         6037  Los Angeles   \n",
      "2      Chicago      Chicago       IL    Illinois        17031         Cook   \n",
      "3        Miami        Miami       FL     Florida        12086   Miami-Dade   \n",
      "4      Houston      Houston       TX       Texas        48201       Harris   \n",
      "\n",
      "       lat       lng  population  density source  military  incorporated  \\\n",
      "0  40.6943  -73.9249    18832416  10943.7  shape     False          True   \n",
      "1  34.1141 -118.4068    11885717   3165.7  shape     False          True   \n",
      "2  41.8375  -87.6866     8489066   4590.3  shape     False          True   \n",
      "3  25.7840  -80.2101     6113982   4791.1  shape     False          True   \n",
      "4  29.7860  -95.3885     6046392   1386.2  shape     False          True   \n",
      "\n",
      "              timezone  ranking  \\\n",
      "0     America/New_York        1   \n",
      "1  America/Los_Angeles        1   \n",
      "2      America/Chicago        1   \n",
      "3     America/New_York        1   \n",
      "4      America/Chicago        1   \n",
      "\n",
      "                                                zips          id  \n",
      "0  11229 11228 11226 11225 11224 11222 11221 1122...  1840034016  \n",
      "1  91367 90291 90293 90292 91316 91311 90035 9003...  1840020491  \n",
      "2  60018 60649 60641 60640 60643 60642 60645 6064...  1840000494  \n",
      "3  33128 33129 33125 33126 33127 33149 33144 3314...  1840015149  \n",
      "4  77069 77068 77061 77060 77063 77062 77065 7706...  1840020925  \n",
      "\n",
      "df_city_original.shape ... (31254, 17)\n"
     ]
    }
   ],
   "source": [
    "df_city_original = pd.read_csv(\n",
    "    './data/uscities.csv'\n",
    "    )\n",
    "\n",
    "print(df_city_original.head())\n",
    "print(\"\")\n",
    "print(\"df_city_original.shape ...\", df_city_original.shape)"
   ]
  },
  {
   "cell_type": "markdown",
   "id": "28d2431b",
   "metadata": {},
   "source": [
    "In this data set, there are the `city` column and the `city_ascii` column that you may want to check the difference:"
   ]
  },
  {
   "cell_type": "code",
   "execution_count": 12,
   "id": "bb4ead54",
   "metadata": {},
   "outputs": [
    {
     "name": "stdout",
     "output_type": "stream",
     "text": [
      "The first few rows out of 76 rows whose values in the city field and city_ascii field are different: \n",
      "\n",
      "            city  city_ascii state_id\n",
      "265      Bayamón     Bayamon       PR\n",
      "484   San Germán  San German       PR\n",
      "525     Mayagüez    Mayaguez       PR\n",
      "752   Juana Díaz  Juana Diaz       PR\n",
      "2014      Cataño      Catano       PR\n"
     ]
    }
   ],
   "source": [
    "df_city_diff = \\\n",
    "    df_city_original[['city','city_ascii','state_id']]\\\n",
    "    .query('city != city_ascii')\n",
    "\n",
    "print(\n",
    "    \"The first few rows out of\", df_city_diff.shape[0], \"rows \"\n",
    "    \"whose values in the city field and city_ascii field are different: \"\n",
    "    \"\\n\"\n",
    "    )\n",
    "\n",
    "print(df_city_diff.head())"
   ]
  },
  {
   "cell_type": "markdown",
   "id": "6ef12329",
   "metadata": {},
   "source": [
    "There should be many city names that contain Spanish letters on Puerto Rico. Check all cities on Puerto Rico in the sunshine data set:"
   ]
  },
  {
   "cell_type": "code",
   "execution_count": 13,
   "id": "ada7837d",
   "metadata": {},
   "outputs": [
    {
     "name": "stdout",
     "output_type": "stream",
     "text": [
      "157    SAN JUAN,PR\n",
      "Name: CITY, dtype: object\n"
     ]
    }
   ],
   "source": [
    "print(\n",
    "    df_sunshine_original.iloc[1:158].query('CITY.str.contains(\",PR\")')['CITY']\n",
    "    )"
   ]
  },
  {
   "cell_type": "markdown",
   "id": "1dd90d59",
   "metadata": {},
   "source": [
    "The sunshine data set contained only one city on Puerto Rico: San Juan. Check how \"San Juan\" is defined in the city data set:"
   ]
  },
  {
   "cell_type": "code",
   "execution_count": 14,
   "id": "0be70cd9",
   "metadata": {},
   "outputs": [
    {
     "name": "stdout",
     "output_type": "stream",
     "text": [
      "          city city_ascii state_id\n",
      "29    San Juan   San Juan       PR\n",
      "1298  San Juan   San Juan       TX\n"
     ]
    }
   ],
   "source": [
    "print(\n",
    "    df_city_original[['city','city_ascii','state_id']]\\\n",
    "        .query('city_ascii == \"San Juan\"')\n",
    "    )"
   ]
  },
  {
   "cell_type": "markdown",
   "id": "d904ee28",
   "metadata": {},
   "source": [
    "There are actually two cities of San Juan: one on Puerto Rico and the other one in Texas. But neither city name contains non-ascii letter and so you can keep the first record for San Juan, Puerto Rico.\n",
    "\n",
    "Check all cities containing non-ascii letters outside Puerto Rico:"
   ]
  },
  {
   "cell_type": "code",
   "execution_count": 15,
   "id": "3432c676",
   "metadata": {},
   "outputs": [
    {
     "name": "stdout",
     "output_type": "stream",
     "text": [
      "                       city            city_ascii state_id\n",
      "2250   La Cañada Flintridge  La Canada Flintridge       CA\n",
      "2627             Cañon City            Canon City       CO\n",
      "3944               Española              Espanola       NM\n",
      "5238            Piñon Hills           Pinon Hills       CA\n",
      "11895          César Chávez          Cesar Chavez       TX\n",
      "14389              Doña Ana              Dona Ana       NM\n",
      "15643             Cañoncito             Canoncito       NM\n",
      "17598           Peña Blanca           Pena Blanca       NM\n",
      "18469               Peñasco               Penasco       NM\n",
      "19962  Cañada de los Alamos  Canada de los Alamos       NM\n",
      "20794                 Cañon                 Canon       NM\n",
      "27154              Salineño              Salineno       TX\n",
      "28089               Cañones               Canones       NM\n",
      "28160        Salineño North        Salineno North       TX\n",
      "29328                Lopeño                Lopeno       TX\n"
     ]
    }
   ],
   "source": [
    "print(df_city_diff.query('state_id != \"PR\"'))"
   ]
  },
  {
   "cell_type": "markdown",
   "id": "abe6521d",
   "metadata": {},
   "source": [
    "These cities are located in California, Colorado, New Mexico, or Texas. Check cities in those states in the sunshine data set:"
   ]
  },
  {
   "cell_type": "code",
   "execution_count": 16,
   "id": "e1d9da8d",
   "metadata": {},
   "outputs": [
    {
     "name": "stdout",
     "output_type": "stream",
     "text": [
      "10             FRESNO,CA\n",
      "11        LOS ANGELES,CA\n",
      "12         SACRAMENTO,CA\n",
      "13          SAN DIEGO,CA\n",
      "14      SAN FRANCISCO,CA\n",
      "15             DENVER,CO\n",
      "16     GRAND JUNCTION,CO\n",
      "17             PUEBLO,CO\n",
      "84        ALBUQUERQUE,NM\n",
      "85            ROSWELL,NM\n",
      "123           ABILENE,TX\n",
      "124          AMARILLO,TX\n",
      "125            AUSTIN,TX\n",
      "126       BROWNSVILLE,TX\n",
      "127    CORPUS CHRISTI,TX\n",
      "128            DALLAS,TX\n",
      "129           EL PASO,TX\n",
      "130           HOUSTON,TX\n",
      "131           LUBBOCK,TX\n",
      "132    MIDLAND-ODESSA,TX\n",
      "133       PORT ARTHUR,TX\n",
      "134       SAN ANTONIO,TX\n",
      "Name: CITY, dtype: object\n"
     ]
    }
   ],
   "source": [
    "print(df_sunshine_original.iloc[1:158].query('False \\\n",
    "    |   CITY.str.contains(\",CA\") \\\n",
    "    |   CITY.str.contains(\",CO\") \\\n",
    "    |   CITY.str.contains(\",NM\") \\\n",
    "    |   CITY.str.contains(\",TX\") \\\n",
    "    ')['CITY'])"
   ]
  },
  {
   "cell_type": "markdown",
   "id": "e102b8df",
   "metadata": {},
   "source": [
    "Any of these cities in the sunshine data set appeared in the city data set where the city name contained non-English letters. Therefore, you can remove all records containing non-English letters from the city data set."
   ]
  },
  {
   "cell_type": "markdown",
   "id": "89311cad",
   "metadata": {},
   "source": [
    "### 2.4 &emsp; Planning the merged Data Frame"
   ]
  },
  {
   "cell_type": "markdown",
   "id": "2ddfccdf",
   "metadata": {},
   "source": [
    "\n",
    "A combined DataFrame: `df_solar`\n",
    "\n",
    "| Column               | Example          | Data Sets                          |\n",
    "| :------------------- | :--------------- | :--------------------------------- |\n",
    "| County-State         | BERKELEY,CA      | City, Photovoltaic, Land Value     |\n",
    "| City-State           | ALAMEDA,CA       | City, Sunshine, Land Value         |\n",
    "| Longitude            | -149.789413.     | City, Photovoltaic                 |\n",
    "| Latitude             | 61.587349        | Sunshine, Photovoltaic, Land Value |\n",
    "| ANN                  | 58               | Sunshine                           |\n",
    "| JAN ... DEC          | 58               | Sunshine                           |\n",
    "| Current_log          | 14.4             | Logarithm of (DC + AC)             |\n",
    "| Land Value           | 840048.900963529 | Land Value                         |\n",
    "\n",
    "Some cities that are listed in the Land Value data set and the Sunshine data set do not have solar power plants. In later steps, you predict the Current_log in cities that do not have solar power plants and tell which cities you should build solar power plants.\n",
    "\n",
    "\n",
    "Note that in the United States, city names are unique only within the same state. Some cities share the same name and even the same county name while those are located in different states.\n",
    "\n",
    "| Column | Sunshine | Land Value  | PV      | City    | Example 1  | Example 2  |\n",
    "| :----- | :------: | :---------: | :-----: | :-----: | :--------- | :--------- |\n",
    "| City   | &#9679;  | &#9679;     | -       | &#9679; | Franklin   | Franklin   |\n",
    "| County | -        | &#9679;     | &#9679; | &#9679; | Williamson | Williamson |\n",
    "| State  | &#9679;  | &#9679;     | &#9679; | &#9679; | Tennessee  | Texas      |\n"
   ]
  },
  {
   "cell_type": "markdown",
   "id": "f3287dc1",
   "metadata": {},
   "source": [
    "### 2.4. Converting Data Frames\n",
    "\n",
    "The original data sets are stored in CSV format. To load these CSV data sets and convert these to the pandas' DataFrame objects, all numeric entries should be recognized as either integer data type of float data type."
   ]
  },
  {
   "cell_type": "code",
   "execution_count": 17,
   "id": "78908b0a",
   "metadata": {},
   "outputs": [],
   "source": [
    "def convert_df_obj_numeric(df):\n",
    "    cols_obj = df.select_dtypes(include='object').columns\n",
    "    df[cols_obj] = df[cols_obj].apply(pd.to_numeric, errors='coerce')\n",
    "    return df"
   ]
  },
  {
   "cell_type": "markdown",
   "id": "3f03caf1",
   "metadata": {},
   "source": [
    "## 3 &emsp; Extracting Data Sets"
   ]
  },
  {
   "cell_type": "markdown",
   "id": "75585566",
   "metadata": {},
   "source": [
    "### 3.1 &emsp; Dataset 1: Sunshine"
   ]
  },
  {
   "cell_type": "code",
   "execution_count": 18,
   "id": "8c766e14",
   "metadata": {},
   "outputs": [],
   "source": [
    "df_sunshine_original = pd.read_csv(\n",
    "    './data/Average Percent of Possible Sunshine by US City.csv'\n",
    "    )"
   ]
  },
  {
   "cell_type": "markdown",
   "id": "5cac2b1e",
   "metadata": {},
   "source": [
    "Check the `CITY` column:"
   ]
  },
  {
   "cell_type": "code",
   "execution_count": 19,
   "id": "506e8d6f",
   "metadata": {},
   "outputs": [
    {
     "name": "stdout",
     "output_type": "stream",
     "text": [
      "CITY                  \n",
      "ABERDEEN,SD               2\n",
      "PENSACOLA,FL              2\n",
      "NOME,AK                   2\n",
      "NORFOLK,VA                2\n",
      "NORTH PLATTE,NE           2\n",
      "                         ..\n",
      "GRAND RAPIDS,MI           2\n",
      "GREAT FALLS,MT            2\n",
      "GREEN BAY,WI              2\n",
      "YAP- W CAROLINE IS.,PC    2\n",
      "CITY                      1\n",
      "Name: count, Length: 159, dtype: int64\n"
     ]
    }
   ],
   "source": [
    "print(df_sunshine_original[['CITY']].value_counts())"
   ]
  },
  {
   "cell_type": "markdown",
   "id": "709cbd8c",
   "metadata": {},
   "source": [
    "There is one invalid entry `\"CITY\"`, and every other city has exact two entries. Check the row where the `CITY` column is `CITY`:"
   ]
  },
  {
   "cell_type": "code",
   "execution_count": 20,
   "id": "5bc60d3d",
   "metadata": {},
   "outputs": [
    {
     "name": "stdout",
     "output_type": "stream",
     "text": [
      "     index  CITY  JAN  FEB  MAR  APR  MAY  JUN  JUL  AUG  SEP  OCT  NOV  DEC  \\\n",
      "158    158  CITY  JAN  FEB  MAR  APR  MAY  JUN  JUL  AUG  SEP  OCT  NOV  DEC   \n",
      "\n",
      "     ANN  Unnamed: 14  \n",
      "158  ANN          NaN  \n"
     ]
    }
   ],
   "source": [
    "print(df_sunshine_original[df_sunshine_original['CITY'] == 'CITY'])"
   ]
  },
  {
   "cell_type": "code",
   "execution_count": 21,
   "id": "11e123ee",
   "metadata": {},
   "outputs": [
    {
     "name": "stdout",
     "output_type": "stream",
     "text": [
      "     index            CITY  JAN  FEB  MAR  APR  MAY  JUN JUL AUG SEP OCT NOV  \\\n",
      "115    115     ABERDEEN,SD  NaN   54   58   63   65   66  74  78  68  48  21   \n",
      "315    315     ABERDEEN,SD  NaN   54   58   63   65   66  74  78  68  48  21   \n",
      "123    123      ABILENE,TX   63   66   70   71   71   77  80  75  69  68  64   \n",
      "182    182      ABILENE,TX   63   66   70   71   71   77  80  75  69  68  64   \n",
      "86      86       ALBANY,NY   46   52   51   55   53   55  62  58  54  46  33   \n",
      "287    287       ALBANY,NY   46   52   51   55   53   55  62  58  54  46  33   \n",
      "84      84  ALBUQUERQUE,NM   73   73   73   78   80   82  76  76  77  80  75   \n",
      "169    169  ALBUQUERQUE,NM   73   73   73   78   80   82  76  76  77  80  75   \n",
      "108    108    ALLENTOWN,PA  NaN  NaN  NaN  NaN  NaN  NaN  90  93  82  52  47   \n",
      "314    314    ALLENTOWN,PA  NaN  NaN  NaN  NaN  NaN  NaN  90  93  82  52  47   \n",
      "\n",
      "     DEC  ANN  Unnamed: 14  \n",
      "115  NaN  NaN          NaN  \n",
      "315  NaN  NaN          NaN  \n",
      "123   65   69          NaN  \n",
      "182   65   69          NaN  \n",
      "86    36   50          NaN  \n",
      "287   36   50          NaN  \n",
      "84    73   76          NaN  \n",
      "169   73   76          NaN  \n",
      "108  NaN  NaN          NaN  \n",
      "314  NaN  NaN          NaN  \n"
     ]
    }
   ],
   "source": [
    "print(df_sunshine_original.sort_values(by=['CITY','index']).head(10))"
   ]
  },
  {
   "cell_type": "markdown",
   "id": "072fe01a",
   "metadata": {},
   "source": [
    "In this data set, the row where `'index'` is 158 does not include appropriate values thus you can remove it.\n",
    "\n",
    "See the `\"index\"` field of every pairs of rows for every city; one of those rows have the value of less than 158 and the other rows have the value of greater than 158. Also all other values such as `\"ANN\"` are the same.\n",
    "\n",
    "Assume that this data set includes two tables with the same rows in different orders. The first table spans between line 1 and line 157 in the original CSV file, and the second table spans between line 158 and line 318. You only need the first one.\n",
    "\n",
    "Construct a new DataFrame that is based on the original data set for the sunshine information with the following changes:\n",
    "\n",
    "* Include all rows of the first 157 records.\n",
    "* Rename the `CITY` column `City-State`.\n",
    "* Change the index column from the `index` column to the `City-State` column.\n",
    "* Trim off the unnecessary columns: `index` and `\"Unnamed: 14\"`."
   ]
  },
  {
   "cell_type": "code",
   "execution_count": 22,
   "id": "15aab4b1",
   "metadata": {},
   "outputs": [],
   "source": [
    "df_sunshine = df_sunshine_original.iloc[1:158]\n",
    "\n",
    "df_sunshine.rename(columns={'CITY': 'City-State'}, inplace=True)\n",
    "\n",
    "df_sunshine.set_index(['City-State'], inplace=True)\n",
    "\n",
    "del df_sunshine['index']\n",
    "del df_sunshine['Unnamed: 14']"
   ]
  },
  {
   "cell_type": "markdown",
   "id": "d2afc274",
   "metadata": {},
   "source": [
    "Check rows that include a null value in any field:"
   ]
  },
  {
   "cell_type": "code",
   "execution_count": 23,
   "id": "65d350ff",
   "metadata": {},
   "outputs": [
    {
     "name": "stdout",
     "output_type": "stream",
     "text": [
      "               JAN  FEB  MAR  APR  MAY  JUN JUL AUG SEP OCT NOV  DEC  ANN\n",
      "City-State                                                               \n",
      "TUPELO,MS      NaN  NaN  NaN  NaN  NaN  NaN  66  59  61  67  57   45  NaN\n",
      "CINCINNATI,OH  NaN  NaN  NaN  NaN   47   70  85  76  77  50  44   30  NaN\n",
      "ALLENTOWN,PA   NaN  NaN  NaN  NaN  NaN  NaN  90  93  82  52  47  NaN  NaN\n",
      "ABERDEEN,SD    NaN   54   58   63   65   66  74  78  68  48  21  NaN  NaN\n",
      "ELKINS,WV      NaN  NaN  NaN  NaN  NaN  NaN  69  50  52  43  31   18  NaN\n"
     ]
    }
   ],
   "source": [
    "print(df_sunshine[df_sunshine.isna().any(axis=1)])"
   ]
  },
  {
   "cell_type": "markdown",
   "id": "c673f6bc",
   "metadata": {},
   "source": [
    "There are 5 rows which constitutes ~3.2% of the whole DataFrame. Because these rows seem almost impossible to find appropriate values to fill in the null fields, you should discard these 5 records."
   ]
  },
  {
   "cell_type": "code",
   "execution_count": 24,
   "id": "73b0d6d4",
   "metadata": {},
   "outputs": [],
   "source": [
    "df_sunshine.dropna(inplace=True)"
   ]
  },
  {
   "cell_type": "code",
   "execution_count": 25,
   "id": "46ca0160",
   "metadata": {},
   "outputs": [],
   "source": [
    "del df_sunshine['ANN']"
   ]
  },
  {
   "cell_type": "markdown",
   "id": "72228609",
   "metadata": {},
   "source": [
    "Convert entries in the numeric columns to numeric data type:"
   ]
  },
  {
   "cell_type": "code",
   "execution_count": 26,
   "id": "ddfc5a41",
   "metadata": {},
   "outputs": [
    {
     "name": "stdout",
     "output_type": "stream",
     "text": [
      "               JAN  FEB  MAR  APR  MAY  JUN  JUL  AUG  SEP  OCT  NOV  DEC\n",
      "City-State                                                               \n",
      "MONTGOMERY,AL   47   55   58   64   63   64   61   61   59   63   55   49\n",
      "ANCHORAGE,AK    43   46   51   50   51   46   43   43   41   36   35   33\n",
      "JUNEAU,AK       39   35   38   42   44   37   33   35   27   21   26   21\n",
      "NOME,AK         38   56   54   52   52   43   39   34   38   35   30   36\n",
      "FLAGSTAFF,AZ    71   73   72   82   83   88   74   75   79   77   72   76\n"
     ]
    }
   ],
   "source": [
    "cols_numeric = [\n",
    "    'JAN','FEB','MAR','APR','MAY','JUN','JUL','AUG','SEP','OCT','NOV','DEC'\n",
    "    ]\n",
    "\n",
    "df_sunshine[cols_numeric] = df_sunshine[cols_numeric]\\\n",
    "    .apply(pd.to_numeric, errors='coerce')\n",
    "\n",
    "print(df_sunshine.head())"
   ]
  },
  {
   "cell_type": "code",
   "execution_count": 27,
   "id": "3d975007",
   "metadata": {},
   "outputs": [
    {
     "name": "stdout",
     "output_type": "stream",
     "text": [
      "              JAN         FEB         MAR         APR         MAY         JUN  \\\n",
      "count  152.000000  152.000000  152.000000  152.000000  152.000000  152.000000   \n",
      "mean    51.039474   56.013158   59.164474   61.625000   62.921053   66.302632   \n",
      "std     11.677159    9.966159   10.116830   10.474701   10.261822   11.132578   \n",
      "min     20.000000   28.000000   31.000000   36.000000   37.000000   31.000000   \n",
      "25%     43.000000   50.000000   52.000000   55.000000   58.000000   61.000000   \n",
      "50%     51.000000   56.000000   59.000000   59.000000   61.000000   65.500000   \n",
      "75%     58.000000   62.000000   65.000000   67.000000   66.250000   72.000000   \n",
      "max     80.000000   83.000000   87.000000   92.000000   94.000000   95.000000   \n",
      "\n",
      "              JUL         AUG         SEP         OCT         NOV         DEC  \n",
      "count  152.000000  152.000000  152.000000  152.000000  152.000000  152.000000  \n",
      "mean    68.848684   67.315789   64.217105   60.184211   50.105263   47.309211  \n",
      "std     11.375447   11.030614   10.945934   12.026693   13.457885   13.877531  \n",
      "min     30.000000   30.000000   27.000000   21.000000   21.000000   16.000000  \n",
      "25%     64.000000   62.000000   58.750000   54.000000   41.000000   37.750000  \n",
      "50%     69.000000   67.000000   63.000000   60.000000   50.500000   48.000000  \n",
      "75%     76.000000   75.000000   70.000000   67.000000   59.000000   56.000000  \n",
      "max     97.000000   96.000000   95.000000   88.000000   83.000000   79.000000  \n"
     ]
    }
   ],
   "source": [
    "print(df_sunshine.describe())"
   ]
  },
  {
   "cell_type": "markdown",
   "id": "26dae6c2",
   "metadata": {},
   "source": [
    "All the maximum and minimum values look reasonable. For example, there was a city where the sunshine hours were only 16 hours in December, whereas another city observed 97 sunshine hours in July. Remember, the United States is located in the northern hemisphere, and day time is longer in summer.\n",
    "\n",
    "Take a look at the cities of the highest sunshine hours in July and the lowest hours in December:"
   ]
  },
  {
   "cell_type": "code",
   "execution_count": 28,
   "id": "e513e06a",
   "metadata": {},
   "outputs": [
    {
     "name": "stdout",
     "output_type": "stream",
     "text": [
      "               JUL  DEC\n",
      "City-State             \n",
      "SACRAMENTO,CA   97   47\n",
      "QUILLAYUTE,WA   42   16\n"
     ]
    }
   ],
   "source": [
    "print(df_sunshine.query('JUL == 97.0 | DEC == 16.0')[['JUL','DEC']])"
   ]
  },
  {
   "cell_type": "code",
   "execution_count": 29,
   "id": "0ec1b23e",
   "metadata": {},
   "outputs": [],
   "source": [
    "del df_sunshine_original"
   ]
  },
  {
   "cell_type": "markdown",
   "id": "1b940571",
   "metadata": {},
   "source": [
    "### 3.2 &emsp; Data Set 2: Photovoltaic"
   ]
  },
  {
   "cell_type": "code",
   "execution_count": 30,
   "id": "f9bd619c",
   "metadata": {},
   "outputs": [
    {
     "name": "stdout",
     "output_type": "stream",
     "text": [
      "           AC     DC          County-State\n",
      "case_id                                   \n",
      "406374    6.0    8.4  MATANUSKA-SUSITNA,AK\n",
      "405016    1.7    3.4   NORTHWEST ARCTIC,AK\n",
      "401476   75.0  100.2         LAUDERDALE,AL\n",
      "401865   10.6   12.7               DALE,AL\n",
      "401866    7.4    9.7            CALHOUN,AL\n"
     ]
    }
   ],
   "source": [
    "df_photovoltaic = df_photovoltaic_original[[\n",
    "    'case_id', 'p_county', 'p_state', 'p_cap_ac', 'p_cap_dc'\n",
    "    ]].set_index('case_id')\n",
    "\n",
    "df_photovoltaic.rename(\n",
    "    columns={\n",
    "        'p_cap_ac': 'AC',\n",
    "        'p_cap_dc': 'DC'\n",
    "        },\n",
    "    inplace=True\n",
    "    )\n",
    "\n",
    "df_photovoltaic['County-State'] = df_photovoltaic['p_county'].str.upper() \\\n",
    "    + ',' +  df_photovoltaic['p_state']\n",
    "\n",
    "del df_photovoltaic['p_county']\n",
    "del df_photovoltaic['p_state']\n",
    "# del df_photovoltaic_original\n",
    "\n",
    "print(df_photovoltaic.head())"
   ]
  },
  {
   "cell_type": "code",
   "execution_count": 31,
   "id": "42e1c8e0",
   "metadata": {},
   "outputs": [],
   "source": [
    "df_photovoltaic = df_photovoltaic.groupby('County-State').sum()"
   ]
  },
  {
   "cell_type": "code",
   "execution_count": 32,
   "id": "c33e6561",
   "metadata": {},
   "outputs": [
    {
     "name": "stdout",
     "output_type": "stream",
     "text": [
      "                AC           DC      Current  Current_log\n",
      "count  1100.000000  1100.000000  1100.000000  1100.000000\n",
      "mean     90.132727   112.664182   202.796909     3.840443\n",
      "std     257.494335   316.062268   573.237206     1.775106\n",
      "min       0.300000     1.000000     1.800000     0.587787\n",
      "25%       4.500000     5.700000    10.175000     2.319925\n",
      "50%      20.000000    26.900000    47.250000     3.855452\n",
      "75%      80.000000   104.075000   185.250000     5.221697\n",
      "max    3690.600000  4498.200000  8180.200000     9.009472\n"
     ]
    }
   ],
   "source": [
    "df_photovoltaic['Current'] = df_photovoltaic['AC'] + df_photovoltaic['DC']\n",
    "df_photovoltaic['Current_log'] = np.log(\n",
    "    df_photovoltaic['AC'] + df_photovoltaic['DC']\n",
    ")\n",
    "\n",
    "print(df_photovoltaic.describe())"
   ]
  },
  {
   "cell_type": "markdown",
   "id": "ff325048",
   "metadata": {},
   "source": [
    "The alternate current (\"AC\") and the direct current (\"DC\") look so similar that the combined current (\"Current\") should be good enough to assess and predict the solar power in every city. You can remove the AC and DC from this DataFrame."
   ]
  },
  {
   "cell_type": "code",
   "execution_count": 33,
   "id": "b82e9a2b",
   "metadata": {},
   "outputs": [],
   "source": [
    "del df_photovoltaic['AC']\n",
    "del df_photovoltaic['DC']\n",
    "del df_photovoltaic['Current']"
   ]
  },
  {
   "cell_type": "markdown",
   "id": "e7e8dd03",
   "metadata": {},
   "source": [
    "### 3.3 &emsp; Dataset 3: Land Values"
   ]
  },
  {
   "cell_type": "markdown",
   "id": "0dfa51be",
   "metadata": {},
   "source": [
    "In this original data set, there are many columns of historical prices of the average home values of 3-bedroom houses but you only need the latest values: `\"2025-05-31\"`.\n",
    "\n",
    "See the first few rows of the original data set while excluding all the other columns for historical home values:"
   ]
  },
  {
   "cell_type": "code",
   "execution_count": 34,
   "id": "5747f0eb",
   "metadata": {},
   "outputs": [
    {
     "name": "stdout",
     "output_type": "stream",
     "text": [
      "             Land Value    County-State      City-State\n",
      "RegionID                                               \n",
      "6181      840048.900964       QUEENS,NY     NEW YORK,NY\n",
      "12447     964249.977821  LOS ANGELES,CA  LOS ANGELES,CA\n",
      "39051     253134.060059       HARRIS,TX      HOUSTON,TX\n",
      "17426     336756.496352         COOK,IL      CHICAGO,IL\n",
      "6915      235986.092899        BEXAR,TX  SAN ANTONIO,TX\n",
      "\n",
      "15711 rows\n"
     ]
    }
   ],
   "source": [
    "df_landvalue = df_landvalue_original.copy()[[\n",
    "    'RegionID', 'State', 'RegionName', 'CountyName', '2025-05-31'\n",
    "    ]].set_index('RegionID')\n",
    "\n",
    "df_landvalue.rename(columns={'2025-05-31': 'Land Value'}, inplace=True)\n",
    "\n",
    "df_landvalue['County-State']\\\n",
    "    = df_landvalue['CountyName']\\\n",
    "        .str.replace(r'\\s* County$', '', regex=True)\\\n",
    "        .str.upper() + ',' + df_landvalue['State']\n",
    "del df_landvalue['CountyName']\n",
    "\n",
    "df_landvalue['City-State'] \\\n",
    "    = df_landvalue['RegionName'].str.upper() + ',' + df_landvalue['State']\n",
    "del df_landvalue['RegionName']\n",
    "\n",
    "del df_landvalue['State']\n",
    "\n",
    "print(df_landvalue.head())\n",
    "print()\n",
    "print(df_landvalue.shape[0], \"rows\")"
   ]
  },
  {
   "cell_type": "code",
   "execution_count": 35,
   "id": "fc23dcb8",
   "metadata": {},
   "outputs": [],
   "source": [
    "del df_landvalue_original"
   ]
  },
  {
   "cell_type": "markdown",
   "id": "07653345",
   "metadata": {},
   "source": [
    "### 3.4 &emsp; Loading and optimizing the city data set"
   ]
  },
  {
   "cell_type": "code",
   "execution_count": 36,
   "id": "3c1ed8b1",
   "metadata": {},
   "outputs": [
    {
     "name": "stdout",
     "output_type": "stream",
     "text": [
      "          city state_id  county_name      lat       lng  population  density\n",
      "0     New York       NY       Queens  40.6943  -73.9249    18832416  10943.7\n",
      "1  Los Angeles       CA  Los Angeles  34.1141 -118.4068    11885717   3165.7\n",
      "2      Chicago       IL         Cook  41.8375  -87.6866     8489066   4590.3\n",
      "3        Miami       FL   Miami-Dade  25.7840  -80.2101     6113982   4791.1\n",
      "4      Houston       TX       Harris  29.7860  -95.3885     6046392   1386.2\n"
     ]
    }
   ],
   "source": [
    "df_city = df_city_original.copy()\\\n",
    "    [['city','state_id','county_name','lat','lng','population','density']]\n",
    "\n",
    "print(df_city.head())"
   ]
  },
  {
   "cell_type": "code",
   "execution_count": 37,
   "id": "6e6b3ed6",
   "metadata": {},
   "outputs": [],
   "source": [
    "df_city['City-State'] \\\n",
    "    = df_city['city'].str.upper()        + ',' + df_city['state_id']\n",
    "df_city['County-State'] \\\n",
    "    = df_city['county_name'].str.upper() + ',' + df_city['state_id']\n",
    "\n",
    "del df_city['city']\n",
    "del df_city['county_name']\n",
    "del df_city['state_id']"
   ]
  },
  {
   "cell_type": "code",
   "execution_count": 38,
   "id": "537071ed",
   "metadata": {},
   "outputs": [
    {
     "name": "stdout",
     "output_type": "stream",
     "text": [
      "City-State\n",
      "OAKWOOD,OH           3\n",
      "SAN ANTONIO,PR       3\n",
      "OAKLAND,PA           3\n",
      "GEORGETOWN,PA        3\n",
      "MIDWAY,FL            3\n",
      "                    ..\n",
      "BOUTTE,LA            1\n",
      "BEDFORD HILLS,NY     1\n",
      "BOWLING GREEN,FL     1\n",
      "PIRU,CA              1\n",
      "FALCON VILLAGE,TX    1\n",
      "Name: count, Length: 31183, dtype: int64\n"
     ]
    }
   ],
   "source": [
    "print(df_city['City-State'].value_counts())"
   ]
  },
  {
   "cell_type": "code",
   "execution_count": 39,
   "id": "143f4b24",
   "metadata": {},
   "outputs": [
    {
     "name": "stdout",
     "output_type": "stream",
     "text": [
      "           lat      lng  population  density  City-State   County-State\n",
      "4258   39.7202 -84.1734        9480   1667.9  OAKWOOD,OH  MONTGOMERY,OH\n",
      "8100   41.3669 -81.5036        3526    394.7  OAKWOOD,OH    CUYAHOGA,OH\n",
      "20508  41.0927 -84.3747         443    243.5  OAKWOOD,OH    PAULDING,OH\n"
     ]
    }
   ],
   "source": [
    "print(df_city.query('`City-State` == \"OAKWOOD,OH\"'))"
   ]
  },
  {
   "cell_type": "code",
   "execution_count": 40,
   "id": "a0dc9842",
   "metadata": {},
   "outputs": [
    {
     "name": "stdout",
     "output_type": "stream",
     "text": [
      "          lat      lng  population  density  City-State   County-State\n",
      "4258  39.7202 -84.1734        9480   1667.9  OAKWOOD,OH  MONTGOMERY,OH\n"
     ]
    }
   ],
   "source": [
    "df_city = df_city\\\n",
    "    .sort_values('population', ascending=False)\\\n",
    "    .drop_duplicates('City-State')\n",
    "\n",
    "print(df_city.query('`City-State` == \"OAKWOOD,OH\"'))"
   ]
  },
  {
   "cell_type": "code",
   "execution_count": 41,
   "id": "97f16417",
   "metadata": {},
   "outputs": [
    {
     "name": "stdout",
     "output_type": "stream",
     "text": [
      "City-State\n",
      "NEW YORK,NY          1\n",
      "SKELLYTOWN,TX        1\n",
      "PETER,UT             1\n",
      "MAMMOTH,PA           1\n",
      "ELMORA,PA            1\n",
      "                    ..\n",
      "ESTILL,SC            1\n",
      "SAND HILL,PA         1\n",
      "MAUNAWILI,HI         1\n",
      "HANAPEPE,HI          1\n",
      "FALCON VILLAGE,TX    1\n",
      "Name: count, Length: 31183, dtype: int64\n"
     ]
    }
   ],
   "source": [
    "print(df_city['City-State'].value_counts())"
   ]
  },
  {
   "cell_type": "markdown",
   "id": "5186671d",
   "metadata": {},
   "source": [
    "Now you can use the `City-State` column for the index of the city DataFrame."
   ]
  },
  {
   "cell_type": "code",
   "execution_count": 42,
   "id": "1d5d96f0",
   "metadata": {},
   "outputs": [],
   "source": [
    "df_city.set_index(['City-State'], inplace=True)"
   ]
  },
  {
   "cell_type": "code",
   "execution_count": 43,
   "id": "540b81fc",
   "metadata": {},
   "outputs": [
    {
     "name": "stdout",
     "output_type": "stream",
     "text": [
      "                    lat       lng  population  density    County-State\n",
      "City-State                                                            \n",
      "NEW YORK,NY     40.6943  -73.9249    18832416  10943.7       QUEENS,NY\n",
      "LOS ANGELES,CA  34.1141 -118.4068    11885717   3165.7  LOS ANGELES,CA\n",
      "CHICAGO,IL      41.8375  -87.6866     8489066   4590.3         COOK,IL\n",
      "MIAMI,FL        25.7840  -80.2101     6113982   4791.1   MIAMI-DADE,FL\n",
      "HOUSTON,TX      29.7860  -95.3885     6046392   1386.2       HARRIS,TX\n"
     ]
    }
   ],
   "source": [
    "print(df_city.head())"
   ]
  },
  {
   "cell_type": "markdown",
   "id": "51b57578",
   "metadata": {},
   "source": [
    "## 4 &emsp; Combining Four DataFrames into One"
   ]
  },
  {
   "cell_type": "code",
   "execution_count": 44,
   "id": "de2df7f6",
   "metadata": {},
   "outputs": [
    {
     "name": "stdout",
     "output_type": "stream",
     "text": [
      "                  Land Value  Current_log  JAN  FEB  MAR  APR  MAY  JUN  JUL  \\\n",
      "City-State                                                                     \n",
      "BOISE,ID       474416.339219     4.945919   32   49   66   68   74   76   85   \n",
      "ALBANY,NY      314400.663535     4.729156   46   52   51   55   53   55   62   \n",
      "PITTSBURGH,PA  237749.893040     1.887070   28   37   42   46   48   52   54   \n",
      "FORT WAYNE,IN  227793.615240          NaN   50   55   57   63   69   74   76   \n",
      "ALPENA,MI      191528.977768          NaN   36   43   51   55   59   62   66   \n",
      "\n",
      "               AUG  SEP  OCT  NOV  DEC      lat       lng  population  density  \n",
      "City-State                                                                      \n",
      "BOISE,ID        82   80   69   41   34  43.6005 -116.2308      449428   1068.7  \n",
      "ALBANY,NY       58   54   46   33   36  42.6664  -73.7987      602242   1805.4  \n",
      "PITTSBURGH,PA   51   52   46   31   23  40.4397  -79.9763     1712828   2117.1  \n",
      "FORT WAYNE,IN   75   67   60   40   36  41.0888  -85.1436      345279    919.8  \n",
      "ALPENA,MI       60   52   41   28   25  45.0740  -83.4402       10178    480.9  \n",
      "(133, 18)\n"
     ]
    }
   ],
   "source": [
    "df_solar = df_landvalue.copy()\n",
    "\n",
    "df_solar = pd.merge(df_solar, df_photovoltaic, on='County-State', how='outer')\n",
    "df_solar.drop(['County-State'], axis=1, inplace=True)\n",
    "\n",
    "df_solar = pd.merge(df_solar, df_sunshine,     on='City-State',   how='inner')\n",
    "\n",
    "df_solar = pd.merge(df_solar, df_city,         on='City-State',   how='inner')\n",
    "df_solar.drop(['County-State'], axis=1, inplace=True)\n",
    "\n",
    "df_solar.set_index('City-State', inplace=True)\n",
    "\n",
    "print(df_solar.head())\n",
    "\n",
    "print(df_solar.shape)"
   ]
  },
  {
   "cell_type": "code",
   "execution_count": 45,
   "id": "f6f74926",
   "metadata": {},
   "outputs": [
    {
     "name": "stdout",
     "output_type": "stream",
     "text": [
      "df_solar         ... 133\n",
      "Current_log is not null ... 84\n",
      "Current_log is     null ... 49\n"
     ]
    }
   ],
   "source": [
    "print(\"df_solar         ...\", df_solar.shape[0])\n",
    "print(\"Current_log is not null ...\", df_solar.query('Current_log.notnull()').shape[0])\n",
    "print(\"Current_log is     null ...\", df_solar.query('Current_log.isnull()' ).shape[0])"
   ]
  },
  {
   "cell_type": "code",
   "execution_count": 46,
   "id": "16ae1e5e",
   "metadata": {},
   "outputs": [
    {
     "name": "stdout",
     "output_type": "stream",
     "text": [
      "<class 'pandas.core.frame.DataFrame'>\n",
      "Index: 133 entries, BOISE,ID to BILLINGS,MT\n",
      "Data columns (total 18 columns):\n",
      " #   Column       Non-Null Count  Dtype  \n",
      "---  ------       --------------  -----  \n",
      " 0   Land Value   133 non-null    float64\n",
      " 1   Current_log  84 non-null     float64\n",
      " 2   JAN          133 non-null    int64  \n",
      " 3   FEB          133 non-null    int64  \n",
      " 4   MAR          133 non-null    int64  \n",
      " 5   APR          133 non-null    int64  \n",
      " 6   MAY          133 non-null    int64  \n",
      " 7   JUN          133 non-null    int64  \n",
      " 8   JUL          133 non-null    int64  \n",
      " 9   AUG          133 non-null    int64  \n",
      " 10  SEP          133 non-null    int64  \n",
      " 11  OCT          133 non-null    int64  \n",
      " 12  NOV          133 non-null    int64  \n",
      " 13  DEC          133 non-null    int64  \n",
      " 14  lat          133 non-null    float64\n",
      " 15  lng          133 non-null    float64\n",
      " 16  population   133 non-null    int64  \n",
      " 17  density      133 non-null    float64\n",
      "dtypes: float64(5), int64(13)\n",
      "memory usage: 23.8+ KB\n"
     ]
    }
   ],
   "source": [
    "df_solar.info()"
   ]
  },
  {
   "cell_type": "markdown",
   "id": "81933965",
   "metadata": {},
   "source": [
    "## 5 &emsp; Splitting the DataFrame for Training and Testing"
   ]
  },
  {
   "cell_type": "code",
   "execution_count": 47,
   "id": "f7630d7b",
   "metadata": {},
   "outputs": [],
   "source": [
    "X_train, X_test, y_train, y_test = train_test_split(\n",
    "    df_solar.query('Current_log.notnull()').drop(['Current_log'], axis=1),\n",
    "    df_solar.query('Current_log.notnull()')['Current_log'],\n",
    "    random_state=42\n",
    "    )\n",
    "\n",
    "X_predict \\\n",
    "    = df_solar.query('Current_log.isnull()' ).drop(['Current_log'], axis=1)"
   ]
  },
  {
   "cell_type": "code",
   "execution_count": 48,
   "id": "1e82cbb4",
   "metadata": {},
   "outputs": [
    {
     "name": "stdout",
     "output_type": "stream",
     "text": [
      "                  Land Value  JAN  FEB  MAR  APR  MAY  JUN  JUL  AUG  SEP  \\\n",
      "City-State                                                                  \n",
      "FORT WAYNE,IN  227793.615240   50   55   57   63   69   74   76   75   67   \n",
      "ALPENA,MI      191528.977768   36   43   51   55   59   62   66   60   52   \n",
      "ANCHORAGE,AK   392428.040683   43   46   51   50   51   46   43   43   41   \n",
      "BALTIMORE,MD   206499.969440   50   58   55   57   55   60   63   61   57   \n",
      "POCATELLO,ID   317148.241331   38   55   63   64   68   74   82   80   78   \n",
      "\n",
      "               OCT  NOV  DEC      lat       lng  population  density  \n",
      "City-State                                                            \n",
      "FORT WAYNE,IN   60   40   36  41.0888  -85.1436      345279    919.8  \n",
      "ALPENA,MI       41   28   25  45.0740  -83.4402       10178    480.9  \n",
      "ANCHORAGE,AK    36   35   33  61.1508 -149.1091      289069     65.4  \n",
      "BALTIMORE,MD    56   50   47  39.3051  -76.6144     2189589   2753.1  \n",
      "POCATELLO,ID    68   43   36  42.8724 -112.4647       76370    649.5  \n"
     ]
    }
   ],
   "source": [
    "print(X_predict.head())"
   ]
  },
  {
   "cell_type": "markdown",
   "id": "c07a53f7",
   "metadata": {},
   "source": [
    "## 6 &emsp; Predicting Current by Using Logistic Regression "
   ]
  },
  {
   "cell_type": "code",
   "execution_count": 49,
   "id": "1063480e",
   "metadata": {},
   "outputs": [],
   "source": [
    "from sklearn.metrics import mean_squared_error\n",
    "\n",
    "from sklearn.pipeline      import Pipeline\n",
    "from sklearn.preprocessing import StandardScaler\n",
    "from sklearn.linear_model  import LinearRegression, Ridge\n",
    "from sklearn.neighbors     import KNeighborsRegressor\n",
    "from sklearn.tree          import DecisionTreeRegressor\n",
    "from sklearn.svm           import SVR\n",
    "\n",
    "from sklearn.ensemble import VotingRegressor\n",
    "\n",
    "from sklearn.inspection import permutation_importance"
   ]
  },
  {
   "cell_type": "markdown",
   "id": "eb96c1c2",
   "metadata": {},
   "source": [
    "## Try-it 20_1"
   ]
  },
  {
   "cell_type": "code",
   "execution_count": 50,
   "id": "c1eb7622",
   "metadata": {},
   "outputs": [],
   "source": [
    "reg_linear = LinearRegression()\n",
    "reg_knn    = KNeighborsRegressor()\n",
    "reg_tree   = DecisionTreeRegressor(random_state=42)\n",
    "reg_ridge  = Ridge()\n",
    "\n",
    "# Create pipelines for each regressor\n",
    "pipelines = {\n",
    "    'LinearRegression()':      Pipeline([\n",
    "        ('scaler',    StandardScaler()),\n",
    "        ('regressor', reg_linear)\n",
    "        ]),\n",
    "    'KNeighborsRegressor()':   Pipeline([\n",
    "        ('scaler',    StandardScaler()),\n",
    "        ('regressor', reg_knn)\n",
    "        ]),\n",
    "    'DecisionTreeRegressor()': Pipeline([\n",
    "        ('regressor', reg_tree)\n",
    "        ]),\n",
    "    'Ridge()':                 Pipeline([\n",
    "        ('scaler',    StandardScaler()),\n",
    "        ('regressor', reg_ridge)\n",
    "        ]),\n",
    "    'SVR()':                   Pipeline([\n",
    "        ('scaler',    StandardScaler()),\n",
    "        ('regressor', SVR())\n",
    "        ])\n",
    "}\n",
    "\n",
    "# Define the Voting Regressor\n",
    "voting_reg = VotingRegressor(estimators=[\n",
    "    ('LinearRegression()',      pipelines['LinearRegression()']),\n",
    "    ('KNeighborsRegressor()',   pipelines['KNeighborsRegressor()']),\n",
    "    ('DecisionTreeRegressor()', pipelines['DecisionTreeRegressor()']),\n",
    "    ('Ridge()',                 pipelines['Ridge()']),\n",
    "    ('SVR()',                   pipelines['SVR()'])\n",
    "])"
   ]
  },
  {
   "cell_type": "code",
   "execution_count": 51,
   "id": "58a9a674",
   "metadata": {},
   "outputs": [],
   "source": [
    "def evaluate_model(model, X_test, y_test, caps = False):\n",
    "    y_pred = model.predict(X_test)\n",
    "    \n",
    "    if caps:\n",
    "        y_min = 1.0  # Don't allow negative current\n",
    "        y_pred[y_pred < y_min] = y_min\n",
    "\n",
    "        y_max = df_solar['Current_log'].max()\n",
    "        y_pred[y_pred > y_max] = y_max\n",
    "\n",
    "    mse = mean_squared_error(y_test, y_pred)\n",
    "    return mse"
   ]
  },
  {
   "cell_type": "markdown",
   "id": "2e5b330c",
   "metadata": {},
   "source": [
    "Cross-Validation (CV) Grid Search"
   ]
  },
  {
   "cell_type": "code",
   "execution_count": 52,
   "id": "6645955b",
   "metadata": {},
   "outputs": [
    {
     "name": "stdout",
     "output_type": "stream",
     "text": [
      "Results After Grid Search:\n",
      "MSE:  LinearRegression() ... 4.1537\n",
      "MSE:  KNeighborsRegressor() ... 3.0855\n",
      "MSE:  DecisionTreeRegressor() ... 4.432\n",
      "MSE:  Ridge() ... 3.991\n",
      "MSE:  SVR() ... 3.6409\n",
      "MSE:  VotingRegressor() ... 3.2892\n"
     ]
    }
   ],
   "source": [
    "# Define parameter grids for Grid Search\n",
    "param_grids = {\n",
    "    'LinearRegression()':      {},\n",
    "    'KNeighborsRegressor()':   {'regressor__n_neighbors': [3, 5, 7]},\n",
    "    'DecisionTreeRegressor()': {'regressor__max_depth':   [3, 5, 7]},\n",
    "    'Ridge()':                 {'regressor__alpha':       [0.1, 1.0, 10.0]},\n",
    "    'SVR()':                   {\n",
    "                                'regressor__C':           [0.1, 1.0, 10.0],\n",
    "                                'regressor__gamma':       ['scale', 'auto']\n",
    "                               }\n",
    "}\n",
    "\n",
    "# Perform Grid Search and evaluate models\n",
    "results_after_gs = {}\n",
    "best_pipelines   = {}\n",
    "\n",
    "for name, pipeline in pipelines.items():\n",
    "    grid_search = GridSearchCV(\n",
    "        pipeline, param_grids[name], cv=2, scoring='neg_mean_squared_error'\n",
    "        )\n",
    "    grid_search.fit(X_train, y_train)\n",
    "    best_pipeline = grid_search.best_estimator_\n",
    "    best_pipelines[name] = best_pipeline\n",
    "    mse = evaluate_model(best_pipeline, X_test, y_test)\n",
    "    results_after_gs[name] = mse\n",
    "\n",
    "# Define the optimized Voting Regressor\n",
    "optimized_voting_reg = VotingRegressor(estimators=[\n",
    "    ('LinearRegression()',      best_pipelines['LinearRegression()']),\n",
    "    ('KNeighborsRegressor()',   best_pipelines['KNeighborsRegressor()']),\n",
    "    ('DecisionTreeRegressor()', best_pipelines['DecisionTreeRegressor()']),\n",
    "    ('Ridge()',                 best_pipelines['Ridge()']),\n",
    "    ('SVR()',                   best_pipelines['SVR()'])\n",
    "])\n",
    "\n",
    "# Fit the optimized Voting Regressor\n",
    "optimized_voting_reg.fit(X_train, y_train)\n",
    "voting_mse_after_gs = evaluate_model(optimized_voting_reg, X_test, y_test)\n",
    "results_after_gs['VotingRegressor()'] = voting_mse_after_gs\n",
    "\n",
    "# Print results after grid search\n",
    "print(\"Results After Grid Search:\")\n",
    "for name, mse in results_after_gs.items():\n",
    "    print(\"MSE: \", name, \"...\", round(mse,4))"
   ]
  },
  {
   "cell_type": "code",
   "execution_count": 53,
   "id": "877f100a",
   "metadata": {},
   "outputs": [
    {
     "name": "stdout",
     "output_type": "stream",
     "text": [
      "MSE: KNeighborsRegressor(n_neighbors=3) with Standard Scaler ... 2.9292\n",
      "\n",
      "Actual Current_log vs. Predicted Current_log: KNeighborsRegressor(n_neighbors=5)\n",
      "\n",
      "           City-State  Current_log  Current-Pred\n",
      "0         WICHITA,KS     0.875469      2.803656\n",
      "1           BOISE,ID     4.945919      3.333655\n",
      "2        PORTLAND,OR     1.223775      3.915064\n",
      "3       NASHVILLE,TN     1.223775      2.771918\n",
      "4     GREAT FALLS,MT     1.960095      3.532627\n",
      "5  SALT LAKE CITY,UT     1.064711      3.773876\n",
      "6     BROWNSVILLE,TX     6.042633      4.196805\n",
      "7        PORTLAND,ME     4.464758      4.716337\n",
      "8     ALBUQUERQUE,NM     4.642466      4.465365\n",
      "9      PROVIDENCE,RI     5.725544      4.075468\n"
     ]
    }
   ],
   "source": [
    "scaled_pipe = Pipeline([\n",
    "    ('scaler',    StandardScaler()),\n",
    "    ('regressor', KNeighborsRegressor(n_neighbors=5))\n",
    "]).fit(X_train,y_train)\n",
    "\n",
    "y_pred = scaled_pipe.predict(X_test)\n",
    "\n",
    "print(\n",
    "    \"MSE: KNeighborsRegressor(n_neighbors=3) with Standard Scaler ...\",\n",
    "    round(mean_squared_error(y_test, y_pred),4)\n",
    "    )\n",
    "\n",
    "print()\n",
    "\n",
    "print(\n",
    "    \"Actual Current_log vs. Predicted Current_log:\",\n",
    "    \"KNeighborsRegressor(n_neighbors=5)\\n\\n\",\n",
    "    pd.concat(\n",
    "        [\n",
    "            X_test.reset_index()['City-State'],\n",
    "            y_test.reset_index(drop=True),\n",
    "            pd.DataFrame(y_pred, columns=['Current-Pred']).reset_index(drop=True)\n",
    "        ],\n",
    "        axis=1\n",
    "    ).head(10)\n",
    ")"
   ]
  },
  {
   "cell_type": "code",
   "execution_count": 54,
   "id": "eba55e87",
   "metadata": {},
   "outputs": [
    {
     "name": "stdout",
     "output_type": "stream",
     "text": [
      "MSE: KNeighborsRegressor(n_neighbors=3) with Standard Scaler ... 3.2892\n",
      "\n",
      "Actual Current_log vs. Predicted Current_log: KNeighborsRegressor(n_neighbors=3)) \n",
      "\n",
      "           City-State  Current_log  Current_predict\n",
      "0         WICHITA,KS     0.875469         3.533957\n",
      "1           BOISE,ID     4.945919         4.861531\n",
      "2        PORTLAND,OR     1.223775         4.447136\n",
      "3       NASHVILLE,TN     1.223775         2.948035\n",
      "4     GREAT FALLS,MT     1.960095         4.288323\n",
      "5  SALT LAKE CITY,UT     1.064711         4.526865\n",
      "6     BROWNSVILLE,TX     6.042633         4.595649\n",
      "7        PORTLAND,ME     4.464758         3.832136\n",
      "8     ALBUQUERQUE,NM     4.642466         5.580022\n",
      "9      PROVIDENCE,RI     5.725544         3.863643\n"
     ]
    }
   ],
   "source": [
    "y_pred = optimized_voting_reg.predict(X_test)\n",
    "\n",
    "print(\n",
    "    \"MSE: KNeighborsRegressor(n_neighbors=3) with Standard Scaler ...\",\n",
    "    round(mean_squared_error(y_test, y_pred),4)\n",
    "    )\n",
    "\n",
    "print()\n",
    "\n",
    "print(\n",
    "    \"Actual Current_log vs. Predicted Current_log: KNeighborsRegressor(n_neighbors=3))\",\n",
    "    \"\\n\\n\",\n",
    "    pd.concat(\n",
    "        [\n",
    "            X_test.reset_index()['City-State'],\n",
    "            y_test.reset_index(drop=True),\n",
    "            pd.DataFrame(y_pred, columns=['Current_predict']).reset_index(drop=True)\n",
    "        ],\n",
    "        axis=1\n",
    "    ).head(10)\n",
    ")"
   ]
  },
  {
   "cell_type": "markdown",
   "id": "917f7d11",
   "metadata": {},
   "source": [
    "---\n",
    "Coefficient analysis"
   ]
  },
  {
   "cell_type": "code",
   "execution_count": 55,
   "id": "aead6f80",
   "metadata": {},
   "outputs": [
    {
     "name": "stdout",
     "output_type": "stream",
     "text": [
      "Permutation Importance from KNeighborsRegressor(n_neighbors=5):\n",
      "       feature  importance\n",
      "13         lat    0.059882\n",
      "11         NOV    0.032363\n",
      "7          JUL    0.031565\n",
      "0   Land Value    0.027916\n",
      "5          MAY    0.024683\n",
      "16     density    0.024294\n",
      "2          FEB    0.016571\n",
      "1          JAN    0.012489\n",
      "15  population    0.009800\n",
      "4          APR    0.005774\n",
      "8          AUG    0.003775\n",
      "3          MAR    0.001454\n",
      "12         DEC   -0.006241\n",
      "6          JUN   -0.009242\n",
      "10         OCT   -0.010082\n",
      "14         lng   -0.010163\n",
      "9          SEP   -0.012938\n"
     ]
    }
   ],
   "source": [
    "print(\"Permutation Importance from KNeighborsRegressor(n_neighbors=5):\")\n",
    "result_knn = permutation_importance(\n",
    "    best_pipelines['KNeighborsRegressor()'], \n",
    "    X_test, y_test, n_repeats=10, random_state=42, n_jobs=-1\n",
    "    )\n",
    "\n",
    "perm_importances_knn = pd.DataFrame({\n",
    "    'feature':    X_test.columns,\n",
    "    'importance': result_knn.importances_mean\n",
    "    })\n",
    "\n",
    "perm_importances_knn = perm_importances_knn\\\n",
    "    .sort_values(by='importance', ascending=False)\n",
    "\n",
    "print(perm_importances_knn)"
   ]
  },
  {
   "cell_type": "code",
   "execution_count": 56,
   "id": "61f316ca",
   "metadata": {},
   "outputs": [
    {
     "name": "stdout",
     "output_type": "stream",
     "text": [
      "Feature Importance from Decision Tree:\n",
      "       feature  importance\n",
      "4          APR    0.434568\n",
      "13         lat    0.200770\n",
      "16     density    0.111026\n",
      "14         lng    0.067798\n",
      "3          MAR    0.050087\n",
      "1          JAN    0.049426\n",
      "0   Land Value    0.022672\n",
      "15  population    0.021762\n",
      "7          JUL    0.016298\n",
      "6          JUN    0.009972\n",
      "2          FEB    0.003748\n",
      "10         OCT    0.003428\n",
      "8          AUG    0.003300\n",
      "12         DEC    0.003186\n",
      "9          SEP    0.001090\n",
      "5          MAY    0.000626\n",
      "11         NOV    0.000243\n"
     ]
    }
   ],
   "source": [
    "print(\"Feature Importance from Decision Tree:\")\n",
    "reg_tree.fit(X_train, y_train)\n",
    "\n",
    "importances_tree = reg_tree.feature_importances_\n",
    "\n",
    "feature_importance_tree_df = pd.DataFrame({\n",
    "    'feature': X_train.columns,\n",
    "    'importance': importances_tree\n",
    "    })\n",
    "\n",
    "feature_importance_tree_df = feature_importance_tree_df\\\n",
    "    .sort_values(by='importance', ascending=False)\n",
    "print(feature_importance_tree_df)"
   ]
  },
  {
   "cell_type": "code",
   "execution_count": 57,
   "id": "96b6ecbc",
   "metadata": {},
   "outputs": [
    {
     "name": "stdout",
     "output_type": "stream",
     "text": [
      "Coefficients from Ridge Regression:\n",
      "       feature   coefficient\n",
      "4          APR  1.570783e-01\n",
      "9          SEP  1.525233e-01\n",
      "3          MAR  8.172905e-02\n",
      "1          JAN  8.143976e-02\n",
      "8          AUG  3.154571e-02\n",
      "15  population  6.287081e-08\n",
      "0   Land Value -1.063750e-06\n",
      "16     density -2.517912e-04\n",
      "14         lng -6.228829e-04\n",
      "7          JUL -1.406822e-03\n",
      "2          FEB -8.395741e-03\n",
      "10         OCT -2.592279e-02\n",
      "6          JUN -5.341511e-02\n",
      "11         NOV -7.374099e-02\n",
      "12         DEC -9.358957e-02\n",
      "5          MAY -1.298801e-01\n",
      "13         lat -1.359069e-01\n"
     ]
    }
   ],
   "source": [
    "print(\"Coefficients from Ridge Regression:\")\n",
    "\n",
    "reg_ridge.fit(X_train, y_train)\n",
    "coefficients_ridge = reg_ridge.coef_\n",
    "coefficients_ridge_df = pd.DataFrame({\n",
    "    'feature': X_train.columns,\n",
    "    'coefficient': coefficients_ridge\n",
    "    })\n",
    "coefficients_ridge_df = coefficients_ridge_df\\\n",
    "    .sort_values(by='coefficient', ascending=False)\n",
    "\n",
    "print(coefficients_ridge_df)"
   ]
  },
  {
   "cell_type": "code",
   "execution_count": 58,
   "id": "cc617bd5",
   "metadata": {},
   "outputs": [
    {
     "name": "stdout",
     "output_type": "stream",
     "text": [
      "Permutation Importance from SVR():\n",
      "       feature  importance\n",
      "13         lat    0.087710\n",
      "6          JUN    0.018060\n",
      "14         lng    0.015295\n",
      "15  population    0.014443\n",
      "2          FEB    0.012959\n",
      "16     density    0.007483\n",
      "0   Land Value    0.004602\n",
      "12         DEC    0.003899\n",
      "1          JAN    0.000625\n",
      "11         NOV   -0.004155\n",
      "5          MAY   -0.008077\n",
      "3          MAR   -0.012850\n",
      "4          APR   -0.015995\n",
      "7          JUL   -0.024847\n",
      "10         OCT   -0.027957\n",
      "9          SEP   -0.030518\n",
      "8          AUG   -0.033364\n"
     ]
    }
   ],
   "source": [
    "print(\"Permutation Importance from SVR():\")\n",
    "\n",
    "result_svr = permutation_importance(\n",
    "    best_pipelines['SVR()'],\n",
    "    X_test, y_test, n_repeats=10, random_state=42, n_jobs=-1\n",
    "    )\n",
    "\n",
    "perm_importances_svr = pd.DataFrame({\n",
    "    'feature':    X_test.columns,\n",
    "    'importance': result_svr.importances_mean\n",
    "    })\n",
    "\n",
    "perm_importances_svr = perm_importances_svr\\\n",
    "    .sort_values(by='importance', ascending=False)\n",
    "\n",
    "print(perm_importances_svr)"
   ]
  },
  {
   "cell_type": "markdown",
   "id": "06743dae",
   "metadata": {},
   "source": [
    "## Predict capable current in new cities"
   ]
  },
  {
   "cell_type": "code",
   "execution_count": 59,
   "id": "e0c227e1",
   "metadata": {},
   "outputs": [],
   "source": [
    "X = df_solar.query('Current_log.notnull()').drop(['Current_log'], axis=1)\n",
    "y = df_solar.query('Current_log.notnull()')['Current_log']\n",
    "\n",
    "scaled_pipe = Pipeline([\n",
    "    ('scaler',    StandardScaler()),\n",
    "    ('regressor', KNeighborsRegressor(n_neighbors=5))\n",
    "]).fit(X,y)\n",
    "\n",
    "y_pred = scaled_pipe.predict(X_predict)"
   ]
  },
  {
   "cell_type": "code",
   "execution_count": 60,
   "id": "1693790e",
   "metadata": {},
   "outputs": [
    {
     "data": {
      "application/vnd.microsoft.datawrangler.viewer.v0+json": {
       "columns": [
        {
         "name": "City-State",
         "rawType": "object",
         "type": "string"
        },
        {
         "name": "Land Value",
         "rawType": "int64",
         "type": "integer"
        },
        {
         "name": "population",
         "rawType": "int64",
         "type": "integer"
        },
        {
         "name": "density",
         "rawType": "float64",
         "type": "float"
        },
        {
         "name": "lat",
         "rawType": "float64",
         "type": "float"
        },
        {
         "name": "JUN",
         "rawType": "int64",
         "type": "integer"
        },
        {
         "name": "NOV",
         "rawType": "int64",
         "type": "integer"
        },
        {
         "name": "Current_log",
         "rawType": "float64",
         "type": "float"
        },
        {
         "name": "Current",
         "rawType": "float64",
         "type": "float"
        }
       ],
       "ref": "4c5421ee-4883-43b7-9541-ff9b11dfac50",
       "rows": [
        [
         "FORT WAYNE,IN",
         "227793",
         "345279",
         "919.8",
         "41.0888",
         "74",
         "40",
         "2.5550575621494844",
         "12.872040578521387"
        ],
        [
         "ALPENA,MI",
         "191528",
         "10178",
         "480.9",
         "45.074",
         "62",
         "28",
         "2.7359238769693137",
         "15.423986721501452"
        ],
        [
         "ANCHORAGE,AK",
         "392428",
         "289069",
         "65.4",
         "61.1508",
         "46",
         "35",
         "4.15513092038181",
         "63.76031152573548"
        ],
        [
         "BALTIMORE,MD",
         "206499",
         "2189589",
         "2753.1",
         "39.3051",
         "60",
         "50",
         "4.429130776288017",
         "83.8584934305104"
        ],
        [
         "POCATELLO,ID",
         "317148",
         "76370",
         "649.5",
         "42.8724",
         "74",
         "43",
         "3.6914195678509594",
         "40.10173370236805"
        ],
        [
         "HURON,SD",
         "195944",
         "14347",
         "569.2",
         "44.3623",
         "69",
         "51",
         "2.9043221895808955",
         "18.252867474579133"
        ],
        [
         "GREEN BAY,WI",
         "272902",
         "227679",
         "904.9",
         "44.5148",
         "66",
         "35",
         "3.2926178891019475",
         "26.91322735812748"
        ],
        [
         "BISMARCK,ND",
         "326276",
         "99060",
         "825.4",
         "46.8143",
         "67",
         "42",
         "2.815610929252498",
         "16.70337724560209"
        ],
        [
         "SHREVEPORT,LA",
         "146103",
         "278269",
         "655.0",
         "32.4653",
         "68",
         "57",
         "3.02122181552839",
         "20.516343563840714"
        ],
        [
         "LAKE CHARLES,LA",
         "211510",
         "145110",
         "664.4",
         "30.201",
         "80",
         "55",
         "3.967367496674723",
         "52.845232318408435"
        ],
        [
         "FARGO,ND",
         "289199",
         "225066",
         "967.9",
         "46.8651",
         "64",
         "39",
         "2.744604078356244",
         "15.558452784398476"
        ],
        [
         "VALENTINE,NE",
         "250759",
         "2632",
         "385.7",
         "42.8758",
         "70",
         "58",
         "3.301391033241039",
         "27.150379745934437"
        ],
        [
         "CONCORDIA,KS",
         "143484",
         "5067",
         "434.4",
         "39.5669",
         "78",
         "59",
         "2.3161723167461297",
         "10.136799495629015"
        ],
        [
         "FLAGSTAFF,AZ",
         "650010",
         "77868",
         "446.4",
         "35.1872",
         "88",
         "72",
         "4.864623627149063",
         "129.62214317417505"
        ],
        [
         "OMAHA,NE",
         "278435",
         "826161",
         "1318.9",
         "41.2627",
         "72",
         "49",
         "2.1569444549208354",
         "8.644683043676865"
        ],
        [
         "DODGE CITY,KS",
         "237736",
         "27652",
         "711.1",
         "37.7611",
         "77",
         "63",
         "2.3161723167461297",
         "10.136799495629015"
        ],
        [
         "COLUMBUS,OH",
         "266192",
         "1578153",
         "1579.9",
         "39.9862",
         "54",
         "33",
         "2.9285287489192777",
         "18.700097708853644"
        ],
        [
         "LANDER,WY",
         "402722",
         "7565",
         "620.6",
         "42.8312",
         "71",
         "58",
         "3.754127467324929",
         "42.69694906975817"
        ],
        [
         "HOUSTON,TX",
         "253134",
         "6046392",
         "1386.2",
         "29.786",
         "65",
         "54",
         "3.1270653739285046",
         "22.806951365139078"
        ],
        [
         "HAVRE,MT",
         "235186",
         "9333",
         "971.6",
         "48.5427",
         "78",
         "48",
         "3.205619764281019",
         "24.670785350859983"
        ],
        [
         "JACKSON,MS",
         "85274",
         "331332",
         "518.0",
         "32.3157",
         "70",
         "55",
         "5.082682486911378",
         "161.2059091907281"
        ],
        [
         "LOUISVILLE,KY",
         "274989",
         "965005",
         "920.7",
         "38.1663",
         "64",
         "44",
         "2.770178463582193",
         "15.961482298936707"
        ],
        [
         "PORT ARTHUR,TX",
         "149655",
         "114860",
         "285.1",
         "29.8554",
         "69",
         "58",
         "3.6706809874930406",
         "39.278645020756954"
        ],
        [
         "JUNEAU,AK",
         "490940",
         "31969",
         "4.6",
         "58.4546",
         "37",
         "26",
         "3.5461798774095046",
         "34.680580045092384"
        ],
        [
         "SEATTLE,WA",
         "951553",
         "3555253",
         "3408.0",
         "47.6211",
         "55",
         "29",
         "3.62263519359776",
         "37.43608929630024"
        ],
        [
         "KNOXVILLE,TN",
         "358574",
         "618226",
         "757.6",
         "35.9692",
         "67",
         "51",
         "2.880846144071067",
         "17.829353000194175"
        ],
        [
         "NORTH PLATTE,NE",
         "212305",
         "23030",
         "518.6",
         "41.1263",
         "72",
         "60",
         "3.9263930090444576",
         "50.72368742302771"
        ],
        [
         "PADUCAH,KY",
         "218768",
         "26894",
         "510.3",
         "37.0711",
         "73",
         "58",
         "2.767559018954683",
         "15.919726791876395"
        ],
        [
         "CONCORD,NH",
         "462251",
         "44219",
         "266.9",
         "43.2305",
         "59",
         "43",
         "4.471735052877368",
         "87.50842311285331"
        ],
        [
         "SIOUX FALLS,SD",
         "307324",
         "207795",
         "913.0",
         "43.5396",
         "58",
         "49",
         "3.4805791705246163",
         "32.478527235298735"
        ],
        [
         "MISSOULA,MT",
         "563126",
         "92942",
         "833.3",
         "46.8751",
         "60",
         "37",
         "3.1730445095091278",
         "23.88007691723914"
        ],
        [
         "KEY WEST,FL",
         "1285405",
         "25824",
         "1780.7",
         "24.5642",
         "77",
         "71",
         "5.8913520062513545",
         "361.8942370350777"
        ],
        [
         "NORFOLK,VA",
         "290516",
         "235037",
         "1703.4",
         "36.8945",
         "65",
         "58",
         "3.557975488316385",
         "35.092080853824434"
        ],
        [
         "CORPUS CHRISTI,TX",
         "243797",
         "339432",
         "736.3",
         "27.7254",
         "72",
         "57",
         "4.433059646906154",
         "84.18861067075225"
        ],
        [
         "OKLAHOMA CITY,OK",
         "210829",
         "1000207",
         "438.4",
         "35.4676",
         "73",
         "58",
         "2.595382423959181",
         "13.401711517123616"
        ],
        [
         "NEW ORLEANS,LA",
         "213007",
         "918752",
         "856.6",
         "30.0687",
         "67",
         "57",
         "4.139066794525069",
         "62.74424085050326"
        ],
        [
         "DES MOINES,IA",
         "227345",
         "560170",
         "930.5",
         "41.5725",
         "69",
         "45",
         "2.446980676947977",
         "11.55341052520794"
        ],
        [
         "AMARILLO,TX",
         "211068",
         "205100",
         "748.8",
         "35.1984",
         "79",
         "67",
         "4.683935109269802",
         "108.19499509293018"
        ],
        [
         "RICHMOND,VA",
         "351806",
         "1081248",
         "1466.4",
         "37.5295",
         "68",
         "60",
         "3.557975488316385",
         "35.092080853824434"
        ],
        [
         "MOLINE,IL",
         "151212",
         "42235",
         "973.4",
         "41.4821",
         "62",
         "40",
         "3.315590373500477",
         "27.538647273930213"
        ],
        [
         "DULUTH,MN",
         "297098",
         "120443",
         "468.0",
         "46.7756",
         "55",
         "33",
         "3.48484995780044",
         "32.61753273633134"
        ],
        [
         "SPRINGFIELD,IL",
         "181895",
         "156240",
         "716.7",
         "39.7709",
         "68",
         "45",
         "2.519965513653843",
         "12.428168054081388"
        ],
        [
         "FORT SMITH,AR",
         "207988",
         "128384",
         "538.3",
         "35.3495",
         "70",
         "51",
         "2.7126353782518335",
         "15.068935577387244"
        ],
        [
         "SHERIDAN,WY",
         "443398",
         "19035",
         "577.9",
         "44.7961",
         "65",
         "52",
         "3.5326274613389566",
         "34.21374491193414"
        ],
        [
         "SPOKANE,WA",
         "406295",
         "458988",
         "1287.2",
         "47.6671",
         "65",
         "26",
         "3.1138894239599795",
         "22.508419156633256"
        ],
        [
         "ABILENE,TX",
         "215666",
         "127130",
         "460.2",
         "32.4543",
         "77",
         "64",
         "2.542192907898026",
         "12.70750683103417"
        ],
        [
         "TULSA,OK",
         "217766",
         "740620",
         "805.1",
         "36.1283",
         "66",
         "50",
         "2.3759738260517227",
         "10.76148790224732"
        ],
        [
         "ELY,NV",
         "255374",
         "3941",
         "199.5",
         "39.265",
         "81",
         "65",
         "4.683935109269801",
         "108.19499509293009"
        ],
        [
         "WILLISTON,ND",
         "344312",
         "27964",
         "419.6",
         "48.1814",
         "68",
         "43",
         "3.491981813016303",
         "32.85098775146453"
        ]
       ],
       "shape": {
        "columns": 8,
        "rows": 49
       }
      },
      "text/html": [
       "<div>\n",
       "<style scoped>\n",
       "    .dataframe tbody tr th:only-of-type {\n",
       "        vertical-align: middle;\n",
       "    }\n",
       "\n",
       "    .dataframe tbody tr th {\n",
       "        vertical-align: top;\n",
       "    }\n",
       "\n",
       "    .dataframe thead th {\n",
       "        text-align: right;\n",
       "    }\n",
       "</style>\n",
       "<table border=\"1\" class=\"dataframe\">\n",
       "  <thead>\n",
       "    <tr style=\"text-align: right;\">\n",
       "      <th></th>\n",
       "      <th>Land Value</th>\n",
       "      <th>population</th>\n",
       "      <th>density</th>\n",
       "      <th>lat</th>\n",
       "      <th>JUN</th>\n",
       "      <th>NOV</th>\n",
       "      <th>Current_log</th>\n",
       "      <th>Current</th>\n",
       "    </tr>\n",
       "    <tr>\n",
       "      <th>City-State</th>\n",
       "      <th></th>\n",
       "      <th></th>\n",
       "      <th></th>\n",
       "      <th></th>\n",
       "      <th></th>\n",
       "      <th></th>\n",
       "      <th></th>\n",
       "      <th></th>\n",
       "    </tr>\n",
       "  </thead>\n",
       "  <tbody>\n",
       "    <tr>\n",
       "      <th>FORT WAYNE,IN</th>\n",
       "      <td>227793</td>\n",
       "      <td>345279</td>\n",
       "      <td>919.8</td>\n",
       "      <td>41.0888</td>\n",
       "      <td>74</td>\n",
       "      <td>40</td>\n",
       "      <td>2.555058</td>\n",
       "      <td>12.872041</td>\n",
       "    </tr>\n",
       "    <tr>\n",
       "      <th>ALPENA,MI</th>\n",
       "      <td>191528</td>\n",
       "      <td>10178</td>\n",
       "      <td>480.9</td>\n",
       "      <td>45.0740</td>\n",
       "      <td>62</td>\n",
       "      <td>28</td>\n",
       "      <td>2.735924</td>\n",
       "      <td>15.423987</td>\n",
       "    </tr>\n",
       "    <tr>\n",
       "      <th>ANCHORAGE,AK</th>\n",
       "      <td>392428</td>\n",
       "      <td>289069</td>\n",
       "      <td>65.4</td>\n",
       "      <td>61.1508</td>\n",
       "      <td>46</td>\n",
       "      <td>35</td>\n",
       "      <td>4.155131</td>\n",
       "      <td>63.760312</td>\n",
       "    </tr>\n",
       "    <tr>\n",
       "      <th>BALTIMORE,MD</th>\n",
       "      <td>206499</td>\n",
       "      <td>2189589</td>\n",
       "      <td>2753.1</td>\n",
       "      <td>39.3051</td>\n",
       "      <td>60</td>\n",
       "      <td>50</td>\n",
       "      <td>4.429131</td>\n",
       "      <td>83.858493</td>\n",
       "    </tr>\n",
       "    <tr>\n",
       "      <th>POCATELLO,ID</th>\n",
       "      <td>317148</td>\n",
       "      <td>76370</td>\n",
       "      <td>649.5</td>\n",
       "      <td>42.8724</td>\n",
       "      <td>74</td>\n",
       "      <td>43</td>\n",
       "      <td>3.691420</td>\n",
       "      <td>40.101734</td>\n",
       "    </tr>\n",
       "    <tr>\n",
       "      <th>HURON,SD</th>\n",
       "      <td>195944</td>\n",
       "      <td>14347</td>\n",
       "      <td>569.2</td>\n",
       "      <td>44.3623</td>\n",
       "      <td>69</td>\n",
       "      <td>51</td>\n",
       "      <td>2.904322</td>\n",
       "      <td>18.252867</td>\n",
       "    </tr>\n",
       "    <tr>\n",
       "      <th>GREEN BAY,WI</th>\n",
       "      <td>272902</td>\n",
       "      <td>227679</td>\n",
       "      <td>904.9</td>\n",
       "      <td>44.5148</td>\n",
       "      <td>66</td>\n",
       "      <td>35</td>\n",
       "      <td>3.292618</td>\n",
       "      <td>26.913227</td>\n",
       "    </tr>\n",
       "    <tr>\n",
       "      <th>BISMARCK,ND</th>\n",
       "      <td>326276</td>\n",
       "      <td>99060</td>\n",
       "      <td>825.4</td>\n",
       "      <td>46.8143</td>\n",
       "      <td>67</td>\n",
       "      <td>42</td>\n",
       "      <td>2.815611</td>\n",
       "      <td>16.703377</td>\n",
       "    </tr>\n",
       "    <tr>\n",
       "      <th>SHREVEPORT,LA</th>\n",
       "      <td>146103</td>\n",
       "      <td>278269</td>\n",
       "      <td>655.0</td>\n",
       "      <td>32.4653</td>\n",
       "      <td>68</td>\n",
       "      <td>57</td>\n",
       "      <td>3.021222</td>\n",
       "      <td>20.516344</td>\n",
       "    </tr>\n",
       "    <tr>\n",
       "      <th>LAKE CHARLES,LA</th>\n",
       "      <td>211510</td>\n",
       "      <td>145110</td>\n",
       "      <td>664.4</td>\n",
       "      <td>30.2010</td>\n",
       "      <td>80</td>\n",
       "      <td>55</td>\n",
       "      <td>3.967367</td>\n",
       "      <td>52.845232</td>\n",
       "    </tr>\n",
       "    <tr>\n",
       "      <th>FARGO,ND</th>\n",
       "      <td>289199</td>\n",
       "      <td>225066</td>\n",
       "      <td>967.9</td>\n",
       "      <td>46.8651</td>\n",
       "      <td>64</td>\n",
       "      <td>39</td>\n",
       "      <td>2.744604</td>\n",
       "      <td>15.558453</td>\n",
       "    </tr>\n",
       "    <tr>\n",
       "      <th>VALENTINE,NE</th>\n",
       "      <td>250759</td>\n",
       "      <td>2632</td>\n",
       "      <td>385.7</td>\n",
       "      <td>42.8758</td>\n",
       "      <td>70</td>\n",
       "      <td>58</td>\n",
       "      <td>3.301391</td>\n",
       "      <td>27.150380</td>\n",
       "    </tr>\n",
       "    <tr>\n",
       "      <th>CONCORDIA,KS</th>\n",
       "      <td>143484</td>\n",
       "      <td>5067</td>\n",
       "      <td>434.4</td>\n",
       "      <td>39.5669</td>\n",
       "      <td>78</td>\n",
       "      <td>59</td>\n",
       "      <td>2.316172</td>\n",
       "      <td>10.136799</td>\n",
       "    </tr>\n",
       "    <tr>\n",
       "      <th>FLAGSTAFF,AZ</th>\n",
       "      <td>650010</td>\n",
       "      <td>77868</td>\n",
       "      <td>446.4</td>\n",
       "      <td>35.1872</td>\n",
       "      <td>88</td>\n",
       "      <td>72</td>\n",
       "      <td>4.864624</td>\n",
       "      <td>129.622143</td>\n",
       "    </tr>\n",
       "    <tr>\n",
       "      <th>OMAHA,NE</th>\n",
       "      <td>278435</td>\n",
       "      <td>826161</td>\n",
       "      <td>1318.9</td>\n",
       "      <td>41.2627</td>\n",
       "      <td>72</td>\n",
       "      <td>49</td>\n",
       "      <td>2.156944</td>\n",
       "      <td>8.644683</td>\n",
       "    </tr>\n",
       "    <tr>\n",
       "      <th>DODGE CITY,KS</th>\n",
       "      <td>237736</td>\n",
       "      <td>27652</td>\n",
       "      <td>711.1</td>\n",
       "      <td>37.7611</td>\n",
       "      <td>77</td>\n",
       "      <td>63</td>\n",
       "      <td>2.316172</td>\n",
       "      <td>10.136799</td>\n",
       "    </tr>\n",
       "    <tr>\n",
       "      <th>COLUMBUS,OH</th>\n",
       "      <td>266192</td>\n",
       "      <td>1578153</td>\n",
       "      <td>1579.9</td>\n",
       "      <td>39.9862</td>\n",
       "      <td>54</td>\n",
       "      <td>33</td>\n",
       "      <td>2.928529</td>\n",
       "      <td>18.700098</td>\n",
       "    </tr>\n",
       "    <tr>\n",
       "      <th>LANDER,WY</th>\n",
       "      <td>402722</td>\n",
       "      <td>7565</td>\n",
       "      <td>620.6</td>\n",
       "      <td>42.8312</td>\n",
       "      <td>71</td>\n",
       "      <td>58</td>\n",
       "      <td>3.754127</td>\n",
       "      <td>42.696949</td>\n",
       "    </tr>\n",
       "    <tr>\n",
       "      <th>HOUSTON,TX</th>\n",
       "      <td>253134</td>\n",
       "      <td>6046392</td>\n",
       "      <td>1386.2</td>\n",
       "      <td>29.7860</td>\n",
       "      <td>65</td>\n",
       "      <td>54</td>\n",
       "      <td>3.127065</td>\n",
       "      <td>22.806951</td>\n",
       "    </tr>\n",
       "    <tr>\n",
       "      <th>HAVRE,MT</th>\n",
       "      <td>235186</td>\n",
       "      <td>9333</td>\n",
       "      <td>971.6</td>\n",
       "      <td>48.5427</td>\n",
       "      <td>78</td>\n",
       "      <td>48</td>\n",
       "      <td>3.205620</td>\n",
       "      <td>24.670785</td>\n",
       "    </tr>\n",
       "    <tr>\n",
       "      <th>JACKSON,MS</th>\n",
       "      <td>85274</td>\n",
       "      <td>331332</td>\n",
       "      <td>518.0</td>\n",
       "      <td>32.3157</td>\n",
       "      <td>70</td>\n",
       "      <td>55</td>\n",
       "      <td>5.082682</td>\n",
       "      <td>161.205909</td>\n",
       "    </tr>\n",
       "    <tr>\n",
       "      <th>LOUISVILLE,KY</th>\n",
       "      <td>274989</td>\n",
       "      <td>965005</td>\n",
       "      <td>920.7</td>\n",
       "      <td>38.1663</td>\n",
       "      <td>64</td>\n",
       "      <td>44</td>\n",
       "      <td>2.770178</td>\n",
       "      <td>15.961482</td>\n",
       "    </tr>\n",
       "    <tr>\n",
       "      <th>PORT ARTHUR,TX</th>\n",
       "      <td>149655</td>\n",
       "      <td>114860</td>\n",
       "      <td>285.1</td>\n",
       "      <td>29.8554</td>\n",
       "      <td>69</td>\n",
       "      <td>58</td>\n",
       "      <td>3.670681</td>\n",
       "      <td>39.278645</td>\n",
       "    </tr>\n",
       "    <tr>\n",
       "      <th>JUNEAU,AK</th>\n",
       "      <td>490940</td>\n",
       "      <td>31969</td>\n",
       "      <td>4.6</td>\n",
       "      <td>58.4546</td>\n",
       "      <td>37</td>\n",
       "      <td>26</td>\n",
       "      <td>3.546180</td>\n",
       "      <td>34.680580</td>\n",
       "    </tr>\n",
       "    <tr>\n",
       "      <th>SEATTLE,WA</th>\n",
       "      <td>951553</td>\n",
       "      <td>3555253</td>\n",
       "      <td>3408.0</td>\n",
       "      <td>47.6211</td>\n",
       "      <td>55</td>\n",
       "      <td>29</td>\n",
       "      <td>3.622635</td>\n",
       "      <td>37.436089</td>\n",
       "    </tr>\n",
       "    <tr>\n",
       "      <th>KNOXVILLE,TN</th>\n",
       "      <td>358574</td>\n",
       "      <td>618226</td>\n",
       "      <td>757.6</td>\n",
       "      <td>35.9692</td>\n",
       "      <td>67</td>\n",
       "      <td>51</td>\n",
       "      <td>2.880846</td>\n",
       "      <td>17.829353</td>\n",
       "    </tr>\n",
       "    <tr>\n",
       "      <th>NORTH PLATTE,NE</th>\n",
       "      <td>212305</td>\n",
       "      <td>23030</td>\n",
       "      <td>518.6</td>\n",
       "      <td>41.1263</td>\n",
       "      <td>72</td>\n",
       "      <td>60</td>\n",
       "      <td>3.926393</td>\n",
       "      <td>50.723687</td>\n",
       "    </tr>\n",
       "    <tr>\n",
       "      <th>PADUCAH,KY</th>\n",
       "      <td>218768</td>\n",
       "      <td>26894</td>\n",
       "      <td>510.3</td>\n",
       "      <td>37.0711</td>\n",
       "      <td>73</td>\n",
       "      <td>58</td>\n",
       "      <td>2.767559</td>\n",
       "      <td>15.919727</td>\n",
       "    </tr>\n",
       "    <tr>\n",
       "      <th>CONCORD,NH</th>\n",
       "      <td>462251</td>\n",
       "      <td>44219</td>\n",
       "      <td>266.9</td>\n",
       "      <td>43.2305</td>\n",
       "      <td>59</td>\n",
       "      <td>43</td>\n",
       "      <td>4.471735</td>\n",
       "      <td>87.508423</td>\n",
       "    </tr>\n",
       "    <tr>\n",
       "      <th>SIOUX FALLS,SD</th>\n",
       "      <td>307324</td>\n",
       "      <td>207795</td>\n",
       "      <td>913.0</td>\n",
       "      <td>43.5396</td>\n",
       "      <td>58</td>\n",
       "      <td>49</td>\n",
       "      <td>3.480579</td>\n",
       "      <td>32.478527</td>\n",
       "    </tr>\n",
       "    <tr>\n",
       "      <th>MISSOULA,MT</th>\n",
       "      <td>563126</td>\n",
       "      <td>92942</td>\n",
       "      <td>833.3</td>\n",
       "      <td>46.8751</td>\n",
       "      <td>60</td>\n",
       "      <td>37</td>\n",
       "      <td>3.173045</td>\n",
       "      <td>23.880077</td>\n",
       "    </tr>\n",
       "    <tr>\n",
       "      <th>KEY WEST,FL</th>\n",
       "      <td>1285405</td>\n",
       "      <td>25824</td>\n",
       "      <td>1780.7</td>\n",
       "      <td>24.5642</td>\n",
       "      <td>77</td>\n",
       "      <td>71</td>\n",
       "      <td>5.891352</td>\n",
       "      <td>361.894237</td>\n",
       "    </tr>\n",
       "    <tr>\n",
       "      <th>NORFOLK,VA</th>\n",
       "      <td>290516</td>\n",
       "      <td>235037</td>\n",
       "      <td>1703.4</td>\n",
       "      <td>36.8945</td>\n",
       "      <td>65</td>\n",
       "      <td>58</td>\n",
       "      <td>3.557975</td>\n",
       "      <td>35.092081</td>\n",
       "    </tr>\n",
       "    <tr>\n",
       "      <th>CORPUS CHRISTI,TX</th>\n",
       "      <td>243797</td>\n",
       "      <td>339432</td>\n",
       "      <td>736.3</td>\n",
       "      <td>27.7254</td>\n",
       "      <td>72</td>\n",
       "      <td>57</td>\n",
       "      <td>4.433060</td>\n",
       "      <td>84.188611</td>\n",
       "    </tr>\n",
       "    <tr>\n",
       "      <th>OKLAHOMA CITY,OK</th>\n",
       "      <td>210829</td>\n",
       "      <td>1000207</td>\n",
       "      <td>438.4</td>\n",
       "      <td>35.4676</td>\n",
       "      <td>73</td>\n",
       "      <td>58</td>\n",
       "      <td>2.595382</td>\n",
       "      <td>13.401712</td>\n",
       "    </tr>\n",
       "    <tr>\n",
       "      <th>NEW ORLEANS,LA</th>\n",
       "      <td>213007</td>\n",
       "      <td>918752</td>\n",
       "      <td>856.6</td>\n",
       "      <td>30.0687</td>\n",
       "      <td>67</td>\n",
       "      <td>57</td>\n",
       "      <td>4.139067</td>\n",
       "      <td>62.744241</td>\n",
       "    </tr>\n",
       "    <tr>\n",
       "      <th>DES MOINES,IA</th>\n",
       "      <td>227345</td>\n",
       "      <td>560170</td>\n",
       "      <td>930.5</td>\n",
       "      <td>41.5725</td>\n",
       "      <td>69</td>\n",
       "      <td>45</td>\n",
       "      <td>2.446981</td>\n",
       "      <td>11.553411</td>\n",
       "    </tr>\n",
       "    <tr>\n",
       "      <th>AMARILLO,TX</th>\n",
       "      <td>211068</td>\n",
       "      <td>205100</td>\n",
       "      <td>748.8</td>\n",
       "      <td>35.1984</td>\n",
       "      <td>79</td>\n",
       "      <td>67</td>\n",
       "      <td>4.683935</td>\n",
       "      <td>108.194995</td>\n",
       "    </tr>\n",
       "    <tr>\n",
       "      <th>RICHMOND,VA</th>\n",
       "      <td>351806</td>\n",
       "      <td>1081248</td>\n",
       "      <td>1466.4</td>\n",
       "      <td>37.5295</td>\n",
       "      <td>68</td>\n",
       "      <td>60</td>\n",
       "      <td>3.557975</td>\n",
       "      <td>35.092081</td>\n",
       "    </tr>\n",
       "    <tr>\n",
       "      <th>MOLINE,IL</th>\n",
       "      <td>151212</td>\n",
       "      <td>42235</td>\n",
       "      <td>973.4</td>\n",
       "      <td>41.4821</td>\n",
       "      <td>62</td>\n",
       "      <td>40</td>\n",
       "      <td>3.315590</td>\n",
       "      <td>27.538647</td>\n",
       "    </tr>\n",
       "    <tr>\n",
       "      <th>DULUTH,MN</th>\n",
       "      <td>297098</td>\n",
       "      <td>120443</td>\n",
       "      <td>468.0</td>\n",
       "      <td>46.7756</td>\n",
       "      <td>55</td>\n",
       "      <td>33</td>\n",
       "      <td>3.484850</td>\n",
       "      <td>32.617533</td>\n",
       "    </tr>\n",
       "    <tr>\n",
       "      <th>SPRINGFIELD,IL</th>\n",
       "      <td>181895</td>\n",
       "      <td>156240</td>\n",
       "      <td>716.7</td>\n",
       "      <td>39.7709</td>\n",
       "      <td>68</td>\n",
       "      <td>45</td>\n",
       "      <td>2.519966</td>\n",
       "      <td>12.428168</td>\n",
       "    </tr>\n",
       "    <tr>\n",
       "      <th>FORT SMITH,AR</th>\n",
       "      <td>207988</td>\n",
       "      <td>128384</td>\n",
       "      <td>538.3</td>\n",
       "      <td>35.3495</td>\n",
       "      <td>70</td>\n",
       "      <td>51</td>\n",
       "      <td>2.712635</td>\n",
       "      <td>15.068936</td>\n",
       "    </tr>\n",
       "    <tr>\n",
       "      <th>SHERIDAN,WY</th>\n",
       "      <td>443398</td>\n",
       "      <td>19035</td>\n",
       "      <td>577.9</td>\n",
       "      <td>44.7961</td>\n",
       "      <td>65</td>\n",
       "      <td>52</td>\n",
       "      <td>3.532627</td>\n",
       "      <td>34.213745</td>\n",
       "    </tr>\n",
       "    <tr>\n",
       "      <th>SPOKANE,WA</th>\n",
       "      <td>406295</td>\n",
       "      <td>458988</td>\n",
       "      <td>1287.2</td>\n",
       "      <td>47.6671</td>\n",
       "      <td>65</td>\n",
       "      <td>26</td>\n",
       "      <td>3.113889</td>\n",
       "      <td>22.508419</td>\n",
       "    </tr>\n",
       "    <tr>\n",
       "      <th>ABILENE,TX</th>\n",
       "      <td>215666</td>\n",
       "      <td>127130</td>\n",
       "      <td>460.2</td>\n",
       "      <td>32.4543</td>\n",
       "      <td>77</td>\n",
       "      <td>64</td>\n",
       "      <td>2.542193</td>\n",
       "      <td>12.707507</td>\n",
       "    </tr>\n",
       "    <tr>\n",
       "      <th>TULSA,OK</th>\n",
       "      <td>217766</td>\n",
       "      <td>740620</td>\n",
       "      <td>805.1</td>\n",
       "      <td>36.1283</td>\n",
       "      <td>66</td>\n",
       "      <td>50</td>\n",
       "      <td>2.375974</td>\n",
       "      <td>10.761488</td>\n",
       "    </tr>\n",
       "    <tr>\n",
       "      <th>ELY,NV</th>\n",
       "      <td>255374</td>\n",
       "      <td>3941</td>\n",
       "      <td>199.5</td>\n",
       "      <td>39.2650</td>\n",
       "      <td>81</td>\n",
       "      <td>65</td>\n",
       "      <td>4.683935</td>\n",
       "      <td>108.194995</td>\n",
       "    </tr>\n",
       "    <tr>\n",
       "      <th>WILLISTON,ND</th>\n",
       "      <td>344312</td>\n",
       "      <td>27964</td>\n",
       "      <td>419.6</td>\n",
       "      <td>48.1814</td>\n",
       "      <td>68</td>\n",
       "      <td>43</td>\n",
       "      <td>3.491982</td>\n",
       "      <td>32.850988</td>\n",
       "    </tr>\n",
       "  </tbody>\n",
       "</table>\n",
       "</div>"
      ],
      "text/plain": [
       "                   Land Value  population  density      lat  JUN  NOV  \\\n",
       "City-State                                                              \n",
       "FORT WAYNE,IN          227793      345279    919.8  41.0888   74   40   \n",
       "ALPENA,MI              191528       10178    480.9  45.0740   62   28   \n",
       "ANCHORAGE,AK           392428      289069     65.4  61.1508   46   35   \n",
       "BALTIMORE,MD           206499     2189589   2753.1  39.3051   60   50   \n",
       "POCATELLO,ID           317148       76370    649.5  42.8724   74   43   \n",
       "HURON,SD               195944       14347    569.2  44.3623   69   51   \n",
       "GREEN BAY,WI           272902      227679    904.9  44.5148   66   35   \n",
       "BISMARCK,ND            326276       99060    825.4  46.8143   67   42   \n",
       "SHREVEPORT,LA          146103      278269    655.0  32.4653   68   57   \n",
       "LAKE CHARLES,LA        211510      145110    664.4  30.2010   80   55   \n",
       "FARGO,ND               289199      225066    967.9  46.8651   64   39   \n",
       "VALENTINE,NE           250759        2632    385.7  42.8758   70   58   \n",
       "CONCORDIA,KS           143484        5067    434.4  39.5669   78   59   \n",
       "FLAGSTAFF,AZ           650010       77868    446.4  35.1872   88   72   \n",
       "OMAHA,NE               278435      826161   1318.9  41.2627   72   49   \n",
       "DODGE CITY,KS          237736       27652    711.1  37.7611   77   63   \n",
       "COLUMBUS,OH            266192     1578153   1579.9  39.9862   54   33   \n",
       "LANDER,WY              402722        7565    620.6  42.8312   71   58   \n",
       "HOUSTON,TX             253134     6046392   1386.2  29.7860   65   54   \n",
       "HAVRE,MT               235186        9333    971.6  48.5427   78   48   \n",
       "JACKSON,MS              85274      331332    518.0  32.3157   70   55   \n",
       "LOUISVILLE,KY          274989      965005    920.7  38.1663   64   44   \n",
       "PORT ARTHUR,TX         149655      114860    285.1  29.8554   69   58   \n",
       "JUNEAU,AK              490940       31969      4.6  58.4546   37   26   \n",
       "SEATTLE,WA             951553     3555253   3408.0  47.6211   55   29   \n",
       "KNOXVILLE,TN           358574      618226    757.6  35.9692   67   51   \n",
       "NORTH PLATTE,NE        212305       23030    518.6  41.1263   72   60   \n",
       "PADUCAH,KY             218768       26894    510.3  37.0711   73   58   \n",
       "CONCORD,NH             462251       44219    266.9  43.2305   59   43   \n",
       "SIOUX FALLS,SD         307324      207795    913.0  43.5396   58   49   \n",
       "MISSOULA,MT            563126       92942    833.3  46.8751   60   37   \n",
       "KEY WEST,FL           1285405       25824   1780.7  24.5642   77   71   \n",
       "NORFOLK,VA             290516      235037   1703.4  36.8945   65   58   \n",
       "CORPUS CHRISTI,TX      243797      339432    736.3  27.7254   72   57   \n",
       "OKLAHOMA CITY,OK       210829     1000207    438.4  35.4676   73   58   \n",
       "NEW ORLEANS,LA         213007      918752    856.6  30.0687   67   57   \n",
       "DES MOINES,IA          227345      560170    930.5  41.5725   69   45   \n",
       "AMARILLO,TX            211068      205100    748.8  35.1984   79   67   \n",
       "RICHMOND,VA            351806     1081248   1466.4  37.5295   68   60   \n",
       "MOLINE,IL              151212       42235    973.4  41.4821   62   40   \n",
       "DULUTH,MN              297098      120443    468.0  46.7756   55   33   \n",
       "SPRINGFIELD,IL         181895      156240    716.7  39.7709   68   45   \n",
       "FORT SMITH,AR          207988      128384    538.3  35.3495   70   51   \n",
       "SHERIDAN,WY            443398       19035    577.9  44.7961   65   52   \n",
       "SPOKANE,WA             406295      458988   1287.2  47.6671   65   26   \n",
       "ABILENE,TX             215666      127130    460.2  32.4543   77   64   \n",
       "TULSA,OK               217766      740620    805.1  36.1283   66   50   \n",
       "ELY,NV                 255374        3941    199.5  39.2650   81   65   \n",
       "WILLISTON,ND           344312       27964    419.6  48.1814   68   43   \n",
       "\n",
       "                   Current_log     Current  \n",
       "City-State                                  \n",
       "FORT WAYNE,IN         2.555058   12.872041  \n",
       "ALPENA,MI             2.735924   15.423987  \n",
       "ANCHORAGE,AK          4.155131   63.760312  \n",
       "BALTIMORE,MD          4.429131   83.858493  \n",
       "POCATELLO,ID          3.691420   40.101734  \n",
       "HURON,SD              2.904322   18.252867  \n",
       "GREEN BAY,WI          3.292618   26.913227  \n",
       "BISMARCK,ND           2.815611   16.703377  \n",
       "SHREVEPORT,LA         3.021222   20.516344  \n",
       "LAKE CHARLES,LA       3.967367   52.845232  \n",
       "FARGO,ND              2.744604   15.558453  \n",
       "VALENTINE,NE          3.301391   27.150380  \n",
       "CONCORDIA,KS          2.316172   10.136799  \n",
       "FLAGSTAFF,AZ          4.864624  129.622143  \n",
       "OMAHA,NE              2.156944    8.644683  \n",
       "DODGE CITY,KS         2.316172   10.136799  \n",
       "COLUMBUS,OH           2.928529   18.700098  \n",
       "LANDER,WY             3.754127   42.696949  \n",
       "HOUSTON,TX            3.127065   22.806951  \n",
       "HAVRE,MT              3.205620   24.670785  \n",
       "JACKSON,MS            5.082682  161.205909  \n",
       "LOUISVILLE,KY         2.770178   15.961482  \n",
       "PORT ARTHUR,TX        3.670681   39.278645  \n",
       "JUNEAU,AK             3.546180   34.680580  \n",
       "SEATTLE,WA            3.622635   37.436089  \n",
       "KNOXVILLE,TN          2.880846   17.829353  \n",
       "NORTH PLATTE,NE       3.926393   50.723687  \n",
       "PADUCAH,KY            2.767559   15.919727  \n",
       "CONCORD,NH            4.471735   87.508423  \n",
       "SIOUX FALLS,SD        3.480579   32.478527  \n",
       "MISSOULA,MT           3.173045   23.880077  \n",
       "KEY WEST,FL           5.891352  361.894237  \n",
       "NORFOLK,VA            3.557975   35.092081  \n",
       "CORPUS CHRISTI,TX     4.433060   84.188611  \n",
       "OKLAHOMA CITY,OK      2.595382   13.401712  \n",
       "NEW ORLEANS,LA        4.139067   62.744241  \n",
       "DES MOINES,IA         2.446981   11.553411  \n",
       "AMARILLO,TX           4.683935  108.194995  \n",
       "RICHMOND,VA           3.557975   35.092081  \n",
       "MOLINE,IL             3.315590   27.538647  \n",
       "DULUTH,MN             3.484850   32.617533  \n",
       "SPRINGFIELD,IL        2.519966   12.428168  \n",
       "FORT SMITH,AR         2.712635   15.068936  \n",
       "SHERIDAN,WY           3.532627   34.213745  \n",
       "SPOKANE,WA            3.113889   22.508419  \n",
       "ABILENE,TX            2.542193   12.707507  \n",
       "TULSA,OK              2.375974   10.761488  \n",
       "ELY,NV                4.683935  108.194995  \n",
       "WILLISTON,ND          3.491982   32.850988  "
      ]
     },
     "execution_count": 60,
     "metadata": {},
     "output_type": "execute_result"
    }
   ],
   "source": [
    "\n",
    "df_pred = X_predict.reset_index()[[\n",
    "    'City-State','Land Value','population','density','lat','JUN','NOV'\n",
    "    ]].set_index('City-State')\n",
    "\n",
    "df_pred['Land Value'] = df_pred['Land Value'].astype(int)\n",
    "\n",
    "df_pred['Current_log'] = y_pred\n",
    "df_pred['Current']     = np.exp(y_pred)\n",
    "df_pred"
   ]
  },
  {
   "cell_type": "code",
   "execution_count": 61,
   "id": "5596ef6c",
   "metadata": {},
   "outputs": [
    {
     "data": {
      "application/vnd.microsoft.datawrangler.viewer.v0+json": {
       "columns": [
        {
         "name": "index",
         "rawType": "object",
         "type": "string"
        },
        {
         "name": "Current_log",
         "rawType": "float64",
         "type": "float"
        },
        {
         "name": "Current",
         "rawType": "float64",
         "type": "float"
        }
       ],
       "ref": "3faedbad-e0a4-4c2e-86eb-bbe4ba18dbc5",
       "rows": [
        [
         "count",
         "49.0",
         "49.0"
        ],
        [
         "mean",
         "3.4031619493591854",
         "44.88420302393407"
        ],
        [
         "std",
         "0.8199805618380942",
         "57.107586505378016"
        ],
        [
         "min",
         "2.1569444549208354",
         "8.644683043676865"
        ],
        [
         "25%",
         "2.767559018954683",
         "15.919726791876395"
        ],
        [
         "50%",
         "3.301391033241039",
         "27.150379745934437"
        ],
        [
         "75%",
         "3.754127467324929",
         "42.69694906975817"
        ],
        [
         "max",
         "5.8913520062513545",
         "361.8942370350777"
        ]
       ],
       "shape": {
        "columns": 2,
        "rows": 8
       }
      },
      "text/html": [
       "<div>\n",
       "<style scoped>\n",
       "    .dataframe tbody tr th:only-of-type {\n",
       "        vertical-align: middle;\n",
       "    }\n",
       "\n",
       "    .dataframe tbody tr th {\n",
       "        vertical-align: top;\n",
       "    }\n",
       "\n",
       "    .dataframe thead th {\n",
       "        text-align: right;\n",
       "    }\n",
       "</style>\n",
       "<table border=\"1\" class=\"dataframe\">\n",
       "  <thead>\n",
       "    <tr style=\"text-align: right;\">\n",
       "      <th></th>\n",
       "      <th>Current_log</th>\n",
       "      <th>Current</th>\n",
       "    </tr>\n",
       "  </thead>\n",
       "  <tbody>\n",
       "    <tr>\n",
       "      <th>count</th>\n",
       "      <td>49.000000</td>\n",
       "      <td>49.000000</td>\n",
       "    </tr>\n",
       "    <tr>\n",
       "      <th>mean</th>\n",
       "      <td>3.403162</td>\n",
       "      <td>44.884203</td>\n",
       "    </tr>\n",
       "    <tr>\n",
       "      <th>std</th>\n",
       "      <td>0.819981</td>\n",
       "      <td>57.107587</td>\n",
       "    </tr>\n",
       "    <tr>\n",
       "      <th>min</th>\n",
       "      <td>2.156944</td>\n",
       "      <td>8.644683</td>\n",
       "    </tr>\n",
       "    <tr>\n",
       "      <th>25%</th>\n",
       "      <td>2.767559</td>\n",
       "      <td>15.919727</td>\n",
       "    </tr>\n",
       "    <tr>\n",
       "      <th>50%</th>\n",
       "      <td>3.301391</td>\n",
       "      <td>27.150380</td>\n",
       "    </tr>\n",
       "    <tr>\n",
       "      <th>75%</th>\n",
       "      <td>3.754127</td>\n",
       "      <td>42.696949</td>\n",
       "    </tr>\n",
       "    <tr>\n",
       "      <th>max</th>\n",
       "      <td>5.891352</td>\n",
       "      <td>361.894237</td>\n",
       "    </tr>\n",
       "  </tbody>\n",
       "</table>\n",
       "</div>"
      ],
      "text/plain": [
       "       Current_log     Current\n",
       "count    49.000000   49.000000\n",
       "mean      3.403162   44.884203\n",
       "std       0.819981   57.107587\n",
       "min       2.156944    8.644683\n",
       "25%       2.767559   15.919727\n",
       "50%       3.301391   27.150380\n",
       "75%       3.754127   42.696949\n",
       "max       5.891352  361.894237"
      ]
     },
     "execution_count": 61,
     "metadata": {},
     "output_type": "execute_result"
    }
   ],
   "source": [
    "df_pred[['Current_log','Current']].describe()"
   ]
  },
  {
   "cell_type": "code",
   "execution_count": 62,
   "id": "bfec7ee9",
   "metadata": {},
   "outputs": [
    {
     "name": "stdout",
     "output_type": "stream",
     "text": [
      "              Land Value  population  density      lat  JUN  NOV  Current_log  \\\n",
      "City-State                                                                      \n",
      "KEY WEST,FL      1285405       25824   1780.7  24.5642   77   71     5.891352   \n",
      "JACKSON,MS         85274      331332    518.0  32.3157   70   55     5.082682   \n",
      "FLAGSTAFF,AZ      650010       77868    446.4  35.1872   88   72     4.864624   \n",
      "AMARILLO,TX       211068      205100    748.8  35.1984   79   67     4.683935   \n",
      "ELY,NV            255374        3941    199.5  39.2650   81   65     4.683935   \n",
      "\n",
      "                 Current  \n",
      "City-State                \n",
      "KEY WEST,FL   361.894237  \n",
      "JACKSON,MS    161.205909  \n",
      "FLAGSTAFF,AZ  129.622143  \n",
      "AMARILLO,TX   108.194995  \n",
      "ELY,NV        108.194995  \n"
     ]
    }
   ],
   "source": [
    "print(df_pred.sort_values(by='Current', ascending=False).head())"
   ]
  },
  {
   "cell_type": "code",
   "execution_count": 63,
   "id": "5b514053",
   "metadata": {},
   "outputs": [
    {
     "name": "stdout",
     "output_type": "stream",
     "text": [
      "               Land Value  population  density      lat  JUN  NOV  \\\n",
      "City-State                                                          \n",
      "OMAHA,NE           278435      826161   1318.9  41.2627   72   49   \n",
      "DODGE CITY,KS      237736       27652    711.1  37.7611   77   63   \n",
      "CONCORDIA,KS       143484        5067    434.4  39.5669   78   59   \n",
      "TULSA,OK           217766      740620    805.1  36.1283   66   50   \n",
      "DES MOINES,IA      227345      560170    930.5  41.5725   69   45   \n",
      "\n",
      "               Current_log    Current  \n",
      "City-State                             \n",
      "OMAHA,NE          2.156944   8.644683  \n",
      "DODGE CITY,KS     2.316172  10.136799  \n",
      "CONCORDIA,KS      2.316172  10.136799  \n",
      "TULSA,OK          2.375974  10.761488  \n",
      "DES MOINES,IA     2.446981  11.553411  \n"
     ]
    }
   ],
   "source": [
    "print(df_pred.sort_values(by='Current', ascending=True).head())"
   ]
  }
 ],
 "metadata": {
  "kernelspec": {
   "display_name": "junko",
   "language": "python",
   "name": "python3"
  },
  "language_info": {
   "codemirror_mode": {
    "name": "ipython",
    "version": 3
   },
   "file_extension": ".py",
   "mimetype": "text/x-python",
   "name": "python",
   "nbconvert_exporter": "python",
   "pygments_lexer": "ipython3",
   "version": "3.12.11"
  }
 },
 "nbformat": 4,
 "nbformat_minor": 5
}
