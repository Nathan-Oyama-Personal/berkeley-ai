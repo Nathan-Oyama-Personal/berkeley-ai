{
 "cells": [
  {
   "cell_type": "markdown",
   "id": "2befb9d9",
   "metadata": {},
   "source": [
    "# Capstone Assignment 20.1: Initial Report and Exploratory Data Analysis (EDA)\n",
    "\n",
    "Nathan Oyama"
   ]
  },
  {
   "cell_type": "code",
   "execution_count": null,
   "id": "4665b755",
   "metadata": {
    "vscode": {
     "languageId": "plaintext"
    }
   },
   "outputs": [],
   "source": [
    "Nathan Oyama"
   ]
  }
 ],
 "metadata": {
  "language_info": {
   "name": "python"
  }
 },
 "nbformat": 4,
 "nbformat_minor": 5
}
