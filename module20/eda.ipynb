{
 "cells": [
  {
   "cell_type": "markdown",
   "id": "2befb9d9",
   "metadata": {},
   "source": [
    "# Capstone Assignment 20.1: Initial Report and Exploratory Data Analysis (EDA)\n",
    "\n",
    "Nathan Oyama"
   ]
  },
  {
   "cell_type": "markdown",
   "id": "d46de7c9",
   "metadata": {},
   "source": [
    "## 1 &emsp; Planning the project\n",
    "\n",
    "There are three data sets to accomplish this project. \n",
    "\n",
    "* Kaggle: \"Percent Sunshine by US City\". 18 Jan 2023. kaggle.com/datasets/thedevastator/annual-percent-of-possible-sunshine-by-us-city.\n",
    "\n",
    "* US Geological Survey: \"The United States Large-Scale Solar Photovoltaic Database (USPVDB)\". 28 Apr 2025. US Department of the Interior. energy.usgs.gov/uspvdb/data.\n",
    "\n",
    "* landvalue: \"ZHVI 3-Bedroom Time Series($) - City\". 25 Jun 2025. landvalue.com/research/data.\n",
    "\n",
    "* Pareto Software: \"United States Cities Database - Basic\". 9 Jun 2025. simplemaps.com/data/us-cities.\n",
    "\n",
    "Then take the following steps _for every dataset_:\n",
    "\n",
    "1. From the data set which is in CSV format, create a pandas DataFrame object.\n",
    "1. Analyze every DataFrame and identify which columns to use for this project.\n",
    "1. Format the DataFrames before merge them.\n",
    "\n",
    "Finally, merge the three DataFrames into one."
   ]
  },
  {
   "cell_type": "markdown",
   "id": "bd62ac95",
   "metadata": {},
   "source": [
    "## 2 &emsp; Analyzing Data Sets"
   ]
  },
  {
   "cell_type": "markdown",
   "id": "ec97b352",
   "metadata": {},
   "source": [
    "Analyze those three data sets.\n",
    "\n",
    "Import required package resources before working on all data sets:"
   ]
  },
  {
   "cell_type": "code",
   "execution_count": 1,
   "id": "06695ac5",
   "metadata": {},
   "outputs": [],
   "source": [
    "import numpy as np\n",
    "import pandas as pd\n",
    "pd.options.mode.copy_on_write = True\n",
    "\n",
    "import warnings\n",
    "warnings.filterwarnings(\"ignore\", message=\".*pkg_resources is deprecated as an API.*\")\n",
    "warnings.filterwarnings(\"ignore\", category=UserWarning)\n",
    "\n",
    "from sklearn.model_selection import train_test_split, GridSearchCV\n",
    "from sklearn.metrics         import mean_squared_error\n",
    "from sklearn.pipeline        import Pipeline\n",
    "from sklearn.preprocessing   import StandardScaler\n",
    "from sklearn.linear_model    import LinearRegression, Ridge\n",
    "from sklearn.neighbors       import KNeighborsRegressor\n",
    "from sklearn.tree            import DecisionTreeRegressor\n",
    "from sklearn.svm             import SVR\n",
    "from sklearn.ensemble        import VotingRegressor\n",
    "from sklearn.inspection      import permutation_importance"
   ]
  },
  {
   "cell_type": "markdown",
   "id": "036be2da",
   "metadata": {},
   "source": [
    "### 2.1 &emsp; Analyzing Data Set 1: \"Percent Sunshine by US City\""
   ]
  },
  {
   "cell_type": "code",
   "execution_count": 2,
   "id": "959e4691",
   "metadata": {},
   "outputs": [
    {
     "data": {
      "application/vnd.microsoft.datawrangler.viewer.v0+json": {
       "columns": [
        {
         "name": "index",
         "rawType": "int64",
         "type": "integer"
        },
        {
         "name": "index",
         "rawType": "int64",
         "type": "integer"
        },
        {
         "name": "CITY",
         "rawType": "object",
         "type": "string"
        },
        {
         "name": "JAN",
         "rawType": "object",
         "type": "string"
        },
        {
         "name": "FEB",
         "rawType": "object",
         "type": "string"
        },
        {
         "name": "MAR",
         "rawType": "object",
         "type": "string"
        },
        {
         "name": "APR",
         "rawType": "object",
         "type": "string"
        },
        {
         "name": "MAY",
         "rawType": "object",
         "type": "string"
        },
        {
         "name": "JUN",
         "rawType": "object",
         "type": "string"
        },
        {
         "name": "JUL",
         "rawType": "object",
         "type": "string"
        },
        {
         "name": "AUG",
         "rawType": "object",
         "type": "string"
        },
        {
         "name": "SEP",
         "rawType": "object",
         "type": "string"
        },
        {
         "name": "OCT",
         "rawType": "object",
         "type": "string"
        },
        {
         "name": "NOV",
         "rawType": "object",
         "type": "string"
        },
        {
         "name": "DEC",
         "rawType": "object",
         "type": "string"
        },
        {
         "name": "ANN",
         "rawType": "object",
         "type": "string"
        },
        {
         "name": "Unnamed: 14",
         "rawType": "float64",
         "type": "float"
        }
       ],
       "ref": "37ee9343-3423-43ca-8f2a-cda00a022ebd",
       "rows": [
        [
         "0",
         "0",
         "BIRMINGHAM,AL",
         "46",
         "53",
         "57",
         "65",
         "65",
         "67",
         "59",
         "62",
         "59",
         "66",
         "55",
         "49",
         "58",
         null
        ],
        [
         "1",
         "1",
         "MONTGOMERY,AL",
         "47",
         "55",
         "58",
         "64",
         "63",
         "64",
         "61",
         "61",
         "59",
         "63",
         "55",
         "49",
         "58",
         null
        ],
        [
         "2",
         "2",
         "ANCHORAGE,AK",
         "43",
         "46",
         "51",
         "50",
         "51",
         "46",
         "43",
         "43",
         "41",
         "36",
         "35",
         "33",
         "43",
         null
        ],
        [
         "3",
         "3",
         "JUNEAU,AK",
         "39",
         "35",
         "38",
         "42",
         "44",
         "37",
         "33",
         "35",
         "27",
         "21",
         "26",
         "21",
         "33",
         null
        ],
        [
         "4",
         "4",
         "NOME,AK",
         "38",
         "56",
         "54",
         "52",
         "52",
         "43",
         "39",
         "34",
         "38",
         "35",
         "30",
         "36",
         "42",
         null
        ]
       ],
       "shape": {
        "columns": 16,
        "rows": 5
       }
      },
      "text/html": [
       "<div>\n",
       "<style scoped>\n",
       "    .dataframe tbody tr th:only-of-type {\n",
       "        vertical-align: middle;\n",
       "    }\n",
       "\n",
       "    .dataframe tbody tr th {\n",
       "        vertical-align: top;\n",
       "    }\n",
       "\n",
       "    .dataframe thead th {\n",
       "        text-align: right;\n",
       "    }\n",
       "</style>\n",
       "<table border=\"1\" class=\"dataframe\">\n",
       "  <thead>\n",
       "    <tr style=\"text-align: right;\">\n",
       "      <th></th>\n",
       "      <th>index</th>\n",
       "      <th>CITY</th>\n",
       "      <th>JAN</th>\n",
       "      <th>FEB</th>\n",
       "      <th>MAR</th>\n",
       "      <th>APR</th>\n",
       "      <th>MAY</th>\n",
       "      <th>JUN</th>\n",
       "      <th>JUL</th>\n",
       "      <th>AUG</th>\n",
       "      <th>SEP</th>\n",
       "      <th>OCT</th>\n",
       "      <th>NOV</th>\n",
       "      <th>DEC</th>\n",
       "      <th>ANN</th>\n",
       "      <th>Unnamed: 14</th>\n",
       "    </tr>\n",
       "  </thead>\n",
       "  <tbody>\n",
       "    <tr>\n",
       "      <th>0</th>\n",
       "      <td>0</td>\n",
       "      <td>BIRMINGHAM,AL</td>\n",
       "      <td>46</td>\n",
       "      <td>53</td>\n",
       "      <td>57</td>\n",
       "      <td>65</td>\n",
       "      <td>65</td>\n",
       "      <td>67</td>\n",
       "      <td>59</td>\n",
       "      <td>62</td>\n",
       "      <td>59</td>\n",
       "      <td>66</td>\n",
       "      <td>55</td>\n",
       "      <td>49</td>\n",
       "      <td>58</td>\n",
       "      <td>NaN</td>\n",
       "    </tr>\n",
       "    <tr>\n",
       "      <th>1</th>\n",
       "      <td>1</td>\n",
       "      <td>MONTGOMERY,AL</td>\n",
       "      <td>47</td>\n",
       "      <td>55</td>\n",
       "      <td>58</td>\n",
       "      <td>64</td>\n",
       "      <td>63</td>\n",
       "      <td>64</td>\n",
       "      <td>61</td>\n",
       "      <td>61</td>\n",
       "      <td>59</td>\n",
       "      <td>63</td>\n",
       "      <td>55</td>\n",
       "      <td>49</td>\n",
       "      <td>58</td>\n",
       "      <td>NaN</td>\n",
       "    </tr>\n",
       "    <tr>\n",
       "      <th>2</th>\n",
       "      <td>2</td>\n",
       "      <td>ANCHORAGE,AK</td>\n",
       "      <td>43</td>\n",
       "      <td>46</td>\n",
       "      <td>51</td>\n",
       "      <td>50</td>\n",
       "      <td>51</td>\n",
       "      <td>46</td>\n",
       "      <td>43</td>\n",
       "      <td>43</td>\n",
       "      <td>41</td>\n",
       "      <td>36</td>\n",
       "      <td>35</td>\n",
       "      <td>33</td>\n",
       "      <td>43</td>\n",
       "      <td>NaN</td>\n",
       "    </tr>\n",
       "    <tr>\n",
       "      <th>3</th>\n",
       "      <td>3</td>\n",
       "      <td>JUNEAU,AK</td>\n",
       "      <td>39</td>\n",
       "      <td>35</td>\n",
       "      <td>38</td>\n",
       "      <td>42</td>\n",
       "      <td>44</td>\n",
       "      <td>37</td>\n",
       "      <td>33</td>\n",
       "      <td>35</td>\n",
       "      <td>27</td>\n",
       "      <td>21</td>\n",
       "      <td>26</td>\n",
       "      <td>21</td>\n",
       "      <td>33</td>\n",
       "      <td>NaN</td>\n",
       "    </tr>\n",
       "    <tr>\n",
       "      <th>4</th>\n",
       "      <td>4</td>\n",
       "      <td>NOME,AK</td>\n",
       "      <td>38</td>\n",
       "      <td>56</td>\n",
       "      <td>54</td>\n",
       "      <td>52</td>\n",
       "      <td>52</td>\n",
       "      <td>43</td>\n",
       "      <td>39</td>\n",
       "      <td>34</td>\n",
       "      <td>38</td>\n",
       "      <td>35</td>\n",
       "      <td>30</td>\n",
       "      <td>36</td>\n",
       "      <td>42</td>\n",
       "      <td>NaN</td>\n",
       "    </tr>\n",
       "  </tbody>\n",
       "</table>\n",
       "</div>"
      ],
      "text/plain": [
       "   index           CITY JAN FEB MAR APR MAY JUN JUL AUG SEP OCT NOV DEC ANN  \\\n",
       "0      0  BIRMINGHAM,AL  46  53  57  65  65  67  59  62  59  66  55  49  58   \n",
       "1      1  MONTGOMERY,AL  47  55  58  64  63  64  61  61  59  63  55  49  58   \n",
       "2      2   ANCHORAGE,AK  43  46  51  50  51  46  43  43  41  36  35  33  43   \n",
       "3      3      JUNEAU,AK  39  35  38  42  44  37  33  35  27  21  26  21  33   \n",
       "4      4        NOME,AK  38  56  54  52  52  43  39  34  38  35  30  36  42   \n",
       "\n",
       "   Unnamed: 14  \n",
       "0          NaN  \n",
       "1          NaN  \n",
       "2          NaN  \n",
       "3          NaN  \n",
       "4          NaN  "
      ]
     },
     "execution_count": 2,
     "metadata": {},
     "output_type": "execute_result"
    }
   ],
   "source": [
    "df_sunshine_original = pd.read_csv(\n",
    "    './data/Average Percent of Possible Sunshine by US City.csv'\n",
    "    )\n",
    "\n",
    "df_sunshine_original.head()"
   ]
  },
  {
   "cell_type": "markdown",
   "id": "d863eb52",
   "metadata": {},
   "source": [
    "See the first few records of the original DataFrame for sunshine hours. You can ignore and discard some unimportant columns: \"index\" and \"Unnamed: 14\".\n",
    "\n",
    "The remaining columns are the \"CITY\" column, the columns of all 12 months such as \"JAN\" and \"FEB\", and the annual. The \"CITY\" column includes the name of the city in all uppercase, followed by a comma (\",\") and the state abbreviation. You can use this column for the index of this DataFrame. The column for each month represents the number of sunshine hours of the month for every city. The \"ANN\" field represents the average of those monthly sunshine hours. For example, the city of Birmingham, Alabama observed approximately 46 sunshine hours in January; in average, Birmingham observed approximately 58 sunshine hours per month."
   ]
  },
  {
   "cell_type": "code",
   "execution_count": 3,
   "id": "f8b8bc13",
   "metadata": {},
   "outputs": [
    {
     "name": "stdout",
     "output_type": "stream",
     "text": [
      "<class 'pandas.core.frame.DataFrame'>\n",
      "RangeIndex: 317 entries, 0 to 316\n",
      "Data columns (total 16 columns):\n",
      " #   Column       Non-Null Count  Dtype  \n",
      "---  ------       --------------  -----  \n",
      " 0   index        317 non-null    int64  \n",
      " 1   CITY         317 non-null    object \n",
      " 2   JAN          307 non-null    object \n",
      " 3   FEB          309 non-null    object \n",
      " 4   MAR          309 non-null    object \n",
      " 5   APR          309 non-null    object \n",
      " 6   MAY          311 non-null    object \n",
      " 7   JUN          311 non-null    object \n",
      " 8   JUL          317 non-null    object \n",
      " 9   AUG          317 non-null    object \n",
      " 10  SEP          317 non-null    object \n",
      " 11  OCT          317 non-null    object \n",
      " 12  NOV          317 non-null    object \n",
      " 13  DEC          313 non-null    object \n",
      " 14  ANN          307 non-null    object \n",
      " 15  Unnamed: 14  0 non-null      float64\n",
      "dtypes: float64(1), int64(1), object(14)\n",
      "memory usage: 39.8+ KB\n"
     ]
    }
   ],
   "source": [
    "df_sunshine_original.info()"
   ]
  },
  {
   "cell_type": "markdown",
   "id": "2c76a523",
   "metadata": {},
   "source": [
    "### 2.2 &emsp; Analyzing Data Set 2: \"The US Large-Scale Solar Photovoltaic Database (USPVDB)\""
   ]
  },
  {
   "cell_type": "code",
   "execution_count": 4,
   "id": "de029c0b",
   "metadata": {},
   "outputs": [],
   "source": [
    "df_photovoltaic_original = pd.read_csv(\n",
    "    './data/uspvdb_v3_0_20250430.csv'\n",
    "    )"
   ]
  },
  {
   "cell_type": "code",
   "execution_count": 5,
   "id": "e69715fd",
   "metadata": {},
   "outputs": [
    {
     "name": "stdout",
     "output_type": "stream",
     "text": [
      "df_photovoltaic_original.shape ... (5712, 26)\n"
     ]
    }
   ],
   "source": [
    "print(\"df_photovoltaic_original.shape ...\", df_photovoltaic_original.shape)"
   ]
  },
  {
   "cell_type": "code",
   "execution_count": 6,
   "id": "c697e98f",
   "metadata": {},
   "outputs": [
    {
     "data": {
      "application/vnd.microsoft.datawrangler.viewer.v0+json": {
       "columns": [
        {
         "name": "index",
         "rawType": "int64",
         "type": "integer"
        },
        {
         "name": "case_id",
         "rawType": "int64",
         "type": "integer"
        },
        {
         "name": "multi_poly",
         "rawType": "object",
         "type": "string"
        },
        {
         "name": "eia_id",
         "rawType": "int64",
         "type": "integer"
        },
        {
         "name": "p_state",
         "rawType": "object",
         "type": "string"
        },
        {
         "name": "p_county",
         "rawType": "object",
         "type": "string"
        },
        {
         "name": "ylat",
         "rawType": "float64",
         "type": "float"
        },
        {
         "name": "xlong",
         "rawType": "float64",
         "type": "float"
        },
        {
         "name": "p_area",
         "rawType": "int64",
         "type": "integer"
        },
        {
         "name": "p_img_date",
         "rawType": "int64",
         "type": "integer"
        },
        {
         "name": "p_dig_conf",
         "rawType": "int64",
         "type": "integer"
        },
        {
         "name": "p_name",
         "rawType": "object",
         "type": "string"
        },
        {
         "name": "p_year",
         "rawType": "int64",
         "type": "integer"
        },
        {
         "name": "p_pwr_reg",
         "rawType": "object",
         "type": "unknown"
        }
       ],
       "ref": "79e833cc-c1fd-4e3e-9ea3-d06bc74535cc",
       "rows": [
        [
         "0",
         "406374",
         "single",
         "66887",
         "AK",
         "Matanuska-Susitna",
         "61.587349",
         "-149.789413",
         "172005",
         "20240814",
         "4",
         "Houston Solar",
         "2023",
         "AK"
        ],
        [
         "1",
         "405016",
         "multi",
         "6304",
         "AK",
         "Northwest Arctic",
         "66.83847",
         "-162.553146",
         "8740",
         "20240719",
         "4",
         "Kotzebue Hybrid",
         "2020",
         null
        ],
        [
         "2",
         "401476",
         "multi",
         "60058",
         "AL",
         "Lauderdale",
         "34.833809",
         "-87.838394",
         "1735134",
         "20220212",
         "4",
         "River Bend Solar, LLC",
         "2016",
         "TVA"
        ],
        [
         "3",
         "401865",
         "multi",
         "60679",
         "AL",
         "Dale",
         "31.331732",
         "-85.729469",
         "187820",
         "20220609",
         "4",
         "Fort Rucker Solar Array",
         "2017",
         "SOCO"
        ],
        [
         "4",
         "401866",
         "multi",
         "60680",
         "AL",
         "Calhoun",
         "33.626301",
         "-85.94059",
         "39717",
         "20210814",
         "4",
         "ANAD Solar Array",
         "2017",
         "SOCO"
        ]
       ],
       "shape": {
        "columns": 13,
        "rows": 5
       }
      },
      "text/html": [
       "<div>\n",
       "<style scoped>\n",
       "    .dataframe tbody tr th:only-of-type {\n",
       "        vertical-align: middle;\n",
       "    }\n",
       "\n",
       "    .dataframe tbody tr th {\n",
       "        vertical-align: top;\n",
       "    }\n",
       "\n",
       "    .dataframe thead th {\n",
       "        text-align: right;\n",
       "    }\n",
       "</style>\n",
       "<table border=\"1\" class=\"dataframe\">\n",
       "  <thead>\n",
       "    <tr style=\"text-align: right;\">\n",
       "      <th></th>\n",
       "      <th>case_id</th>\n",
       "      <th>multi_poly</th>\n",
       "      <th>eia_id</th>\n",
       "      <th>p_state</th>\n",
       "      <th>p_county</th>\n",
       "      <th>ylat</th>\n",
       "      <th>xlong</th>\n",
       "      <th>p_area</th>\n",
       "      <th>p_img_date</th>\n",
       "      <th>p_dig_conf</th>\n",
       "      <th>p_name</th>\n",
       "      <th>p_year</th>\n",
       "      <th>p_pwr_reg</th>\n",
       "    </tr>\n",
       "  </thead>\n",
       "  <tbody>\n",
       "    <tr>\n",
       "      <th>0</th>\n",
       "      <td>406374</td>\n",
       "      <td>single</td>\n",
       "      <td>66887</td>\n",
       "      <td>AK</td>\n",
       "      <td>Matanuska-Susitna</td>\n",
       "      <td>61.587349</td>\n",
       "      <td>-149.789413</td>\n",
       "      <td>172005</td>\n",
       "      <td>20240814</td>\n",
       "      <td>4</td>\n",
       "      <td>Houston Solar</td>\n",
       "      <td>2023</td>\n",
       "      <td>AK</td>\n",
       "    </tr>\n",
       "    <tr>\n",
       "      <th>1</th>\n",
       "      <td>405016</td>\n",
       "      <td>multi</td>\n",
       "      <td>6304</td>\n",
       "      <td>AK</td>\n",
       "      <td>Northwest Arctic</td>\n",
       "      <td>66.838470</td>\n",
       "      <td>-162.553146</td>\n",
       "      <td>8740</td>\n",
       "      <td>20240719</td>\n",
       "      <td>4</td>\n",
       "      <td>Kotzebue Hybrid</td>\n",
       "      <td>2020</td>\n",
       "      <td>NaN</td>\n",
       "    </tr>\n",
       "    <tr>\n",
       "      <th>2</th>\n",
       "      <td>401476</td>\n",
       "      <td>multi</td>\n",
       "      <td>60058</td>\n",
       "      <td>AL</td>\n",
       "      <td>Lauderdale</td>\n",
       "      <td>34.833809</td>\n",
       "      <td>-87.838394</td>\n",
       "      <td>1735134</td>\n",
       "      <td>20220212</td>\n",
       "      <td>4</td>\n",
       "      <td>River Bend Solar, LLC</td>\n",
       "      <td>2016</td>\n",
       "      <td>TVA</td>\n",
       "    </tr>\n",
       "    <tr>\n",
       "      <th>3</th>\n",
       "      <td>401865</td>\n",
       "      <td>multi</td>\n",
       "      <td>60679</td>\n",
       "      <td>AL</td>\n",
       "      <td>Dale</td>\n",
       "      <td>31.331732</td>\n",
       "      <td>-85.729469</td>\n",
       "      <td>187820</td>\n",
       "      <td>20220609</td>\n",
       "      <td>4</td>\n",
       "      <td>Fort Rucker Solar Array</td>\n",
       "      <td>2017</td>\n",
       "      <td>SOCO</td>\n",
       "    </tr>\n",
       "    <tr>\n",
       "      <th>4</th>\n",
       "      <td>401866</td>\n",
       "      <td>multi</td>\n",
       "      <td>60680</td>\n",
       "      <td>AL</td>\n",
       "      <td>Calhoun</td>\n",
       "      <td>33.626301</td>\n",
       "      <td>-85.940590</td>\n",
       "      <td>39717</td>\n",
       "      <td>20210814</td>\n",
       "      <td>4</td>\n",
       "      <td>ANAD Solar Array</td>\n",
       "      <td>2017</td>\n",
       "      <td>SOCO</td>\n",
       "    </tr>\n",
       "  </tbody>\n",
       "</table>\n",
       "</div>"
      ],
      "text/plain": [
       "   case_id multi_poly  eia_id p_state           p_county       ylat  \\\n",
       "0   406374     single   66887      AK  Matanuska-Susitna  61.587349   \n",
       "1   405016      multi    6304      AK   Northwest Arctic  66.838470   \n",
       "2   401476      multi   60058      AL         Lauderdale  34.833809   \n",
       "3   401865      multi   60679      AL               Dale  31.331732   \n",
       "4   401866      multi   60680      AL            Calhoun  33.626301   \n",
       "\n",
       "        xlong   p_area  p_img_date  p_dig_conf                   p_name  \\\n",
       "0 -149.789413   172005    20240814           4            Houston Solar   \n",
       "1 -162.553146     8740    20240719           4          Kotzebue Hybrid   \n",
       "2  -87.838394  1735134    20220212           4    River Bend Solar, LLC   \n",
       "3  -85.729469   187820    20220609           4  Fort Rucker Solar Array   \n",
       "4  -85.940590    39717    20210814           4         ANAD Solar Array   \n",
       "\n",
       "   p_year p_pwr_reg  \n",
       "0    2023        AK  \n",
       "1    2020       NaN  \n",
       "2    2016       TVA  \n",
       "3    2017      SOCO  \n",
       "4    2017      SOCO  "
      ]
     },
     "execution_count": 6,
     "metadata": {},
     "output_type": "execute_result"
    }
   ],
   "source": [
    "df_photovoltaic_original.iloc[:,:13].head()"
   ]
  },
  {
   "cell_type": "code",
   "execution_count": 7,
   "id": "9d5b3015",
   "metadata": {},
   "outputs": [
    {
     "data": {
      "application/vnd.microsoft.datawrangler.viewer.v0+json": {
       "columns": [
        {
         "name": "index",
         "rawType": "int64",
         "type": "integer"
        },
        {
         "name": "p_tech_pri",
         "rawType": "object",
         "type": "string"
        },
        {
         "name": "p_tech_sec",
         "rawType": "object",
         "type": "unknown"
        },
        {
         "name": "p_sys_type",
         "rawType": "object",
         "type": "string"
        },
        {
         "name": "p_axis",
         "rawType": "object",
         "type": "string"
        },
        {
         "name": "p_azimuth",
         "rawType": "float64",
         "type": "float"
        },
        {
         "name": "p_tilt",
         "rawType": "float64",
         "type": "float"
        },
        {
         "name": "p_battery",
         "rawType": "object",
         "type": "unknown"
        },
        {
         "name": "p_cap_ac",
         "rawType": "float64",
         "type": "float"
        },
        {
         "name": "p_cap_dc",
         "rawType": "float64",
         "type": "float"
        },
        {
         "name": "p_type",
         "rawType": "object",
         "type": "string"
        },
        {
         "name": "p_agrivolt",
         "rawType": "object",
         "type": "string"
        },
        {
         "name": "p_comm",
         "rawType": "object",
         "type": "unknown"
        },
        {
         "name": "p_zscore",
         "rawType": "float64",
         "type": "float"
        }
       ],
       "ref": "7a990c6c-40e9-4437-8981-4b19a0e93f4f",
       "rows": [
        [
         "0",
         "PV",
         null,
         "ground",
         "fixed-tilt",
         "180.0",
         "40.0",
         null,
         "6.0",
         "8.4",
         "greenfield",
         "crop",
         null,
         "-0.457675156"
        ],
        [
         "1",
         "PV",
         null,
         "ground",
         "single-axis",
         "156.0",
         "40.0",
         "batteries",
         "1.7",
         "3.4",
         "greenfield",
         "non-agrivoltaic",
         null,
         "5.617232137"
        ],
        [
         "2",
         "PV",
         "c-si",
         "ground",
         "single-axis",
         "270.0",
         "17.0",
         null,
         "75.0",
         "100.2",
         "greenfield",
         "non-agrivoltaic",
         null,
         "-0.298527056"
        ],
        [
         "3",
         "PV",
         "thin-film",
         "ground",
         "single-axis",
         "188.0",
         "20.0",
         null,
         "10.6",
         "12.7",
         "greenfield",
         "non-agrivoltaic",
         null,
         "-0.122265382"
        ],
        [
         "4",
         "PV",
         "thin-film",
         "ground",
         "fixed-tilt",
         "180.0",
         "20.0",
         null,
         "7.4",
         "9.7",
         "superfund",
         "non-agrivoltaic",
         null,
         "3.031619435"
        ]
       ],
       "shape": {
        "columns": 13,
        "rows": 5
       }
      },
      "text/html": [
       "<div>\n",
       "<style scoped>\n",
       "    .dataframe tbody tr th:only-of-type {\n",
       "        vertical-align: middle;\n",
       "    }\n",
       "\n",
       "    .dataframe tbody tr th {\n",
       "        vertical-align: top;\n",
       "    }\n",
       "\n",
       "    .dataframe thead th {\n",
       "        text-align: right;\n",
       "    }\n",
       "</style>\n",
       "<table border=\"1\" class=\"dataframe\">\n",
       "  <thead>\n",
       "    <tr style=\"text-align: right;\">\n",
       "      <th></th>\n",
       "      <th>p_tech_pri</th>\n",
       "      <th>p_tech_sec</th>\n",
       "      <th>p_sys_type</th>\n",
       "      <th>p_axis</th>\n",
       "      <th>p_azimuth</th>\n",
       "      <th>p_tilt</th>\n",
       "      <th>p_battery</th>\n",
       "      <th>p_cap_ac</th>\n",
       "      <th>p_cap_dc</th>\n",
       "      <th>p_type</th>\n",
       "      <th>p_agrivolt</th>\n",
       "      <th>p_comm</th>\n",
       "      <th>p_zscore</th>\n",
       "    </tr>\n",
       "  </thead>\n",
       "  <tbody>\n",
       "    <tr>\n",
       "      <th>0</th>\n",
       "      <td>PV</td>\n",
       "      <td>NaN</td>\n",
       "      <td>ground</td>\n",
       "      <td>fixed-tilt</td>\n",
       "      <td>180.0</td>\n",
       "      <td>40.0</td>\n",
       "      <td>NaN</td>\n",
       "      <td>6.0</td>\n",
       "      <td>8.4</td>\n",
       "      <td>greenfield</td>\n",
       "      <td>crop</td>\n",
       "      <td>NaN</td>\n",
       "      <td>-0.457675</td>\n",
       "    </tr>\n",
       "    <tr>\n",
       "      <th>1</th>\n",
       "      <td>PV</td>\n",
       "      <td>NaN</td>\n",
       "      <td>ground</td>\n",
       "      <td>single-axis</td>\n",
       "      <td>156.0</td>\n",
       "      <td>40.0</td>\n",
       "      <td>batteries</td>\n",
       "      <td>1.7</td>\n",
       "      <td>3.4</td>\n",
       "      <td>greenfield</td>\n",
       "      <td>non-agrivoltaic</td>\n",
       "      <td>NaN</td>\n",
       "      <td>5.617232</td>\n",
       "    </tr>\n",
       "    <tr>\n",
       "      <th>2</th>\n",
       "      <td>PV</td>\n",
       "      <td>c-si</td>\n",
       "      <td>ground</td>\n",
       "      <td>single-axis</td>\n",
       "      <td>270.0</td>\n",
       "      <td>17.0</td>\n",
       "      <td>NaN</td>\n",
       "      <td>75.0</td>\n",
       "      <td>100.2</td>\n",
       "      <td>greenfield</td>\n",
       "      <td>non-agrivoltaic</td>\n",
       "      <td>NaN</td>\n",
       "      <td>-0.298527</td>\n",
       "    </tr>\n",
       "    <tr>\n",
       "      <th>3</th>\n",
       "      <td>PV</td>\n",
       "      <td>thin-film</td>\n",
       "      <td>ground</td>\n",
       "      <td>single-axis</td>\n",
       "      <td>188.0</td>\n",
       "      <td>20.0</td>\n",
       "      <td>NaN</td>\n",
       "      <td>10.6</td>\n",
       "      <td>12.7</td>\n",
       "      <td>greenfield</td>\n",
       "      <td>non-agrivoltaic</td>\n",
       "      <td>NaN</td>\n",
       "      <td>-0.122265</td>\n",
       "    </tr>\n",
       "    <tr>\n",
       "      <th>4</th>\n",
       "      <td>PV</td>\n",
       "      <td>thin-film</td>\n",
       "      <td>ground</td>\n",
       "      <td>fixed-tilt</td>\n",
       "      <td>180.0</td>\n",
       "      <td>20.0</td>\n",
       "      <td>NaN</td>\n",
       "      <td>7.4</td>\n",
       "      <td>9.7</td>\n",
       "      <td>superfund</td>\n",
       "      <td>non-agrivoltaic</td>\n",
       "      <td>NaN</td>\n",
       "      <td>3.031619</td>\n",
       "    </tr>\n",
       "  </tbody>\n",
       "</table>\n",
       "</div>"
      ],
      "text/plain": [
       "  p_tech_pri p_tech_sec p_sys_type       p_axis  p_azimuth  p_tilt  p_battery  \\\n",
       "0         PV        NaN     ground   fixed-tilt      180.0    40.0        NaN   \n",
       "1         PV        NaN     ground  single-axis      156.0    40.0  batteries   \n",
       "2         PV       c-si     ground  single-axis      270.0    17.0        NaN   \n",
       "3         PV  thin-film     ground  single-axis      188.0    20.0        NaN   \n",
       "4         PV  thin-film     ground   fixed-tilt      180.0    20.0        NaN   \n",
       "\n",
       "   p_cap_ac  p_cap_dc      p_type       p_agrivolt p_comm  p_zscore  \n",
       "0       6.0       8.4  greenfield             crop    NaN -0.457675  \n",
       "1       1.7       3.4  greenfield  non-agrivoltaic    NaN  5.617232  \n",
       "2      75.0     100.2  greenfield  non-agrivoltaic    NaN -0.298527  \n",
       "3      10.6      12.7  greenfield  non-agrivoltaic    NaN -0.122265  \n",
       "4       7.4       9.7   superfund  non-agrivoltaic    NaN  3.031619  "
      ]
     },
     "execution_count": 7,
     "metadata": {},
     "output_type": "execute_result"
    }
   ],
   "source": [
    "df_photovoltaic_original.iloc[:,13:26].head()"
   ]
  },
  {
   "cell_type": "code",
   "execution_count": 8,
   "id": "d1a0b739",
   "metadata": {},
   "outputs": [
    {
     "data": {
      "text/plain": [
       "(0, 26)"
      ]
     },
     "execution_count": 8,
     "metadata": {},
     "output_type": "execute_result"
    }
   ],
   "source": [
    "df_photovoltaic_original.query('p_cap_ac.isnull() | p_cap_dc.isnull()').shape"
   ]
  },
  {
   "cell_type": "markdown",
   "id": "d725d236",
   "metadata": {},
   "source": [
    "### 2.3 &emsp; Analyzing Data Set 3: \"ZHVI 3-Bedroom Time Series($) - City\""
   ]
  },
  {
   "cell_type": "code",
   "execution_count": 9,
   "id": "34dd771a",
   "metadata": {},
   "outputs": [
    {
     "data": {
      "text/plain": [
       "Index(['RegionID', 'SizeRank', 'RegionName', 'RegionType', 'StateName',\n",
       "       'State', 'Metro', 'CountyName', '2000-01-31', '2000-02-29',\n",
       "       ...\n",
       "       '2024-08-31', '2024-09-30', '2024-10-31', '2024-11-30', '2024-12-31',\n",
       "       '2025-01-31', '2025-02-28', '2025-03-31', '2025-04-30', '2025-05-31'],\n",
       "      dtype='object', length=313)"
      ]
     },
     "execution_count": 9,
     "metadata": {},
     "output_type": "execute_result"
    }
   ],
   "source": [
    "df_landvalue_original = pd.read_csv(\n",
    "    './data/City_zhvi_bdrmcnt_3_uc_sfrcondo_tier_0.33_0.67_sm_sa_month.csv.zip',\n",
    "    compression='zip'\n",
    "    )\n",
    "\n",
    "df_landvalue_original.columns"
   ]
  },
  {
   "cell_type": "code",
   "execution_count": 10,
   "id": "1ae32f78",
   "metadata": {},
   "outputs": [
    {
     "name": "stdout",
     "output_type": "stream",
     "text": [
      "<class 'pandas.core.frame.DataFrame'>\n",
      "RangeIndex: 15711 entries, 0 to 15710\n",
      "Columns: 313 entries, RegionID to 2025-05-31\n",
      "dtypes: float64(305), int64(2), object(6)\n",
      "memory usage: 37.5+ MB\n"
     ]
    }
   ],
   "source": [
    "df_landvalue_original.info()"
   ]
  },
  {
   "cell_type": "code",
   "execution_count": 11,
   "id": "9ac01ebb",
   "metadata": {},
   "outputs": [
    {
     "data": {
      "application/vnd.microsoft.datawrangler.viewer.v0+json": {
       "columns": [
        {
         "name": "index",
         "rawType": "int64",
         "type": "integer"
        },
        {
         "name": "RegionID",
         "rawType": "int64",
         "type": "integer"
        },
        {
         "name": "SizeRank",
         "rawType": "int64",
         "type": "integer"
        },
        {
         "name": "RegionName",
         "rawType": "object",
         "type": "string"
        },
        {
         "name": "RegionType",
         "rawType": "object",
         "type": "string"
        },
        {
         "name": "StateName",
         "rawType": "object",
         "type": "string"
        },
        {
         "name": "State",
         "rawType": "object",
         "type": "string"
        },
        {
         "name": "Metro",
         "rawType": "object",
         "type": "string"
        },
        {
         "name": "CountyName",
         "rawType": "object",
         "type": "string"
        },
        {
         "name": "2025-05-31",
         "rawType": "float64",
         "type": "float"
        }
       ],
       "ref": "2f440b0b-0205-46db-9747-076e3bb50434",
       "rows": [
        [
         "0",
         "6181",
         "0",
         "New York",
         "city",
         "NY",
         "NY",
         "New York-Newark-Jersey City, NY-NJ-PA",
         "Queens County",
         "840048.900963529"
        ],
        [
         "1",
         "12447",
         "1",
         "Los Angeles",
         "city",
         "CA",
         "CA",
         "Los Angeles-Long Beach-Anaheim, CA",
         "Los Angeles County",
         "964249.977821123"
        ],
        [
         "2",
         "39051",
         "2",
         "Houston",
         "city",
         "TX",
         "TX",
         "Houston-The Woodlands-Sugar Land, TX",
         "Harris County",
         "253134.06005882644"
        ],
        [
         "3",
         "17426",
         "3",
         "Chicago",
         "city",
         "IL",
         "IL",
         "Chicago-Naperville-Elgin, IL-IN-WI",
         "Cook County",
         "336756.4963523099"
        ],
        [
         "4",
         "6915",
         "4",
         "San Antonio",
         "city",
         "TX",
         "TX",
         "San Antonio-New Braunfels, TX",
         "Bexar County",
         "235986.09289941637"
        ]
       ],
       "shape": {
        "columns": 9,
        "rows": 5
       }
      },
      "text/html": [
       "<div>\n",
       "<style scoped>\n",
       "    .dataframe tbody tr th:only-of-type {\n",
       "        vertical-align: middle;\n",
       "    }\n",
       "\n",
       "    .dataframe tbody tr th {\n",
       "        vertical-align: top;\n",
       "    }\n",
       "\n",
       "    .dataframe thead th {\n",
       "        text-align: right;\n",
       "    }\n",
       "</style>\n",
       "<table border=\"1\" class=\"dataframe\">\n",
       "  <thead>\n",
       "    <tr style=\"text-align: right;\">\n",
       "      <th></th>\n",
       "      <th>RegionID</th>\n",
       "      <th>SizeRank</th>\n",
       "      <th>RegionName</th>\n",
       "      <th>RegionType</th>\n",
       "      <th>StateName</th>\n",
       "      <th>State</th>\n",
       "      <th>Metro</th>\n",
       "      <th>CountyName</th>\n",
       "      <th>2025-05-31</th>\n",
       "    </tr>\n",
       "  </thead>\n",
       "  <tbody>\n",
       "    <tr>\n",
       "      <th>0</th>\n",
       "      <td>6181</td>\n",
       "      <td>0</td>\n",
       "      <td>New York</td>\n",
       "      <td>city</td>\n",
       "      <td>NY</td>\n",
       "      <td>NY</td>\n",
       "      <td>New York-Newark-Jersey City, NY-NJ-PA</td>\n",
       "      <td>Queens County</td>\n",
       "      <td>840048.900964</td>\n",
       "    </tr>\n",
       "    <tr>\n",
       "      <th>1</th>\n",
       "      <td>12447</td>\n",
       "      <td>1</td>\n",
       "      <td>Los Angeles</td>\n",
       "      <td>city</td>\n",
       "      <td>CA</td>\n",
       "      <td>CA</td>\n",
       "      <td>Los Angeles-Long Beach-Anaheim, CA</td>\n",
       "      <td>Los Angeles County</td>\n",
       "      <td>964249.977821</td>\n",
       "    </tr>\n",
       "    <tr>\n",
       "      <th>2</th>\n",
       "      <td>39051</td>\n",
       "      <td>2</td>\n",
       "      <td>Houston</td>\n",
       "      <td>city</td>\n",
       "      <td>TX</td>\n",
       "      <td>TX</td>\n",
       "      <td>Houston-The Woodlands-Sugar Land, TX</td>\n",
       "      <td>Harris County</td>\n",
       "      <td>253134.060059</td>\n",
       "    </tr>\n",
       "    <tr>\n",
       "      <th>3</th>\n",
       "      <td>17426</td>\n",
       "      <td>3</td>\n",
       "      <td>Chicago</td>\n",
       "      <td>city</td>\n",
       "      <td>IL</td>\n",
       "      <td>IL</td>\n",
       "      <td>Chicago-Naperville-Elgin, IL-IN-WI</td>\n",
       "      <td>Cook County</td>\n",
       "      <td>336756.496352</td>\n",
       "    </tr>\n",
       "    <tr>\n",
       "      <th>4</th>\n",
       "      <td>6915</td>\n",
       "      <td>4</td>\n",
       "      <td>San Antonio</td>\n",
       "      <td>city</td>\n",
       "      <td>TX</td>\n",
       "      <td>TX</td>\n",
       "      <td>San Antonio-New Braunfels, TX</td>\n",
       "      <td>Bexar County</td>\n",
       "      <td>235986.092899</td>\n",
       "    </tr>\n",
       "  </tbody>\n",
       "</table>\n",
       "</div>"
      ],
      "text/plain": [
       "   RegionID  SizeRank   RegionName RegionType StateName State  \\\n",
       "0      6181         0     New York       city        NY    NY   \n",
       "1     12447         1  Los Angeles       city        CA    CA   \n",
       "2     39051         2      Houston       city        TX    TX   \n",
       "3     17426         3      Chicago       city        IL    IL   \n",
       "4      6915         4  San Antonio       city        TX    TX   \n",
       "\n",
       "                                   Metro          CountyName     2025-05-31  \n",
       "0  New York-Newark-Jersey City, NY-NJ-PA       Queens County  840048.900964  \n",
       "1     Los Angeles-Long Beach-Anaheim, CA  Los Angeles County  964249.977821  \n",
       "2   Houston-The Woodlands-Sugar Land, TX       Harris County  253134.060059  \n",
       "3     Chicago-Naperville-Elgin, IL-IN-WI         Cook County  336756.496352  \n",
       "4          San Antonio-New Braunfels, TX        Bexar County  235986.092899  "
      ]
     },
     "execution_count": 11,
     "metadata": {},
     "output_type": "execute_result"
    }
   ],
   "source": [
    "df_landvalue_original[[\n",
    "    'RegionID', 'SizeRank', 'RegionName', 'RegionType', 'StateName',\n",
    "    'State', 'Metro', 'CountyName', '2025-05-31'\n",
    "    ]].head()"
   ]
  },
  {
   "cell_type": "markdown",
   "id": "21d29bc2",
   "metadata": {},
   "source": [
    "### 2.4 &emsp; City information\n",
    "\n",
    "This data set contains the name of most cities in the United States and data fields for every city: the name, longitude, latitude, population density, and so on."
   ]
  },
  {
   "cell_type": "code",
   "execution_count": 12,
   "id": "c35cfc4a",
   "metadata": {},
   "outputs": [
    {
     "data": {
      "application/vnd.microsoft.datawrangler.viewer.v0+json": {
       "columns": [
        {
         "name": "index",
         "rawType": "int64",
         "type": "integer"
        },
        {
         "name": "city",
         "rawType": "object",
         "type": "string"
        },
        {
         "name": "city_ascii",
         "rawType": "object",
         "type": "string"
        },
        {
         "name": "state_id",
         "rawType": "object",
         "type": "string"
        },
        {
         "name": "state_name",
         "rawType": "object",
         "type": "string"
        },
        {
         "name": "county_fips",
         "rawType": "int64",
         "type": "integer"
        },
        {
         "name": "county_name",
         "rawType": "object",
         "type": "string"
        },
        {
         "name": "lat",
         "rawType": "float64",
         "type": "float"
        },
        {
         "name": "lng",
         "rawType": "float64",
         "type": "float"
        },
        {
         "name": "population",
         "rawType": "int64",
         "type": "integer"
        },
        {
         "name": "density",
         "rawType": "float64",
         "type": "float"
        },
        {
         "name": "source",
         "rawType": "object",
         "type": "string"
        },
        {
         "name": "military",
         "rawType": "bool",
         "type": "boolean"
        },
        {
         "name": "incorporated",
         "rawType": "bool",
         "type": "boolean"
        },
        {
         "name": "timezone",
         "rawType": "object",
         "type": "string"
        },
        {
         "name": "ranking",
         "rawType": "int64",
         "type": "integer"
        },
        {
         "name": "zips",
         "rawType": "object",
         "type": "string"
        },
        {
         "name": "id",
         "rawType": "int64",
         "type": "integer"
        }
       ],
       "ref": "f2d68f6d-43fa-44ee-b0b0-2dd1d54cbdac",
       "rows": [
        [
         "0",
         "New York",
         "New York",
         "NY",
         "New York",
         "36081",
         "Queens",
         "40.6943",
         "-73.9249",
         "18832416",
         "10943.7",
         "shape",
         "False",
         "True",
         "America/New_York",
         "1",
         "11229 11228 11226 11225 11224 11222 11221 11220 11385 10169 10168 10167 10165 10162 10282 10280 10040 10044 11109 11102 11103 11106 11104 11697 11694 11692 11693 11691 10271 10279 10278 10075 11249 10452 11451 10475 10474 10471 10470 10473 10472 11223 10103 11368 11369 11366 11367 11364 11365 11362 11363 11360 11361 10028 10029 10026 10027 10024 10025 10022 10023 10020 10021 11212 11213 11210 11211 11216 11217 11214 11215 11218 11219 10152 10153 10154 10310 10311 10312 10314 11439 11432 11433 11430 11436 11434 11435 10453 10451 10457 10456 10455 10454 10459 10458 10128 10004 10005 10006 10007 10001 10002 10003 10009 11238 11239 11230 11231 11232 11233 11234 11235 11236 11237 11379 11378 11375 11374 11377 11371 11370 11373 11372 10170 10171 10172 10173 10174 10177 11356 10039 10038 10035 10034 10037 10036 10031 10030 10033 10032 11201 11209 11203 11205 11204 11207 11206 11208 11411 11412 11413 11414 11415 11416 11417 11418 11419 11101 11105 11001 11005 11004 10065 10069 10199 10309 10308 10307 10306 10305 10304 10303 10302 10301 11429 11428 11421 11420 11423 11422 11424 11427 11426 10466 10467 10464 10465 10462 10463 10460 10461 10468 10469 10119 10115 10112 10110 10111 11359 11358 11357 11355 11354 10019 10018 10013 10012 10011 10010 10017 10016 10014 10008 10041 10043 10055 10060 10081 10087 10090 10101 10102 10104 10105 10106 10107 10108 10109 10113 10114 10116 10117 10118 10120 10121 10122 10123 10124 10125 10126 10129 10130 10131 10132 10133 10138 10150 10151 10155 10156 10157 10158 10159 10160 10163 10164 10166 10175 10176 10178 10179 10185 10203 10211 10212 10213 10242 10249 10256 10258 10259 10260 10261 10265 10268 10269 10270 10272 10273 10274 10275 10276 10277 10281 10285 10286 10313 11120 11202 11241 11242 11243 11245 11247 11251 11252 11256 11351 11352 11380 11386 11405 11425 11431 11437 11499 11690 11695",
         "1840034016"
        ],
        [
         "1",
         "Los Angeles",
         "Los Angeles",
         "CA",
         "California",
         "6037",
         "Los Angeles",
         "34.1141",
         "-118.4068",
         "11885717",
         "3165.7",
         "shape",
         "False",
         "True",
         "America/Los_Angeles",
         "1",
         "91367 90291 90293 90292 91316 91311 90035 90034 90037 90031 90039 90008 90004 90005 90006 90007 90001 90002 90003 91504 91040 90710 90089 91307 91344 91345 91340 91342 91343 90036 90247 91411 91436 91371 91608 91605 91604 91607 91606 91601 91602 90402 90068 90069 90062 90063 90061 90066 90067 90064 90065 90248 91326 91324 91325 90013 90012 90011 90010 90017 90016 90015 90014 91364 90028 90095 90094 91042 91352 91356 91406 91402 90041 90042 90043 90044 90045 90046 90047 90048 90049 90019 90018 91423 90210 91303 91304 91306 90079 90071 90077 90059 91331 91330 91335 90026 90027 90024 90025 90023 90020 90021 90029 90272 90732 90731 90230 91405 91403 91401 90033 90032 90038 90057 90052 90058 90744 90501 90502 90009 90030 90050 90051 90053 90054 90055 90060 90070 90072 90074 90075 90076 90078 90080 90081 90082 90083 90084 90085 90086 90087 90088 90093 90099 90134 90140 90189 90213 90294 90295 90733 90734 90748 91041 91043 91305 91308 91309 91313 91327 91328 91333 91334 91337 91346 91353 91357 91365 91392 91393 91394 91395 91396 91404 91407 91408 91409 91410 91412 91413 91416 91426 91470 91482 91499 91603 91609 91610 91614 91615 91616 91617 91618",
         "1840020491"
        ],
        [
         "2",
         "Chicago",
         "Chicago",
         "IL",
         "Illinois",
         "17031",
         "Cook",
         "41.8375",
         "-87.6866",
         "8489066",
         "4590.3",
         "shape",
         "False",
         "True",
         "America/Chicago",
         "1",
         "60018 60649 60641 60640 60643 60642 60645 60644 60647 60646 60616 60617 60614 60615 60612 60613 60610 60611 60618 60619 60631 60827 60661 60660 60638 60639 60634 60636 60637 60630 60632 60633 60605 60604 60607 60606 60601 60603 60602 60609 60608 60106 60659 60652 60653 60656 60657 60654 60655 60651 60623 60622 60621 60620 60626 60625 60624 60629 60628 60707 60499 60664 60666 60668 60669 60670 60673 60674 60675 60677 60678 60680 60681 60684 60685 60686 60687 60688 60689 60690 60694 60695 60696 60699",
         "1840000494"
        ],
        [
         "3",
         "Miami",
         "Miami",
         "FL",
         "Florida",
         "12086",
         "Miami-Dade",
         "25.784",
         "-80.2101",
         "6113982",
         "4791.1",
         "shape",
         "False",
         "True",
         "America/New_York",
         "1",
         "33128 33129 33125 33126 33127 33149 33144 33145 33142 33139 33138 33137 33136 33135 33134 33133 33132 33131 33130 33150 33101 33109 33192 33195 33222 33231 33233 33238 33255 33299",
         "1840015149"
        ],
        [
         "4",
         "Houston",
         "Houston",
         "TX",
         "Texas",
         "48201",
         "Harris",
         "29.786",
         "-95.3885",
         "6046392",
         "1386.2",
         "shape",
         "False",
         "True",
         "America/Chicago",
         "1",
         "77069 77068 77061 77060 77063 77062 77065 77064 77067 77066 77346 77571 77036 77037 77034 77035 77032 77033 77030 77031 77038 77449 77093 77044 77043 77042 77204 77598 77018 77019 77015 77016 77017 77010 77011 77012 77013 77094 77091 77092 77053 77345 77547 77080 77025 77024 77027 77026 77021 77020 77023 77022 77029 77028 77096 77090 77098 77099 77078 77079 77072 77073 77070 77071 77076 77077 77074 77075 77407 77047 77046 77045 77041 77040 77048 77336 77339 77338 77489 77003 77002 77007 77006 77005 77004 77009 77008 77450 77086 77089 77088 77083 77082 77081 77087 77085 77084 77054 77055 77056 77057 77058 77059 77396 77051 77506 77504 77001 77052 77201 77202 77203 77205 77206 77207 77208 77210 77212 77213 77215 77216 77217 77218 77219 77220 77221 77222 77223 77225 77226 77227 77228 77229 77230 77231 77233 77234 77235 77236 77237 77241 77242 77243 77244 77245 77248 77249 77251 77252 77253 77254 77255 77256 77257 77259 77261 77262 77263 77266 77269 77270 77271 77272 77273 77274 77275 77282 77284 77287 77288 77289 77291 77292 77293 77297 77299 77315 77325 77411",
         "1840020925"
        ]
       ],
       "shape": {
        "columns": 17,
        "rows": 5
       }
      },
      "text/html": [
       "<div>\n",
       "<style scoped>\n",
       "    .dataframe tbody tr th:only-of-type {\n",
       "        vertical-align: middle;\n",
       "    }\n",
       "\n",
       "    .dataframe tbody tr th {\n",
       "        vertical-align: top;\n",
       "    }\n",
       "\n",
       "    .dataframe thead th {\n",
       "        text-align: right;\n",
       "    }\n",
       "</style>\n",
       "<table border=\"1\" class=\"dataframe\">\n",
       "  <thead>\n",
       "    <tr style=\"text-align: right;\">\n",
       "      <th></th>\n",
       "      <th>city</th>\n",
       "      <th>city_ascii</th>\n",
       "      <th>state_id</th>\n",
       "      <th>state_name</th>\n",
       "      <th>county_fips</th>\n",
       "      <th>county_name</th>\n",
       "      <th>lat</th>\n",
       "      <th>lng</th>\n",
       "      <th>population</th>\n",
       "      <th>density</th>\n",
       "      <th>source</th>\n",
       "      <th>military</th>\n",
       "      <th>incorporated</th>\n",
       "      <th>timezone</th>\n",
       "      <th>ranking</th>\n",
       "      <th>zips</th>\n",
       "      <th>id</th>\n",
       "    </tr>\n",
       "  </thead>\n",
       "  <tbody>\n",
       "    <tr>\n",
       "      <th>0</th>\n",
       "      <td>New York</td>\n",
       "      <td>New York</td>\n",
       "      <td>NY</td>\n",
       "      <td>New York</td>\n",
       "      <td>36081</td>\n",
       "      <td>Queens</td>\n",
       "      <td>40.6943</td>\n",
       "      <td>-73.9249</td>\n",
       "      <td>18832416</td>\n",
       "      <td>10943.7</td>\n",
       "      <td>shape</td>\n",
       "      <td>False</td>\n",
       "      <td>True</td>\n",
       "      <td>America/New_York</td>\n",
       "      <td>1</td>\n",
       "      <td>11229 11228 11226 11225 11224 11222 11221 1122...</td>\n",
       "      <td>1840034016</td>\n",
       "    </tr>\n",
       "    <tr>\n",
       "      <th>1</th>\n",
       "      <td>Los Angeles</td>\n",
       "      <td>Los Angeles</td>\n",
       "      <td>CA</td>\n",
       "      <td>California</td>\n",
       "      <td>6037</td>\n",
       "      <td>Los Angeles</td>\n",
       "      <td>34.1141</td>\n",
       "      <td>-118.4068</td>\n",
       "      <td>11885717</td>\n",
       "      <td>3165.7</td>\n",
       "      <td>shape</td>\n",
       "      <td>False</td>\n",
       "      <td>True</td>\n",
       "      <td>America/Los_Angeles</td>\n",
       "      <td>1</td>\n",
       "      <td>91367 90291 90293 90292 91316 91311 90035 9003...</td>\n",
       "      <td>1840020491</td>\n",
       "    </tr>\n",
       "    <tr>\n",
       "      <th>2</th>\n",
       "      <td>Chicago</td>\n",
       "      <td>Chicago</td>\n",
       "      <td>IL</td>\n",
       "      <td>Illinois</td>\n",
       "      <td>17031</td>\n",
       "      <td>Cook</td>\n",
       "      <td>41.8375</td>\n",
       "      <td>-87.6866</td>\n",
       "      <td>8489066</td>\n",
       "      <td>4590.3</td>\n",
       "      <td>shape</td>\n",
       "      <td>False</td>\n",
       "      <td>True</td>\n",
       "      <td>America/Chicago</td>\n",
       "      <td>1</td>\n",
       "      <td>60018 60649 60641 60640 60643 60642 60645 6064...</td>\n",
       "      <td>1840000494</td>\n",
       "    </tr>\n",
       "    <tr>\n",
       "      <th>3</th>\n",
       "      <td>Miami</td>\n",
       "      <td>Miami</td>\n",
       "      <td>FL</td>\n",
       "      <td>Florida</td>\n",
       "      <td>12086</td>\n",
       "      <td>Miami-Dade</td>\n",
       "      <td>25.7840</td>\n",
       "      <td>-80.2101</td>\n",
       "      <td>6113982</td>\n",
       "      <td>4791.1</td>\n",
       "      <td>shape</td>\n",
       "      <td>False</td>\n",
       "      <td>True</td>\n",
       "      <td>America/New_York</td>\n",
       "      <td>1</td>\n",
       "      <td>33128 33129 33125 33126 33127 33149 33144 3314...</td>\n",
       "      <td>1840015149</td>\n",
       "    </tr>\n",
       "    <tr>\n",
       "      <th>4</th>\n",
       "      <td>Houston</td>\n",
       "      <td>Houston</td>\n",
       "      <td>TX</td>\n",
       "      <td>Texas</td>\n",
       "      <td>48201</td>\n",
       "      <td>Harris</td>\n",
       "      <td>29.7860</td>\n",
       "      <td>-95.3885</td>\n",
       "      <td>6046392</td>\n",
       "      <td>1386.2</td>\n",
       "      <td>shape</td>\n",
       "      <td>False</td>\n",
       "      <td>True</td>\n",
       "      <td>America/Chicago</td>\n",
       "      <td>1</td>\n",
       "      <td>77069 77068 77061 77060 77063 77062 77065 7706...</td>\n",
       "      <td>1840020925</td>\n",
       "    </tr>\n",
       "  </tbody>\n",
       "</table>\n",
       "</div>"
      ],
      "text/plain": [
       "          city   city_ascii state_id  state_name  county_fips  county_name  \\\n",
       "0     New York     New York       NY    New York        36081       Queens   \n",
       "1  Los Angeles  Los Angeles       CA  California         6037  Los Angeles   \n",
       "2      Chicago      Chicago       IL    Illinois        17031         Cook   \n",
       "3        Miami        Miami       FL     Florida        12086   Miami-Dade   \n",
       "4      Houston      Houston       TX       Texas        48201       Harris   \n",
       "\n",
       "       lat       lng  population  density source  military  incorporated  \\\n",
       "0  40.6943  -73.9249    18832416  10943.7  shape     False          True   \n",
       "1  34.1141 -118.4068    11885717   3165.7  shape     False          True   \n",
       "2  41.8375  -87.6866     8489066   4590.3  shape     False          True   \n",
       "3  25.7840  -80.2101     6113982   4791.1  shape     False          True   \n",
       "4  29.7860  -95.3885     6046392   1386.2  shape     False          True   \n",
       "\n",
       "              timezone  ranking  \\\n",
       "0     America/New_York        1   \n",
       "1  America/Los_Angeles        1   \n",
       "2      America/Chicago        1   \n",
       "3     America/New_York        1   \n",
       "4      America/Chicago        1   \n",
       "\n",
       "                                                zips          id  \n",
       "0  11229 11228 11226 11225 11224 11222 11221 1122...  1840034016  \n",
       "1  91367 90291 90293 90292 91316 91311 90035 9003...  1840020491  \n",
       "2  60018 60649 60641 60640 60643 60642 60645 6064...  1840000494  \n",
       "3  33128 33129 33125 33126 33127 33149 33144 3314...  1840015149  \n",
       "4  77069 77068 77061 77060 77063 77062 77065 7706...  1840020925  "
      ]
     },
     "execution_count": 12,
     "metadata": {},
     "output_type": "execute_result"
    }
   ],
   "source": [
    "df_city_original = pd.read_csv(\n",
    "    './data/uscities.csv'\n",
    "    )\n",
    "\n",
    "df_city_original.head()"
   ]
  },
  {
   "cell_type": "code",
   "execution_count": 13,
   "id": "4261eb94",
   "metadata": {},
   "outputs": [
    {
     "name": "stdout",
     "output_type": "stream",
     "text": [
      "df_city_original.shape ... (31254, 17)\n"
     ]
    }
   ],
   "source": [
    "print(\"df_city_original.shape ...\", df_city_original.shape)"
   ]
  },
  {
   "cell_type": "markdown",
   "id": "28d2431b",
   "metadata": {},
   "source": [
    "In this data set, there are the `city` column and the `city_ascii` column that you may want to check the difference:"
   ]
  },
  {
   "cell_type": "code",
   "execution_count": 14,
   "id": "bb4ead54",
   "metadata": {},
   "outputs": [
    {
     "name": "stdout",
     "output_type": "stream",
     "text": [
      "The first few rows out of 76 rows whose values in the city field and city_ascii field are different: \n",
      "\n"
     ]
    },
    {
     "data": {
      "application/vnd.microsoft.datawrangler.viewer.v0+json": {
       "columns": [
        {
         "name": "index",
         "rawType": "int64",
         "type": "integer"
        },
        {
         "name": "city",
         "rawType": "object",
         "type": "string"
        },
        {
         "name": "city_ascii",
         "rawType": "object",
         "type": "string"
        },
        {
         "name": "state_id",
         "rawType": "object",
         "type": "string"
        }
       ],
       "ref": "5464d99f-aae3-4359-81ae-d16a33f03727",
       "rows": [
        [
         "265",
         "Bayamón",
         "Bayamon",
         "PR"
        ],
        [
         "484",
         "San Germán",
         "San German",
         "PR"
        ],
        [
         "525",
         "Mayagüez",
         "Mayaguez",
         "PR"
        ],
        [
         "752",
         "Juana Díaz",
         "Juana Diaz",
         "PR"
        ],
        [
         "2014",
         "Cataño",
         "Catano",
         "PR"
        ]
       ],
       "shape": {
        "columns": 3,
        "rows": 5
       }
      },
      "text/html": [
       "<div>\n",
       "<style scoped>\n",
       "    .dataframe tbody tr th:only-of-type {\n",
       "        vertical-align: middle;\n",
       "    }\n",
       "\n",
       "    .dataframe tbody tr th {\n",
       "        vertical-align: top;\n",
       "    }\n",
       "\n",
       "    .dataframe thead th {\n",
       "        text-align: right;\n",
       "    }\n",
       "</style>\n",
       "<table border=\"1\" class=\"dataframe\">\n",
       "  <thead>\n",
       "    <tr style=\"text-align: right;\">\n",
       "      <th></th>\n",
       "      <th>city</th>\n",
       "      <th>city_ascii</th>\n",
       "      <th>state_id</th>\n",
       "    </tr>\n",
       "  </thead>\n",
       "  <tbody>\n",
       "    <tr>\n",
       "      <th>265</th>\n",
       "      <td>Bayamón</td>\n",
       "      <td>Bayamon</td>\n",
       "      <td>PR</td>\n",
       "    </tr>\n",
       "    <tr>\n",
       "      <th>484</th>\n",
       "      <td>San Germán</td>\n",
       "      <td>San German</td>\n",
       "      <td>PR</td>\n",
       "    </tr>\n",
       "    <tr>\n",
       "      <th>525</th>\n",
       "      <td>Mayagüez</td>\n",
       "      <td>Mayaguez</td>\n",
       "      <td>PR</td>\n",
       "    </tr>\n",
       "    <tr>\n",
       "      <th>752</th>\n",
       "      <td>Juana Díaz</td>\n",
       "      <td>Juana Diaz</td>\n",
       "      <td>PR</td>\n",
       "    </tr>\n",
       "    <tr>\n",
       "      <th>2014</th>\n",
       "      <td>Cataño</td>\n",
       "      <td>Catano</td>\n",
       "      <td>PR</td>\n",
       "    </tr>\n",
       "  </tbody>\n",
       "</table>\n",
       "</div>"
      ],
      "text/plain": [
       "            city  city_ascii state_id\n",
       "265      Bayamón     Bayamon       PR\n",
       "484   San Germán  San German       PR\n",
       "525     Mayagüez    Mayaguez       PR\n",
       "752   Juana Díaz  Juana Diaz       PR\n",
       "2014      Cataño      Catano       PR"
      ]
     },
     "execution_count": 14,
     "metadata": {},
     "output_type": "execute_result"
    }
   ],
   "source": [
    "df_city_diff = \\\n",
    "    df_city_original[['city','city_ascii','state_id']]\\\n",
    "    .query('city != city_ascii')\n",
    "\n",
    "print(\n",
    "    \"The first few rows out of\", df_city_diff.shape[0], \"rows \"\n",
    "    \"whose values in the city field and city_ascii field are different: \"\n",
    "    \"\\n\"\n",
    "    )\n",
    "\n",
    "df_city_diff.head()"
   ]
  },
  {
   "cell_type": "markdown",
   "id": "6ef12329",
   "metadata": {},
   "source": [
    "There should be many city names that contain Spanish letters on Puerto Rico. Check all cities on Puerto Rico in the sunshine data set:"
   ]
  },
  {
   "cell_type": "code",
   "execution_count": 15,
   "id": "ada7837d",
   "metadata": {},
   "outputs": [
    {
     "data": {
      "application/vnd.microsoft.datawrangler.viewer.v0+json": {
       "columns": [
        {
         "name": "index",
         "rawType": "int64",
         "type": "integer"
        },
        {
         "name": "CITY",
         "rawType": "object",
         "type": "string"
        }
       ],
       "ref": "cd06e654-19f0-4acb-8a51-9f0bff7c437c",
       "rows": [
        [
         "157",
         "SAN JUAN,PR"
        ]
       ],
       "shape": {
        "columns": 1,
        "rows": 1
       }
      },
      "text/plain": [
       "157    SAN JUAN,PR\n",
       "Name: CITY, dtype: object"
      ]
     },
     "execution_count": 15,
     "metadata": {},
     "output_type": "execute_result"
    }
   ],
   "source": [
    "df_sunshine_original.iloc[1:158].query('CITY.str.contains(\",PR\")')['CITY']"
   ]
  },
  {
   "cell_type": "markdown",
   "id": "1dd90d59",
   "metadata": {},
   "source": [
    "The sunshine data set contained only one city on Puerto Rico: San Juan. Check how \"San Juan\" is defined in the city data set:"
   ]
  },
  {
   "cell_type": "code",
   "execution_count": 16,
   "id": "0be70cd9",
   "metadata": {},
   "outputs": [
    {
     "data": {
      "application/vnd.microsoft.datawrangler.viewer.v0+json": {
       "columns": [
        {
         "name": "index",
         "rawType": "int64",
         "type": "integer"
        },
        {
         "name": "city",
         "rawType": "object",
         "type": "string"
        },
        {
         "name": "city_ascii",
         "rawType": "object",
         "type": "string"
        },
        {
         "name": "state_id",
         "rawType": "object",
         "type": "string"
        }
       ],
       "ref": "33579a7e-1e2a-4e2d-a068-b79c2b4f89d8",
       "rows": [
        [
         "29",
         "San Juan",
         "San Juan",
         "PR"
        ],
        [
         "1298",
         "San Juan",
         "San Juan",
         "TX"
        ]
       ],
       "shape": {
        "columns": 3,
        "rows": 2
       }
      },
      "text/html": [
       "<div>\n",
       "<style scoped>\n",
       "    .dataframe tbody tr th:only-of-type {\n",
       "        vertical-align: middle;\n",
       "    }\n",
       "\n",
       "    .dataframe tbody tr th {\n",
       "        vertical-align: top;\n",
       "    }\n",
       "\n",
       "    .dataframe thead th {\n",
       "        text-align: right;\n",
       "    }\n",
       "</style>\n",
       "<table border=\"1\" class=\"dataframe\">\n",
       "  <thead>\n",
       "    <tr style=\"text-align: right;\">\n",
       "      <th></th>\n",
       "      <th>city</th>\n",
       "      <th>city_ascii</th>\n",
       "      <th>state_id</th>\n",
       "    </tr>\n",
       "  </thead>\n",
       "  <tbody>\n",
       "    <tr>\n",
       "      <th>29</th>\n",
       "      <td>San Juan</td>\n",
       "      <td>San Juan</td>\n",
       "      <td>PR</td>\n",
       "    </tr>\n",
       "    <tr>\n",
       "      <th>1298</th>\n",
       "      <td>San Juan</td>\n",
       "      <td>San Juan</td>\n",
       "      <td>TX</td>\n",
       "    </tr>\n",
       "  </tbody>\n",
       "</table>\n",
       "</div>"
      ],
      "text/plain": [
       "          city city_ascii state_id\n",
       "29    San Juan   San Juan       PR\n",
       "1298  San Juan   San Juan       TX"
      ]
     },
     "execution_count": 16,
     "metadata": {},
     "output_type": "execute_result"
    }
   ],
   "source": [
    "df_city_original[['city','city_ascii','state_id']]\\\n",
    "    .query('city_ascii == \"San Juan\"')"
   ]
  },
  {
   "cell_type": "markdown",
   "id": "d904ee28",
   "metadata": {},
   "source": [
    "There are actually two cities of San Juan: one on Puerto Rico and the other one in Texas. But neither city name contains non-ascii letter and so you can keep the first record for San Juan, Puerto Rico.\n",
    "\n",
    "Check all cities containing non-ascii letters outside Puerto Rico:"
   ]
  },
  {
   "cell_type": "code",
   "execution_count": 17,
   "id": "3432c676",
   "metadata": {},
   "outputs": [
    {
     "data": {
      "application/vnd.microsoft.datawrangler.viewer.v0+json": {
       "columns": [
        {
         "name": "index",
         "rawType": "int64",
         "type": "integer"
        },
        {
         "name": "city",
         "rawType": "object",
         "type": "string"
        },
        {
         "name": "city_ascii",
         "rawType": "object",
         "type": "string"
        },
        {
         "name": "state_id",
         "rawType": "object",
         "type": "string"
        }
       ],
       "ref": "f10ab6b1-46aa-4e78-9c11-d57504c4aa87",
       "rows": [
        [
         "2250",
         "La Cañada Flintridge",
         "La Canada Flintridge",
         "CA"
        ],
        [
         "2627",
         "Cañon City",
         "Canon City",
         "CO"
        ],
        [
         "3944",
         "Española",
         "Espanola",
         "NM"
        ],
        [
         "5238",
         "Piñon Hills",
         "Pinon Hills",
         "CA"
        ],
        [
         "11895",
         "César Chávez",
         "Cesar Chavez",
         "TX"
        ],
        [
         "14389",
         "Doña Ana",
         "Dona Ana",
         "NM"
        ],
        [
         "15643",
         "Cañoncito",
         "Canoncito",
         "NM"
        ],
        [
         "17598",
         "Peña Blanca",
         "Pena Blanca",
         "NM"
        ],
        [
         "18469",
         "Peñasco",
         "Penasco",
         "NM"
        ],
        [
         "19962",
         "Cañada de los Alamos",
         "Canada de los Alamos",
         "NM"
        ],
        [
         "20794",
         "Cañon",
         "Canon",
         "NM"
        ],
        [
         "27154",
         "Salineño",
         "Salineno",
         "TX"
        ],
        [
         "28089",
         "Cañones",
         "Canones",
         "NM"
        ],
        [
         "28160",
         "Salineño North",
         "Salineno North",
         "TX"
        ],
        [
         "29328",
         "Lopeño",
         "Lopeno",
         "TX"
        ]
       ],
       "shape": {
        "columns": 3,
        "rows": 15
       }
      },
      "text/html": [
       "<div>\n",
       "<style scoped>\n",
       "    .dataframe tbody tr th:only-of-type {\n",
       "        vertical-align: middle;\n",
       "    }\n",
       "\n",
       "    .dataframe tbody tr th {\n",
       "        vertical-align: top;\n",
       "    }\n",
       "\n",
       "    .dataframe thead th {\n",
       "        text-align: right;\n",
       "    }\n",
       "</style>\n",
       "<table border=\"1\" class=\"dataframe\">\n",
       "  <thead>\n",
       "    <tr style=\"text-align: right;\">\n",
       "      <th></th>\n",
       "      <th>city</th>\n",
       "      <th>city_ascii</th>\n",
       "      <th>state_id</th>\n",
       "    </tr>\n",
       "  </thead>\n",
       "  <tbody>\n",
       "    <tr>\n",
       "      <th>2250</th>\n",
       "      <td>La Cañada Flintridge</td>\n",
       "      <td>La Canada Flintridge</td>\n",
       "      <td>CA</td>\n",
       "    </tr>\n",
       "    <tr>\n",
       "      <th>2627</th>\n",
       "      <td>Cañon City</td>\n",
       "      <td>Canon City</td>\n",
       "      <td>CO</td>\n",
       "    </tr>\n",
       "    <tr>\n",
       "      <th>3944</th>\n",
       "      <td>Española</td>\n",
       "      <td>Espanola</td>\n",
       "      <td>NM</td>\n",
       "    </tr>\n",
       "    <tr>\n",
       "      <th>5238</th>\n",
       "      <td>Piñon Hills</td>\n",
       "      <td>Pinon Hills</td>\n",
       "      <td>CA</td>\n",
       "    </tr>\n",
       "    <tr>\n",
       "      <th>11895</th>\n",
       "      <td>César Chávez</td>\n",
       "      <td>Cesar Chavez</td>\n",
       "      <td>TX</td>\n",
       "    </tr>\n",
       "    <tr>\n",
       "      <th>14389</th>\n",
       "      <td>Doña Ana</td>\n",
       "      <td>Dona Ana</td>\n",
       "      <td>NM</td>\n",
       "    </tr>\n",
       "    <tr>\n",
       "      <th>15643</th>\n",
       "      <td>Cañoncito</td>\n",
       "      <td>Canoncito</td>\n",
       "      <td>NM</td>\n",
       "    </tr>\n",
       "    <tr>\n",
       "      <th>17598</th>\n",
       "      <td>Peña Blanca</td>\n",
       "      <td>Pena Blanca</td>\n",
       "      <td>NM</td>\n",
       "    </tr>\n",
       "    <tr>\n",
       "      <th>18469</th>\n",
       "      <td>Peñasco</td>\n",
       "      <td>Penasco</td>\n",
       "      <td>NM</td>\n",
       "    </tr>\n",
       "    <tr>\n",
       "      <th>19962</th>\n",
       "      <td>Cañada de los Alamos</td>\n",
       "      <td>Canada de los Alamos</td>\n",
       "      <td>NM</td>\n",
       "    </tr>\n",
       "    <tr>\n",
       "      <th>20794</th>\n",
       "      <td>Cañon</td>\n",
       "      <td>Canon</td>\n",
       "      <td>NM</td>\n",
       "    </tr>\n",
       "    <tr>\n",
       "      <th>27154</th>\n",
       "      <td>Salineño</td>\n",
       "      <td>Salineno</td>\n",
       "      <td>TX</td>\n",
       "    </tr>\n",
       "    <tr>\n",
       "      <th>28089</th>\n",
       "      <td>Cañones</td>\n",
       "      <td>Canones</td>\n",
       "      <td>NM</td>\n",
       "    </tr>\n",
       "    <tr>\n",
       "      <th>28160</th>\n",
       "      <td>Salineño North</td>\n",
       "      <td>Salineno North</td>\n",
       "      <td>TX</td>\n",
       "    </tr>\n",
       "    <tr>\n",
       "      <th>29328</th>\n",
       "      <td>Lopeño</td>\n",
       "      <td>Lopeno</td>\n",
       "      <td>TX</td>\n",
       "    </tr>\n",
       "  </tbody>\n",
       "</table>\n",
       "</div>"
      ],
      "text/plain": [
       "                       city            city_ascii state_id\n",
       "2250   La Cañada Flintridge  La Canada Flintridge       CA\n",
       "2627             Cañon City            Canon City       CO\n",
       "3944               Española              Espanola       NM\n",
       "5238            Piñon Hills           Pinon Hills       CA\n",
       "11895          César Chávez          Cesar Chavez       TX\n",
       "14389              Doña Ana              Dona Ana       NM\n",
       "15643             Cañoncito             Canoncito       NM\n",
       "17598           Peña Blanca           Pena Blanca       NM\n",
       "18469               Peñasco               Penasco       NM\n",
       "19962  Cañada de los Alamos  Canada de los Alamos       NM\n",
       "20794                 Cañon                 Canon       NM\n",
       "27154              Salineño              Salineno       TX\n",
       "28089               Cañones               Canones       NM\n",
       "28160        Salineño North        Salineno North       TX\n",
       "29328                Lopeño                Lopeno       TX"
      ]
     },
     "execution_count": 17,
     "metadata": {},
     "output_type": "execute_result"
    }
   ],
   "source": [
    "df_city_diff.query('state_id != \"PR\"')"
   ]
  },
  {
   "cell_type": "markdown",
   "id": "abe6521d",
   "metadata": {},
   "source": [
    "These cities are located in California, Colorado, New Mexico, or Texas. Check cities in those states in the sunshine data set:"
   ]
  },
  {
   "cell_type": "code",
   "execution_count": 18,
   "id": "e1d9da8d",
   "metadata": {},
   "outputs": [
    {
     "data": {
      "application/vnd.microsoft.datawrangler.viewer.v0+json": {
       "columns": [
        {
         "name": "index",
         "rawType": "int64",
         "type": "integer"
        },
        {
         "name": "CITY",
         "rawType": "object",
         "type": "string"
        }
       ],
       "ref": "551a80da-7353-4ecf-a8f5-607af6780e0a",
       "rows": [
        [
         "10",
         "FRESNO,CA"
        ],
        [
         "11",
         "LOS ANGELES,CA"
        ],
        [
         "12",
         "SACRAMENTO,CA"
        ],
        [
         "13",
         "SAN DIEGO,CA"
        ],
        [
         "14",
         "SAN FRANCISCO,CA"
        ],
        [
         "15",
         "DENVER,CO"
        ],
        [
         "16",
         "GRAND JUNCTION,CO"
        ],
        [
         "17",
         "PUEBLO,CO"
        ],
        [
         "84",
         "ALBUQUERQUE,NM"
        ],
        [
         "85",
         "ROSWELL,NM"
        ],
        [
         "123",
         "ABILENE,TX"
        ],
        [
         "124",
         "AMARILLO,TX"
        ],
        [
         "125",
         "AUSTIN,TX"
        ],
        [
         "126",
         "BROWNSVILLE,TX"
        ],
        [
         "127",
         "CORPUS CHRISTI,TX"
        ],
        [
         "128",
         "DALLAS,TX"
        ],
        [
         "129",
         "EL PASO,TX"
        ],
        [
         "130",
         "HOUSTON,TX"
        ],
        [
         "131",
         "LUBBOCK,TX"
        ],
        [
         "132",
         "MIDLAND-ODESSA,TX"
        ],
        [
         "133",
         "PORT ARTHUR,TX"
        ],
        [
         "134",
         "SAN ANTONIO,TX"
        ]
       ],
       "shape": {
        "columns": 1,
        "rows": 22
       }
      },
      "text/plain": [
       "10             FRESNO,CA\n",
       "11        LOS ANGELES,CA\n",
       "12         SACRAMENTO,CA\n",
       "13          SAN DIEGO,CA\n",
       "14      SAN FRANCISCO,CA\n",
       "15             DENVER,CO\n",
       "16     GRAND JUNCTION,CO\n",
       "17             PUEBLO,CO\n",
       "84        ALBUQUERQUE,NM\n",
       "85            ROSWELL,NM\n",
       "123           ABILENE,TX\n",
       "124          AMARILLO,TX\n",
       "125            AUSTIN,TX\n",
       "126       BROWNSVILLE,TX\n",
       "127    CORPUS CHRISTI,TX\n",
       "128            DALLAS,TX\n",
       "129           EL PASO,TX\n",
       "130           HOUSTON,TX\n",
       "131           LUBBOCK,TX\n",
       "132    MIDLAND-ODESSA,TX\n",
       "133       PORT ARTHUR,TX\n",
       "134       SAN ANTONIO,TX\n",
       "Name: CITY, dtype: object"
      ]
     },
     "execution_count": 18,
     "metadata": {},
     "output_type": "execute_result"
    }
   ],
   "source": [
    "df_sunshine_original.iloc[1:158].query('False \\\n",
    "    |   CITY.str.contains(\",CA\") \\\n",
    "    |   CITY.str.contains(\",CO\") \\\n",
    "    |   CITY.str.contains(\",NM\") \\\n",
    "    |   CITY.str.contains(\",TX\") \\\n",
    "    ')['CITY']"
   ]
  },
  {
   "cell_type": "markdown",
   "id": "e102b8df",
   "metadata": {},
   "source": [
    "Any of these cities in the sunshine data set appeared in the city data set where the city name contained non-English letters. Therefore, you can remove all records containing non-English letters from the city data set."
   ]
  },
  {
   "cell_type": "markdown",
   "id": "89311cad",
   "metadata": {},
   "source": [
    "### 2.4 &emsp; Planning the merged Data Frame"
   ]
  },
  {
   "cell_type": "markdown",
   "id": "2ddfccdf",
   "metadata": {},
   "source": [
    "\n",
    "A combined DataFrame: `df_solar`\n",
    "\n",
    "| Column               | Example          | Data Sets                          |\n",
    "| :------------------- | :--------------- | :--------------------------------- |\n",
    "| County-State         | BERKELEY,CA      | City, Photovoltaic, Land Value     |\n",
    "| City-State           | ALAMEDA,CA       | City, Sunshine, Land Value         |\n",
    "| Longitude            | -149.789413.     | City, Photovoltaic                 |\n",
    "| Latitude             | 61.587349        | Sunshine, Photovoltaic, Land Value |\n",
    "| ANN                  | 58               | Sunshine                           |\n",
    "| JAN ... DEC          | 58               | Sunshine                           |\n",
    "| Current_log          | 14.4             | Logarithm of (DC + AC)             |\n",
    "| Land Value           | 840048.900963529 | Land Value                         |\n",
    "\n",
    "Some cities that are listed in the Land Value data set and the Sunshine data set do not have solar power plants. In later steps, you predict the Current_log in cities that do not have solar power plants and tell which cities you should build solar power plants.\n",
    "\n",
    "\n",
    "Note that in the United States, city names are unique only within the same state. Some cities share the same name and even the same county name while those are located in different states.\n",
    "\n",
    "| Column | Sunshine | Land Value  | PV      | City    | Example 1  | Example 2  |\n",
    "| :----- | :------: | :---------: | :-----: | :-----: | :--------- | :--------- |\n",
    "| City   | &#9679;  | &#9679;     | -       | &#9679; | Franklin   | Franklin   |\n",
    "| County | -        | &#9679;     | &#9679; | &#9679; | Williamson | Williamson |\n",
    "| State  | &#9679;  | &#9679;     | &#9679; | &#9679; | Tennessee  | Texas      |\n"
   ]
  },
  {
   "cell_type": "markdown",
   "id": "f3287dc1",
   "metadata": {},
   "source": [
    "### 2.4. Converting Data Frames\n",
    "\n",
    "The original data sets are stored in CSV format. To load these CSV data sets and convert these to the pandas' DataFrame objects, all numeric entries should be recognized as either integer data type of float data type."
   ]
  },
  {
   "cell_type": "code",
   "execution_count": 19,
   "id": "78908b0a",
   "metadata": {},
   "outputs": [],
   "source": [
    "def convert_df_obj_numeric(df):\n",
    "    cols_obj = df.select_dtypes(include='object').columns\n",
    "    df[cols_obj] = df[cols_obj].apply(pd.to_numeric, errors='coerce')\n",
    "    return df"
   ]
  },
  {
   "cell_type": "markdown",
   "id": "3f03caf1",
   "metadata": {},
   "source": [
    "## 3 &emsp; Extracting Data Sets"
   ]
  },
  {
   "cell_type": "markdown",
   "id": "75585566",
   "metadata": {},
   "source": [
    "### 3.1 &emsp; Dataset 1: Sunshine"
   ]
  },
  {
   "cell_type": "code",
   "execution_count": 20,
   "id": "8c766e14",
   "metadata": {},
   "outputs": [],
   "source": [
    "df_sunshine_original = pd.read_csv(\n",
    "    './data/Average Percent of Possible Sunshine by US City.csv'\n",
    "    )"
   ]
  },
  {
   "cell_type": "markdown",
   "id": "5cac2b1e",
   "metadata": {},
   "source": [
    "Check the `CITY` column:"
   ]
  },
  {
   "cell_type": "code",
   "execution_count": 21,
   "id": "506e8d6f",
   "metadata": {},
   "outputs": [
    {
     "data": {
      "application/vnd.microsoft.datawrangler.viewer.v0+json": {
       "columns": [
        {
         "name": "index",
         "rawType": "object",
         "type": "unknown"
        },
        {
         "name": "count",
         "rawType": "int64",
         "type": "integer"
        }
       ],
       "ref": "4a191213-0a49-4fb9-86f7-eaf6510f62d4",
       "rows": [
        [
         "('ABERDEEN,SD',)",
         "2"
        ],
        [
         "('PENSACOLA,FL',)",
         "2"
        ],
        [
         "('NOME,AK',)",
         "2"
        ],
        [
         "('NORFOLK,VA',)",
         "2"
        ],
        [
         "('NORTH PLATTE,NE',)",
         "2"
        ],
        [
         "('OKLAHOMA CITY,OK',)",
         "2"
        ],
        [
         "('OMAHA,NE',)",
         "2"
        ],
        [
         "('PADUCAH,KY',)",
         "2"
        ],
        [
         "('PAGO PAGO- AMER SAMOA,PC',)",
         "2"
        ],
        [
         "('PEORIA,IL',)",
         "2"
        ],
        [
         "('NASHVILLE,TN',)",
         "2"
        ],
        [
         "('PHILADELPHIA,PA',)",
         "2"
        ],
        [
         "('PHOENIX,AZ',)",
         "2"
        ],
        [
         "('PITTSBURGH,PA',)",
         "2"
        ],
        [
         "('POCATELLO,ID',)",
         "2"
        ],
        [
         "('POHNPEI- CAROLINE IS.,PC',)",
         "2"
        ],
        [
         "('PORT ARTHUR,TX',)",
         "2"
        ],
        [
         "('PORTLAND,ME',)",
         "2"
        ],
        [
         "('NEW ORLEANS,LA',)",
         "2"
        ],
        [
         "('MT. WASHINGTON,NH',)",
         "2"
        ],
        [
         "('PROVIDENCE,RI',)",
         "2"
        ],
        [
         "('MADISON,WI',)",
         "2"
        ],
        [
         "('LINCOLN,NE',)",
         "2"
        ],
        [
         "('LITTLE ROCK,AR',)",
         "2"
        ],
        [
         "('LOS ANGELES,CA',)",
         "2"
        ],
        [
         "('LOUISVILLE,KY',)",
         "2"
        ],
        [
         "('LUBBOCK,TX',)",
         "2"
        ],
        [
         "('LYNCHBURG,VA',)",
         "2"
        ],
        [
         "('MACON,GA',)",
         "2"
        ],
        [
         "('MAJURO- MARSHALL',)",
         "2"
        ],
        [
         "('MONTGOMERY,AL',)",
         "2"
        ],
        [
         "('MEMPHIS,TN',)",
         "2"
        ],
        [
         "('MIAMI,FL',)",
         "2"
        ],
        [
         "('MIDLAND-ODESSA,TX',)",
         "2"
        ],
        [
         "('MILWAUKEE,WI',)",
         "2"
        ],
        [
         "('MINNEAPOLIS-ST.PAUL,MN',)",
         "2"
        ],
        [
         "('MISSOULA,MT',)",
         "2"
        ],
        [
         "('MOLINE,IL',)",
         "2"
        ],
        [
         "('PORTLAND,OR',)",
         "2"
        ],
        [
         "('PUEBLO,CO',)",
         "2"
        ],
        [
         "('LAS VEGAS,NV',)",
         "2"
        ],
        [
         "('TUCSON,AZ',)",
         "2"
        ],
        [
         "('SPRINGFIELD,IL',)",
         "2"
        ],
        [
         "('SPRINGFIELD,MO',)",
         "2"
        ],
        [
         "('ST. LOUIS,MO',)",
         "2"
        ],
        [
         "('SYRACUSE,NY',)",
         "2"
        ],
        [
         "('TAMPA,FL',)",
         "2"
        ],
        [
         "('TOLEDO,OH',)",
         "2"
        ],
        [
         "('TOPEKA,KS',)",
         "2"
        ],
        [
         "('TULSA,OK',)",
         "2"
        ]
       ],
       "shape": {
        "columns": 1,
        "rows": 159
       }
      },
      "text/plain": [
       "CITY                  \n",
       "ABERDEEN,SD               2\n",
       "PENSACOLA,FL              2\n",
       "NOME,AK                   2\n",
       "NORFOLK,VA                2\n",
       "NORTH PLATTE,NE           2\n",
       "                         ..\n",
       "GRAND RAPIDS,MI           2\n",
       "GREAT FALLS,MT            2\n",
       "GREEN BAY,WI              2\n",
       "YAP- W CAROLINE IS.,PC    2\n",
       "CITY                      1\n",
       "Name: count, Length: 159, dtype: int64"
      ]
     },
     "execution_count": 21,
     "metadata": {},
     "output_type": "execute_result"
    }
   ],
   "source": [
    "df_sunshine_original[['CITY']].value_counts()"
   ]
  },
  {
   "cell_type": "markdown",
   "id": "709cbd8c",
   "metadata": {},
   "source": [
    "There is one invalid entry `\"CITY\"`, and every other city has exact two entries. Check the row where the `CITY` column is `CITY`:"
   ]
  },
  {
   "cell_type": "code",
   "execution_count": 22,
   "id": "5bc60d3d",
   "metadata": {},
   "outputs": [
    {
     "data": {
      "application/vnd.microsoft.datawrangler.viewer.v0+json": {
       "columns": [
        {
         "name": "index",
         "rawType": "int64",
         "type": "integer"
        },
        {
         "name": "index",
         "rawType": "int64",
         "type": "integer"
        },
        {
         "name": "CITY",
         "rawType": "object",
         "type": "string"
        },
        {
         "name": "JAN",
         "rawType": "object",
         "type": "string"
        },
        {
         "name": "FEB",
         "rawType": "object",
         "type": "string"
        },
        {
         "name": "MAR",
         "rawType": "object",
         "type": "string"
        },
        {
         "name": "APR",
         "rawType": "object",
         "type": "string"
        },
        {
         "name": "MAY",
         "rawType": "object",
         "type": "string"
        },
        {
         "name": "JUN",
         "rawType": "object",
         "type": "string"
        },
        {
         "name": "JUL",
         "rawType": "object",
         "type": "string"
        },
        {
         "name": "AUG",
         "rawType": "object",
         "type": "string"
        },
        {
         "name": "SEP",
         "rawType": "object",
         "type": "string"
        },
        {
         "name": "OCT",
         "rawType": "object",
         "type": "string"
        },
        {
         "name": "NOV",
         "rawType": "object",
         "type": "string"
        },
        {
         "name": "DEC",
         "rawType": "object",
         "type": "string"
        },
        {
         "name": "ANN",
         "rawType": "object",
         "type": "string"
        },
        {
         "name": "Unnamed: 14",
         "rawType": "float64",
         "type": "float"
        }
       ],
       "ref": "5060ce60-964e-4d9f-94a7-22082d41957a",
       "rows": [
        [
         "158",
         "158",
         "CITY",
         "JAN",
         "FEB",
         "MAR",
         "APR",
         "MAY",
         "JUN",
         "JUL",
         "AUG",
         "SEP",
         "OCT",
         "NOV",
         "DEC",
         "ANN",
         null
        ]
       ],
       "shape": {
        "columns": 16,
        "rows": 1
       }
      },
      "text/html": [
       "<div>\n",
       "<style scoped>\n",
       "    .dataframe tbody tr th:only-of-type {\n",
       "        vertical-align: middle;\n",
       "    }\n",
       "\n",
       "    .dataframe tbody tr th {\n",
       "        vertical-align: top;\n",
       "    }\n",
       "\n",
       "    .dataframe thead th {\n",
       "        text-align: right;\n",
       "    }\n",
       "</style>\n",
       "<table border=\"1\" class=\"dataframe\">\n",
       "  <thead>\n",
       "    <tr style=\"text-align: right;\">\n",
       "      <th></th>\n",
       "      <th>index</th>\n",
       "      <th>CITY</th>\n",
       "      <th>JAN</th>\n",
       "      <th>FEB</th>\n",
       "      <th>MAR</th>\n",
       "      <th>APR</th>\n",
       "      <th>MAY</th>\n",
       "      <th>JUN</th>\n",
       "      <th>JUL</th>\n",
       "      <th>AUG</th>\n",
       "      <th>SEP</th>\n",
       "      <th>OCT</th>\n",
       "      <th>NOV</th>\n",
       "      <th>DEC</th>\n",
       "      <th>ANN</th>\n",
       "      <th>Unnamed: 14</th>\n",
       "    </tr>\n",
       "  </thead>\n",
       "  <tbody>\n",
       "    <tr>\n",
       "      <th>158</th>\n",
       "      <td>158</td>\n",
       "      <td>CITY</td>\n",
       "      <td>JAN</td>\n",
       "      <td>FEB</td>\n",
       "      <td>MAR</td>\n",
       "      <td>APR</td>\n",
       "      <td>MAY</td>\n",
       "      <td>JUN</td>\n",
       "      <td>JUL</td>\n",
       "      <td>AUG</td>\n",
       "      <td>SEP</td>\n",
       "      <td>OCT</td>\n",
       "      <td>NOV</td>\n",
       "      <td>DEC</td>\n",
       "      <td>ANN</td>\n",
       "      <td>NaN</td>\n",
       "    </tr>\n",
       "  </tbody>\n",
       "</table>\n",
       "</div>"
      ],
      "text/plain": [
       "     index  CITY  JAN  FEB  MAR  APR  MAY  JUN  JUL  AUG  SEP  OCT  NOV  DEC  \\\n",
       "158    158  CITY  JAN  FEB  MAR  APR  MAY  JUN  JUL  AUG  SEP  OCT  NOV  DEC   \n",
       "\n",
       "     ANN  Unnamed: 14  \n",
       "158  ANN          NaN  "
      ]
     },
     "execution_count": 22,
     "metadata": {},
     "output_type": "execute_result"
    }
   ],
   "source": [
    "df_sunshine_original[df_sunshine_original['CITY'] == 'CITY']"
   ]
  },
  {
   "cell_type": "code",
   "execution_count": 23,
   "id": "11e123ee",
   "metadata": {},
   "outputs": [
    {
     "data": {
      "application/vnd.microsoft.datawrangler.viewer.v0+json": {
       "columns": [
        {
         "name": "index",
         "rawType": "int64",
         "type": "integer"
        },
        {
         "name": "index",
         "rawType": "int64",
         "type": "integer"
        },
        {
         "name": "CITY",
         "rawType": "object",
         "type": "string"
        },
        {
         "name": "JAN",
         "rawType": "object",
         "type": "unknown"
        },
        {
         "name": "FEB",
         "rawType": "object",
         "type": "unknown"
        },
        {
         "name": "MAR",
         "rawType": "object",
         "type": "unknown"
        },
        {
         "name": "APR",
         "rawType": "object",
         "type": "unknown"
        },
        {
         "name": "MAY",
         "rawType": "object",
         "type": "unknown"
        },
        {
         "name": "JUN",
         "rawType": "object",
         "type": "unknown"
        },
        {
         "name": "JUL",
         "rawType": "object",
         "type": "string"
        },
        {
         "name": "AUG",
         "rawType": "object",
         "type": "string"
        },
        {
         "name": "SEP",
         "rawType": "object",
         "type": "string"
        },
        {
         "name": "OCT",
         "rawType": "object",
         "type": "string"
        },
        {
         "name": "NOV",
         "rawType": "object",
         "type": "string"
        },
        {
         "name": "DEC",
         "rawType": "object",
         "type": "unknown"
        },
        {
         "name": "ANN",
         "rawType": "object",
         "type": "unknown"
        },
        {
         "name": "Unnamed: 14",
         "rawType": "float64",
         "type": "float"
        }
       ],
       "ref": "b6c3cb1c-56fe-4d5c-9371-d2da704c2fac",
       "rows": [
        [
         "115",
         "115",
         "ABERDEEN,SD",
         null,
         "54",
         "58",
         "63",
         "65",
         "66",
         "74",
         "78",
         "68",
         "48",
         "21",
         null,
         null,
         null
        ],
        [
         "315",
         "315",
         "ABERDEEN,SD",
         null,
         "54",
         "58",
         "63",
         "65",
         "66",
         "74",
         "78",
         "68",
         "48",
         "21",
         null,
         null,
         null
        ],
        [
         "123",
         "123",
         "ABILENE,TX",
         "63",
         "66",
         "70",
         "71",
         "71",
         "77",
         "80",
         "75",
         "69",
         "68",
         "64",
         "65",
         "69",
         null
        ],
        [
         "182",
         "182",
         "ABILENE,TX",
         "63",
         "66",
         "70",
         "71",
         "71",
         "77",
         "80",
         "75",
         "69",
         "68",
         "64",
         "65",
         "69",
         null
        ],
        [
         "86",
         "86",
         "ALBANY,NY",
         "46",
         "52",
         "51",
         "55",
         "53",
         "55",
         "62",
         "58",
         "54",
         "46",
         "33",
         "36",
         "50",
         null
        ],
        [
         "287",
         "287",
         "ALBANY,NY",
         "46",
         "52",
         "51",
         "55",
         "53",
         "55",
         "62",
         "58",
         "54",
         "46",
         "33",
         "36",
         "50",
         null
        ],
        [
         "84",
         "84",
         "ALBUQUERQUE,NM",
         "73",
         "73",
         "73",
         "78",
         "80",
         "82",
         "76",
         "76",
         "77",
         "80",
         "75",
         "73",
         "76",
         null
        ],
        [
         "169",
         "169",
         "ALBUQUERQUE,NM",
         "73",
         "73",
         "73",
         "78",
         "80",
         "82",
         "76",
         "76",
         "77",
         "80",
         "75",
         "73",
         "76",
         null
        ],
        [
         "108",
         "108",
         "ALLENTOWN,PA",
         null,
         null,
         null,
         null,
         null,
         null,
         "90",
         "93",
         "82",
         "52",
         "47",
         null,
         null,
         null
        ],
        [
         "314",
         "314",
         "ALLENTOWN,PA",
         null,
         null,
         null,
         null,
         null,
         null,
         "90",
         "93",
         "82",
         "52",
         "47",
         null,
         null,
         null
        ]
       ],
       "shape": {
        "columns": 16,
        "rows": 10
       }
      },
      "text/html": [
       "<div>\n",
       "<style scoped>\n",
       "    .dataframe tbody tr th:only-of-type {\n",
       "        vertical-align: middle;\n",
       "    }\n",
       "\n",
       "    .dataframe tbody tr th {\n",
       "        vertical-align: top;\n",
       "    }\n",
       "\n",
       "    .dataframe thead th {\n",
       "        text-align: right;\n",
       "    }\n",
       "</style>\n",
       "<table border=\"1\" class=\"dataframe\">\n",
       "  <thead>\n",
       "    <tr style=\"text-align: right;\">\n",
       "      <th></th>\n",
       "      <th>index</th>\n",
       "      <th>CITY</th>\n",
       "      <th>JAN</th>\n",
       "      <th>FEB</th>\n",
       "      <th>MAR</th>\n",
       "      <th>APR</th>\n",
       "      <th>MAY</th>\n",
       "      <th>JUN</th>\n",
       "      <th>JUL</th>\n",
       "      <th>AUG</th>\n",
       "      <th>SEP</th>\n",
       "      <th>OCT</th>\n",
       "      <th>NOV</th>\n",
       "      <th>DEC</th>\n",
       "      <th>ANN</th>\n",
       "      <th>Unnamed: 14</th>\n",
       "    </tr>\n",
       "  </thead>\n",
       "  <tbody>\n",
       "    <tr>\n",
       "      <th>115</th>\n",
       "      <td>115</td>\n",
       "      <td>ABERDEEN,SD</td>\n",
       "      <td>NaN</td>\n",
       "      <td>54</td>\n",
       "      <td>58</td>\n",
       "      <td>63</td>\n",
       "      <td>65</td>\n",
       "      <td>66</td>\n",
       "      <td>74</td>\n",
       "      <td>78</td>\n",
       "      <td>68</td>\n",
       "      <td>48</td>\n",
       "      <td>21</td>\n",
       "      <td>NaN</td>\n",
       "      <td>NaN</td>\n",
       "      <td>NaN</td>\n",
       "    </tr>\n",
       "    <tr>\n",
       "      <th>315</th>\n",
       "      <td>315</td>\n",
       "      <td>ABERDEEN,SD</td>\n",
       "      <td>NaN</td>\n",
       "      <td>54</td>\n",
       "      <td>58</td>\n",
       "      <td>63</td>\n",
       "      <td>65</td>\n",
       "      <td>66</td>\n",
       "      <td>74</td>\n",
       "      <td>78</td>\n",
       "      <td>68</td>\n",
       "      <td>48</td>\n",
       "      <td>21</td>\n",
       "      <td>NaN</td>\n",
       "      <td>NaN</td>\n",
       "      <td>NaN</td>\n",
       "    </tr>\n",
       "    <tr>\n",
       "      <th>123</th>\n",
       "      <td>123</td>\n",
       "      <td>ABILENE,TX</td>\n",
       "      <td>63</td>\n",
       "      <td>66</td>\n",
       "      <td>70</td>\n",
       "      <td>71</td>\n",
       "      <td>71</td>\n",
       "      <td>77</td>\n",
       "      <td>80</td>\n",
       "      <td>75</td>\n",
       "      <td>69</td>\n",
       "      <td>68</td>\n",
       "      <td>64</td>\n",
       "      <td>65</td>\n",
       "      <td>69</td>\n",
       "      <td>NaN</td>\n",
       "    </tr>\n",
       "    <tr>\n",
       "      <th>182</th>\n",
       "      <td>182</td>\n",
       "      <td>ABILENE,TX</td>\n",
       "      <td>63</td>\n",
       "      <td>66</td>\n",
       "      <td>70</td>\n",
       "      <td>71</td>\n",
       "      <td>71</td>\n",
       "      <td>77</td>\n",
       "      <td>80</td>\n",
       "      <td>75</td>\n",
       "      <td>69</td>\n",
       "      <td>68</td>\n",
       "      <td>64</td>\n",
       "      <td>65</td>\n",
       "      <td>69</td>\n",
       "      <td>NaN</td>\n",
       "    </tr>\n",
       "    <tr>\n",
       "      <th>86</th>\n",
       "      <td>86</td>\n",
       "      <td>ALBANY,NY</td>\n",
       "      <td>46</td>\n",
       "      <td>52</td>\n",
       "      <td>51</td>\n",
       "      <td>55</td>\n",
       "      <td>53</td>\n",
       "      <td>55</td>\n",
       "      <td>62</td>\n",
       "      <td>58</td>\n",
       "      <td>54</td>\n",
       "      <td>46</td>\n",
       "      <td>33</td>\n",
       "      <td>36</td>\n",
       "      <td>50</td>\n",
       "      <td>NaN</td>\n",
       "    </tr>\n",
       "    <tr>\n",
       "      <th>287</th>\n",
       "      <td>287</td>\n",
       "      <td>ALBANY,NY</td>\n",
       "      <td>46</td>\n",
       "      <td>52</td>\n",
       "      <td>51</td>\n",
       "      <td>55</td>\n",
       "      <td>53</td>\n",
       "      <td>55</td>\n",
       "      <td>62</td>\n",
       "      <td>58</td>\n",
       "      <td>54</td>\n",
       "      <td>46</td>\n",
       "      <td>33</td>\n",
       "      <td>36</td>\n",
       "      <td>50</td>\n",
       "      <td>NaN</td>\n",
       "    </tr>\n",
       "    <tr>\n",
       "      <th>84</th>\n",
       "      <td>84</td>\n",
       "      <td>ALBUQUERQUE,NM</td>\n",
       "      <td>73</td>\n",
       "      <td>73</td>\n",
       "      <td>73</td>\n",
       "      <td>78</td>\n",
       "      <td>80</td>\n",
       "      <td>82</td>\n",
       "      <td>76</td>\n",
       "      <td>76</td>\n",
       "      <td>77</td>\n",
       "      <td>80</td>\n",
       "      <td>75</td>\n",
       "      <td>73</td>\n",
       "      <td>76</td>\n",
       "      <td>NaN</td>\n",
       "    </tr>\n",
       "    <tr>\n",
       "      <th>169</th>\n",
       "      <td>169</td>\n",
       "      <td>ALBUQUERQUE,NM</td>\n",
       "      <td>73</td>\n",
       "      <td>73</td>\n",
       "      <td>73</td>\n",
       "      <td>78</td>\n",
       "      <td>80</td>\n",
       "      <td>82</td>\n",
       "      <td>76</td>\n",
       "      <td>76</td>\n",
       "      <td>77</td>\n",
       "      <td>80</td>\n",
       "      <td>75</td>\n",
       "      <td>73</td>\n",
       "      <td>76</td>\n",
       "      <td>NaN</td>\n",
       "    </tr>\n",
       "    <tr>\n",
       "      <th>108</th>\n",
       "      <td>108</td>\n",
       "      <td>ALLENTOWN,PA</td>\n",
       "      <td>NaN</td>\n",
       "      <td>NaN</td>\n",
       "      <td>NaN</td>\n",
       "      <td>NaN</td>\n",
       "      <td>NaN</td>\n",
       "      <td>NaN</td>\n",
       "      <td>90</td>\n",
       "      <td>93</td>\n",
       "      <td>82</td>\n",
       "      <td>52</td>\n",
       "      <td>47</td>\n",
       "      <td>NaN</td>\n",
       "      <td>NaN</td>\n",
       "      <td>NaN</td>\n",
       "    </tr>\n",
       "    <tr>\n",
       "      <th>314</th>\n",
       "      <td>314</td>\n",
       "      <td>ALLENTOWN,PA</td>\n",
       "      <td>NaN</td>\n",
       "      <td>NaN</td>\n",
       "      <td>NaN</td>\n",
       "      <td>NaN</td>\n",
       "      <td>NaN</td>\n",
       "      <td>NaN</td>\n",
       "      <td>90</td>\n",
       "      <td>93</td>\n",
       "      <td>82</td>\n",
       "      <td>52</td>\n",
       "      <td>47</td>\n",
       "      <td>NaN</td>\n",
       "      <td>NaN</td>\n",
       "      <td>NaN</td>\n",
       "    </tr>\n",
       "  </tbody>\n",
       "</table>\n",
       "</div>"
      ],
      "text/plain": [
       "     index            CITY  JAN  FEB  MAR  APR  MAY  JUN JUL AUG SEP OCT NOV  \\\n",
       "115    115     ABERDEEN,SD  NaN   54   58   63   65   66  74  78  68  48  21   \n",
       "315    315     ABERDEEN,SD  NaN   54   58   63   65   66  74  78  68  48  21   \n",
       "123    123      ABILENE,TX   63   66   70   71   71   77  80  75  69  68  64   \n",
       "182    182      ABILENE,TX   63   66   70   71   71   77  80  75  69  68  64   \n",
       "86      86       ALBANY,NY   46   52   51   55   53   55  62  58  54  46  33   \n",
       "287    287       ALBANY,NY   46   52   51   55   53   55  62  58  54  46  33   \n",
       "84      84  ALBUQUERQUE,NM   73   73   73   78   80   82  76  76  77  80  75   \n",
       "169    169  ALBUQUERQUE,NM   73   73   73   78   80   82  76  76  77  80  75   \n",
       "108    108    ALLENTOWN,PA  NaN  NaN  NaN  NaN  NaN  NaN  90  93  82  52  47   \n",
       "314    314    ALLENTOWN,PA  NaN  NaN  NaN  NaN  NaN  NaN  90  93  82  52  47   \n",
       "\n",
       "     DEC  ANN  Unnamed: 14  \n",
       "115  NaN  NaN          NaN  \n",
       "315  NaN  NaN          NaN  \n",
       "123   65   69          NaN  \n",
       "182   65   69          NaN  \n",
       "86    36   50          NaN  \n",
       "287   36   50          NaN  \n",
       "84    73   76          NaN  \n",
       "169   73   76          NaN  \n",
       "108  NaN  NaN          NaN  \n",
       "314  NaN  NaN          NaN  "
      ]
     },
     "execution_count": 23,
     "metadata": {},
     "output_type": "execute_result"
    }
   ],
   "source": [
    "df_sunshine_original.sort_values(by=['CITY','index']).head(10)"
   ]
  },
  {
   "cell_type": "markdown",
   "id": "072fe01a",
   "metadata": {},
   "source": [
    "In this data set, the row where `'index'` is 158 does not include appropriate values thus you can remove it.\n",
    "\n",
    "See the `\"index\"` field of every pairs of rows for every city; one of those rows have the value of less than 158 and the other rows have the value of greater than 158. Also all other values such as `\"ANN\"` are the same.\n",
    "\n",
    "Assume that this data set includes two tables with the same rows in different orders. The first table spans between line 1 and line 157 in the original CSV file, and the second table spans between line 158 and line 318. You only need the first one.\n",
    "\n",
    "Construct a new DataFrame that is based on the original data set for the sunshine information with the following changes:\n",
    "\n",
    "* Include all rows of the first 157 records.\n",
    "* Rename the `CITY` column `City-State`.\n",
    "* Change the index column from the `index` column to the `City-State` column.\n",
    "* Trim off the unnecessary columns: `index` and `\"Unnamed: 14\"`."
   ]
  },
  {
   "cell_type": "code",
   "execution_count": 24,
   "id": "15aab4b1",
   "metadata": {},
   "outputs": [],
   "source": [
    "df_sunshine = df_sunshine_original.iloc[1:158]\n",
    "\n",
    "df_sunshine.rename(columns={'CITY': 'City-State'}, inplace=True)\n",
    "\n",
    "df_sunshine.set_index(['City-State'], inplace=True)\n",
    "\n",
    "del df_sunshine['index']\n",
    "del df_sunshine['Unnamed: 14']"
   ]
  },
  {
   "cell_type": "markdown",
   "id": "d2afc274",
   "metadata": {},
   "source": [
    "Check rows that include a null value in any field:"
   ]
  },
  {
   "cell_type": "code",
   "execution_count": 25,
   "id": "65d350ff",
   "metadata": {},
   "outputs": [
    {
     "data": {
      "application/vnd.microsoft.datawrangler.viewer.v0+json": {
       "columns": [
        {
         "name": "City-State",
         "rawType": "object",
         "type": "string"
        },
        {
         "name": "JAN",
         "rawType": "object",
         "type": "unknown"
        },
        {
         "name": "FEB",
         "rawType": "object",
         "type": "unknown"
        },
        {
         "name": "MAR",
         "rawType": "object",
         "type": "unknown"
        },
        {
         "name": "APR",
         "rawType": "object",
         "type": "unknown"
        },
        {
         "name": "MAY",
         "rawType": "object",
         "type": "unknown"
        },
        {
         "name": "JUN",
         "rawType": "object",
         "type": "unknown"
        },
        {
         "name": "JUL",
         "rawType": "object",
         "type": "string"
        },
        {
         "name": "AUG",
         "rawType": "object",
         "type": "string"
        },
        {
         "name": "SEP",
         "rawType": "object",
         "type": "string"
        },
        {
         "name": "OCT",
         "rawType": "object",
         "type": "string"
        },
        {
         "name": "NOV",
         "rawType": "object",
         "type": "string"
        },
        {
         "name": "DEC",
         "rawType": "object",
         "type": "unknown"
        },
        {
         "name": "ANN",
         "rawType": "object",
         "type": "unknown"
        }
       ],
       "ref": "e0a6496a-778b-4e12-9d5f-1b448efa161c",
       "rows": [
        [
         "TUPELO,MS",
         null,
         null,
         null,
         null,
         null,
         null,
         "66",
         "59",
         "61",
         "67",
         "57",
         "45",
         null
        ],
        [
         "CINCINNATI,OH",
         null,
         null,
         null,
         null,
         "47",
         "70",
         "85",
         "76",
         "77",
         "50",
         "44",
         "30",
         null
        ],
        [
         "ALLENTOWN,PA",
         null,
         null,
         null,
         null,
         null,
         null,
         "90",
         "93",
         "82",
         "52",
         "47",
         null,
         null
        ],
        [
         "ABERDEEN,SD",
         null,
         "54",
         "58",
         "63",
         "65",
         "66",
         "74",
         "78",
         "68",
         "48",
         "21",
         null,
         null
        ],
        [
         "ELKINS,WV",
         null,
         null,
         null,
         null,
         null,
         null,
         "69",
         "50",
         "52",
         "43",
         "31",
         "18",
         null
        ]
       ],
       "shape": {
        "columns": 13,
        "rows": 5
       }
      },
      "text/html": [
       "<div>\n",
       "<style scoped>\n",
       "    .dataframe tbody tr th:only-of-type {\n",
       "        vertical-align: middle;\n",
       "    }\n",
       "\n",
       "    .dataframe tbody tr th {\n",
       "        vertical-align: top;\n",
       "    }\n",
       "\n",
       "    .dataframe thead th {\n",
       "        text-align: right;\n",
       "    }\n",
       "</style>\n",
       "<table border=\"1\" class=\"dataframe\">\n",
       "  <thead>\n",
       "    <tr style=\"text-align: right;\">\n",
       "      <th></th>\n",
       "      <th>JAN</th>\n",
       "      <th>FEB</th>\n",
       "      <th>MAR</th>\n",
       "      <th>APR</th>\n",
       "      <th>MAY</th>\n",
       "      <th>JUN</th>\n",
       "      <th>JUL</th>\n",
       "      <th>AUG</th>\n",
       "      <th>SEP</th>\n",
       "      <th>OCT</th>\n",
       "      <th>NOV</th>\n",
       "      <th>DEC</th>\n",
       "      <th>ANN</th>\n",
       "    </tr>\n",
       "    <tr>\n",
       "      <th>City-State</th>\n",
       "      <th></th>\n",
       "      <th></th>\n",
       "      <th></th>\n",
       "      <th></th>\n",
       "      <th></th>\n",
       "      <th></th>\n",
       "      <th></th>\n",
       "      <th></th>\n",
       "      <th></th>\n",
       "      <th></th>\n",
       "      <th></th>\n",
       "      <th></th>\n",
       "      <th></th>\n",
       "    </tr>\n",
       "  </thead>\n",
       "  <tbody>\n",
       "    <tr>\n",
       "      <th>TUPELO,MS</th>\n",
       "      <td>NaN</td>\n",
       "      <td>NaN</td>\n",
       "      <td>NaN</td>\n",
       "      <td>NaN</td>\n",
       "      <td>NaN</td>\n",
       "      <td>NaN</td>\n",
       "      <td>66</td>\n",
       "      <td>59</td>\n",
       "      <td>61</td>\n",
       "      <td>67</td>\n",
       "      <td>57</td>\n",
       "      <td>45</td>\n",
       "      <td>NaN</td>\n",
       "    </tr>\n",
       "    <tr>\n",
       "      <th>CINCINNATI,OH</th>\n",
       "      <td>NaN</td>\n",
       "      <td>NaN</td>\n",
       "      <td>NaN</td>\n",
       "      <td>NaN</td>\n",
       "      <td>47</td>\n",
       "      <td>70</td>\n",
       "      <td>85</td>\n",
       "      <td>76</td>\n",
       "      <td>77</td>\n",
       "      <td>50</td>\n",
       "      <td>44</td>\n",
       "      <td>30</td>\n",
       "      <td>NaN</td>\n",
       "    </tr>\n",
       "    <tr>\n",
       "      <th>ALLENTOWN,PA</th>\n",
       "      <td>NaN</td>\n",
       "      <td>NaN</td>\n",
       "      <td>NaN</td>\n",
       "      <td>NaN</td>\n",
       "      <td>NaN</td>\n",
       "      <td>NaN</td>\n",
       "      <td>90</td>\n",
       "      <td>93</td>\n",
       "      <td>82</td>\n",
       "      <td>52</td>\n",
       "      <td>47</td>\n",
       "      <td>NaN</td>\n",
       "      <td>NaN</td>\n",
       "    </tr>\n",
       "    <tr>\n",
       "      <th>ABERDEEN,SD</th>\n",
       "      <td>NaN</td>\n",
       "      <td>54</td>\n",
       "      <td>58</td>\n",
       "      <td>63</td>\n",
       "      <td>65</td>\n",
       "      <td>66</td>\n",
       "      <td>74</td>\n",
       "      <td>78</td>\n",
       "      <td>68</td>\n",
       "      <td>48</td>\n",
       "      <td>21</td>\n",
       "      <td>NaN</td>\n",
       "      <td>NaN</td>\n",
       "    </tr>\n",
       "    <tr>\n",
       "      <th>ELKINS,WV</th>\n",
       "      <td>NaN</td>\n",
       "      <td>NaN</td>\n",
       "      <td>NaN</td>\n",
       "      <td>NaN</td>\n",
       "      <td>NaN</td>\n",
       "      <td>NaN</td>\n",
       "      <td>69</td>\n",
       "      <td>50</td>\n",
       "      <td>52</td>\n",
       "      <td>43</td>\n",
       "      <td>31</td>\n",
       "      <td>18</td>\n",
       "      <td>NaN</td>\n",
       "    </tr>\n",
       "  </tbody>\n",
       "</table>\n",
       "</div>"
      ],
      "text/plain": [
       "               JAN  FEB  MAR  APR  MAY  JUN JUL AUG SEP OCT NOV  DEC  ANN\n",
       "City-State                                                               \n",
       "TUPELO,MS      NaN  NaN  NaN  NaN  NaN  NaN  66  59  61  67  57   45  NaN\n",
       "CINCINNATI,OH  NaN  NaN  NaN  NaN   47   70  85  76  77  50  44   30  NaN\n",
       "ALLENTOWN,PA   NaN  NaN  NaN  NaN  NaN  NaN  90  93  82  52  47  NaN  NaN\n",
       "ABERDEEN,SD    NaN   54   58   63   65   66  74  78  68  48  21  NaN  NaN\n",
       "ELKINS,WV      NaN  NaN  NaN  NaN  NaN  NaN  69  50  52  43  31   18  NaN"
      ]
     },
     "execution_count": 25,
     "metadata": {},
     "output_type": "execute_result"
    }
   ],
   "source": [
    "df_sunshine[df_sunshine.isna().any(axis=1)]"
   ]
  },
  {
   "cell_type": "markdown",
   "id": "c673f6bc",
   "metadata": {},
   "source": [
    "There are 5 rows which constitutes ~3.2% of the whole DataFrame. Because these rows seem almost impossible to find appropriate values to fill in the null fields, you should discard these 5 records."
   ]
  },
  {
   "cell_type": "code",
   "execution_count": 26,
   "id": "73b0d6d4",
   "metadata": {},
   "outputs": [],
   "source": [
    "df_sunshine.dropna(inplace=True)"
   ]
  },
  {
   "cell_type": "code",
   "execution_count": 27,
   "id": "46ca0160",
   "metadata": {},
   "outputs": [],
   "source": [
    "del df_sunshine['ANN']"
   ]
  },
  {
   "cell_type": "markdown",
   "id": "72228609",
   "metadata": {},
   "source": [
    "Convert entries in the numeric columns to numeric data type:"
   ]
  },
  {
   "cell_type": "code",
   "execution_count": 28,
   "id": "ddfc5a41",
   "metadata": {},
   "outputs": [
    {
     "data": {
      "application/vnd.microsoft.datawrangler.viewer.v0+json": {
       "columns": [
        {
         "name": "City-State",
         "rawType": "object",
         "type": "string"
        },
        {
         "name": "JAN",
         "rawType": "int64",
         "type": "integer"
        },
        {
         "name": "FEB",
         "rawType": "int64",
         "type": "integer"
        },
        {
         "name": "MAR",
         "rawType": "int64",
         "type": "integer"
        },
        {
         "name": "APR",
         "rawType": "int64",
         "type": "integer"
        },
        {
         "name": "MAY",
         "rawType": "int64",
         "type": "integer"
        },
        {
         "name": "JUN",
         "rawType": "int64",
         "type": "integer"
        },
        {
         "name": "JUL",
         "rawType": "int64",
         "type": "integer"
        },
        {
         "name": "AUG",
         "rawType": "int64",
         "type": "integer"
        },
        {
         "name": "SEP",
         "rawType": "int64",
         "type": "integer"
        },
        {
         "name": "OCT",
         "rawType": "int64",
         "type": "integer"
        },
        {
         "name": "NOV",
         "rawType": "int64",
         "type": "integer"
        },
        {
         "name": "DEC",
         "rawType": "int64",
         "type": "integer"
        }
       ],
       "ref": "7f7e42e3-6aec-4c97-b9bc-f212ee4d3d20",
       "rows": [
        [
         "MONTGOMERY,AL",
         "47",
         "55",
         "58",
         "64",
         "63",
         "64",
         "61",
         "61",
         "59",
         "63",
         "55",
         "49"
        ],
        [
         "ANCHORAGE,AK",
         "43",
         "46",
         "51",
         "50",
         "51",
         "46",
         "43",
         "43",
         "41",
         "36",
         "35",
         "33"
        ],
        [
         "JUNEAU,AK",
         "39",
         "35",
         "38",
         "42",
         "44",
         "37",
         "33",
         "35",
         "27",
         "21",
         "26",
         "21"
        ],
        [
         "NOME,AK",
         "38",
         "56",
         "54",
         "52",
         "52",
         "43",
         "39",
         "34",
         "38",
         "35",
         "30",
         "36"
        ],
        [
         "FLAGSTAFF,AZ",
         "71",
         "73",
         "72",
         "82",
         "83",
         "88",
         "74",
         "75",
         "79",
         "77",
         "72",
         "76"
        ]
       ],
       "shape": {
        "columns": 12,
        "rows": 5
       }
      },
      "text/html": [
       "<div>\n",
       "<style scoped>\n",
       "    .dataframe tbody tr th:only-of-type {\n",
       "        vertical-align: middle;\n",
       "    }\n",
       "\n",
       "    .dataframe tbody tr th {\n",
       "        vertical-align: top;\n",
       "    }\n",
       "\n",
       "    .dataframe thead th {\n",
       "        text-align: right;\n",
       "    }\n",
       "</style>\n",
       "<table border=\"1\" class=\"dataframe\">\n",
       "  <thead>\n",
       "    <tr style=\"text-align: right;\">\n",
       "      <th></th>\n",
       "      <th>JAN</th>\n",
       "      <th>FEB</th>\n",
       "      <th>MAR</th>\n",
       "      <th>APR</th>\n",
       "      <th>MAY</th>\n",
       "      <th>JUN</th>\n",
       "      <th>JUL</th>\n",
       "      <th>AUG</th>\n",
       "      <th>SEP</th>\n",
       "      <th>OCT</th>\n",
       "      <th>NOV</th>\n",
       "      <th>DEC</th>\n",
       "    </tr>\n",
       "    <tr>\n",
       "      <th>City-State</th>\n",
       "      <th></th>\n",
       "      <th></th>\n",
       "      <th></th>\n",
       "      <th></th>\n",
       "      <th></th>\n",
       "      <th></th>\n",
       "      <th></th>\n",
       "      <th></th>\n",
       "      <th></th>\n",
       "      <th></th>\n",
       "      <th></th>\n",
       "      <th></th>\n",
       "    </tr>\n",
       "  </thead>\n",
       "  <tbody>\n",
       "    <tr>\n",
       "      <th>MONTGOMERY,AL</th>\n",
       "      <td>47</td>\n",
       "      <td>55</td>\n",
       "      <td>58</td>\n",
       "      <td>64</td>\n",
       "      <td>63</td>\n",
       "      <td>64</td>\n",
       "      <td>61</td>\n",
       "      <td>61</td>\n",
       "      <td>59</td>\n",
       "      <td>63</td>\n",
       "      <td>55</td>\n",
       "      <td>49</td>\n",
       "    </tr>\n",
       "    <tr>\n",
       "      <th>ANCHORAGE,AK</th>\n",
       "      <td>43</td>\n",
       "      <td>46</td>\n",
       "      <td>51</td>\n",
       "      <td>50</td>\n",
       "      <td>51</td>\n",
       "      <td>46</td>\n",
       "      <td>43</td>\n",
       "      <td>43</td>\n",
       "      <td>41</td>\n",
       "      <td>36</td>\n",
       "      <td>35</td>\n",
       "      <td>33</td>\n",
       "    </tr>\n",
       "    <tr>\n",
       "      <th>JUNEAU,AK</th>\n",
       "      <td>39</td>\n",
       "      <td>35</td>\n",
       "      <td>38</td>\n",
       "      <td>42</td>\n",
       "      <td>44</td>\n",
       "      <td>37</td>\n",
       "      <td>33</td>\n",
       "      <td>35</td>\n",
       "      <td>27</td>\n",
       "      <td>21</td>\n",
       "      <td>26</td>\n",
       "      <td>21</td>\n",
       "    </tr>\n",
       "    <tr>\n",
       "      <th>NOME,AK</th>\n",
       "      <td>38</td>\n",
       "      <td>56</td>\n",
       "      <td>54</td>\n",
       "      <td>52</td>\n",
       "      <td>52</td>\n",
       "      <td>43</td>\n",
       "      <td>39</td>\n",
       "      <td>34</td>\n",
       "      <td>38</td>\n",
       "      <td>35</td>\n",
       "      <td>30</td>\n",
       "      <td>36</td>\n",
       "    </tr>\n",
       "    <tr>\n",
       "      <th>FLAGSTAFF,AZ</th>\n",
       "      <td>71</td>\n",
       "      <td>73</td>\n",
       "      <td>72</td>\n",
       "      <td>82</td>\n",
       "      <td>83</td>\n",
       "      <td>88</td>\n",
       "      <td>74</td>\n",
       "      <td>75</td>\n",
       "      <td>79</td>\n",
       "      <td>77</td>\n",
       "      <td>72</td>\n",
       "      <td>76</td>\n",
       "    </tr>\n",
       "  </tbody>\n",
       "</table>\n",
       "</div>"
      ],
      "text/plain": [
       "               JAN  FEB  MAR  APR  MAY  JUN  JUL  AUG  SEP  OCT  NOV  DEC\n",
       "City-State                                                               \n",
       "MONTGOMERY,AL   47   55   58   64   63   64   61   61   59   63   55   49\n",
       "ANCHORAGE,AK    43   46   51   50   51   46   43   43   41   36   35   33\n",
       "JUNEAU,AK       39   35   38   42   44   37   33   35   27   21   26   21\n",
       "NOME,AK         38   56   54   52   52   43   39   34   38   35   30   36\n",
       "FLAGSTAFF,AZ    71   73   72   82   83   88   74   75   79   77   72   76"
      ]
     },
     "execution_count": 28,
     "metadata": {},
     "output_type": "execute_result"
    }
   ],
   "source": [
    "cols_numeric = [\n",
    "    'JAN','FEB','MAR','APR','MAY','JUN','JUL','AUG','SEP','OCT','NOV','DEC'\n",
    "    ]\n",
    "\n",
    "df_sunshine[cols_numeric] = df_sunshine[cols_numeric]\\\n",
    "    .apply(pd.to_numeric, errors='coerce')\n",
    "\n",
    "df_sunshine.head()"
   ]
  },
  {
   "cell_type": "code",
   "execution_count": 29,
   "id": "3d975007",
   "metadata": {},
   "outputs": [
    {
     "data": {
      "application/vnd.microsoft.datawrangler.viewer.v0+json": {
       "columns": [
        {
         "name": "index",
         "rawType": "object",
         "type": "string"
        },
        {
         "name": "JAN",
         "rawType": "float64",
         "type": "float"
        },
        {
         "name": "FEB",
         "rawType": "float64",
         "type": "float"
        },
        {
         "name": "MAR",
         "rawType": "float64",
         "type": "float"
        },
        {
         "name": "APR",
         "rawType": "float64",
         "type": "float"
        },
        {
         "name": "MAY",
         "rawType": "float64",
         "type": "float"
        },
        {
         "name": "JUN",
         "rawType": "float64",
         "type": "float"
        },
        {
         "name": "JUL",
         "rawType": "float64",
         "type": "float"
        },
        {
         "name": "AUG",
         "rawType": "float64",
         "type": "float"
        },
        {
         "name": "SEP",
         "rawType": "float64",
         "type": "float"
        },
        {
         "name": "OCT",
         "rawType": "float64",
         "type": "float"
        },
        {
         "name": "NOV",
         "rawType": "float64",
         "type": "float"
        },
        {
         "name": "DEC",
         "rawType": "float64",
         "type": "float"
        }
       ],
       "ref": "e144c846-fe8e-49d5-886f-312a576491df",
       "rows": [
        [
         "count",
         "152.0",
         "152.0",
         "152.0",
         "152.0",
         "152.0",
         "152.0",
         "152.0",
         "152.0",
         "152.0",
         "152.0",
         "152.0",
         "152.0"
        ],
        [
         "mean",
         "51.03947368421053",
         "56.01315789473684",
         "59.16447368421053",
         "61.625",
         "62.921052631578945",
         "66.30263157894737",
         "68.84868421052632",
         "67.3157894736842",
         "64.21710526315789",
         "60.18421052631579",
         "50.10526315789474",
         "47.30921052631579"
        ],
        [
         "std",
         "11.677159218032287",
         "9.966159191710053",
         "10.116830170626057",
         "10.474701468821303",
         "10.261821685991837",
         "11.132578212826152",
         "11.375446934482145",
         "11.03061426341402",
         "10.945934419076659",
         "12.026692747611513",
         "13.45788520171259",
         "13.877531295921925"
        ],
        [
         "min",
         "20.0",
         "28.0",
         "31.0",
         "36.0",
         "37.0",
         "31.0",
         "30.0",
         "30.0",
         "27.0",
         "21.0",
         "21.0",
         "16.0"
        ],
        [
         "25%",
         "43.0",
         "50.0",
         "52.0",
         "55.0",
         "58.0",
         "61.0",
         "64.0",
         "62.0",
         "58.75",
         "54.0",
         "41.0",
         "37.75"
        ],
        [
         "50%",
         "51.0",
         "56.0",
         "59.0",
         "59.0",
         "61.0",
         "65.5",
         "69.0",
         "67.0",
         "63.0",
         "60.0",
         "50.5",
         "48.0"
        ],
        [
         "75%",
         "58.0",
         "62.0",
         "65.0",
         "67.0",
         "66.25",
         "72.0",
         "76.0",
         "75.0",
         "70.0",
         "67.0",
         "59.0",
         "56.0"
        ],
        [
         "max",
         "80.0",
         "83.0",
         "87.0",
         "92.0",
         "94.0",
         "95.0",
         "97.0",
         "96.0",
         "95.0",
         "88.0",
         "83.0",
         "79.0"
        ]
       ],
       "shape": {
        "columns": 12,
        "rows": 8
       }
      },
      "text/html": [
       "<div>\n",
       "<style scoped>\n",
       "    .dataframe tbody tr th:only-of-type {\n",
       "        vertical-align: middle;\n",
       "    }\n",
       "\n",
       "    .dataframe tbody tr th {\n",
       "        vertical-align: top;\n",
       "    }\n",
       "\n",
       "    .dataframe thead th {\n",
       "        text-align: right;\n",
       "    }\n",
       "</style>\n",
       "<table border=\"1\" class=\"dataframe\">\n",
       "  <thead>\n",
       "    <tr style=\"text-align: right;\">\n",
       "      <th></th>\n",
       "      <th>JAN</th>\n",
       "      <th>FEB</th>\n",
       "      <th>MAR</th>\n",
       "      <th>APR</th>\n",
       "      <th>MAY</th>\n",
       "      <th>JUN</th>\n",
       "      <th>JUL</th>\n",
       "      <th>AUG</th>\n",
       "      <th>SEP</th>\n",
       "      <th>OCT</th>\n",
       "      <th>NOV</th>\n",
       "      <th>DEC</th>\n",
       "    </tr>\n",
       "  </thead>\n",
       "  <tbody>\n",
       "    <tr>\n",
       "      <th>count</th>\n",
       "      <td>152.000000</td>\n",
       "      <td>152.000000</td>\n",
       "      <td>152.000000</td>\n",
       "      <td>152.000000</td>\n",
       "      <td>152.000000</td>\n",
       "      <td>152.000000</td>\n",
       "      <td>152.000000</td>\n",
       "      <td>152.000000</td>\n",
       "      <td>152.000000</td>\n",
       "      <td>152.000000</td>\n",
       "      <td>152.000000</td>\n",
       "      <td>152.000000</td>\n",
       "    </tr>\n",
       "    <tr>\n",
       "      <th>mean</th>\n",
       "      <td>51.039474</td>\n",
       "      <td>56.013158</td>\n",
       "      <td>59.164474</td>\n",
       "      <td>61.625000</td>\n",
       "      <td>62.921053</td>\n",
       "      <td>66.302632</td>\n",
       "      <td>68.848684</td>\n",
       "      <td>67.315789</td>\n",
       "      <td>64.217105</td>\n",
       "      <td>60.184211</td>\n",
       "      <td>50.105263</td>\n",
       "      <td>47.309211</td>\n",
       "    </tr>\n",
       "    <tr>\n",
       "      <th>std</th>\n",
       "      <td>11.677159</td>\n",
       "      <td>9.966159</td>\n",
       "      <td>10.116830</td>\n",
       "      <td>10.474701</td>\n",
       "      <td>10.261822</td>\n",
       "      <td>11.132578</td>\n",
       "      <td>11.375447</td>\n",
       "      <td>11.030614</td>\n",
       "      <td>10.945934</td>\n",
       "      <td>12.026693</td>\n",
       "      <td>13.457885</td>\n",
       "      <td>13.877531</td>\n",
       "    </tr>\n",
       "    <tr>\n",
       "      <th>min</th>\n",
       "      <td>20.000000</td>\n",
       "      <td>28.000000</td>\n",
       "      <td>31.000000</td>\n",
       "      <td>36.000000</td>\n",
       "      <td>37.000000</td>\n",
       "      <td>31.000000</td>\n",
       "      <td>30.000000</td>\n",
       "      <td>30.000000</td>\n",
       "      <td>27.000000</td>\n",
       "      <td>21.000000</td>\n",
       "      <td>21.000000</td>\n",
       "      <td>16.000000</td>\n",
       "    </tr>\n",
       "    <tr>\n",
       "      <th>25%</th>\n",
       "      <td>43.000000</td>\n",
       "      <td>50.000000</td>\n",
       "      <td>52.000000</td>\n",
       "      <td>55.000000</td>\n",
       "      <td>58.000000</td>\n",
       "      <td>61.000000</td>\n",
       "      <td>64.000000</td>\n",
       "      <td>62.000000</td>\n",
       "      <td>58.750000</td>\n",
       "      <td>54.000000</td>\n",
       "      <td>41.000000</td>\n",
       "      <td>37.750000</td>\n",
       "    </tr>\n",
       "    <tr>\n",
       "      <th>50%</th>\n",
       "      <td>51.000000</td>\n",
       "      <td>56.000000</td>\n",
       "      <td>59.000000</td>\n",
       "      <td>59.000000</td>\n",
       "      <td>61.000000</td>\n",
       "      <td>65.500000</td>\n",
       "      <td>69.000000</td>\n",
       "      <td>67.000000</td>\n",
       "      <td>63.000000</td>\n",
       "      <td>60.000000</td>\n",
       "      <td>50.500000</td>\n",
       "      <td>48.000000</td>\n",
       "    </tr>\n",
       "    <tr>\n",
       "      <th>75%</th>\n",
       "      <td>58.000000</td>\n",
       "      <td>62.000000</td>\n",
       "      <td>65.000000</td>\n",
       "      <td>67.000000</td>\n",
       "      <td>66.250000</td>\n",
       "      <td>72.000000</td>\n",
       "      <td>76.000000</td>\n",
       "      <td>75.000000</td>\n",
       "      <td>70.000000</td>\n",
       "      <td>67.000000</td>\n",
       "      <td>59.000000</td>\n",
       "      <td>56.000000</td>\n",
       "    </tr>\n",
       "    <tr>\n",
       "      <th>max</th>\n",
       "      <td>80.000000</td>\n",
       "      <td>83.000000</td>\n",
       "      <td>87.000000</td>\n",
       "      <td>92.000000</td>\n",
       "      <td>94.000000</td>\n",
       "      <td>95.000000</td>\n",
       "      <td>97.000000</td>\n",
       "      <td>96.000000</td>\n",
       "      <td>95.000000</td>\n",
       "      <td>88.000000</td>\n",
       "      <td>83.000000</td>\n",
       "      <td>79.000000</td>\n",
       "    </tr>\n",
       "  </tbody>\n",
       "</table>\n",
       "</div>"
      ],
      "text/plain": [
       "              JAN         FEB         MAR         APR         MAY         JUN  \\\n",
       "count  152.000000  152.000000  152.000000  152.000000  152.000000  152.000000   \n",
       "mean    51.039474   56.013158   59.164474   61.625000   62.921053   66.302632   \n",
       "std     11.677159    9.966159   10.116830   10.474701   10.261822   11.132578   \n",
       "min     20.000000   28.000000   31.000000   36.000000   37.000000   31.000000   \n",
       "25%     43.000000   50.000000   52.000000   55.000000   58.000000   61.000000   \n",
       "50%     51.000000   56.000000   59.000000   59.000000   61.000000   65.500000   \n",
       "75%     58.000000   62.000000   65.000000   67.000000   66.250000   72.000000   \n",
       "max     80.000000   83.000000   87.000000   92.000000   94.000000   95.000000   \n",
       "\n",
       "              JUL         AUG         SEP         OCT         NOV         DEC  \n",
       "count  152.000000  152.000000  152.000000  152.000000  152.000000  152.000000  \n",
       "mean    68.848684   67.315789   64.217105   60.184211   50.105263   47.309211  \n",
       "std     11.375447   11.030614   10.945934   12.026693   13.457885   13.877531  \n",
       "min     30.000000   30.000000   27.000000   21.000000   21.000000   16.000000  \n",
       "25%     64.000000   62.000000   58.750000   54.000000   41.000000   37.750000  \n",
       "50%     69.000000   67.000000   63.000000   60.000000   50.500000   48.000000  \n",
       "75%     76.000000   75.000000   70.000000   67.000000   59.000000   56.000000  \n",
       "max     97.000000   96.000000   95.000000   88.000000   83.000000   79.000000  "
      ]
     },
     "execution_count": 29,
     "metadata": {},
     "output_type": "execute_result"
    }
   ],
   "source": [
    "df_sunshine.describe()"
   ]
  },
  {
   "cell_type": "markdown",
   "id": "26dae6c2",
   "metadata": {},
   "source": [
    "All the maximum and minimum values look reasonable. For example, there was a city where the sunshine hours were only 16 hours in December, whereas another city observed 97 sunshine hours in July. Remember, the United States is located in the northern hemisphere, and day time is longer in summer.\n",
    "\n",
    "Take a look at the cities of the highest sunshine hours in July and the lowest hours in December:"
   ]
  },
  {
   "cell_type": "code",
   "execution_count": 30,
   "id": "e513e06a",
   "metadata": {},
   "outputs": [
    {
     "name": "stdout",
     "output_type": "stream",
     "text": [
      "               JUL  DEC\n",
      "City-State             \n",
      "SACRAMENTO,CA   97   47\n",
      "QUILLAYUTE,WA   42   16\n"
     ]
    }
   ],
   "source": [
    "print(df_sunshine.query('JUL == 97.0 | DEC == 16.0')[['JUL','DEC']])"
   ]
  },
  {
   "cell_type": "code",
   "execution_count": 31,
   "id": "0ec1b23e",
   "metadata": {},
   "outputs": [],
   "source": [
    "del df_sunshine_original"
   ]
  },
  {
   "cell_type": "markdown",
   "id": "1b940571",
   "metadata": {},
   "source": [
    "### 3.2 &emsp; Data Set 2: Photovoltaic"
   ]
  },
  {
   "cell_type": "code",
   "execution_count": 32,
   "id": "f9bd619c",
   "metadata": {},
   "outputs": [
    {
     "data": {
      "application/vnd.microsoft.datawrangler.viewer.v0+json": {
       "columns": [
        {
         "name": "case_id",
         "rawType": "int64",
         "type": "integer"
        },
        {
         "name": "AC",
         "rawType": "float64",
         "type": "float"
        },
        {
         "name": "DC",
         "rawType": "float64",
         "type": "float"
        },
        {
         "name": "County-State",
         "rawType": "object",
         "type": "string"
        }
       ],
       "ref": "96c023ea-1baf-46af-a03f-5224d0c0aefd",
       "rows": [
        [
         "406374",
         "6.0",
         "8.4",
         "MATANUSKA-SUSITNA,AK"
        ],
        [
         "405016",
         "1.7",
         "3.4",
         "NORTHWEST ARCTIC,AK"
        ],
        [
         "401476",
         "75.0",
         "100.2",
         "LAUDERDALE,AL"
        ],
        [
         "401865",
         "10.6",
         "12.7",
         "DALE,AL"
        ],
        [
         "401866",
         "7.4",
         "9.7",
         "CALHOUN,AL"
        ]
       ],
       "shape": {
        "columns": 3,
        "rows": 5
       }
      },
      "text/html": [
       "<div>\n",
       "<style scoped>\n",
       "    .dataframe tbody tr th:only-of-type {\n",
       "        vertical-align: middle;\n",
       "    }\n",
       "\n",
       "    .dataframe tbody tr th {\n",
       "        vertical-align: top;\n",
       "    }\n",
       "\n",
       "    .dataframe thead th {\n",
       "        text-align: right;\n",
       "    }\n",
       "</style>\n",
       "<table border=\"1\" class=\"dataframe\">\n",
       "  <thead>\n",
       "    <tr style=\"text-align: right;\">\n",
       "      <th></th>\n",
       "      <th>AC</th>\n",
       "      <th>DC</th>\n",
       "      <th>County-State</th>\n",
       "    </tr>\n",
       "    <tr>\n",
       "      <th>case_id</th>\n",
       "      <th></th>\n",
       "      <th></th>\n",
       "      <th></th>\n",
       "    </tr>\n",
       "  </thead>\n",
       "  <tbody>\n",
       "    <tr>\n",
       "      <th>406374</th>\n",
       "      <td>6.0</td>\n",
       "      <td>8.4</td>\n",
       "      <td>MATANUSKA-SUSITNA,AK</td>\n",
       "    </tr>\n",
       "    <tr>\n",
       "      <th>405016</th>\n",
       "      <td>1.7</td>\n",
       "      <td>3.4</td>\n",
       "      <td>NORTHWEST ARCTIC,AK</td>\n",
       "    </tr>\n",
       "    <tr>\n",
       "      <th>401476</th>\n",
       "      <td>75.0</td>\n",
       "      <td>100.2</td>\n",
       "      <td>LAUDERDALE,AL</td>\n",
       "    </tr>\n",
       "    <tr>\n",
       "      <th>401865</th>\n",
       "      <td>10.6</td>\n",
       "      <td>12.7</td>\n",
       "      <td>DALE,AL</td>\n",
       "    </tr>\n",
       "    <tr>\n",
       "      <th>401866</th>\n",
       "      <td>7.4</td>\n",
       "      <td>9.7</td>\n",
       "      <td>CALHOUN,AL</td>\n",
       "    </tr>\n",
       "  </tbody>\n",
       "</table>\n",
       "</div>"
      ],
      "text/plain": [
       "           AC     DC          County-State\n",
       "case_id                                   \n",
       "406374    6.0    8.4  MATANUSKA-SUSITNA,AK\n",
       "405016    1.7    3.4   NORTHWEST ARCTIC,AK\n",
       "401476   75.0  100.2         LAUDERDALE,AL\n",
       "401865   10.6   12.7               DALE,AL\n",
       "401866    7.4    9.7            CALHOUN,AL"
      ]
     },
     "execution_count": 32,
     "metadata": {},
     "output_type": "execute_result"
    }
   ],
   "source": [
    "df_photovoltaic = df_photovoltaic_original[[\n",
    "    'case_id', 'p_county', 'p_state', 'p_cap_ac', 'p_cap_dc'\n",
    "    ]].set_index('case_id')\n",
    "\n",
    "df_photovoltaic.rename(\n",
    "    columns={\n",
    "        'p_cap_ac': 'AC',\n",
    "        'p_cap_dc': 'DC'\n",
    "        },\n",
    "    inplace=True\n",
    "    )\n",
    "\n",
    "df_photovoltaic['County-State'] = df_photovoltaic['p_county'].str.upper() \\\n",
    "    + ',' +  df_photovoltaic['p_state']\n",
    "\n",
    "del df_photovoltaic['p_county']\n",
    "del df_photovoltaic['p_state']\n",
    "# del df_photovoltaic_original\n",
    "\n",
    "df_photovoltaic.head()"
   ]
  },
  {
   "cell_type": "code",
   "execution_count": 33,
   "id": "42e1c8e0",
   "metadata": {},
   "outputs": [],
   "source": [
    "df_photovoltaic = df_photovoltaic.groupby('County-State').sum()"
   ]
  },
  {
   "cell_type": "code",
   "execution_count": 34,
   "id": "c33e6561",
   "metadata": {},
   "outputs": [
    {
     "data": {
      "application/vnd.microsoft.datawrangler.viewer.v0+json": {
       "columns": [
        {
         "name": "index",
         "rawType": "object",
         "type": "string"
        },
        {
         "name": "AC",
         "rawType": "float64",
         "type": "float"
        },
        {
         "name": "DC",
         "rawType": "float64",
         "type": "float"
        },
        {
         "name": "Current",
         "rawType": "float64",
         "type": "float"
        },
        {
         "name": "Current_log",
         "rawType": "float64",
         "type": "float"
        }
       ],
       "ref": "22173fcc-b76b-4d6c-a4a9-46df677f1dd7",
       "rows": [
        [
         "count",
         "1100.0",
         "1100.0",
         "1100.0",
         "1100.0"
        ],
        [
         "mean",
         "90.13272727272727",
         "112.66418181818182",
         "202.79690909090908",
         "3.8404431339248286"
        ],
        [
         "std",
         "257.4943346140693",
         "316.0622679242595",
         "573.2372055927527",
         "1.7751061071685112"
        ],
        [
         "min",
         "0.3",
         "1.0",
         "1.8",
         "0.5877866649021191"
        ],
        [
         "25%",
         "4.5",
         "5.7",
         "10.174999999999999",
         "2.3199246461794725"
        ],
        [
         "50%",
         "20.0",
         "26.9",
         "47.25",
         "3.8554520940446984"
        ],
        [
         "75%",
         "80.0",
         "104.075",
         "185.25",
         "5.221697441508999"
        ],
        [
         "max",
         "3690.6",
         "4498.2",
         "8180.2",
         "9.00947187917565"
        ]
       ],
       "shape": {
        "columns": 4,
        "rows": 8
       }
      },
      "text/html": [
       "<div>\n",
       "<style scoped>\n",
       "    .dataframe tbody tr th:only-of-type {\n",
       "        vertical-align: middle;\n",
       "    }\n",
       "\n",
       "    .dataframe tbody tr th {\n",
       "        vertical-align: top;\n",
       "    }\n",
       "\n",
       "    .dataframe thead th {\n",
       "        text-align: right;\n",
       "    }\n",
       "</style>\n",
       "<table border=\"1\" class=\"dataframe\">\n",
       "  <thead>\n",
       "    <tr style=\"text-align: right;\">\n",
       "      <th></th>\n",
       "      <th>AC</th>\n",
       "      <th>DC</th>\n",
       "      <th>Current</th>\n",
       "      <th>Current_log</th>\n",
       "    </tr>\n",
       "  </thead>\n",
       "  <tbody>\n",
       "    <tr>\n",
       "      <th>count</th>\n",
       "      <td>1100.000000</td>\n",
       "      <td>1100.000000</td>\n",
       "      <td>1100.000000</td>\n",
       "      <td>1100.000000</td>\n",
       "    </tr>\n",
       "    <tr>\n",
       "      <th>mean</th>\n",
       "      <td>90.132727</td>\n",
       "      <td>112.664182</td>\n",
       "      <td>202.796909</td>\n",
       "      <td>3.840443</td>\n",
       "    </tr>\n",
       "    <tr>\n",
       "      <th>std</th>\n",
       "      <td>257.494335</td>\n",
       "      <td>316.062268</td>\n",
       "      <td>573.237206</td>\n",
       "      <td>1.775106</td>\n",
       "    </tr>\n",
       "    <tr>\n",
       "      <th>min</th>\n",
       "      <td>0.300000</td>\n",
       "      <td>1.000000</td>\n",
       "      <td>1.800000</td>\n",
       "      <td>0.587787</td>\n",
       "    </tr>\n",
       "    <tr>\n",
       "      <th>25%</th>\n",
       "      <td>4.500000</td>\n",
       "      <td>5.700000</td>\n",
       "      <td>10.175000</td>\n",
       "      <td>2.319925</td>\n",
       "    </tr>\n",
       "    <tr>\n",
       "      <th>50%</th>\n",
       "      <td>20.000000</td>\n",
       "      <td>26.900000</td>\n",
       "      <td>47.250000</td>\n",
       "      <td>3.855452</td>\n",
       "    </tr>\n",
       "    <tr>\n",
       "      <th>75%</th>\n",
       "      <td>80.000000</td>\n",
       "      <td>104.075000</td>\n",
       "      <td>185.250000</td>\n",
       "      <td>5.221697</td>\n",
       "    </tr>\n",
       "    <tr>\n",
       "      <th>max</th>\n",
       "      <td>3690.600000</td>\n",
       "      <td>4498.200000</td>\n",
       "      <td>8180.200000</td>\n",
       "      <td>9.009472</td>\n",
       "    </tr>\n",
       "  </tbody>\n",
       "</table>\n",
       "</div>"
      ],
      "text/plain": [
       "                AC           DC      Current  Current_log\n",
       "count  1100.000000  1100.000000  1100.000000  1100.000000\n",
       "mean     90.132727   112.664182   202.796909     3.840443\n",
       "std     257.494335   316.062268   573.237206     1.775106\n",
       "min       0.300000     1.000000     1.800000     0.587787\n",
       "25%       4.500000     5.700000    10.175000     2.319925\n",
       "50%      20.000000    26.900000    47.250000     3.855452\n",
       "75%      80.000000   104.075000   185.250000     5.221697\n",
       "max    3690.600000  4498.200000  8180.200000     9.009472"
      ]
     },
     "execution_count": 34,
     "metadata": {},
     "output_type": "execute_result"
    }
   ],
   "source": [
    "df_photovoltaic['Current'] = df_photovoltaic['AC'] + df_photovoltaic['DC']\n",
    "df_photovoltaic['Current_log'] = np.log(\n",
    "    df_photovoltaic['AC'] + df_photovoltaic['DC']\n",
    ")\n",
    "\n",
    "df_photovoltaic.describe()"
   ]
  },
  {
   "cell_type": "markdown",
   "id": "ff325048",
   "metadata": {},
   "source": [
    "The alternate current (\"AC\") and the direct current (\"DC\") look so similar that the combined current (\"Current\") should be good enough to assess and predict the solar power in every city. You can remove the AC and DC from this DataFrame."
   ]
  },
  {
   "cell_type": "code",
   "execution_count": 35,
   "id": "b82e9a2b",
   "metadata": {},
   "outputs": [],
   "source": [
    "del df_photovoltaic['AC']\n",
    "del df_photovoltaic['DC']\n",
    "del df_photovoltaic['Current']"
   ]
  },
  {
   "cell_type": "markdown",
   "id": "e7e8dd03",
   "metadata": {},
   "source": [
    "### 3.3 &emsp; Dataset 3: Land Values"
   ]
  },
  {
   "cell_type": "markdown",
   "id": "0dfa51be",
   "metadata": {},
   "source": [
    "In this original data set, there are many columns of historical prices of the average home values of 3-bedroom houses but you only need the latest values: `\"2025-05-31\"`.\n",
    "\n",
    "See the first few rows of the original data set while excluding all the other columns for historical home values:"
   ]
  },
  {
   "cell_type": "code",
   "execution_count": 36,
   "id": "5747f0eb",
   "metadata": {},
   "outputs": [
    {
     "data": {
      "application/vnd.microsoft.datawrangler.viewer.v0+json": {
       "columns": [
        {
         "name": "RegionID",
         "rawType": "int64",
         "type": "integer"
        },
        {
         "name": "Land Value",
         "rawType": "float64",
         "type": "float"
        },
        {
         "name": "County-State",
         "rawType": "object",
         "type": "string"
        },
        {
         "name": "City-State",
         "rawType": "object",
         "type": "string"
        }
       ],
       "ref": "0dfbc178-40ce-4780-a5e9-93a537e9517c",
       "rows": [
        [
         "6181",
         "840048.900963529",
         "QUEENS,NY",
         "NEW YORK,NY"
        ],
        [
         "12447",
         "964249.977821123",
         "LOS ANGELES,CA",
         "LOS ANGELES,CA"
        ],
        [
         "39051",
         "253134.06005882644",
         "HARRIS,TX",
         "HOUSTON,TX"
        ],
        [
         "17426",
         "336756.4963523099",
         "COOK,IL",
         "CHICAGO,IL"
        ],
        [
         "6915",
         "235986.09289941637",
         "BEXAR,TX",
         "SAN ANTONIO,TX"
        ]
       ],
       "shape": {
        "columns": 3,
        "rows": 5
       }
      },
      "text/html": [
       "<div>\n",
       "<style scoped>\n",
       "    .dataframe tbody tr th:only-of-type {\n",
       "        vertical-align: middle;\n",
       "    }\n",
       "\n",
       "    .dataframe tbody tr th {\n",
       "        vertical-align: top;\n",
       "    }\n",
       "\n",
       "    .dataframe thead th {\n",
       "        text-align: right;\n",
       "    }\n",
       "</style>\n",
       "<table border=\"1\" class=\"dataframe\">\n",
       "  <thead>\n",
       "    <tr style=\"text-align: right;\">\n",
       "      <th></th>\n",
       "      <th>Land Value</th>\n",
       "      <th>County-State</th>\n",
       "      <th>City-State</th>\n",
       "    </tr>\n",
       "    <tr>\n",
       "      <th>RegionID</th>\n",
       "      <th></th>\n",
       "      <th></th>\n",
       "      <th></th>\n",
       "    </tr>\n",
       "  </thead>\n",
       "  <tbody>\n",
       "    <tr>\n",
       "      <th>6181</th>\n",
       "      <td>840048.900964</td>\n",
       "      <td>QUEENS,NY</td>\n",
       "      <td>NEW YORK,NY</td>\n",
       "    </tr>\n",
       "    <tr>\n",
       "      <th>12447</th>\n",
       "      <td>964249.977821</td>\n",
       "      <td>LOS ANGELES,CA</td>\n",
       "      <td>LOS ANGELES,CA</td>\n",
       "    </tr>\n",
       "    <tr>\n",
       "      <th>39051</th>\n",
       "      <td>253134.060059</td>\n",
       "      <td>HARRIS,TX</td>\n",
       "      <td>HOUSTON,TX</td>\n",
       "    </tr>\n",
       "    <tr>\n",
       "      <th>17426</th>\n",
       "      <td>336756.496352</td>\n",
       "      <td>COOK,IL</td>\n",
       "      <td>CHICAGO,IL</td>\n",
       "    </tr>\n",
       "    <tr>\n",
       "      <th>6915</th>\n",
       "      <td>235986.092899</td>\n",
       "      <td>BEXAR,TX</td>\n",
       "      <td>SAN ANTONIO,TX</td>\n",
       "    </tr>\n",
       "  </tbody>\n",
       "</table>\n",
       "</div>"
      ],
      "text/plain": [
       "             Land Value    County-State      City-State\n",
       "RegionID                                               \n",
       "6181      840048.900964       QUEENS,NY     NEW YORK,NY\n",
       "12447     964249.977821  LOS ANGELES,CA  LOS ANGELES,CA\n",
       "39051     253134.060059       HARRIS,TX      HOUSTON,TX\n",
       "17426     336756.496352         COOK,IL      CHICAGO,IL\n",
       "6915      235986.092899        BEXAR,TX  SAN ANTONIO,TX"
      ]
     },
     "execution_count": 36,
     "metadata": {},
     "output_type": "execute_result"
    }
   ],
   "source": [
    "df_landvalue = df_landvalue_original.copy()[[\n",
    "    'RegionID', 'State', 'RegionName', 'CountyName', '2025-05-31'\n",
    "    ]].set_index('RegionID')\n",
    "\n",
    "df_landvalue.rename(columns={'2025-05-31': 'Land Value'}, inplace=True)\n",
    "\n",
    "df_landvalue['County-State']\\\n",
    "    = df_landvalue['CountyName']\\\n",
    "        .str.replace(r'\\s* County$', '', regex=True)\\\n",
    "        .str.upper() + ',' + df_landvalue['State']\n",
    "del df_landvalue['CountyName']\n",
    "\n",
    "df_landvalue['City-State'] \\\n",
    "    = df_landvalue['RegionName'].str.upper() + ',' + df_landvalue['State']\n",
    "del df_landvalue['RegionName']\n",
    "\n",
    "del df_landvalue['State']\n",
    "\n",
    "df_landvalue.head()"
   ]
  },
  {
   "cell_type": "code",
   "execution_count": 37,
   "id": "c5379a31",
   "metadata": {},
   "outputs": [
    {
     "name": "stdout",
     "output_type": "stream",
     "text": [
      "15711 rows\n"
     ]
    }
   ],
   "source": [
    "print(df_landvalue.shape[0], \"rows\")"
   ]
  },
  {
   "cell_type": "code",
   "execution_count": 38,
   "id": "fc23dcb8",
   "metadata": {},
   "outputs": [],
   "source": [
    "del df_landvalue_original"
   ]
  },
  {
   "cell_type": "markdown",
   "id": "07653345",
   "metadata": {},
   "source": [
    "### 3.4 &emsp; Loading and optimizing the city data set"
   ]
  },
  {
   "cell_type": "code",
   "execution_count": 39,
   "id": "3c1ed8b1",
   "metadata": {},
   "outputs": [
    {
     "data": {
      "application/vnd.microsoft.datawrangler.viewer.v0+json": {
       "columns": [
        {
         "name": "index",
         "rawType": "int64",
         "type": "integer"
        },
        {
         "name": "city",
         "rawType": "object",
         "type": "string"
        },
        {
         "name": "state_id",
         "rawType": "object",
         "type": "string"
        },
        {
         "name": "county_name",
         "rawType": "object",
         "type": "string"
        },
        {
         "name": "lat",
         "rawType": "float64",
         "type": "float"
        },
        {
         "name": "lng",
         "rawType": "float64",
         "type": "float"
        },
        {
         "name": "population",
         "rawType": "int64",
         "type": "integer"
        },
        {
         "name": "density",
         "rawType": "float64",
         "type": "float"
        }
       ],
       "ref": "587b9762-effa-4772-a7d9-9ceb95ac080d",
       "rows": [
        [
         "0",
         "New York",
         "NY",
         "Queens",
         "40.6943",
         "-73.9249",
         "18832416",
         "10943.7"
        ],
        [
         "1",
         "Los Angeles",
         "CA",
         "Los Angeles",
         "34.1141",
         "-118.4068",
         "11885717",
         "3165.7"
        ],
        [
         "2",
         "Chicago",
         "IL",
         "Cook",
         "41.8375",
         "-87.6866",
         "8489066",
         "4590.3"
        ],
        [
         "3",
         "Miami",
         "FL",
         "Miami-Dade",
         "25.784",
         "-80.2101",
         "6113982",
         "4791.1"
        ],
        [
         "4",
         "Houston",
         "TX",
         "Harris",
         "29.786",
         "-95.3885",
         "6046392",
         "1386.2"
        ]
       ],
       "shape": {
        "columns": 7,
        "rows": 5
       }
      },
      "text/html": [
       "<div>\n",
       "<style scoped>\n",
       "    .dataframe tbody tr th:only-of-type {\n",
       "        vertical-align: middle;\n",
       "    }\n",
       "\n",
       "    .dataframe tbody tr th {\n",
       "        vertical-align: top;\n",
       "    }\n",
       "\n",
       "    .dataframe thead th {\n",
       "        text-align: right;\n",
       "    }\n",
       "</style>\n",
       "<table border=\"1\" class=\"dataframe\">\n",
       "  <thead>\n",
       "    <tr style=\"text-align: right;\">\n",
       "      <th></th>\n",
       "      <th>city</th>\n",
       "      <th>state_id</th>\n",
       "      <th>county_name</th>\n",
       "      <th>lat</th>\n",
       "      <th>lng</th>\n",
       "      <th>population</th>\n",
       "      <th>density</th>\n",
       "    </tr>\n",
       "  </thead>\n",
       "  <tbody>\n",
       "    <tr>\n",
       "      <th>0</th>\n",
       "      <td>New York</td>\n",
       "      <td>NY</td>\n",
       "      <td>Queens</td>\n",
       "      <td>40.6943</td>\n",
       "      <td>-73.9249</td>\n",
       "      <td>18832416</td>\n",
       "      <td>10943.7</td>\n",
       "    </tr>\n",
       "    <tr>\n",
       "      <th>1</th>\n",
       "      <td>Los Angeles</td>\n",
       "      <td>CA</td>\n",
       "      <td>Los Angeles</td>\n",
       "      <td>34.1141</td>\n",
       "      <td>-118.4068</td>\n",
       "      <td>11885717</td>\n",
       "      <td>3165.7</td>\n",
       "    </tr>\n",
       "    <tr>\n",
       "      <th>2</th>\n",
       "      <td>Chicago</td>\n",
       "      <td>IL</td>\n",
       "      <td>Cook</td>\n",
       "      <td>41.8375</td>\n",
       "      <td>-87.6866</td>\n",
       "      <td>8489066</td>\n",
       "      <td>4590.3</td>\n",
       "    </tr>\n",
       "    <tr>\n",
       "      <th>3</th>\n",
       "      <td>Miami</td>\n",
       "      <td>FL</td>\n",
       "      <td>Miami-Dade</td>\n",
       "      <td>25.7840</td>\n",
       "      <td>-80.2101</td>\n",
       "      <td>6113982</td>\n",
       "      <td>4791.1</td>\n",
       "    </tr>\n",
       "    <tr>\n",
       "      <th>4</th>\n",
       "      <td>Houston</td>\n",
       "      <td>TX</td>\n",
       "      <td>Harris</td>\n",
       "      <td>29.7860</td>\n",
       "      <td>-95.3885</td>\n",
       "      <td>6046392</td>\n",
       "      <td>1386.2</td>\n",
       "    </tr>\n",
       "  </tbody>\n",
       "</table>\n",
       "</div>"
      ],
      "text/plain": [
       "          city state_id  county_name      lat       lng  population  density\n",
       "0     New York       NY       Queens  40.6943  -73.9249    18832416  10943.7\n",
       "1  Los Angeles       CA  Los Angeles  34.1141 -118.4068    11885717   3165.7\n",
       "2      Chicago       IL         Cook  41.8375  -87.6866     8489066   4590.3\n",
       "3        Miami       FL   Miami-Dade  25.7840  -80.2101     6113982   4791.1\n",
       "4      Houston       TX       Harris  29.7860  -95.3885     6046392   1386.2"
      ]
     },
     "execution_count": 39,
     "metadata": {},
     "output_type": "execute_result"
    }
   ],
   "source": [
    "df_city = df_city_original.copy()\\\n",
    "    [['city','state_id','county_name','lat','lng','population','density']]\n",
    "\n",
    "df_city.head()"
   ]
  },
  {
   "cell_type": "code",
   "execution_count": 40,
   "id": "6e6b3ed6",
   "metadata": {},
   "outputs": [],
   "source": [
    "df_city['City-State'] \\\n",
    "    = df_city['city'].str.upper()        + ',' + df_city['state_id']\n",
    "df_city['County-State'] \\\n",
    "    = df_city['county_name'].str.upper() + ',' + df_city['state_id']\n",
    "\n",
    "del df_city['city']\n",
    "del df_city['county_name']\n",
    "del df_city['state_id']"
   ]
  },
  {
   "cell_type": "code",
   "execution_count": 41,
   "id": "537071ed",
   "metadata": {},
   "outputs": [
    {
     "data": {
      "application/vnd.microsoft.datawrangler.viewer.v0+json": {
       "columns": [
        {
         "name": "City-State",
         "rawType": "object",
         "type": "string"
        },
        {
         "name": "count",
         "rawType": "int64",
         "type": "integer"
        }
       ],
       "ref": "d1e9c8c3-2694-428b-b73c-291d9e0c92e8",
       "rows": [
        [
         "OAKWOOD,OH",
         "3"
        ],
        [
         "SAN ANTONIO,PR",
         "3"
        ],
        [
         "OAKLAND,PA",
         "3"
        ],
        [
         "GEORGETOWN,PA",
         "3"
        ],
        [
         "MIDWAY,FL",
         "3"
        ],
        [
         "UNIONVILLE,PA",
         "3"
        ],
        [
         "CHULA VISTA,TX",
         "3"
        ],
        [
         "VICKSBURG,PA",
         "2"
        ],
        [
         "ALTA SIERRA,CA",
         "2"
        ],
        [
         "FREDERICKSBURG,PA",
         "2"
        ],
        [
         "SALEM HEIGHTS,OH",
         "2"
        ],
        [
         "WOODBURY,NY",
         "2"
        ],
        [
         "GENEVA,IN",
         "2"
        ],
        [
         "LAKESIDE,CA",
         "2"
        ],
        [
         "JEFFERSON,PA",
         "2"
        ],
        [
         "FORESTVILLE,PA",
         "2"
        ],
        [
         "LOMA LINDA EAST,TX",
         "2"
        ],
        [
         "RINCÓN,PR",
         "2"
        ],
        [
         "LIBERTY,PA",
         "2"
        ],
        [
         "FAIRFAX,CA",
         "2"
        ],
        [
         "JAMESTOWN,PA",
         "2"
        ],
        [
         "LOCKWOOD,CA",
         "2"
        ],
        [
         "MIDDLEBURY,IN",
         "2"
        ],
        [
         "BUCKHEAD,GA",
         "2"
        ],
        [
         "SHILOH,OH",
         "2"
        ],
        [
         "PALMAREJO,PR",
         "2"
        ],
        [
         "RED HILL,PA",
         "2"
        ],
        [
         "MILFORD,IN",
         "2"
        ],
        [
         "OAK GROVE,AR",
         "2"
        ],
        [
         "TWIN LAKES,CA",
         "2"
        ],
        [
         "LONG HILL,CT",
         "2"
        ],
        [
         "LINCOLN HEIGHTS,OH",
         "2"
        ],
        [
         "HARRISBURG,OH",
         "2"
        ],
        [
         "ARROYO HONDO,NM",
         "2"
        ],
        [
         "BULL RUN,VA",
         "2"
        ],
        [
         "CLINTON,PA",
         "2"
        ],
        [
         "PALMER,TX",
         "2"
        ],
        [
         "MIDDLETOWN,PA",
         "2"
        ],
        [
         "CENTERVILLE,CA",
         "2"
        ],
        [
         "WESTWOOD,PA",
         "2"
        ],
        [
         "LA CUEVA,NM",
         "2"
        ],
        [
         "NEWTOWN,PA",
         "2"
        ],
        [
         "SILVER LAKE,NJ",
         "2"
        ],
        [
         "MARSHALLTON,PA",
         "2"
        ],
        [
         "INDUSTRY,PA",
         "2"
        ],
        [
         "LA MADERA,NM",
         "2"
        ],
        [
         "MARION,IN",
         "2"
        ],
        [
         "NEWBURG,PA",
         "2"
        ],
        [
         "PINE RIDGE,SC",
         "2"
        ],
        [
         "MIDLAND,PA",
         "2"
        ]
       ],
       "shape": {
        "columns": 1,
        "rows": 31183
       }
      },
      "text/plain": [
       "City-State\n",
       "OAKWOOD,OH           3\n",
       "SAN ANTONIO,PR       3\n",
       "OAKLAND,PA           3\n",
       "GEORGETOWN,PA        3\n",
       "MIDWAY,FL            3\n",
       "                    ..\n",
       "BOUTTE,LA            1\n",
       "BEDFORD HILLS,NY     1\n",
       "BOWLING GREEN,FL     1\n",
       "PIRU,CA              1\n",
       "FALCON VILLAGE,TX    1\n",
       "Name: count, Length: 31183, dtype: int64"
      ]
     },
     "execution_count": 41,
     "metadata": {},
     "output_type": "execute_result"
    }
   ],
   "source": [
    "df_city['City-State'].value_counts()"
   ]
  },
  {
   "cell_type": "code",
   "execution_count": 42,
   "id": "143f4b24",
   "metadata": {},
   "outputs": [
    {
     "data": {
      "application/vnd.microsoft.datawrangler.viewer.v0+json": {
       "columns": [
        {
         "name": "index",
         "rawType": "int64",
         "type": "integer"
        },
        {
         "name": "lat",
         "rawType": "float64",
         "type": "float"
        },
        {
         "name": "lng",
         "rawType": "float64",
         "type": "float"
        },
        {
         "name": "population",
         "rawType": "int64",
         "type": "integer"
        },
        {
         "name": "density",
         "rawType": "float64",
         "type": "float"
        },
        {
         "name": "City-State",
         "rawType": "object",
         "type": "string"
        },
        {
         "name": "County-State",
         "rawType": "object",
         "type": "string"
        }
       ],
       "ref": "679ce2c5-e958-4bfa-93ce-f1d71a0bd1d8",
       "rows": [
        [
         "4258",
         "39.7202",
         "-84.1734",
         "9480",
         "1667.9",
         "OAKWOOD,OH",
         "MONTGOMERY,OH"
        ],
        [
         "8100",
         "41.3669",
         "-81.5036",
         "3526",
         "394.7",
         "OAKWOOD,OH",
         "CUYAHOGA,OH"
        ],
        [
         "20508",
         "41.0927",
         "-84.3747",
         "443",
         "243.5",
         "OAKWOOD,OH",
         "PAULDING,OH"
        ]
       ],
       "shape": {
        "columns": 6,
        "rows": 3
       }
      },
      "text/html": [
       "<div>\n",
       "<style scoped>\n",
       "    .dataframe tbody tr th:only-of-type {\n",
       "        vertical-align: middle;\n",
       "    }\n",
       "\n",
       "    .dataframe tbody tr th {\n",
       "        vertical-align: top;\n",
       "    }\n",
       "\n",
       "    .dataframe thead th {\n",
       "        text-align: right;\n",
       "    }\n",
       "</style>\n",
       "<table border=\"1\" class=\"dataframe\">\n",
       "  <thead>\n",
       "    <tr style=\"text-align: right;\">\n",
       "      <th></th>\n",
       "      <th>lat</th>\n",
       "      <th>lng</th>\n",
       "      <th>population</th>\n",
       "      <th>density</th>\n",
       "      <th>City-State</th>\n",
       "      <th>County-State</th>\n",
       "    </tr>\n",
       "  </thead>\n",
       "  <tbody>\n",
       "    <tr>\n",
       "      <th>4258</th>\n",
       "      <td>39.7202</td>\n",
       "      <td>-84.1734</td>\n",
       "      <td>9480</td>\n",
       "      <td>1667.9</td>\n",
       "      <td>OAKWOOD,OH</td>\n",
       "      <td>MONTGOMERY,OH</td>\n",
       "    </tr>\n",
       "    <tr>\n",
       "      <th>8100</th>\n",
       "      <td>41.3669</td>\n",
       "      <td>-81.5036</td>\n",
       "      <td>3526</td>\n",
       "      <td>394.7</td>\n",
       "      <td>OAKWOOD,OH</td>\n",
       "      <td>CUYAHOGA,OH</td>\n",
       "    </tr>\n",
       "    <tr>\n",
       "      <th>20508</th>\n",
       "      <td>41.0927</td>\n",
       "      <td>-84.3747</td>\n",
       "      <td>443</td>\n",
       "      <td>243.5</td>\n",
       "      <td>OAKWOOD,OH</td>\n",
       "      <td>PAULDING,OH</td>\n",
       "    </tr>\n",
       "  </tbody>\n",
       "</table>\n",
       "</div>"
      ],
      "text/plain": [
       "           lat      lng  population  density  City-State   County-State\n",
       "4258   39.7202 -84.1734        9480   1667.9  OAKWOOD,OH  MONTGOMERY,OH\n",
       "8100   41.3669 -81.5036        3526    394.7  OAKWOOD,OH    CUYAHOGA,OH\n",
       "20508  41.0927 -84.3747         443    243.5  OAKWOOD,OH    PAULDING,OH"
      ]
     },
     "execution_count": 42,
     "metadata": {},
     "output_type": "execute_result"
    }
   ],
   "source": [
    "df_city.query('`City-State` == \"OAKWOOD,OH\"')"
   ]
  },
  {
   "cell_type": "code",
   "execution_count": 43,
   "id": "a0dc9842",
   "metadata": {},
   "outputs": [
    {
     "data": {
      "application/vnd.microsoft.datawrangler.viewer.v0+json": {
       "columns": [
        {
         "name": "index",
         "rawType": "int64",
         "type": "integer"
        },
        {
         "name": "lat",
         "rawType": "float64",
         "type": "float"
        },
        {
         "name": "lng",
         "rawType": "float64",
         "type": "float"
        },
        {
         "name": "population",
         "rawType": "int64",
         "type": "integer"
        },
        {
         "name": "density",
         "rawType": "float64",
         "type": "float"
        },
        {
         "name": "City-State",
         "rawType": "object",
         "type": "string"
        },
        {
         "name": "County-State",
         "rawType": "object",
         "type": "string"
        }
       ],
       "ref": "39c3a4c8-bfba-4660-b618-df4a8d9f84da",
       "rows": [
        [
         "4258",
         "39.7202",
         "-84.1734",
         "9480",
         "1667.9",
         "OAKWOOD,OH",
         "MONTGOMERY,OH"
        ]
       ],
       "shape": {
        "columns": 6,
        "rows": 1
       }
      },
      "text/html": [
       "<div>\n",
       "<style scoped>\n",
       "    .dataframe tbody tr th:only-of-type {\n",
       "        vertical-align: middle;\n",
       "    }\n",
       "\n",
       "    .dataframe tbody tr th {\n",
       "        vertical-align: top;\n",
       "    }\n",
       "\n",
       "    .dataframe thead th {\n",
       "        text-align: right;\n",
       "    }\n",
       "</style>\n",
       "<table border=\"1\" class=\"dataframe\">\n",
       "  <thead>\n",
       "    <tr style=\"text-align: right;\">\n",
       "      <th></th>\n",
       "      <th>lat</th>\n",
       "      <th>lng</th>\n",
       "      <th>population</th>\n",
       "      <th>density</th>\n",
       "      <th>City-State</th>\n",
       "      <th>County-State</th>\n",
       "    </tr>\n",
       "  </thead>\n",
       "  <tbody>\n",
       "    <tr>\n",
       "      <th>4258</th>\n",
       "      <td>39.7202</td>\n",
       "      <td>-84.1734</td>\n",
       "      <td>9480</td>\n",
       "      <td>1667.9</td>\n",
       "      <td>OAKWOOD,OH</td>\n",
       "      <td>MONTGOMERY,OH</td>\n",
       "    </tr>\n",
       "  </tbody>\n",
       "</table>\n",
       "</div>"
      ],
      "text/plain": [
       "          lat      lng  population  density  City-State   County-State\n",
       "4258  39.7202 -84.1734        9480   1667.9  OAKWOOD,OH  MONTGOMERY,OH"
      ]
     },
     "execution_count": 43,
     "metadata": {},
     "output_type": "execute_result"
    }
   ],
   "source": [
    "df_city = df_city\\\n",
    "    .sort_values('population', ascending=False)\\\n",
    "    .drop_duplicates('City-State')\n",
    "\n",
    "df_city.query('`City-State` == \"OAKWOOD,OH\"')"
   ]
  },
  {
   "cell_type": "code",
   "execution_count": 44,
   "id": "97f16417",
   "metadata": {},
   "outputs": [
    {
     "data": {
      "application/vnd.microsoft.datawrangler.viewer.v0+json": {
       "columns": [
        {
         "name": "City-State",
         "rawType": "object",
         "type": "string"
        },
        {
         "name": "count",
         "rawType": "int64",
         "type": "integer"
        }
       ],
       "ref": "9c4e2d15-3806-4449-b69c-91e6230aeeab",
       "rows": [
        [
         "NEW YORK,NY",
         "1"
        ],
        [
         "SKELLYTOWN,TX",
         "1"
        ],
        [
         "PETER,UT",
         "1"
        ],
        [
         "MAMMOTH,PA",
         "1"
        ],
        [
         "ELMORA,PA",
         "1"
        ],
        [
         "BROOMES ISLAND,MD",
         "1"
        ],
        [
         "PADEN,OK",
         "1"
        ],
        [
         "PRINCETON,CA",
         "1"
        ],
        [
         "COALPORT,PA",
         "1"
        ],
        [
         "CARMICHAELS,PA",
         "1"
        ],
        [
         "MORO,OR",
         "1"
        ],
        [
         "WEBB,MS",
         "1"
        ],
        [
         "MILTONVALE,KS",
         "1"
        ],
        [
         "MAUPIN,OR",
         "1"
        ],
        [
         "PETERSBURG,NE",
         "1"
        ],
        [
         "LIBERTY,IL",
         "1"
        ],
        [
         "HANOVERTON,OH",
         "1"
        ],
        [
         "GOOD THUNDER,MN",
         "1"
        ],
        [
         "ANGUS,TX",
         "1"
        ],
        [
         "TITONKA,IA",
         "1"
        ],
        [
         "SMITH CORNER,CA",
         "1"
        ],
        [
         "FALCON MESA,TX",
         "1"
        ],
        [
         "POTRERO,CA",
         "1"
        ],
        [
         "CARROLLTON,MS",
         "1"
        ],
        [
         "SEVILLE,CA",
         "1"
        ],
        [
         "OCEANSIDE,OR",
         "1"
        ],
        [
         "CANEY,OK",
         "1"
        ],
        [
         "WHITE LAKE,SD",
         "1"
        ],
        [
         "NEWARK,WV",
         "1"
        ],
        [
         "RIO OSO,CA",
         "1"
        ],
        [
         "BUTTERNUT,WI",
         "1"
        ],
        [
         "LARWILL,IN",
         "1"
        ],
        [
         "MITCHELL HEIGHTS,WV",
         "1"
        ],
        [
         "JOPPA,AL",
         "1"
        ],
        [
         "BADGER,MN",
         "1"
        ],
        [
         "DEERCROFT,NC",
         "1"
        ],
        [
         "MULBERRY,KS",
         "1"
        ],
        [
         "CHICKASAW,OH",
         "1"
        ],
        [
         "TEBBETTS,MO",
         "1"
        ],
        [
         "HEALY,KS",
         "1"
        ],
        [
         "FERNVILLE,PA",
         "1"
        ],
        [
         "LAKETOWN,UT",
         "1"
        ],
        [
         "NORTH ANSON,ME",
         "1"
        ],
        [
         "PUCKETT,MS",
         "1"
        ],
        [
         "RANCHOS PENITAS WEST,TX",
         "1"
        ],
        [
         "MAYLAND,TN",
         "1"
        ],
        [
         "BAXTERVILLE,MS",
         "1"
        ],
        [
         "BIG WELLS,TX",
         "1"
        ],
        [
         "BRIARWOOD,KY",
         "1"
        ],
        [
         "WINDSOR PLACE,MO",
         "1"
        ]
       ],
       "shape": {
        "columns": 1,
        "rows": 31183
       }
      },
      "text/plain": [
       "City-State\n",
       "NEW YORK,NY          1\n",
       "SKELLYTOWN,TX        1\n",
       "PETER,UT             1\n",
       "MAMMOTH,PA           1\n",
       "ELMORA,PA            1\n",
       "                    ..\n",
       "ESTILL,SC            1\n",
       "SAND HILL,PA         1\n",
       "MAUNAWILI,HI         1\n",
       "HANAPEPE,HI          1\n",
       "FALCON VILLAGE,TX    1\n",
       "Name: count, Length: 31183, dtype: int64"
      ]
     },
     "execution_count": 44,
     "metadata": {},
     "output_type": "execute_result"
    }
   ],
   "source": [
    "df_city['City-State'].value_counts()"
   ]
  },
  {
   "cell_type": "markdown",
   "id": "5186671d",
   "metadata": {},
   "source": [
    "Now you can use the `City-State` column for the index of the city DataFrame."
   ]
  },
  {
   "cell_type": "code",
   "execution_count": 45,
   "id": "1d5d96f0",
   "metadata": {},
   "outputs": [],
   "source": [
    "df_city.set_index(['City-State'], inplace=True)"
   ]
  },
  {
   "cell_type": "code",
   "execution_count": 46,
   "id": "540b81fc",
   "metadata": {},
   "outputs": [
    {
     "data": {
      "application/vnd.microsoft.datawrangler.viewer.v0+json": {
       "columns": [
        {
         "name": "City-State",
         "rawType": "object",
         "type": "string"
        },
        {
         "name": "lat",
         "rawType": "float64",
         "type": "float"
        },
        {
         "name": "lng",
         "rawType": "float64",
         "type": "float"
        },
        {
         "name": "population",
         "rawType": "int64",
         "type": "integer"
        },
        {
         "name": "density",
         "rawType": "float64",
         "type": "float"
        },
        {
         "name": "County-State",
         "rawType": "object",
         "type": "string"
        }
       ],
       "ref": "9992446a-81b5-4781-8f89-05338695b47f",
       "rows": [
        [
         "NEW YORK,NY",
         "40.6943",
         "-73.9249",
         "18832416",
         "10943.7",
         "QUEENS,NY"
        ],
        [
         "LOS ANGELES,CA",
         "34.1141",
         "-118.4068",
         "11885717",
         "3165.7",
         "LOS ANGELES,CA"
        ],
        [
         "CHICAGO,IL",
         "41.8375",
         "-87.6866",
         "8489066",
         "4590.3",
         "COOK,IL"
        ],
        [
         "MIAMI,FL",
         "25.784",
         "-80.2101",
         "6113982",
         "4791.1",
         "MIAMI-DADE,FL"
        ],
        [
         "HOUSTON,TX",
         "29.786",
         "-95.3885",
         "6046392",
         "1386.2",
         "HARRIS,TX"
        ]
       ],
       "shape": {
        "columns": 5,
        "rows": 5
       }
      },
      "text/html": [
       "<div>\n",
       "<style scoped>\n",
       "    .dataframe tbody tr th:only-of-type {\n",
       "        vertical-align: middle;\n",
       "    }\n",
       "\n",
       "    .dataframe tbody tr th {\n",
       "        vertical-align: top;\n",
       "    }\n",
       "\n",
       "    .dataframe thead th {\n",
       "        text-align: right;\n",
       "    }\n",
       "</style>\n",
       "<table border=\"1\" class=\"dataframe\">\n",
       "  <thead>\n",
       "    <tr style=\"text-align: right;\">\n",
       "      <th></th>\n",
       "      <th>lat</th>\n",
       "      <th>lng</th>\n",
       "      <th>population</th>\n",
       "      <th>density</th>\n",
       "      <th>County-State</th>\n",
       "    </tr>\n",
       "    <tr>\n",
       "      <th>City-State</th>\n",
       "      <th></th>\n",
       "      <th></th>\n",
       "      <th></th>\n",
       "      <th></th>\n",
       "      <th></th>\n",
       "    </tr>\n",
       "  </thead>\n",
       "  <tbody>\n",
       "    <tr>\n",
       "      <th>NEW YORK,NY</th>\n",
       "      <td>40.6943</td>\n",
       "      <td>-73.9249</td>\n",
       "      <td>18832416</td>\n",
       "      <td>10943.7</td>\n",
       "      <td>QUEENS,NY</td>\n",
       "    </tr>\n",
       "    <tr>\n",
       "      <th>LOS ANGELES,CA</th>\n",
       "      <td>34.1141</td>\n",
       "      <td>-118.4068</td>\n",
       "      <td>11885717</td>\n",
       "      <td>3165.7</td>\n",
       "      <td>LOS ANGELES,CA</td>\n",
       "    </tr>\n",
       "    <tr>\n",
       "      <th>CHICAGO,IL</th>\n",
       "      <td>41.8375</td>\n",
       "      <td>-87.6866</td>\n",
       "      <td>8489066</td>\n",
       "      <td>4590.3</td>\n",
       "      <td>COOK,IL</td>\n",
       "    </tr>\n",
       "    <tr>\n",
       "      <th>MIAMI,FL</th>\n",
       "      <td>25.7840</td>\n",
       "      <td>-80.2101</td>\n",
       "      <td>6113982</td>\n",
       "      <td>4791.1</td>\n",
       "      <td>MIAMI-DADE,FL</td>\n",
       "    </tr>\n",
       "    <tr>\n",
       "      <th>HOUSTON,TX</th>\n",
       "      <td>29.7860</td>\n",
       "      <td>-95.3885</td>\n",
       "      <td>6046392</td>\n",
       "      <td>1386.2</td>\n",
       "      <td>HARRIS,TX</td>\n",
       "    </tr>\n",
       "  </tbody>\n",
       "</table>\n",
       "</div>"
      ],
      "text/plain": [
       "                    lat       lng  population  density    County-State\n",
       "City-State                                                            \n",
       "NEW YORK,NY     40.6943  -73.9249    18832416  10943.7       QUEENS,NY\n",
       "LOS ANGELES,CA  34.1141 -118.4068    11885717   3165.7  LOS ANGELES,CA\n",
       "CHICAGO,IL      41.8375  -87.6866     8489066   4590.3         COOK,IL\n",
       "MIAMI,FL        25.7840  -80.2101     6113982   4791.1   MIAMI-DADE,FL\n",
       "HOUSTON,TX      29.7860  -95.3885     6046392   1386.2       HARRIS,TX"
      ]
     },
     "execution_count": 46,
     "metadata": {},
     "output_type": "execute_result"
    }
   ],
   "source": [
    "df_city.head()"
   ]
  },
  {
   "cell_type": "markdown",
   "id": "51b57578",
   "metadata": {},
   "source": [
    "## 4 &emsp; Combining Four DataFrames into One"
   ]
  },
  {
   "cell_type": "code",
   "execution_count": 47,
   "id": "de2df7f6",
   "metadata": {},
   "outputs": [
    {
     "data": {
      "application/vnd.microsoft.datawrangler.viewer.v0+json": {
       "columns": [
        {
         "name": "City-State",
         "rawType": "object",
         "type": "string"
        },
        {
         "name": "Land Value",
         "rawType": "float64",
         "type": "float"
        },
        {
         "name": "Current_log",
         "rawType": "float64",
         "type": "float"
        },
        {
         "name": "JAN",
         "rawType": "int64",
         "type": "integer"
        },
        {
         "name": "FEB",
         "rawType": "int64",
         "type": "integer"
        },
        {
         "name": "MAR",
         "rawType": "int64",
         "type": "integer"
        },
        {
         "name": "APR",
         "rawType": "int64",
         "type": "integer"
        },
        {
         "name": "MAY",
         "rawType": "int64",
         "type": "integer"
        },
        {
         "name": "JUN",
         "rawType": "int64",
         "type": "integer"
        },
        {
         "name": "JUL",
         "rawType": "int64",
         "type": "integer"
        },
        {
         "name": "AUG",
         "rawType": "int64",
         "type": "integer"
        },
        {
         "name": "SEP",
         "rawType": "int64",
         "type": "integer"
        },
        {
         "name": "OCT",
         "rawType": "int64",
         "type": "integer"
        },
        {
         "name": "NOV",
         "rawType": "int64",
         "type": "integer"
        },
        {
         "name": "DEC",
         "rawType": "int64",
         "type": "integer"
        },
        {
         "name": "lat",
         "rawType": "float64",
         "type": "float"
        },
        {
         "name": "lng",
         "rawType": "float64",
         "type": "float"
        },
        {
         "name": "population",
         "rawType": "int64",
         "type": "integer"
        },
        {
         "name": "density",
         "rawType": "float64",
         "type": "float"
        }
       ],
       "ref": "9cac206f-5a7f-418d-b245-65fe6571b41d",
       "rows": [
        [
         "BOISE,ID",
         "474416.3392191775",
         "4.9459189793765646",
         "32",
         "49",
         "66",
         "68",
         "74",
         "76",
         "85",
         "82",
         "80",
         "69",
         "41",
         "34",
         "43.6005",
         "-116.2308",
         "449428",
         "1068.7"
        ],
        [
         "ALBANY,NY",
         "314400.6635350013",
         "4.729156165769083",
         "46",
         "52",
         "51",
         "55",
         "53",
         "55",
         "62",
         "58",
         "54",
         "46",
         "33",
         "36",
         "42.6664",
         "-73.7987",
         "602242",
         "1805.4"
        ],
        [
         "PITTSBURGH,PA",
         "237749.8930397874",
         "1.8870696490323797",
         "28",
         "37",
         "42",
         "46",
         "48",
         "52",
         "54",
         "51",
         "52",
         "46",
         "31",
         "23",
         "40.4397",
         "-79.9763",
         "1712828",
         "2117.1"
        ],
        [
         "FORT WAYNE,IN",
         "227793.6152400521",
         null,
         "50",
         "55",
         "57",
         "63",
         "69",
         "74",
         "76",
         "75",
         "67",
         "60",
         "40",
         "36",
         "41.0888",
         "-85.1436",
         "345279",
         "919.8"
        ],
        [
         "ALPENA,MI",
         "191528.9777683832",
         null,
         "36",
         "43",
         "51",
         "55",
         "59",
         "62",
         "66",
         "60",
         "52",
         "41",
         "28",
         "25",
         "45.074",
         "-83.4402",
         "10178",
         "480.9"
        ]
       ],
       "shape": {
        "columns": 18,
        "rows": 5
       }
      },
      "text/html": [
       "<div>\n",
       "<style scoped>\n",
       "    .dataframe tbody tr th:only-of-type {\n",
       "        vertical-align: middle;\n",
       "    }\n",
       "\n",
       "    .dataframe tbody tr th {\n",
       "        vertical-align: top;\n",
       "    }\n",
       "\n",
       "    .dataframe thead th {\n",
       "        text-align: right;\n",
       "    }\n",
       "</style>\n",
       "<table border=\"1\" class=\"dataframe\">\n",
       "  <thead>\n",
       "    <tr style=\"text-align: right;\">\n",
       "      <th></th>\n",
       "      <th>Land Value</th>\n",
       "      <th>Current_log</th>\n",
       "      <th>JAN</th>\n",
       "      <th>FEB</th>\n",
       "      <th>MAR</th>\n",
       "      <th>APR</th>\n",
       "      <th>MAY</th>\n",
       "      <th>JUN</th>\n",
       "      <th>JUL</th>\n",
       "      <th>AUG</th>\n",
       "      <th>SEP</th>\n",
       "      <th>OCT</th>\n",
       "      <th>NOV</th>\n",
       "      <th>DEC</th>\n",
       "      <th>lat</th>\n",
       "      <th>lng</th>\n",
       "      <th>population</th>\n",
       "      <th>density</th>\n",
       "    </tr>\n",
       "    <tr>\n",
       "      <th>City-State</th>\n",
       "      <th></th>\n",
       "      <th></th>\n",
       "      <th></th>\n",
       "      <th></th>\n",
       "      <th></th>\n",
       "      <th></th>\n",
       "      <th></th>\n",
       "      <th></th>\n",
       "      <th></th>\n",
       "      <th></th>\n",
       "      <th></th>\n",
       "      <th></th>\n",
       "      <th></th>\n",
       "      <th></th>\n",
       "      <th></th>\n",
       "      <th></th>\n",
       "      <th></th>\n",
       "      <th></th>\n",
       "    </tr>\n",
       "  </thead>\n",
       "  <tbody>\n",
       "    <tr>\n",
       "      <th>BOISE,ID</th>\n",
       "      <td>474416.339219</td>\n",
       "      <td>4.945919</td>\n",
       "      <td>32</td>\n",
       "      <td>49</td>\n",
       "      <td>66</td>\n",
       "      <td>68</td>\n",
       "      <td>74</td>\n",
       "      <td>76</td>\n",
       "      <td>85</td>\n",
       "      <td>82</td>\n",
       "      <td>80</td>\n",
       "      <td>69</td>\n",
       "      <td>41</td>\n",
       "      <td>34</td>\n",
       "      <td>43.6005</td>\n",
       "      <td>-116.2308</td>\n",
       "      <td>449428</td>\n",
       "      <td>1068.7</td>\n",
       "    </tr>\n",
       "    <tr>\n",
       "      <th>ALBANY,NY</th>\n",
       "      <td>314400.663535</td>\n",
       "      <td>4.729156</td>\n",
       "      <td>46</td>\n",
       "      <td>52</td>\n",
       "      <td>51</td>\n",
       "      <td>55</td>\n",
       "      <td>53</td>\n",
       "      <td>55</td>\n",
       "      <td>62</td>\n",
       "      <td>58</td>\n",
       "      <td>54</td>\n",
       "      <td>46</td>\n",
       "      <td>33</td>\n",
       "      <td>36</td>\n",
       "      <td>42.6664</td>\n",
       "      <td>-73.7987</td>\n",
       "      <td>602242</td>\n",
       "      <td>1805.4</td>\n",
       "    </tr>\n",
       "    <tr>\n",
       "      <th>PITTSBURGH,PA</th>\n",
       "      <td>237749.893040</td>\n",
       "      <td>1.887070</td>\n",
       "      <td>28</td>\n",
       "      <td>37</td>\n",
       "      <td>42</td>\n",
       "      <td>46</td>\n",
       "      <td>48</td>\n",
       "      <td>52</td>\n",
       "      <td>54</td>\n",
       "      <td>51</td>\n",
       "      <td>52</td>\n",
       "      <td>46</td>\n",
       "      <td>31</td>\n",
       "      <td>23</td>\n",
       "      <td>40.4397</td>\n",
       "      <td>-79.9763</td>\n",
       "      <td>1712828</td>\n",
       "      <td>2117.1</td>\n",
       "    </tr>\n",
       "    <tr>\n",
       "      <th>FORT WAYNE,IN</th>\n",
       "      <td>227793.615240</td>\n",
       "      <td>NaN</td>\n",
       "      <td>50</td>\n",
       "      <td>55</td>\n",
       "      <td>57</td>\n",
       "      <td>63</td>\n",
       "      <td>69</td>\n",
       "      <td>74</td>\n",
       "      <td>76</td>\n",
       "      <td>75</td>\n",
       "      <td>67</td>\n",
       "      <td>60</td>\n",
       "      <td>40</td>\n",
       "      <td>36</td>\n",
       "      <td>41.0888</td>\n",
       "      <td>-85.1436</td>\n",
       "      <td>345279</td>\n",
       "      <td>919.8</td>\n",
       "    </tr>\n",
       "    <tr>\n",
       "      <th>ALPENA,MI</th>\n",
       "      <td>191528.977768</td>\n",
       "      <td>NaN</td>\n",
       "      <td>36</td>\n",
       "      <td>43</td>\n",
       "      <td>51</td>\n",
       "      <td>55</td>\n",
       "      <td>59</td>\n",
       "      <td>62</td>\n",
       "      <td>66</td>\n",
       "      <td>60</td>\n",
       "      <td>52</td>\n",
       "      <td>41</td>\n",
       "      <td>28</td>\n",
       "      <td>25</td>\n",
       "      <td>45.0740</td>\n",
       "      <td>-83.4402</td>\n",
       "      <td>10178</td>\n",
       "      <td>480.9</td>\n",
       "    </tr>\n",
       "  </tbody>\n",
       "</table>\n",
       "</div>"
      ],
      "text/plain": [
       "                  Land Value  Current_log  JAN  FEB  MAR  APR  MAY  JUN  JUL  \\\n",
       "City-State                                                                     \n",
       "BOISE,ID       474416.339219     4.945919   32   49   66   68   74   76   85   \n",
       "ALBANY,NY      314400.663535     4.729156   46   52   51   55   53   55   62   \n",
       "PITTSBURGH,PA  237749.893040     1.887070   28   37   42   46   48   52   54   \n",
       "FORT WAYNE,IN  227793.615240          NaN   50   55   57   63   69   74   76   \n",
       "ALPENA,MI      191528.977768          NaN   36   43   51   55   59   62   66   \n",
       "\n",
       "               AUG  SEP  OCT  NOV  DEC      lat       lng  population  density  \n",
       "City-State                                                                      \n",
       "BOISE,ID        82   80   69   41   34  43.6005 -116.2308      449428   1068.7  \n",
       "ALBANY,NY       58   54   46   33   36  42.6664  -73.7987      602242   1805.4  \n",
       "PITTSBURGH,PA   51   52   46   31   23  40.4397  -79.9763     1712828   2117.1  \n",
       "FORT WAYNE,IN   75   67   60   40   36  41.0888  -85.1436      345279    919.8  \n",
       "ALPENA,MI       60   52   41   28   25  45.0740  -83.4402       10178    480.9  "
      ]
     },
     "execution_count": 47,
     "metadata": {},
     "output_type": "execute_result"
    }
   ],
   "source": [
    "df_solar = df_landvalue.copy()\n",
    "\n",
    "df_solar = pd.merge(df_solar, df_photovoltaic, on='County-State', how='outer')\n",
    "df_solar.drop(['County-State'], axis=1, inplace=True)\n",
    "\n",
    "df_solar = pd.merge(df_solar, df_sunshine,     on='City-State',   how='inner')\n",
    "\n",
    "df_solar = pd.merge(df_solar, df_city,         on='City-State',   how='inner')\n",
    "df_solar.drop(['County-State'], axis=1, inplace=True)\n",
    "\n",
    "df_solar.set_index('City-State', inplace=True)\n",
    "\n",
    "df_solar.head()"
   ]
  },
  {
   "cell_type": "code",
   "execution_count": 48,
   "id": "61b37c8a",
   "metadata": {},
   "outputs": [
    {
     "name": "stdout",
     "output_type": "stream",
     "text": [
      "df_solar.shape ... (133, 18)\n"
     ]
    }
   ],
   "source": [
    "print(\"df_solar.shape ...\", df_solar.shape)"
   ]
  },
  {
   "cell_type": "code",
   "execution_count": 49,
   "id": "f6f74926",
   "metadata": {},
   "outputs": [
    {
     "name": "stdout",
     "output_type": "stream",
     "text": [
      "df_solar         ... 133\n",
      "Current_log is not null ... 84\n",
      "Current_log is     null ... 49\n"
     ]
    }
   ],
   "source": [
    "print(\"df_solar         ...\", df_solar.shape[0])\n",
    "print(\"Current_log is not null ...\", df_solar.query('Current_log.notnull()').shape[0])\n",
    "print(\"Current_log is     null ...\", df_solar.query('Current_log.isnull()' ).shape[0])"
   ]
  },
  {
   "cell_type": "code",
   "execution_count": 50,
   "id": "16ae1e5e",
   "metadata": {},
   "outputs": [
    {
     "name": "stdout",
     "output_type": "stream",
     "text": [
      "<class 'pandas.core.frame.DataFrame'>\n",
      "Index: 133 entries, BOISE,ID to BILLINGS,MT\n",
      "Data columns (total 18 columns):\n",
      " #   Column       Non-Null Count  Dtype  \n",
      "---  ------       --------------  -----  \n",
      " 0   Land Value   133 non-null    float64\n",
      " 1   Current_log  84 non-null     float64\n",
      " 2   JAN          133 non-null    int64  \n",
      " 3   FEB          133 non-null    int64  \n",
      " 4   MAR          133 non-null    int64  \n",
      " 5   APR          133 non-null    int64  \n",
      " 6   MAY          133 non-null    int64  \n",
      " 7   JUN          133 non-null    int64  \n",
      " 8   JUL          133 non-null    int64  \n",
      " 9   AUG          133 non-null    int64  \n",
      " 10  SEP          133 non-null    int64  \n",
      " 11  OCT          133 non-null    int64  \n",
      " 12  NOV          133 non-null    int64  \n",
      " 13  DEC          133 non-null    int64  \n",
      " 14  lat          133 non-null    float64\n",
      " 15  lng          133 non-null    float64\n",
      " 16  population   133 non-null    int64  \n",
      " 17  density      133 non-null    float64\n",
      "dtypes: float64(5), int64(13)\n",
      "memory usage: 23.8+ KB\n"
     ]
    }
   ],
   "source": [
    "df_solar.info()"
   ]
  },
  {
   "cell_type": "markdown",
   "id": "81933965",
   "metadata": {},
   "source": [
    "## 5 &emsp; Splitting the DataFrame for Training and Testing"
   ]
  },
  {
   "cell_type": "code",
   "execution_count": 51,
   "id": "f7630d7b",
   "metadata": {},
   "outputs": [],
   "source": [
    "X_train, X_test, y_train, y_test = train_test_split(\n",
    "    df_solar.query('Current_log.notnull()').drop(['Current_log'], axis=1),\n",
    "    df_solar.query('Current_log.notnull()')['Current_log'],\n",
    "    random_state=42\n",
    "    )\n",
    "\n",
    "X_predict \\\n",
    "    = df_solar.query('Current_log.isnull()' ).drop(['Current_log'], axis=1)"
   ]
  },
  {
   "cell_type": "code",
   "execution_count": 52,
   "id": "1e82cbb4",
   "metadata": {},
   "outputs": [
    {
     "data": {
      "application/vnd.microsoft.datawrangler.viewer.v0+json": {
       "columns": [
        {
         "name": "City-State",
         "rawType": "object",
         "type": "string"
        },
        {
         "name": "Land Value",
         "rawType": "float64",
         "type": "float"
        },
        {
         "name": "JAN",
         "rawType": "int64",
         "type": "integer"
        },
        {
         "name": "FEB",
         "rawType": "int64",
         "type": "integer"
        },
        {
         "name": "MAR",
         "rawType": "int64",
         "type": "integer"
        },
        {
         "name": "APR",
         "rawType": "int64",
         "type": "integer"
        },
        {
         "name": "MAY",
         "rawType": "int64",
         "type": "integer"
        },
        {
         "name": "JUN",
         "rawType": "int64",
         "type": "integer"
        },
        {
         "name": "JUL",
         "rawType": "int64",
         "type": "integer"
        },
        {
         "name": "AUG",
         "rawType": "int64",
         "type": "integer"
        },
        {
         "name": "SEP",
         "rawType": "int64",
         "type": "integer"
        },
        {
         "name": "OCT",
         "rawType": "int64",
         "type": "integer"
        },
        {
         "name": "NOV",
         "rawType": "int64",
         "type": "integer"
        },
        {
         "name": "DEC",
         "rawType": "int64",
         "type": "integer"
        },
        {
         "name": "lat",
         "rawType": "float64",
         "type": "float"
        },
        {
         "name": "lng",
         "rawType": "float64",
         "type": "float"
        },
        {
         "name": "population",
         "rawType": "int64",
         "type": "integer"
        },
        {
         "name": "density",
         "rawType": "float64",
         "type": "float"
        }
       ],
       "ref": "20c51972-c69f-4101-8099-84334ff77a62",
       "rows": [
        [
         "FORT WAYNE,IN",
         "227793.6152400521",
         "50",
         "55",
         "57",
         "63",
         "69",
         "74",
         "76",
         "75",
         "67",
         "60",
         "40",
         "36",
         "41.0888",
         "-85.1436",
         "345279",
         "919.8"
        ],
        [
         "ALPENA,MI",
         "191528.9777683832",
         "36",
         "43",
         "51",
         "55",
         "59",
         "62",
         "66",
         "60",
         "52",
         "41",
         "28",
         "25",
         "45.074",
         "-83.4402",
         "10178",
         "480.9"
        ],
        [
         "ANCHORAGE,AK",
         "392428.04068303434",
         "43",
         "46",
         "51",
         "50",
         "51",
         "46",
         "43",
         "43",
         "41",
         "36",
         "35",
         "33",
         "61.1508",
         "-149.1091",
         "289069",
         "65.4"
        ],
        [
         "BALTIMORE,MD",
         "206499.969439792",
         "50",
         "58",
         "55",
         "57",
         "55",
         "60",
         "63",
         "61",
         "57",
         "56",
         "50",
         "47",
         "39.3051",
         "-76.6144",
         "2189589",
         "2753.1"
        ],
        [
         "POCATELLO,ID",
         "317148.2413309358",
         "38",
         "55",
         "63",
         "64",
         "68",
         "74",
         "82",
         "80",
         "78",
         "68",
         "43",
         "36",
         "42.8724",
         "-112.4647",
         "76370",
         "649.5"
        ]
       ],
       "shape": {
        "columns": 17,
        "rows": 5
       }
      },
      "text/html": [
       "<div>\n",
       "<style scoped>\n",
       "    .dataframe tbody tr th:only-of-type {\n",
       "        vertical-align: middle;\n",
       "    }\n",
       "\n",
       "    .dataframe tbody tr th {\n",
       "        vertical-align: top;\n",
       "    }\n",
       "\n",
       "    .dataframe thead th {\n",
       "        text-align: right;\n",
       "    }\n",
       "</style>\n",
       "<table border=\"1\" class=\"dataframe\">\n",
       "  <thead>\n",
       "    <tr style=\"text-align: right;\">\n",
       "      <th></th>\n",
       "      <th>Land Value</th>\n",
       "      <th>JAN</th>\n",
       "      <th>FEB</th>\n",
       "      <th>MAR</th>\n",
       "      <th>APR</th>\n",
       "      <th>MAY</th>\n",
       "      <th>JUN</th>\n",
       "      <th>JUL</th>\n",
       "      <th>AUG</th>\n",
       "      <th>SEP</th>\n",
       "      <th>OCT</th>\n",
       "      <th>NOV</th>\n",
       "      <th>DEC</th>\n",
       "      <th>lat</th>\n",
       "      <th>lng</th>\n",
       "      <th>population</th>\n",
       "      <th>density</th>\n",
       "    </tr>\n",
       "    <tr>\n",
       "      <th>City-State</th>\n",
       "      <th></th>\n",
       "      <th></th>\n",
       "      <th></th>\n",
       "      <th></th>\n",
       "      <th></th>\n",
       "      <th></th>\n",
       "      <th></th>\n",
       "      <th></th>\n",
       "      <th></th>\n",
       "      <th></th>\n",
       "      <th></th>\n",
       "      <th></th>\n",
       "      <th></th>\n",
       "      <th></th>\n",
       "      <th></th>\n",
       "      <th></th>\n",
       "      <th></th>\n",
       "    </tr>\n",
       "  </thead>\n",
       "  <tbody>\n",
       "    <tr>\n",
       "      <th>FORT WAYNE,IN</th>\n",
       "      <td>227793.615240</td>\n",
       "      <td>50</td>\n",
       "      <td>55</td>\n",
       "      <td>57</td>\n",
       "      <td>63</td>\n",
       "      <td>69</td>\n",
       "      <td>74</td>\n",
       "      <td>76</td>\n",
       "      <td>75</td>\n",
       "      <td>67</td>\n",
       "      <td>60</td>\n",
       "      <td>40</td>\n",
       "      <td>36</td>\n",
       "      <td>41.0888</td>\n",
       "      <td>-85.1436</td>\n",
       "      <td>345279</td>\n",
       "      <td>919.8</td>\n",
       "    </tr>\n",
       "    <tr>\n",
       "      <th>ALPENA,MI</th>\n",
       "      <td>191528.977768</td>\n",
       "      <td>36</td>\n",
       "      <td>43</td>\n",
       "      <td>51</td>\n",
       "      <td>55</td>\n",
       "      <td>59</td>\n",
       "      <td>62</td>\n",
       "      <td>66</td>\n",
       "      <td>60</td>\n",
       "      <td>52</td>\n",
       "      <td>41</td>\n",
       "      <td>28</td>\n",
       "      <td>25</td>\n",
       "      <td>45.0740</td>\n",
       "      <td>-83.4402</td>\n",
       "      <td>10178</td>\n",
       "      <td>480.9</td>\n",
       "    </tr>\n",
       "    <tr>\n",
       "      <th>ANCHORAGE,AK</th>\n",
       "      <td>392428.040683</td>\n",
       "      <td>43</td>\n",
       "      <td>46</td>\n",
       "      <td>51</td>\n",
       "      <td>50</td>\n",
       "      <td>51</td>\n",
       "      <td>46</td>\n",
       "      <td>43</td>\n",
       "      <td>43</td>\n",
       "      <td>41</td>\n",
       "      <td>36</td>\n",
       "      <td>35</td>\n",
       "      <td>33</td>\n",
       "      <td>61.1508</td>\n",
       "      <td>-149.1091</td>\n",
       "      <td>289069</td>\n",
       "      <td>65.4</td>\n",
       "    </tr>\n",
       "    <tr>\n",
       "      <th>BALTIMORE,MD</th>\n",
       "      <td>206499.969440</td>\n",
       "      <td>50</td>\n",
       "      <td>58</td>\n",
       "      <td>55</td>\n",
       "      <td>57</td>\n",
       "      <td>55</td>\n",
       "      <td>60</td>\n",
       "      <td>63</td>\n",
       "      <td>61</td>\n",
       "      <td>57</td>\n",
       "      <td>56</td>\n",
       "      <td>50</td>\n",
       "      <td>47</td>\n",
       "      <td>39.3051</td>\n",
       "      <td>-76.6144</td>\n",
       "      <td>2189589</td>\n",
       "      <td>2753.1</td>\n",
       "    </tr>\n",
       "    <tr>\n",
       "      <th>POCATELLO,ID</th>\n",
       "      <td>317148.241331</td>\n",
       "      <td>38</td>\n",
       "      <td>55</td>\n",
       "      <td>63</td>\n",
       "      <td>64</td>\n",
       "      <td>68</td>\n",
       "      <td>74</td>\n",
       "      <td>82</td>\n",
       "      <td>80</td>\n",
       "      <td>78</td>\n",
       "      <td>68</td>\n",
       "      <td>43</td>\n",
       "      <td>36</td>\n",
       "      <td>42.8724</td>\n",
       "      <td>-112.4647</td>\n",
       "      <td>76370</td>\n",
       "      <td>649.5</td>\n",
       "    </tr>\n",
       "  </tbody>\n",
       "</table>\n",
       "</div>"
      ],
      "text/plain": [
       "                  Land Value  JAN  FEB  MAR  APR  MAY  JUN  JUL  AUG  SEP  \\\n",
       "City-State                                                                  \n",
       "FORT WAYNE,IN  227793.615240   50   55   57   63   69   74   76   75   67   \n",
       "ALPENA,MI      191528.977768   36   43   51   55   59   62   66   60   52   \n",
       "ANCHORAGE,AK   392428.040683   43   46   51   50   51   46   43   43   41   \n",
       "BALTIMORE,MD   206499.969440   50   58   55   57   55   60   63   61   57   \n",
       "POCATELLO,ID   317148.241331   38   55   63   64   68   74   82   80   78   \n",
       "\n",
       "               OCT  NOV  DEC      lat       lng  population  density  \n",
       "City-State                                                            \n",
       "FORT WAYNE,IN   60   40   36  41.0888  -85.1436      345279    919.8  \n",
       "ALPENA,MI       41   28   25  45.0740  -83.4402       10178    480.9  \n",
       "ANCHORAGE,AK    36   35   33  61.1508 -149.1091      289069     65.4  \n",
       "BALTIMORE,MD    56   50   47  39.3051  -76.6144     2189589   2753.1  \n",
       "POCATELLO,ID    68   43   36  42.8724 -112.4647       76370    649.5  "
      ]
     },
     "execution_count": 52,
     "metadata": {},
     "output_type": "execute_result"
    }
   ],
   "source": [
    "X_predict.head()"
   ]
  },
  {
   "cell_type": "markdown",
   "id": "c07a53f7",
   "metadata": {},
   "source": [
    "## 6 &emsp; Predicting Current by Using Logistic Regression "
   ]
  },
  {
   "cell_type": "markdown",
   "id": "eb96c1c2",
   "metadata": {},
   "source": [
    "## Try-it 20_1"
   ]
  },
  {
   "cell_type": "code",
   "execution_count": 53,
   "id": "c1eb7622",
   "metadata": {},
   "outputs": [],
   "source": [
    "reg_linear = LinearRegression()\n",
    "reg_knn    = KNeighborsRegressor()\n",
    "reg_tree   = DecisionTreeRegressor(random_state=42)\n",
    "reg_ridge  = Ridge()\n",
    "\n",
    "# Create pipelines for each regressor\n",
    "pipelines = {\n",
    "    'LinearRegression()':      Pipeline([\n",
    "        ('scaler',    StandardScaler()),\n",
    "        ('regressor', reg_linear)\n",
    "        ]),\n",
    "    'KNeighborsRegressor()':   Pipeline([\n",
    "        ('scaler',    StandardScaler()),\n",
    "        ('regressor', reg_knn)\n",
    "        ]),\n",
    "    'DecisionTreeRegressor()': Pipeline([\n",
    "        ('regressor', reg_tree)\n",
    "        ]),\n",
    "    'Ridge()':                 Pipeline([\n",
    "        ('scaler',    StandardScaler()),\n",
    "        ('regressor', reg_ridge)\n",
    "        ]),\n",
    "    'SVR()':                   Pipeline([\n",
    "        ('scaler',    StandardScaler()),\n",
    "        ('regressor', SVR())\n",
    "        ])\n",
    "}\n",
    "\n",
    "# Define the Voting Regressor\n",
    "voting_reg = VotingRegressor(estimators=[\n",
    "    ('LinearRegression()',      pipelines['LinearRegression()']),\n",
    "    ('KNeighborsRegressor()',   pipelines['KNeighborsRegressor()']),\n",
    "    ('DecisionTreeRegressor()', pipelines['DecisionTreeRegressor()']),\n",
    "    ('Ridge()',                 pipelines['Ridge()']),\n",
    "    ('SVR()',                   pipelines['SVR()'])\n",
    "])"
   ]
  },
  {
   "cell_type": "code",
   "execution_count": 54,
   "id": "58a9a674",
   "metadata": {},
   "outputs": [],
   "source": [
    "def evaluate_model(model, X_test, y_test, caps = False):\n",
    "    y_pred = model.predict(X_test)\n",
    "    \n",
    "    if caps:\n",
    "        y_min = 1.0  # Don't allow negative current\n",
    "        y_pred[y_pred < y_min] = y_min\n",
    "\n",
    "        y_max = df_solar['Current_log'].max()\n",
    "        y_pred[y_pred > y_max] = y_max\n",
    "\n",
    "    mse = mean_squared_error(y_test, y_pred)\n",
    "    return mse"
   ]
  },
  {
   "cell_type": "markdown",
   "id": "2e5b330c",
   "metadata": {},
   "source": [
    "Cross-Validation (CV) Grid Search"
   ]
  },
  {
   "cell_type": "code",
   "execution_count": 55,
   "id": "6645955b",
   "metadata": {},
   "outputs": [
    {
     "name": "stdout",
     "output_type": "stream",
     "text": [
      "Results After Grid Search:\n",
      "MSE:  LinearRegression() ... 4.1537\n",
      "MSE:  KNeighborsRegressor() ... 3.0855\n",
      "MSE:  DecisionTreeRegressor() ... 4.432\n",
      "MSE:  Ridge() ... 3.991\n",
      "MSE:  SVR() ... 3.6409\n",
      "MSE:  VotingRegressor() ... 3.2892\n"
     ]
    }
   ],
   "source": [
    "# Define parameter grids for Grid Search\n",
    "param_grids = {\n",
    "    'LinearRegression()':      {},\n",
    "    'KNeighborsRegressor()':   {'regressor__n_neighbors': [3, 5, 7]},\n",
    "    'DecisionTreeRegressor()': {'regressor__max_depth':   [3, 5, 7]},\n",
    "    'Ridge()':                 {'regressor__alpha':       [0.1, 1.0, 10.0]},\n",
    "    'SVR()':                   {\n",
    "                                'regressor__C':           [0.1, 1.0, 10.0],\n",
    "                                'regressor__gamma':       ['scale', 'auto']\n",
    "                               }\n",
    "}\n",
    "\n",
    "# Perform Grid Search and evaluate models\n",
    "results_after_gs = {}\n",
    "best_pipelines   = {}\n",
    "\n",
    "for name, pipeline in pipelines.items():\n",
    "    grid_search = GridSearchCV(\n",
    "        pipeline, param_grids[name], cv=2, scoring='neg_mean_squared_error'\n",
    "        )\n",
    "    grid_search.fit(X_train, y_train)\n",
    "    best_pipeline = grid_search.best_estimator_\n",
    "    best_pipelines[name] = best_pipeline\n",
    "    mse = evaluate_model(best_pipeline, X_test, y_test)\n",
    "    results_after_gs[name] = mse\n",
    "\n",
    "# Define the optimized Voting Regressor\n",
    "optimized_voting_reg = VotingRegressor(estimators=[\n",
    "    ('LinearRegression()',      best_pipelines['LinearRegression()']),\n",
    "    ('KNeighborsRegressor()',   best_pipelines['KNeighborsRegressor()']),\n",
    "    ('DecisionTreeRegressor()', best_pipelines['DecisionTreeRegressor()']),\n",
    "    ('Ridge()',                 best_pipelines['Ridge()']),\n",
    "    ('SVR()',                   best_pipelines['SVR()'])\n",
    "])\n",
    "\n",
    "# Fit the optimized Voting Regressor\n",
    "optimized_voting_reg.fit(X_train, y_train)\n",
    "voting_mse_after_gs = evaluate_model(optimized_voting_reg, X_test, y_test)\n",
    "results_after_gs['VotingRegressor()'] = voting_mse_after_gs\n",
    "\n",
    "# Print results after grid search\n",
    "print(\"Results After Grid Search:\")\n",
    "for name, mse in results_after_gs.items():\n",
    "    print(\"MSE: \", name, \"...\", round(mse,4))"
   ]
  },
  {
   "cell_type": "code",
   "execution_count": 56,
   "id": "877f100a",
   "metadata": {},
   "outputs": [
    {
     "name": "stdout",
     "output_type": "stream",
     "text": [
      "MSE: KNeighborsRegressor(n_neighbors=3) with Standard Scaler ... 2.9292\n",
      "\n",
      "Actual Current_log vs. Predicted Current_log: KNeighborsRegressor(n_neighbors=5)\n",
      "\n",
      "\n",
      "\n"
     ]
    },
    {
     "data": {
      "application/vnd.microsoft.datawrangler.viewer.v0+json": {
       "columns": [
        {
         "name": "index",
         "rawType": "int64",
         "type": "integer"
        },
        {
         "name": "City-State",
         "rawType": "object",
         "type": "string"
        },
        {
         "name": "Current_log",
         "rawType": "float64",
         "type": "float"
        },
        {
         "name": "Current-Pred",
         "rawType": "float64",
         "type": "float"
        }
       ],
       "ref": "4760e1b8-77c6-447b-8c15-13760eb345ad",
       "rows": [
        [
         "0",
         "WICHITA,KS",
         "0.8754687373538999",
         "2.8036558153297007"
        ],
        [
         "1",
         "BOISE,ID",
         "4.9459189793765646",
         "3.3336552821684835"
        ],
        [
         "2",
         "PORTLAND,OR",
         "1.2237754316221157",
         "3.91506361260391"
        ],
        [
         "3",
         "NASHVILLE,TN",
         "1.2237754316221157",
         "2.7719183464447137"
        ],
        [
         "4",
         "GREAT FALLS,MT",
         "1.9600947840472698",
         "3.5326274613389566"
        ],
        [
         "5",
         "SALT LAKE CITY,UT",
         "1.0647107369924285",
         "3.773875692985012"
        ],
        [
         "6",
         "BROWNSVILLE,TX",
         "6.042632833682381",
         "4.196805398439377"
        ],
        [
         "7",
         "PORTLAND,ME",
         "4.464758032271346",
         "4.716336509587611"
        ],
        [
         "8",
         "ALBUQUERQUE,NM",
         "4.642465970731789",
         "4.46536539247953"
        ],
        [
         "9",
         "PROVIDENCE,RI",
         "5.725543966437714",
         "4.075467604471679"
        ]
       ],
       "shape": {
        "columns": 3,
        "rows": 10
       }
      },
      "text/html": [
       "<div>\n",
       "<style scoped>\n",
       "    .dataframe tbody tr th:only-of-type {\n",
       "        vertical-align: middle;\n",
       "    }\n",
       "\n",
       "    .dataframe tbody tr th {\n",
       "        vertical-align: top;\n",
       "    }\n",
       "\n",
       "    .dataframe thead th {\n",
       "        text-align: right;\n",
       "    }\n",
       "</style>\n",
       "<table border=\"1\" class=\"dataframe\">\n",
       "  <thead>\n",
       "    <tr style=\"text-align: right;\">\n",
       "      <th></th>\n",
       "      <th>City-State</th>\n",
       "      <th>Current_log</th>\n",
       "      <th>Current-Pred</th>\n",
       "    </tr>\n",
       "  </thead>\n",
       "  <tbody>\n",
       "    <tr>\n",
       "      <th>0</th>\n",
       "      <td>WICHITA,KS</td>\n",
       "      <td>0.875469</td>\n",
       "      <td>2.803656</td>\n",
       "    </tr>\n",
       "    <tr>\n",
       "      <th>1</th>\n",
       "      <td>BOISE,ID</td>\n",
       "      <td>4.945919</td>\n",
       "      <td>3.333655</td>\n",
       "    </tr>\n",
       "    <tr>\n",
       "      <th>2</th>\n",
       "      <td>PORTLAND,OR</td>\n",
       "      <td>1.223775</td>\n",
       "      <td>3.915064</td>\n",
       "    </tr>\n",
       "    <tr>\n",
       "      <th>3</th>\n",
       "      <td>NASHVILLE,TN</td>\n",
       "      <td>1.223775</td>\n",
       "      <td>2.771918</td>\n",
       "    </tr>\n",
       "    <tr>\n",
       "      <th>4</th>\n",
       "      <td>GREAT FALLS,MT</td>\n",
       "      <td>1.960095</td>\n",
       "      <td>3.532627</td>\n",
       "    </tr>\n",
       "    <tr>\n",
       "      <th>5</th>\n",
       "      <td>SALT LAKE CITY,UT</td>\n",
       "      <td>1.064711</td>\n",
       "      <td>3.773876</td>\n",
       "    </tr>\n",
       "    <tr>\n",
       "      <th>6</th>\n",
       "      <td>BROWNSVILLE,TX</td>\n",
       "      <td>6.042633</td>\n",
       "      <td>4.196805</td>\n",
       "    </tr>\n",
       "    <tr>\n",
       "      <th>7</th>\n",
       "      <td>PORTLAND,ME</td>\n",
       "      <td>4.464758</td>\n",
       "      <td>4.716337</td>\n",
       "    </tr>\n",
       "    <tr>\n",
       "      <th>8</th>\n",
       "      <td>ALBUQUERQUE,NM</td>\n",
       "      <td>4.642466</td>\n",
       "      <td>4.465365</td>\n",
       "    </tr>\n",
       "    <tr>\n",
       "      <th>9</th>\n",
       "      <td>PROVIDENCE,RI</td>\n",
       "      <td>5.725544</td>\n",
       "      <td>4.075468</td>\n",
       "    </tr>\n",
       "  </tbody>\n",
       "</table>\n",
       "</div>"
      ],
      "text/plain": [
       "          City-State  Current_log  Current-Pred\n",
       "0         WICHITA,KS     0.875469      2.803656\n",
       "1           BOISE,ID     4.945919      3.333655\n",
       "2        PORTLAND,OR     1.223775      3.915064\n",
       "3       NASHVILLE,TN     1.223775      2.771918\n",
       "4     GREAT FALLS,MT     1.960095      3.532627\n",
       "5  SALT LAKE CITY,UT     1.064711      3.773876\n",
       "6     BROWNSVILLE,TX     6.042633      4.196805\n",
       "7        PORTLAND,ME     4.464758      4.716337\n",
       "8     ALBUQUERQUE,NM     4.642466      4.465365\n",
       "9      PROVIDENCE,RI     5.725544      4.075468"
      ]
     },
     "execution_count": 56,
     "metadata": {},
     "output_type": "execute_result"
    }
   ],
   "source": [
    "scaled_pipe = Pipeline([\n",
    "    ('scaler',    StandardScaler()),\n",
    "    ('regressor', KNeighborsRegressor(n_neighbors=5))\n",
    "]).fit(X_train,y_train)\n",
    "\n",
    "y_pred = scaled_pipe.predict(X_test)\n",
    "\n",
    "print(\n",
    "    \"MSE: KNeighborsRegressor(n_neighbors=3) with Standard Scaler ...\",\n",
    "    round(mean_squared_error(y_test, y_pred),4)\n",
    "    )\n",
    "\n",
    "print()\n",
    "\n",
    "print(\n",
    "    \"Actual Current_log vs. Predicted Current_log:\",\n",
    "    \"KNeighborsRegressor(n_neighbors=5)\\n\\n\",\n",
    ")\n",
    "print()\n",
    "pd.concat(\n",
    "    [\n",
    "        X_test.reset_index()['City-State'],\n",
    "        y_test.reset_index(drop=True),\n",
    "        pd.DataFrame(y_pred, columns=['Current-Pred']).reset_index(drop=True)\n",
    "    ],\n",
    "    axis=1\n",
    ").head(10)"
   ]
  },
  {
   "cell_type": "code",
   "execution_count": 57,
   "id": "eba55e87",
   "metadata": {},
   "outputs": [
    {
     "name": "stdout",
     "output_type": "stream",
     "text": [
      "MSE: KNeighborsRegressor(n_neighbors=5) with Standard Scaler ... 3.2892\n",
      "\n",
      "Actual Current_log vs. Predicted Current_log:KNeighborsRegressor(n_neighbors=5)\n",
      "\n"
     ]
    },
    {
     "data": {
      "application/vnd.microsoft.datawrangler.viewer.v0+json": {
       "columns": [
        {
         "name": "index",
         "rawType": "int64",
         "type": "integer"
        },
        {
         "name": "City-State",
         "rawType": "object",
         "type": "string"
        },
        {
         "name": "Current_log",
         "rawType": "float64",
         "type": "float"
        },
        {
         "name": "Current_predict",
         "rawType": "float64",
         "type": "float"
        }
       ],
       "ref": "dfd065c8-e7bd-46dd-8d58-5f222b818826",
       "rows": [
        [
         "0",
         "WICHITA,KS",
         "0.8754687373538999",
         "3.533957462602621"
        ],
        [
         "1",
         "BOISE,ID",
         "4.9459189793765646",
         "4.861530798787675"
        ],
        [
         "2",
         "PORTLAND,OR",
         "1.2237754316221157",
         "4.4471360200153836"
        ],
        [
         "3",
         "NASHVILLE,TN",
         "1.2237754316221157",
         "2.948034948779763"
        ],
        [
         "4",
         "GREAT FALLS,MT",
         "1.9600947840472698",
         "4.288322705741069"
        ],
        [
         "5",
         "SALT LAKE CITY,UT",
         "1.0647107369924285",
         "4.526864842938248"
        ],
        [
         "6",
         "BROWNSVILLE,TX",
         "6.042632833682381",
         "4.595649455966141"
        ],
        [
         "7",
         "PORTLAND,ME",
         "4.464758032271346",
         "3.8321355270395094"
        ],
        [
         "8",
         "ALBUQUERQUE,NM",
         "4.642465970731789",
         "5.580022393706983"
        ],
        [
         "9",
         "PROVIDENCE,RI",
         "5.725543966437714",
         "3.863642769909582"
        ]
       ],
       "shape": {
        "columns": 3,
        "rows": 10
       }
      },
      "text/html": [
       "<div>\n",
       "<style scoped>\n",
       "    .dataframe tbody tr th:only-of-type {\n",
       "        vertical-align: middle;\n",
       "    }\n",
       "\n",
       "    .dataframe tbody tr th {\n",
       "        vertical-align: top;\n",
       "    }\n",
       "\n",
       "    .dataframe thead th {\n",
       "        text-align: right;\n",
       "    }\n",
       "</style>\n",
       "<table border=\"1\" class=\"dataframe\">\n",
       "  <thead>\n",
       "    <tr style=\"text-align: right;\">\n",
       "      <th></th>\n",
       "      <th>City-State</th>\n",
       "      <th>Current_log</th>\n",
       "      <th>Current_predict</th>\n",
       "    </tr>\n",
       "  </thead>\n",
       "  <tbody>\n",
       "    <tr>\n",
       "      <th>0</th>\n",
       "      <td>WICHITA,KS</td>\n",
       "      <td>0.875469</td>\n",
       "      <td>3.533957</td>\n",
       "    </tr>\n",
       "    <tr>\n",
       "      <th>1</th>\n",
       "      <td>BOISE,ID</td>\n",
       "      <td>4.945919</td>\n",
       "      <td>4.861531</td>\n",
       "    </tr>\n",
       "    <tr>\n",
       "      <th>2</th>\n",
       "      <td>PORTLAND,OR</td>\n",
       "      <td>1.223775</td>\n",
       "      <td>4.447136</td>\n",
       "    </tr>\n",
       "    <tr>\n",
       "      <th>3</th>\n",
       "      <td>NASHVILLE,TN</td>\n",
       "      <td>1.223775</td>\n",
       "      <td>2.948035</td>\n",
       "    </tr>\n",
       "    <tr>\n",
       "      <th>4</th>\n",
       "      <td>GREAT FALLS,MT</td>\n",
       "      <td>1.960095</td>\n",
       "      <td>4.288323</td>\n",
       "    </tr>\n",
       "    <tr>\n",
       "      <th>5</th>\n",
       "      <td>SALT LAKE CITY,UT</td>\n",
       "      <td>1.064711</td>\n",
       "      <td>4.526865</td>\n",
       "    </tr>\n",
       "    <tr>\n",
       "      <th>6</th>\n",
       "      <td>BROWNSVILLE,TX</td>\n",
       "      <td>6.042633</td>\n",
       "      <td>4.595649</td>\n",
       "    </tr>\n",
       "    <tr>\n",
       "      <th>7</th>\n",
       "      <td>PORTLAND,ME</td>\n",
       "      <td>4.464758</td>\n",
       "      <td>3.832136</td>\n",
       "    </tr>\n",
       "    <tr>\n",
       "      <th>8</th>\n",
       "      <td>ALBUQUERQUE,NM</td>\n",
       "      <td>4.642466</td>\n",
       "      <td>5.580022</td>\n",
       "    </tr>\n",
       "    <tr>\n",
       "      <th>9</th>\n",
       "      <td>PROVIDENCE,RI</td>\n",
       "      <td>5.725544</td>\n",
       "      <td>3.863643</td>\n",
       "    </tr>\n",
       "  </tbody>\n",
       "</table>\n",
       "</div>"
      ],
      "text/plain": [
       "          City-State  Current_log  Current_predict\n",
       "0         WICHITA,KS     0.875469         3.533957\n",
       "1           BOISE,ID     4.945919         4.861531\n",
       "2        PORTLAND,OR     1.223775         4.447136\n",
       "3       NASHVILLE,TN     1.223775         2.948035\n",
       "4     GREAT FALLS,MT     1.960095         4.288323\n",
       "5  SALT LAKE CITY,UT     1.064711         4.526865\n",
       "6     BROWNSVILLE,TX     6.042633         4.595649\n",
       "7        PORTLAND,ME     4.464758         3.832136\n",
       "8     ALBUQUERQUE,NM     4.642466         5.580022\n",
       "9      PROVIDENCE,RI     5.725544         3.863643"
      ]
     },
     "execution_count": 57,
     "metadata": {},
     "output_type": "execute_result"
    }
   ],
   "source": [
    "y_pred = optimized_voting_reg.predict(X_test)\n",
    "\n",
    "print(\n",
    "    \"MSE: KNeighborsRegressor(n_neighbors=5) with Standard Scaler ...\",\n",
    "    round(mean_squared_error(y_test, y_pred),4)\n",
    "    )\n",
    "\n",
    "print()\n",
    "\n",
    "print(\n",
    "    \"Actual Current_log vs. Predicted Current_log:\"\n",
    "    \"KNeighborsRegressor(n_neighbors=5)\"\n",
    ")\n",
    "print()\n",
    "pd.concat(\n",
    "        [\n",
    "            X_test.reset_index()['City-State'],\n",
    "            y_test.reset_index(drop=True),\n",
    "            pd.DataFrame(y_pred, columns=['Current_predict']).reset_index(drop=True)\n",
    "        ],\n",
    "        axis=1\n",
    "    ).head(10)"
   ]
  },
  {
   "cell_type": "markdown",
   "id": "917f7d11",
   "metadata": {},
   "source": [
    "---\n",
    "Coefficient analysis"
   ]
  },
  {
   "cell_type": "code",
   "execution_count": 58,
   "id": "aead6f80",
   "metadata": {},
   "outputs": [
    {
     "name": "stdout",
     "output_type": "stream",
     "text": [
      "Permutation Importance from KNeighborsRegressor(n_neighbors=3):\n"
     ]
    },
    {
     "data": {
      "application/vnd.microsoft.datawrangler.viewer.v0+json": {
       "columns": [
        {
         "name": "index",
         "rawType": "int64",
         "type": "integer"
        },
        {
         "name": "feature",
         "rawType": "object",
         "type": "string"
        },
        {
         "name": "importance",
         "rawType": "float64",
         "type": "float"
        }
       ],
       "ref": "a57a4aba-2ddb-4e5c-a5ad-233b362f794b",
       "rows": [
        [
         "13",
         "lat",
         "0.05988242434830158"
        ],
        [
         "11",
         "NOV",
         "0.03236254897518922"
        ],
        [
         "7",
         "JUL",
         "0.03156502391722034"
        ],
        [
         "0",
         "Land Value",
         "0.027916487068019292"
        ],
        [
         "5",
         "MAY",
         "0.02468344055553895"
        ],
        [
         "16",
         "density",
         "0.02429447298839278"
        ],
        [
         "2",
         "FEB",
         "0.01657109922025877"
        ],
        [
         "1",
         "JAN",
         "0.012488704808309391"
        ],
        [
         "15",
         "population",
         "0.00979975395911733"
        ],
        [
         "4",
         "APR",
         "0.005773948344552316"
        ],
        [
         "8",
         "AUG",
         "0.003775030132033885"
        ],
        [
         "3",
         "MAR",
         "0.0014542827155111903"
        ],
        [
         "12",
         "DEC",
         "-0.006240557981448824"
        ],
        [
         "6",
         "JUN",
         "-0.009242044238315672"
        ],
        [
         "10",
         "OCT",
         "-0.01008173010407013"
        ],
        [
         "14",
         "lng",
         "-0.01016325288989527"
        ],
        [
         "9",
         "SEP",
         "-0.01293820015613304"
        ]
       ],
       "shape": {
        "columns": 2,
        "rows": 17
       }
      },
      "text/html": [
       "<div>\n",
       "<style scoped>\n",
       "    .dataframe tbody tr th:only-of-type {\n",
       "        vertical-align: middle;\n",
       "    }\n",
       "\n",
       "    .dataframe tbody tr th {\n",
       "        vertical-align: top;\n",
       "    }\n",
       "\n",
       "    .dataframe thead th {\n",
       "        text-align: right;\n",
       "    }\n",
       "</style>\n",
       "<table border=\"1\" class=\"dataframe\">\n",
       "  <thead>\n",
       "    <tr style=\"text-align: right;\">\n",
       "      <th></th>\n",
       "      <th>feature</th>\n",
       "      <th>importance</th>\n",
       "    </tr>\n",
       "  </thead>\n",
       "  <tbody>\n",
       "    <tr>\n",
       "      <th>13</th>\n",
       "      <td>lat</td>\n",
       "      <td>0.059882</td>\n",
       "    </tr>\n",
       "    <tr>\n",
       "      <th>11</th>\n",
       "      <td>NOV</td>\n",
       "      <td>0.032363</td>\n",
       "    </tr>\n",
       "    <tr>\n",
       "      <th>7</th>\n",
       "      <td>JUL</td>\n",
       "      <td>0.031565</td>\n",
       "    </tr>\n",
       "    <tr>\n",
       "      <th>0</th>\n",
       "      <td>Land Value</td>\n",
       "      <td>0.027916</td>\n",
       "    </tr>\n",
       "    <tr>\n",
       "      <th>5</th>\n",
       "      <td>MAY</td>\n",
       "      <td>0.024683</td>\n",
       "    </tr>\n",
       "    <tr>\n",
       "      <th>16</th>\n",
       "      <td>density</td>\n",
       "      <td>0.024294</td>\n",
       "    </tr>\n",
       "    <tr>\n",
       "      <th>2</th>\n",
       "      <td>FEB</td>\n",
       "      <td>0.016571</td>\n",
       "    </tr>\n",
       "    <tr>\n",
       "      <th>1</th>\n",
       "      <td>JAN</td>\n",
       "      <td>0.012489</td>\n",
       "    </tr>\n",
       "    <tr>\n",
       "      <th>15</th>\n",
       "      <td>population</td>\n",
       "      <td>0.009800</td>\n",
       "    </tr>\n",
       "    <tr>\n",
       "      <th>4</th>\n",
       "      <td>APR</td>\n",
       "      <td>0.005774</td>\n",
       "    </tr>\n",
       "    <tr>\n",
       "      <th>8</th>\n",
       "      <td>AUG</td>\n",
       "      <td>0.003775</td>\n",
       "    </tr>\n",
       "    <tr>\n",
       "      <th>3</th>\n",
       "      <td>MAR</td>\n",
       "      <td>0.001454</td>\n",
       "    </tr>\n",
       "    <tr>\n",
       "      <th>12</th>\n",
       "      <td>DEC</td>\n",
       "      <td>-0.006241</td>\n",
       "    </tr>\n",
       "    <tr>\n",
       "      <th>6</th>\n",
       "      <td>JUN</td>\n",
       "      <td>-0.009242</td>\n",
       "    </tr>\n",
       "    <tr>\n",
       "      <th>10</th>\n",
       "      <td>OCT</td>\n",
       "      <td>-0.010082</td>\n",
       "    </tr>\n",
       "    <tr>\n",
       "      <th>14</th>\n",
       "      <td>lng</td>\n",
       "      <td>-0.010163</td>\n",
       "    </tr>\n",
       "    <tr>\n",
       "      <th>9</th>\n",
       "      <td>SEP</td>\n",
       "      <td>-0.012938</td>\n",
       "    </tr>\n",
       "  </tbody>\n",
       "</table>\n",
       "</div>"
      ],
      "text/plain": [
       "       feature  importance\n",
       "13         lat    0.059882\n",
       "11         NOV    0.032363\n",
       "7          JUL    0.031565\n",
       "0   Land Value    0.027916\n",
       "5          MAY    0.024683\n",
       "16     density    0.024294\n",
       "2          FEB    0.016571\n",
       "1          JAN    0.012489\n",
       "15  population    0.009800\n",
       "4          APR    0.005774\n",
       "8          AUG    0.003775\n",
       "3          MAR    0.001454\n",
       "12         DEC   -0.006241\n",
       "6          JUN   -0.009242\n",
       "10         OCT   -0.010082\n",
       "14         lng   -0.010163\n",
       "9          SEP   -0.012938"
      ]
     },
     "execution_count": 58,
     "metadata": {},
     "output_type": "execute_result"
    }
   ],
   "source": [
    "print(\"Permutation Importance from KNeighborsRegressor(n_neighbors=3):\")\n",
    "result_knn = permutation_importance(\n",
    "    best_pipelines['KNeighborsRegressor()'], \n",
    "    X_test, y_test, n_repeats=10, random_state=42, n_jobs=-1\n",
    "    )\n",
    "\n",
    "perm_importances_knn = pd.DataFrame({\n",
    "    'feature':    X_test.columns,\n",
    "    'importance': result_knn.importances_mean\n",
    "    })\n",
    "\n",
    "perm_importances_knn = perm_importances_knn\\\n",
    "    .sort_values(by='importance', ascending=False)\n",
    "\n",
    "perm_importances_knn"
   ]
  },
  {
   "cell_type": "code",
   "execution_count": 59,
   "id": "61f316ca",
   "metadata": {},
   "outputs": [
    {
     "name": "stdout",
     "output_type": "stream",
     "text": [
      "Feature Importance from Decision Tree:\n"
     ]
    },
    {
     "data": {
      "application/vnd.microsoft.datawrangler.viewer.v0+json": {
       "columns": [
        {
         "name": "index",
         "rawType": "int64",
         "type": "integer"
        },
        {
         "name": "feature",
         "rawType": "object",
         "type": "string"
        },
        {
         "name": "importance",
         "rawType": "float64",
         "type": "float"
        }
       ],
       "ref": "fda29e2f-9a6f-4163-b9e3-989154baf6cc",
       "rows": [
        [
         "4",
         "APR",
         "0.43456827306964396"
        ],
        [
         "13",
         "lat",
         "0.2007700866006709"
        ],
        [
         "16",
         "density",
         "0.11102585831645961"
        ],
        [
         "14",
         "lng",
         "0.06779833341198456"
        ],
        [
         "3",
         "MAR",
         "0.0500873311558456"
        ],
        [
         "1",
         "JAN",
         "0.049425616454595936"
        ],
        [
         "0",
         "Land Value",
         "0.022671683241518047"
        ],
        [
         "15",
         "population",
         "0.021762103032642734"
        ],
        [
         "7",
         "JUL",
         "0.016297817387784925"
        ],
        [
         "6",
         "JUN",
         "0.009971867110860781"
        ],
        [
         "2",
         "FEB",
         "0.003748219622404598"
        ],
        [
         "10",
         "OCT",
         "0.0034275425007585666"
        ],
        [
         "8",
         "AUG",
         "0.0033002852554494576"
        ],
        [
         "12",
         "DEC",
         "0.003186374168363598"
        ],
        [
         "9",
         "SEP",
         "0.0010899099274162966"
        ],
        [
         "5",
         "MAY",
         "0.0006258665037457855"
        ],
        [
         "11",
         "NOV",
         "0.00024283223985451722"
        ]
       ],
       "shape": {
        "columns": 2,
        "rows": 17
       }
      },
      "text/html": [
       "<div>\n",
       "<style scoped>\n",
       "    .dataframe tbody tr th:only-of-type {\n",
       "        vertical-align: middle;\n",
       "    }\n",
       "\n",
       "    .dataframe tbody tr th {\n",
       "        vertical-align: top;\n",
       "    }\n",
       "\n",
       "    .dataframe thead th {\n",
       "        text-align: right;\n",
       "    }\n",
       "</style>\n",
       "<table border=\"1\" class=\"dataframe\">\n",
       "  <thead>\n",
       "    <tr style=\"text-align: right;\">\n",
       "      <th></th>\n",
       "      <th>feature</th>\n",
       "      <th>importance</th>\n",
       "    </tr>\n",
       "  </thead>\n",
       "  <tbody>\n",
       "    <tr>\n",
       "      <th>4</th>\n",
       "      <td>APR</td>\n",
       "      <td>0.434568</td>\n",
       "    </tr>\n",
       "    <tr>\n",
       "      <th>13</th>\n",
       "      <td>lat</td>\n",
       "      <td>0.200770</td>\n",
       "    </tr>\n",
       "    <tr>\n",
       "      <th>16</th>\n",
       "      <td>density</td>\n",
       "      <td>0.111026</td>\n",
       "    </tr>\n",
       "    <tr>\n",
       "      <th>14</th>\n",
       "      <td>lng</td>\n",
       "      <td>0.067798</td>\n",
       "    </tr>\n",
       "    <tr>\n",
       "      <th>3</th>\n",
       "      <td>MAR</td>\n",
       "      <td>0.050087</td>\n",
       "    </tr>\n",
       "    <tr>\n",
       "      <th>1</th>\n",
       "      <td>JAN</td>\n",
       "      <td>0.049426</td>\n",
       "    </tr>\n",
       "    <tr>\n",
       "      <th>0</th>\n",
       "      <td>Land Value</td>\n",
       "      <td>0.022672</td>\n",
       "    </tr>\n",
       "    <tr>\n",
       "      <th>15</th>\n",
       "      <td>population</td>\n",
       "      <td>0.021762</td>\n",
       "    </tr>\n",
       "    <tr>\n",
       "      <th>7</th>\n",
       "      <td>JUL</td>\n",
       "      <td>0.016298</td>\n",
       "    </tr>\n",
       "    <tr>\n",
       "      <th>6</th>\n",
       "      <td>JUN</td>\n",
       "      <td>0.009972</td>\n",
       "    </tr>\n",
       "    <tr>\n",
       "      <th>2</th>\n",
       "      <td>FEB</td>\n",
       "      <td>0.003748</td>\n",
       "    </tr>\n",
       "    <tr>\n",
       "      <th>10</th>\n",
       "      <td>OCT</td>\n",
       "      <td>0.003428</td>\n",
       "    </tr>\n",
       "    <tr>\n",
       "      <th>8</th>\n",
       "      <td>AUG</td>\n",
       "      <td>0.003300</td>\n",
       "    </tr>\n",
       "    <tr>\n",
       "      <th>12</th>\n",
       "      <td>DEC</td>\n",
       "      <td>0.003186</td>\n",
       "    </tr>\n",
       "    <tr>\n",
       "      <th>9</th>\n",
       "      <td>SEP</td>\n",
       "      <td>0.001090</td>\n",
       "    </tr>\n",
       "    <tr>\n",
       "      <th>5</th>\n",
       "      <td>MAY</td>\n",
       "      <td>0.000626</td>\n",
       "    </tr>\n",
       "    <tr>\n",
       "      <th>11</th>\n",
       "      <td>NOV</td>\n",
       "      <td>0.000243</td>\n",
       "    </tr>\n",
       "  </tbody>\n",
       "</table>\n",
       "</div>"
      ],
      "text/plain": [
       "       feature  importance\n",
       "4          APR    0.434568\n",
       "13         lat    0.200770\n",
       "16     density    0.111026\n",
       "14         lng    0.067798\n",
       "3          MAR    0.050087\n",
       "1          JAN    0.049426\n",
       "0   Land Value    0.022672\n",
       "15  population    0.021762\n",
       "7          JUL    0.016298\n",
       "6          JUN    0.009972\n",
       "2          FEB    0.003748\n",
       "10         OCT    0.003428\n",
       "8          AUG    0.003300\n",
       "12         DEC    0.003186\n",
       "9          SEP    0.001090\n",
       "5          MAY    0.000626\n",
       "11         NOV    0.000243"
      ]
     },
     "execution_count": 59,
     "metadata": {},
     "output_type": "execute_result"
    }
   ],
   "source": [
    "print(\"Feature Importance from Decision Tree:\")\n",
    "reg_tree.fit(X_train, y_train)\n",
    "\n",
    "importances_tree = reg_tree.feature_importances_\n",
    "\n",
    "feature_importance_tree_df = pd.DataFrame({\n",
    "    'feature': X_train.columns,\n",
    "    'importance': importances_tree\n",
    "    })\n",
    "\n",
    "feature_importance_tree_df = feature_importance_tree_df\\\n",
    "    .sort_values(by='importance', ascending=False)\n",
    "\n",
    "feature_importance_tree_df"
   ]
  },
  {
   "cell_type": "markdown",
   "id": "06743dae",
   "metadata": {},
   "source": [
    "## Predict capable current in new cities"
   ]
  },
  {
   "cell_type": "code",
   "execution_count": 60,
   "id": "e0c227e1",
   "metadata": {},
   "outputs": [],
   "source": [
    "X = df_solar.query('Current_log.notnull()').drop(['Current_log'], axis=1)\n",
    "y = df_solar.query('Current_log.notnull()')['Current_log']\n",
    "\n",
    "scaled_pipe = Pipeline([\n",
    "    ('scaler',    StandardScaler()),\n",
    "    ('regressor', KNeighborsRegressor(n_neighbors=5))\n",
    "]).fit(X,y)\n",
    "\n",
    "y_pred = scaled_pipe.predict(X_predict)"
   ]
  },
  {
   "cell_type": "code",
   "execution_count": 61,
   "id": "1693790e",
   "metadata": {},
   "outputs": [],
   "source": [
    "\n",
    "df_pred = X_predict.reset_index()[[\n",
    "    'City-State','Land Value','population','density','lat','JUN','NOV'\n",
    "    ]].set_index('City-State')\n",
    "\n",
    "df_pred['Land Value'] = df_pred['Land Value'].astype(int)\n",
    "\n",
    "df_pred['Current_log'] = y_pred\n",
    "df_pred['Current']     = np.exp(y_pred)"
   ]
  },
  {
   "cell_type": "code",
   "execution_count": 62,
   "id": "5596ef6c",
   "metadata": {},
   "outputs": [
    {
     "data": {
      "application/vnd.microsoft.datawrangler.viewer.v0+json": {
       "columns": [
        {
         "name": "index",
         "rawType": "object",
         "type": "string"
        },
        {
         "name": "Current_log",
         "rawType": "float64",
         "type": "float"
        },
        {
         "name": "Current",
         "rawType": "float64",
         "type": "float"
        }
       ],
       "ref": "2f61252c-3277-4dc6-865f-7815999e24bb",
       "rows": [
        [
         "count",
         "49.0",
         "49.0"
        ],
        [
         "mean",
         "3.4031619493591854",
         "44.88420302393407"
        ],
        [
         "std",
         "0.8199805618380942",
         "57.107586505378016"
        ],
        [
         "min",
         "2.1569444549208354",
         "8.644683043676865"
        ],
        [
         "25%",
         "2.767559018954683",
         "15.919726791876395"
        ],
        [
         "50%",
         "3.301391033241039",
         "27.150379745934437"
        ],
        [
         "75%",
         "3.754127467324929",
         "42.69694906975817"
        ],
        [
         "max",
         "5.8913520062513545",
         "361.8942370350777"
        ]
       ],
       "shape": {
        "columns": 2,
        "rows": 8
       }
      },
      "text/html": [
       "<div>\n",
       "<style scoped>\n",
       "    .dataframe tbody tr th:only-of-type {\n",
       "        vertical-align: middle;\n",
       "    }\n",
       "\n",
       "    .dataframe tbody tr th {\n",
       "        vertical-align: top;\n",
       "    }\n",
       "\n",
       "    .dataframe thead th {\n",
       "        text-align: right;\n",
       "    }\n",
       "</style>\n",
       "<table border=\"1\" class=\"dataframe\">\n",
       "  <thead>\n",
       "    <tr style=\"text-align: right;\">\n",
       "      <th></th>\n",
       "      <th>Current_log</th>\n",
       "      <th>Current</th>\n",
       "    </tr>\n",
       "  </thead>\n",
       "  <tbody>\n",
       "    <tr>\n",
       "      <th>count</th>\n",
       "      <td>49.000000</td>\n",
       "      <td>49.000000</td>\n",
       "    </tr>\n",
       "    <tr>\n",
       "      <th>mean</th>\n",
       "      <td>3.403162</td>\n",
       "      <td>44.884203</td>\n",
       "    </tr>\n",
       "    <tr>\n",
       "      <th>std</th>\n",
       "      <td>0.819981</td>\n",
       "      <td>57.107587</td>\n",
       "    </tr>\n",
       "    <tr>\n",
       "      <th>min</th>\n",
       "      <td>2.156944</td>\n",
       "      <td>8.644683</td>\n",
       "    </tr>\n",
       "    <tr>\n",
       "      <th>25%</th>\n",
       "      <td>2.767559</td>\n",
       "      <td>15.919727</td>\n",
       "    </tr>\n",
       "    <tr>\n",
       "      <th>50%</th>\n",
       "      <td>3.301391</td>\n",
       "      <td>27.150380</td>\n",
       "    </tr>\n",
       "    <tr>\n",
       "      <th>75%</th>\n",
       "      <td>3.754127</td>\n",
       "      <td>42.696949</td>\n",
       "    </tr>\n",
       "    <tr>\n",
       "      <th>max</th>\n",
       "      <td>5.891352</td>\n",
       "      <td>361.894237</td>\n",
       "    </tr>\n",
       "  </tbody>\n",
       "</table>\n",
       "</div>"
      ],
      "text/plain": [
       "       Current_log     Current\n",
       "count    49.000000   49.000000\n",
       "mean      3.403162   44.884203\n",
       "std       0.819981   57.107587\n",
       "min       2.156944    8.644683\n",
       "25%       2.767559   15.919727\n",
       "50%       3.301391   27.150380\n",
       "75%       3.754127   42.696949\n",
       "max       5.891352  361.894237"
      ]
     },
     "execution_count": 62,
     "metadata": {},
     "output_type": "execute_result"
    }
   ],
   "source": [
    "df_pred[['Current_log','Current']].describe()"
   ]
  },
  {
   "cell_type": "code",
   "execution_count": 63,
   "id": "bfec7ee9",
   "metadata": {},
   "outputs": [
    {
     "data": {
      "application/vnd.microsoft.datawrangler.viewer.v0+json": {
       "columns": [
        {
         "name": "City-State",
         "rawType": "object",
         "type": "string"
        },
        {
         "name": "Land Value",
         "rawType": "int64",
         "type": "integer"
        },
        {
         "name": "population",
         "rawType": "int64",
         "type": "integer"
        },
        {
         "name": "density",
         "rawType": "float64",
         "type": "float"
        },
        {
         "name": "lat",
         "rawType": "float64",
         "type": "float"
        },
        {
         "name": "JUN",
         "rawType": "int64",
         "type": "integer"
        },
        {
         "name": "NOV",
         "rawType": "int64",
         "type": "integer"
        },
        {
         "name": "Current_log",
         "rawType": "float64",
         "type": "float"
        },
        {
         "name": "Current",
         "rawType": "float64",
         "type": "float"
        }
       ],
       "ref": "5bb874f3-8944-4b87-82b6-13210697dd82",
       "rows": [
        [
         "KEY WEST,FL",
         "1285405",
         "25824",
         "1780.7",
         "24.5642",
         "77",
         "71",
         "5.8913520062513545",
         "361.8942370350777"
        ],
        [
         "JACKSON,MS",
         "85274",
         "331332",
         "518.0",
         "32.3157",
         "70",
         "55",
         "5.082682486911378",
         "161.2059091907281"
        ],
        [
         "FLAGSTAFF,AZ",
         "650010",
         "77868",
         "446.4",
         "35.1872",
         "88",
         "72",
         "4.864623627149063",
         "129.62214317417505"
        ],
        [
         "AMARILLO,TX",
         "211068",
         "205100",
         "748.8",
         "35.1984",
         "79",
         "67",
         "4.683935109269802",
         "108.19499509293018"
        ],
        [
         "ELY,NV",
         "255374",
         "3941",
         "199.5",
         "39.265",
         "81",
         "65",
         "4.683935109269801",
         "108.19499509293009"
        ]
       ],
       "shape": {
        "columns": 8,
        "rows": 5
       }
      },
      "text/html": [
       "<div>\n",
       "<style scoped>\n",
       "    .dataframe tbody tr th:only-of-type {\n",
       "        vertical-align: middle;\n",
       "    }\n",
       "\n",
       "    .dataframe tbody tr th {\n",
       "        vertical-align: top;\n",
       "    }\n",
       "\n",
       "    .dataframe thead th {\n",
       "        text-align: right;\n",
       "    }\n",
       "</style>\n",
       "<table border=\"1\" class=\"dataframe\">\n",
       "  <thead>\n",
       "    <tr style=\"text-align: right;\">\n",
       "      <th></th>\n",
       "      <th>Land Value</th>\n",
       "      <th>population</th>\n",
       "      <th>density</th>\n",
       "      <th>lat</th>\n",
       "      <th>JUN</th>\n",
       "      <th>NOV</th>\n",
       "      <th>Current_log</th>\n",
       "      <th>Current</th>\n",
       "    </tr>\n",
       "    <tr>\n",
       "      <th>City-State</th>\n",
       "      <th></th>\n",
       "      <th></th>\n",
       "      <th></th>\n",
       "      <th></th>\n",
       "      <th></th>\n",
       "      <th></th>\n",
       "      <th></th>\n",
       "      <th></th>\n",
       "    </tr>\n",
       "  </thead>\n",
       "  <tbody>\n",
       "    <tr>\n",
       "      <th>KEY WEST,FL</th>\n",
       "      <td>1285405</td>\n",
       "      <td>25824</td>\n",
       "      <td>1780.7</td>\n",
       "      <td>24.5642</td>\n",
       "      <td>77</td>\n",
       "      <td>71</td>\n",
       "      <td>5.891352</td>\n",
       "      <td>361.894237</td>\n",
       "    </tr>\n",
       "    <tr>\n",
       "      <th>JACKSON,MS</th>\n",
       "      <td>85274</td>\n",
       "      <td>331332</td>\n",
       "      <td>518.0</td>\n",
       "      <td>32.3157</td>\n",
       "      <td>70</td>\n",
       "      <td>55</td>\n",
       "      <td>5.082682</td>\n",
       "      <td>161.205909</td>\n",
       "    </tr>\n",
       "    <tr>\n",
       "      <th>FLAGSTAFF,AZ</th>\n",
       "      <td>650010</td>\n",
       "      <td>77868</td>\n",
       "      <td>446.4</td>\n",
       "      <td>35.1872</td>\n",
       "      <td>88</td>\n",
       "      <td>72</td>\n",
       "      <td>4.864624</td>\n",
       "      <td>129.622143</td>\n",
       "    </tr>\n",
       "    <tr>\n",
       "      <th>AMARILLO,TX</th>\n",
       "      <td>211068</td>\n",
       "      <td>205100</td>\n",
       "      <td>748.8</td>\n",
       "      <td>35.1984</td>\n",
       "      <td>79</td>\n",
       "      <td>67</td>\n",
       "      <td>4.683935</td>\n",
       "      <td>108.194995</td>\n",
       "    </tr>\n",
       "    <tr>\n",
       "      <th>ELY,NV</th>\n",
       "      <td>255374</td>\n",
       "      <td>3941</td>\n",
       "      <td>199.5</td>\n",
       "      <td>39.2650</td>\n",
       "      <td>81</td>\n",
       "      <td>65</td>\n",
       "      <td>4.683935</td>\n",
       "      <td>108.194995</td>\n",
       "    </tr>\n",
       "  </tbody>\n",
       "</table>\n",
       "</div>"
      ],
      "text/plain": [
       "              Land Value  population  density      lat  JUN  NOV  Current_log  \\\n",
       "City-State                                                                      \n",
       "KEY WEST,FL      1285405       25824   1780.7  24.5642   77   71     5.891352   \n",
       "JACKSON,MS         85274      331332    518.0  32.3157   70   55     5.082682   \n",
       "FLAGSTAFF,AZ      650010       77868    446.4  35.1872   88   72     4.864624   \n",
       "AMARILLO,TX       211068      205100    748.8  35.1984   79   67     4.683935   \n",
       "ELY,NV            255374        3941    199.5  39.2650   81   65     4.683935   \n",
       "\n",
       "                 Current  \n",
       "City-State                \n",
       "KEY WEST,FL   361.894237  \n",
       "JACKSON,MS    161.205909  \n",
       "FLAGSTAFF,AZ  129.622143  \n",
       "AMARILLO,TX   108.194995  \n",
       "ELY,NV        108.194995  "
      ]
     },
     "execution_count": 63,
     "metadata": {},
     "output_type": "execute_result"
    }
   ],
   "source": [
    "df_pred.sort_values(by='Current', ascending=False).head()"
   ]
  },
  {
   "cell_type": "code",
   "execution_count": 64,
   "id": "5b514053",
   "metadata": {},
   "outputs": [
    {
     "data": {
      "application/vnd.microsoft.datawrangler.viewer.v0+json": {
       "columns": [
        {
         "name": "City-State",
         "rawType": "object",
         "type": "string"
        },
        {
         "name": "Land Value",
         "rawType": "int64",
         "type": "integer"
        },
        {
         "name": "population",
         "rawType": "int64",
         "type": "integer"
        },
        {
         "name": "density",
         "rawType": "float64",
         "type": "float"
        },
        {
         "name": "lat",
         "rawType": "float64",
         "type": "float"
        },
        {
         "name": "JUN",
         "rawType": "int64",
         "type": "integer"
        },
        {
         "name": "NOV",
         "rawType": "int64",
         "type": "integer"
        },
        {
         "name": "Current_log",
         "rawType": "float64",
         "type": "float"
        },
        {
         "name": "Current",
         "rawType": "float64",
         "type": "float"
        }
       ],
       "ref": "366bc56d-238a-4485-bf02-eb51a929f07f",
       "rows": [
        [
         "OMAHA,NE",
         "278435",
         "826161",
         "1318.9",
         "41.2627",
         "72",
         "49",
         "2.1569444549208354",
         "8.644683043676865"
        ],
        [
         "DODGE CITY,KS",
         "237736",
         "27652",
         "711.1",
         "37.7611",
         "77",
         "63",
         "2.3161723167461297",
         "10.136799495629015"
        ],
        [
         "CONCORDIA,KS",
         "143484",
         "5067",
         "434.4",
         "39.5669",
         "78",
         "59",
         "2.3161723167461297",
         "10.136799495629015"
        ],
        [
         "TULSA,OK",
         "217766",
         "740620",
         "805.1",
         "36.1283",
         "66",
         "50",
         "2.3759738260517227",
         "10.76148790224732"
        ],
        [
         "DES MOINES,IA",
         "227345",
         "560170",
         "930.5",
         "41.5725",
         "69",
         "45",
         "2.446980676947977",
         "11.55341052520794"
        ]
       ],
       "shape": {
        "columns": 8,
        "rows": 5
       }
      },
      "text/html": [
       "<div>\n",
       "<style scoped>\n",
       "    .dataframe tbody tr th:only-of-type {\n",
       "        vertical-align: middle;\n",
       "    }\n",
       "\n",
       "    .dataframe tbody tr th {\n",
       "        vertical-align: top;\n",
       "    }\n",
       "\n",
       "    .dataframe thead th {\n",
       "        text-align: right;\n",
       "    }\n",
       "</style>\n",
       "<table border=\"1\" class=\"dataframe\">\n",
       "  <thead>\n",
       "    <tr style=\"text-align: right;\">\n",
       "      <th></th>\n",
       "      <th>Land Value</th>\n",
       "      <th>population</th>\n",
       "      <th>density</th>\n",
       "      <th>lat</th>\n",
       "      <th>JUN</th>\n",
       "      <th>NOV</th>\n",
       "      <th>Current_log</th>\n",
       "      <th>Current</th>\n",
       "    </tr>\n",
       "    <tr>\n",
       "      <th>City-State</th>\n",
       "      <th></th>\n",
       "      <th></th>\n",
       "      <th></th>\n",
       "      <th></th>\n",
       "      <th></th>\n",
       "      <th></th>\n",
       "      <th></th>\n",
       "      <th></th>\n",
       "    </tr>\n",
       "  </thead>\n",
       "  <tbody>\n",
       "    <tr>\n",
       "      <th>OMAHA,NE</th>\n",
       "      <td>278435</td>\n",
       "      <td>826161</td>\n",
       "      <td>1318.9</td>\n",
       "      <td>41.2627</td>\n",
       "      <td>72</td>\n",
       "      <td>49</td>\n",
       "      <td>2.156944</td>\n",
       "      <td>8.644683</td>\n",
       "    </tr>\n",
       "    <tr>\n",
       "      <th>DODGE CITY,KS</th>\n",
       "      <td>237736</td>\n",
       "      <td>27652</td>\n",
       "      <td>711.1</td>\n",
       "      <td>37.7611</td>\n",
       "      <td>77</td>\n",
       "      <td>63</td>\n",
       "      <td>2.316172</td>\n",
       "      <td>10.136799</td>\n",
       "    </tr>\n",
       "    <tr>\n",
       "      <th>CONCORDIA,KS</th>\n",
       "      <td>143484</td>\n",
       "      <td>5067</td>\n",
       "      <td>434.4</td>\n",
       "      <td>39.5669</td>\n",
       "      <td>78</td>\n",
       "      <td>59</td>\n",
       "      <td>2.316172</td>\n",
       "      <td>10.136799</td>\n",
       "    </tr>\n",
       "    <tr>\n",
       "      <th>TULSA,OK</th>\n",
       "      <td>217766</td>\n",
       "      <td>740620</td>\n",
       "      <td>805.1</td>\n",
       "      <td>36.1283</td>\n",
       "      <td>66</td>\n",
       "      <td>50</td>\n",
       "      <td>2.375974</td>\n",
       "      <td>10.761488</td>\n",
       "    </tr>\n",
       "    <tr>\n",
       "      <th>DES MOINES,IA</th>\n",
       "      <td>227345</td>\n",
       "      <td>560170</td>\n",
       "      <td>930.5</td>\n",
       "      <td>41.5725</td>\n",
       "      <td>69</td>\n",
       "      <td>45</td>\n",
       "      <td>2.446981</td>\n",
       "      <td>11.553411</td>\n",
       "    </tr>\n",
       "  </tbody>\n",
       "</table>\n",
       "</div>"
      ],
      "text/plain": [
       "               Land Value  population  density      lat  JUN  NOV  \\\n",
       "City-State                                                          \n",
       "OMAHA,NE           278435      826161   1318.9  41.2627   72   49   \n",
       "DODGE CITY,KS      237736       27652    711.1  37.7611   77   63   \n",
       "CONCORDIA,KS       143484        5067    434.4  39.5669   78   59   \n",
       "TULSA,OK           217766      740620    805.1  36.1283   66   50   \n",
       "DES MOINES,IA      227345      560170    930.5  41.5725   69   45   \n",
       "\n",
       "               Current_log    Current  \n",
       "City-State                             \n",
       "OMAHA,NE          2.156944   8.644683  \n",
       "DODGE CITY,KS     2.316172  10.136799  \n",
       "CONCORDIA,KS      2.316172  10.136799  \n",
       "TULSA,OK          2.375974  10.761488  \n",
       "DES MOINES,IA     2.446981  11.553411  "
      ]
     },
     "execution_count": 64,
     "metadata": {},
     "output_type": "execute_result"
    }
   ],
   "source": [
    "df_pred.sort_values(by='Current', ascending=True).head()"
   ]
  },
  {
   "cell_type": "markdown",
   "id": "e0ab5035",
   "metadata": {},
   "source": [
    "Check the caps again!!"
   ]
  }
 ],
 "metadata": {
  "kernelspec": {
   "display_name": "junko",
   "language": "python",
   "name": "python3"
  },
  "language_info": {
   "codemirror_mode": {
    "name": "ipython",
    "version": 3
   },
   "file_extension": ".py",
   "mimetype": "text/x-python",
   "name": "python",
   "nbconvert_exporter": "python",
   "pygments_lexer": "ipython3",
   "version": "3.12.11"
  }
 },
 "nbformat": 4,
 "nbformat_minor": 5
}
