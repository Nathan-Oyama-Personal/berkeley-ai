{
 "cells": [
  {
   "cell_type": "markdown",
   "metadata": {},
   "source": [
    "# Nathan Oyama\n",
    "\n",
    "February 26, 2025\n",
    "\n",
    "**Important:** Some answers may have slightly different values because of the following data arrangements: \n",
    "\n",
    "* As in **Ans 1.2** and **Ans 1.3**, the answers are based on a trimmed data frame which has excluded the invalid records: the entry in the `car` field is `'do not drive'` or `'Car that is too old to install Onstar :D'`.\n",
    "* From **Ans 2.2** through **Ans 2.7**, all records are based on the data frame `DataFrame` in **Ans 2.1**. All records in this data frame are about the people who received the bar coupons.\n",
    "* In **Ans 2.4** and **Ans 2.5**, the acceptance rate of the first group is based on drivers who go to a bar more than three times a month instead of month because the `Bar` column has entries of `less1` and `1~3` around 1.\n",
    "* In **Ans 2.6**, the acceptance rate of the first group is based on drivers who go to cheap restaurants more than 3 times a month instead of 4 times because the `RestaurantLessThan50` column has entries of `1~3` and `4~8` around 4.\n",
    "\n",
    "---"
   ]
  },
  {
   "cell_type": "markdown",
   "metadata": {
    "id": "CcUT6Fon_qRE"
   },
   "source": [
    "### Required Assignment 5.1: Will the Customer Accept the Coupon?\n",
    "\n",
    "**Context**\n",
    "\n",
    "Imagine driving through town and a coupon is delivered to your cell phone for a restaurant near where you are driving. Would you accept that coupon and take a short detour to the restaurant? Would you accept the coupon but use it on a subsequent trip? Would you ignore the coupon entirely? What if the coupon was for a bar instead of a restaurant? What about a coffee house? Would you accept a bar coupon with a minor passenger in the car? What about if it was just you and your partner in the car? Would weather impact the rate of acceptance? What about the time of day?\n",
    "\n",
    "Obviously, proximity to the business is a factor on whether the coupon is delivered to the driver or not, but what are the factors that determine whether a driver accepts the coupon once it is delivered to them? How would you determine whether a driver is likely to accept a coupon?\n",
    "\n",
    "**Overview**\n",
    "\n",
    "The goal of this project is to use what you know about visualizations and probability distributions to distinguish between customers who accepted a driving coupon versus those that did not.\n",
    "\n",
    "**Data**\n",
    "\n",
    "This data comes to us from the UCI Machine Learning repository and was collected via a survey on Amazon Mechanical Turk. The survey describes different driving scenarios including the destination, current time, weather, passenger, etc., and then ask the person whether he will accept the coupon if he is the driver. Answers that the user will drive there ‘right away’ or ‘later before the coupon expires’ are labeled as ‘Y = 1’ and answers ‘no, I do not want the coupon’ are labeled as ‘Y = 0’.  There are five different types of coupons -- less expensive restaurants (under \\\\$20), coffee houses, carry out & take away, bar, and more expensive restaurants (\\\\$20 - $50)."
   ]
  },
  {
   "cell_type": "markdown",
   "metadata": {
    "id": "1wORvMBJ_qRF"
   },
   "source": [
    "**Deliverables**\n",
    "\n",
    "Your final product should be a brief report that highlights the differences between customers who did and did not accept the coupons.  To explore the data you will utilize your knowledge of plotting, statistical summaries, and visualization using Python. You will publish your findings in a public facing github repository as your first portfolio piece.\n",
    "\n",
    "\n",
    "\n"
   ]
  },
  {
   "cell_type": "markdown",
   "metadata": {
    "id": "pG6_Ym6q_qRG"
   },
   "source": [
    "### Data Description\n",
    "Keep in mind that these values mentioned below are average values.\n",
    "\n",
    "The attributes of this data set include:\n",
    "1. User attributes\n",
    "    -  Gender: male, female\n",
    "    -  Age: below 21, 21 to 25, 26 to 30, etc.\n",
    "    -  Marital Status: single, married partner, unmarried partner, or widowed\n",
    "    -  Number of children: 0, 1, or more than 1\n",
    "    -  Education: high school, bachelors degree, associates degree, or graduate degree\n",
    "    -  Occupation: architecture & engineering, business & financial, etc.\n",
    "    -  Annual income: less than \\\\$12500, \\\\$12500 - \\\\$24999, \\\\$25000 - \\\\$37499, etc.\n",
    "    -  Number of times that he/she goes to a bar: 0, less than 1, 1 to 3, 4 to 8 or greater than 8\n",
    "    -  Number of times that he/she buys takeaway food: 0, less than 1, 1 to 3, 4 to 8 or greater\n",
    "    than 8\n",
    "    -  Number of times that he/she goes to a coffee house: 0, less than 1, 1 to 3, 4 to 8 or\n",
    "    greater than 8\n",
    "    -  Number of times that he/she eats at a restaurant with average expense less than \\\\$20 per\n",
    "    person: 0, less than 1, 1 to 3, 4 to 8 or greater than 8\n",
    "    -  Number of times that he/she goes to a bar: 0, less than 1, 1 to 3, 4 to 8 or greater than 8\n",
    "    \n",
    "\n",
    "2. Contextual attributes\n",
    "    - Driving destination: home, work, or no urgent destination\n",
    "    - Location of user, coupon and destination: we provide a map to show the geographical\n",
    "    location of the user, destination, and the venue, and we mark the distance between each\n",
    "    two places with time of driving. The user can see whether the venue is in the same\n",
    "    direction as the destination.\n",
    "    - Weather: sunny, rainy, or snowy\n",
    "    - Temperature: 30F, 55F, or 80F\n",
    "    - Time: 10AM, 2PM, or 6PM\n",
    "    - Passenger: alone, partner, kid(s), or friend(s)\n",
    "\n",
    "\n",
    "3. Coupon attributes\n",
    "    - time before it expires: 2 hours or one day"
   ]
  },
  {
   "cell_type": "code",
   "execution_count": 1,
   "metadata": {
    "id": "dzNoP3o__qRG"
   },
   "outputs": [],
   "source": [
    "import matplotlib.pyplot as plt\n",
    "import seaborn as sns\n",
    "import pandas as pd\n",
    "import numpy as np"
   ]
  },
  {
   "cell_type": "markdown",
   "metadata": {
    "id": "Ct8pI1uE_qRG"
   },
   "source": [
    "### Problems\n",
    "\n",
    "Use the prompts below to get started with your data analysis.  \n",
    "\n",
    "1. Read in the `coupons.csv` file."
   ]
  },
  {
   "cell_type": "markdown",
   "metadata": {},
   "source": [
    "**Ans 1.1.** Read the CSV file in Pandas and make it a data frame called `data`:"
   ]
  },
  {
   "cell_type": "code",
   "execution_count": 54,
   "metadata": {
    "id": "X0vbffYg_qRH"
   },
   "outputs": [],
   "source": [
    "data = pd.read_csv('./coupons.csv')"
   ]
  },
  {
   "cell_type": "markdown",
   "metadata": {},
   "source": [
    "Ensure that the CSV file has been loaded in the `data` data field:"
   ]
  },
  {
   "cell_type": "code",
   "execution_count": 3,
   "metadata": {
    "id": "TXofQ_DF_qRH",
    "outputId": "2fc96a2c-1112-4b54-f24f-dbb9bc88abfb"
   },
   "outputs": [
    {
     "data": {
      "text/html": [
       "<div>\n",
       "<style scoped>\n",
       "    .dataframe tbody tr th:only-of-type {\n",
       "        vertical-align: middle;\n",
       "    }\n",
       "\n",
       "    .dataframe tbody tr th {\n",
       "        vertical-align: top;\n",
       "    }\n",
       "\n",
       "    .dataframe thead th {\n",
       "        text-align: right;\n",
       "    }\n",
       "</style>\n",
       "<table border=\"1\" class=\"dataframe\">\n",
       "  <thead>\n",
       "    <tr style=\"text-align: right;\">\n",
       "      <th></th>\n",
       "      <th>destination</th>\n",
       "      <th>passanger</th>\n",
       "      <th>weather</th>\n",
       "      <th>temperature</th>\n",
       "      <th>time</th>\n",
       "      <th>coupon</th>\n",
       "      <th>expiration</th>\n",
       "      <th>gender</th>\n",
       "      <th>age</th>\n",
       "      <th>maritalStatus</th>\n",
       "      <th>...</th>\n",
       "      <th>CoffeeHouse</th>\n",
       "      <th>CarryAway</th>\n",
       "      <th>RestaurantLessThan20</th>\n",
       "      <th>Restaurant20To50</th>\n",
       "      <th>toCoupon_GEQ5min</th>\n",
       "      <th>toCoupon_GEQ15min</th>\n",
       "      <th>toCoupon_GEQ25min</th>\n",
       "      <th>direction_same</th>\n",
       "      <th>direction_opp</th>\n",
       "      <th>Y</th>\n",
       "    </tr>\n",
       "  </thead>\n",
       "  <tbody>\n",
       "    <tr>\n",
       "      <th>0</th>\n",
       "      <td>No Urgent Place</td>\n",
       "      <td>Alone</td>\n",
       "      <td>Sunny</td>\n",
       "      <td>55</td>\n",
       "      <td>2PM</td>\n",
       "      <td>Restaurant(&lt;20)</td>\n",
       "      <td>1d</td>\n",
       "      <td>Female</td>\n",
       "      <td>21</td>\n",
       "      <td>Unmarried partner</td>\n",
       "      <td>...</td>\n",
       "      <td>never</td>\n",
       "      <td>NaN</td>\n",
       "      <td>4~8</td>\n",
       "      <td>1~3</td>\n",
       "      <td>1</td>\n",
       "      <td>0</td>\n",
       "      <td>0</td>\n",
       "      <td>0</td>\n",
       "      <td>1</td>\n",
       "      <td>1</td>\n",
       "    </tr>\n",
       "    <tr>\n",
       "      <th>1</th>\n",
       "      <td>No Urgent Place</td>\n",
       "      <td>Friend(s)</td>\n",
       "      <td>Sunny</td>\n",
       "      <td>80</td>\n",
       "      <td>10AM</td>\n",
       "      <td>Coffee House</td>\n",
       "      <td>2h</td>\n",
       "      <td>Female</td>\n",
       "      <td>21</td>\n",
       "      <td>Unmarried partner</td>\n",
       "      <td>...</td>\n",
       "      <td>never</td>\n",
       "      <td>NaN</td>\n",
       "      <td>4~8</td>\n",
       "      <td>1~3</td>\n",
       "      <td>1</td>\n",
       "      <td>0</td>\n",
       "      <td>0</td>\n",
       "      <td>0</td>\n",
       "      <td>1</td>\n",
       "      <td>0</td>\n",
       "    </tr>\n",
       "    <tr>\n",
       "      <th>2</th>\n",
       "      <td>No Urgent Place</td>\n",
       "      <td>Friend(s)</td>\n",
       "      <td>Sunny</td>\n",
       "      <td>80</td>\n",
       "      <td>10AM</td>\n",
       "      <td>Carry out &amp; Take away</td>\n",
       "      <td>2h</td>\n",
       "      <td>Female</td>\n",
       "      <td>21</td>\n",
       "      <td>Unmarried partner</td>\n",
       "      <td>...</td>\n",
       "      <td>never</td>\n",
       "      <td>NaN</td>\n",
       "      <td>4~8</td>\n",
       "      <td>1~3</td>\n",
       "      <td>1</td>\n",
       "      <td>1</td>\n",
       "      <td>0</td>\n",
       "      <td>0</td>\n",
       "      <td>1</td>\n",
       "      <td>1</td>\n",
       "    </tr>\n",
       "    <tr>\n",
       "      <th>3</th>\n",
       "      <td>No Urgent Place</td>\n",
       "      <td>Friend(s)</td>\n",
       "      <td>Sunny</td>\n",
       "      <td>80</td>\n",
       "      <td>2PM</td>\n",
       "      <td>Coffee House</td>\n",
       "      <td>2h</td>\n",
       "      <td>Female</td>\n",
       "      <td>21</td>\n",
       "      <td>Unmarried partner</td>\n",
       "      <td>...</td>\n",
       "      <td>never</td>\n",
       "      <td>NaN</td>\n",
       "      <td>4~8</td>\n",
       "      <td>1~3</td>\n",
       "      <td>1</td>\n",
       "      <td>1</td>\n",
       "      <td>0</td>\n",
       "      <td>0</td>\n",
       "      <td>1</td>\n",
       "      <td>0</td>\n",
       "    </tr>\n",
       "    <tr>\n",
       "      <th>4</th>\n",
       "      <td>No Urgent Place</td>\n",
       "      <td>Friend(s)</td>\n",
       "      <td>Sunny</td>\n",
       "      <td>80</td>\n",
       "      <td>2PM</td>\n",
       "      <td>Coffee House</td>\n",
       "      <td>1d</td>\n",
       "      <td>Female</td>\n",
       "      <td>21</td>\n",
       "      <td>Unmarried partner</td>\n",
       "      <td>...</td>\n",
       "      <td>never</td>\n",
       "      <td>NaN</td>\n",
       "      <td>4~8</td>\n",
       "      <td>1~3</td>\n",
       "      <td>1</td>\n",
       "      <td>1</td>\n",
       "      <td>0</td>\n",
       "      <td>0</td>\n",
       "      <td>1</td>\n",
       "      <td>0</td>\n",
       "    </tr>\n",
       "  </tbody>\n",
       "</table>\n",
       "<p>5 rows × 26 columns</p>\n",
       "</div>"
      ],
      "text/plain": [
       "       destination  passanger weather  temperature  time  \\\n",
       "0  No Urgent Place      Alone   Sunny           55   2PM   \n",
       "1  No Urgent Place  Friend(s)   Sunny           80  10AM   \n",
       "2  No Urgent Place  Friend(s)   Sunny           80  10AM   \n",
       "3  No Urgent Place  Friend(s)   Sunny           80   2PM   \n",
       "4  No Urgent Place  Friend(s)   Sunny           80   2PM   \n",
       "\n",
       "                  coupon expiration  gender age      maritalStatus  ...  \\\n",
       "0        Restaurant(<20)         1d  Female  21  Unmarried partner  ...   \n",
       "1           Coffee House         2h  Female  21  Unmarried partner  ...   \n",
       "2  Carry out & Take away         2h  Female  21  Unmarried partner  ...   \n",
       "3           Coffee House         2h  Female  21  Unmarried partner  ...   \n",
       "4           Coffee House         1d  Female  21  Unmarried partner  ...   \n",
       "\n",
       "   CoffeeHouse CarryAway RestaurantLessThan20 Restaurant20To50  \\\n",
       "0        never       NaN                  4~8              1~3   \n",
       "1        never       NaN                  4~8              1~3   \n",
       "2        never       NaN                  4~8              1~3   \n",
       "3        never       NaN                  4~8              1~3   \n",
       "4        never       NaN                  4~8              1~3   \n",
       "\n",
       "  toCoupon_GEQ5min toCoupon_GEQ15min toCoupon_GEQ25min direction_same  \\\n",
       "0                1                 0                 0              0   \n",
       "1                1                 0                 0              0   \n",
       "2                1                 1                 0              0   \n",
       "3                1                 1                 0              0   \n",
       "4                1                 1                 0              0   \n",
       "\n",
       "  direction_opp  Y  \n",
       "0             1  1  \n",
       "1             1  0  \n",
       "2             1  1  \n",
       "3             1  0  \n",
       "4             1  0  \n",
       "\n",
       "[5 rows x 26 columns]"
      ]
     },
     "execution_count": 3,
     "metadata": {},
     "output_type": "execute_result"
    }
   ],
   "source": [
    "data.head()"
   ]
  },
  {
   "cell_type": "markdown",
   "metadata": {},
   "source": [
    "---"
   ]
  },
  {
   "cell_type": "markdown",
   "metadata": {
    "id": "GcDs78ZH_qRH"
   },
   "source": [
    "2. Investigate the dataset for missing or problematic data."
   ]
  },
  {
   "cell_type": "markdown",
   "metadata": {},
   "source": [
    "**Ans 1.2.** See the structure of the data frame `data`:"
   ]
  },
  {
   "cell_type": "code",
   "execution_count": 4,
   "metadata": {},
   "outputs": [
    {
     "name": "stdout",
     "output_type": "stream",
     "text": [
      "<class 'pandas.core.frame.DataFrame'>\n",
      "RangeIndex: 12684 entries, 0 to 12683\n",
      "Data columns (total 26 columns):\n",
      " #   Column                Non-Null Count  Dtype \n",
      "---  ------                --------------  ----- \n",
      " 0   destination           12684 non-null  object\n",
      " 1   passanger             12684 non-null  object\n",
      " 2   weather               12684 non-null  object\n",
      " 3   temperature           12684 non-null  int64 \n",
      " 4   time                  12684 non-null  object\n",
      " 5   coupon                12684 non-null  object\n",
      " 6   expiration            12684 non-null  object\n",
      " 7   gender                12684 non-null  object\n",
      " 8   age                   12684 non-null  object\n",
      " 9   maritalStatus         12684 non-null  object\n",
      " 10  has_children          12684 non-null  int64 \n",
      " 11  education             12684 non-null  object\n",
      " 12  occupation            12684 non-null  object\n",
      " 13  income                12684 non-null  object\n",
      " 14  car                   108 non-null    object\n",
      " 15  Bar                   12577 non-null  object\n",
      " 16  CoffeeHouse           12467 non-null  object\n",
      " 17  CarryAway             12533 non-null  object\n",
      " 18  RestaurantLessThan20  12554 non-null  object\n",
      " 19  Restaurant20To50      12495 non-null  object\n",
      " 20  toCoupon_GEQ5min      12684 non-null  int64 \n",
      " 21  toCoupon_GEQ15min     12684 non-null  int64 \n",
      " 22  toCoupon_GEQ25min     12684 non-null  int64 \n",
      " 23  direction_same        12684 non-null  int64 \n",
      " 24  direction_opp         12684 non-null  int64 \n",
      " 25  Y                     12684 non-null  int64 \n",
      "dtypes: int64(8), object(18)\n",
      "memory usage: 2.5+ MB\n"
     ]
    }
   ],
   "source": [
    "data.info()"
   ]
  },
  {
   "cell_type": "markdown",
   "metadata": {},
   "source": [
    "In this entire assignment, you need the following columns in addition to the index of this data frame: `passanger` [sic], `coupon`, `age`, `maritalStatus`, `occupation`, `income`, `car`, `Bar`, `RestaurantLessThan20`, and `Y`.\n",
    "\n",
    "Trim the data frame to see only those columns: "
   ]
  },
  {
   "cell_type": "code",
   "execution_count": 5,
   "metadata": {},
   "outputs": [
    {
     "data": {
      "text/html": [
       "<div>\n",
       "<style scoped>\n",
       "    .dataframe tbody tr th:only-of-type {\n",
       "        vertical-align: middle;\n",
       "    }\n",
       "\n",
       "    .dataframe tbody tr th {\n",
       "        vertical-align: top;\n",
       "    }\n",
       "\n",
       "    .dataframe thead th {\n",
       "        text-align: right;\n",
       "    }\n",
       "</style>\n",
       "<table border=\"1\" class=\"dataframe\">\n",
       "  <thead>\n",
       "    <tr style=\"text-align: right;\">\n",
       "      <th></th>\n",
       "      <th>passanger</th>\n",
       "      <th>temperature</th>\n",
       "      <th>coupon</th>\n",
       "      <th>age</th>\n",
       "      <th>maritalStatus</th>\n",
       "      <th>occupation</th>\n",
       "      <th>income</th>\n",
       "      <th>car</th>\n",
       "      <th>Bar</th>\n",
       "      <th>RestaurantLessThan20</th>\n",
       "      <th>Y</th>\n",
       "    </tr>\n",
       "  </thead>\n",
       "  <tbody>\n",
       "    <tr>\n",
       "      <th>0</th>\n",
       "      <td>Alone</td>\n",
       "      <td>55</td>\n",
       "      <td>Restaurant(&lt;20)</td>\n",
       "      <td>21</td>\n",
       "      <td>Unmarried partner</td>\n",
       "      <td>Unemployed</td>\n",
       "      <td>$37500 - $49999</td>\n",
       "      <td>NaN</td>\n",
       "      <td>never</td>\n",
       "      <td>4~8</td>\n",
       "      <td>1</td>\n",
       "    </tr>\n",
       "    <tr>\n",
       "      <th>1</th>\n",
       "      <td>Friend(s)</td>\n",
       "      <td>80</td>\n",
       "      <td>Coffee House</td>\n",
       "      <td>21</td>\n",
       "      <td>Unmarried partner</td>\n",
       "      <td>Unemployed</td>\n",
       "      <td>$37500 - $49999</td>\n",
       "      <td>NaN</td>\n",
       "      <td>never</td>\n",
       "      <td>4~8</td>\n",
       "      <td>0</td>\n",
       "    </tr>\n",
       "    <tr>\n",
       "      <th>2</th>\n",
       "      <td>Friend(s)</td>\n",
       "      <td>80</td>\n",
       "      <td>Carry out &amp; Take away</td>\n",
       "      <td>21</td>\n",
       "      <td>Unmarried partner</td>\n",
       "      <td>Unemployed</td>\n",
       "      <td>$37500 - $49999</td>\n",
       "      <td>NaN</td>\n",
       "      <td>never</td>\n",
       "      <td>4~8</td>\n",
       "      <td>1</td>\n",
       "    </tr>\n",
       "    <tr>\n",
       "      <th>3</th>\n",
       "      <td>Friend(s)</td>\n",
       "      <td>80</td>\n",
       "      <td>Coffee House</td>\n",
       "      <td>21</td>\n",
       "      <td>Unmarried partner</td>\n",
       "      <td>Unemployed</td>\n",
       "      <td>$37500 - $49999</td>\n",
       "      <td>NaN</td>\n",
       "      <td>never</td>\n",
       "      <td>4~8</td>\n",
       "      <td>0</td>\n",
       "    </tr>\n",
       "    <tr>\n",
       "      <th>4</th>\n",
       "      <td>Friend(s)</td>\n",
       "      <td>80</td>\n",
       "      <td>Coffee House</td>\n",
       "      <td>21</td>\n",
       "      <td>Unmarried partner</td>\n",
       "      <td>Unemployed</td>\n",
       "      <td>$37500 - $49999</td>\n",
       "      <td>NaN</td>\n",
       "      <td>never</td>\n",
       "      <td>4~8</td>\n",
       "      <td>0</td>\n",
       "    </tr>\n",
       "  </tbody>\n",
       "</table>\n",
       "</div>"
      ],
      "text/plain": [
       "   passanger  temperature                 coupon age      maritalStatus  \\\n",
       "0      Alone           55        Restaurant(<20)  21  Unmarried partner   \n",
       "1  Friend(s)           80           Coffee House  21  Unmarried partner   \n",
       "2  Friend(s)           80  Carry out & Take away  21  Unmarried partner   \n",
       "3  Friend(s)           80           Coffee House  21  Unmarried partner   \n",
       "4  Friend(s)           80           Coffee House  21  Unmarried partner   \n",
       "\n",
       "   occupation           income  car    Bar RestaurantLessThan20  Y  \n",
       "0  Unemployed  $37500 - $49999  NaN  never                  4~8  1  \n",
       "1  Unemployed  $37500 - $49999  NaN  never                  4~8  0  \n",
       "2  Unemployed  $37500 - $49999  NaN  never                  4~8  1  \n",
       "3  Unemployed  $37500 - $49999  NaN  never                  4~8  0  \n",
       "4  Unemployed  $37500 - $49999  NaN  never                  4~8  0  "
      ]
     },
     "execution_count": 5,
     "metadata": {},
     "output_type": "execute_result"
    }
   ],
   "source": [
    "columns = [\n",
    "    'passanger',\n",
    "    'temperature',\n",
    "    'coupon',\n",
    "    'age',\n",
    "    'maritalStatus',\n",
    "    'occupation',\n",
    "    'income',\n",
    "    'car',\n",
    "    'Bar',\n",
    "    'RestaurantLessThan20',\n",
    "    'Y'\n",
    "    ]\n",
    "\n",
    "data_trim = data[columns]\n",
    "\n",
    "data_trim.head()"
   ]
  },
  {
   "cell_type": "markdown",
   "metadata": {},
   "source": [
    "Count the null records: "
   ]
  },
  {
   "cell_type": "code",
   "execution_count": 6,
   "metadata": {
    "id": "6CwL6oWj_qRH"
   },
   "outputs": [
    {
     "data": {
      "text/plain": [
       "passanger                   0\n",
       "temperature                 0\n",
       "coupon                      0\n",
       "age                         0\n",
       "maritalStatus               0\n",
       "occupation                  0\n",
       "income                      0\n",
       "car                     12576\n",
       "Bar                       107\n",
       "RestaurantLessThan20      130\n",
       "Y                           0\n",
       "dtype: int64"
      ]
     },
     "execution_count": 6,
     "metadata": {},
     "output_type": "execute_result"
    }
   ],
   "source": [
    "data_trim.isnull().sum()"
   ]
  },
  {
   "cell_type": "markdown",
   "metadata": {},
   "source": [
    "Keep in mind, there are several columns containing null entries: `car`, `Bar`, and `RestaurantLessThan20`."
   ]
  },
  {
   "cell_type": "markdown",
   "metadata": {},
   "source": [
    "Next, see all entries for every column: "
   ]
  },
  {
   "cell_type": "code",
   "execution_count": 7,
   "metadata": {},
   "outputs": [
    {
     "data": {
      "text/plain": [
       "passanger\n",
       "Alone        7305\n",
       "Friend(s)    3298\n",
       "Partner      1075\n",
       "Kid(s)       1006\n",
       "Name: count, dtype: int64"
      ]
     },
     "execution_count": 7,
     "metadata": {},
     "output_type": "execute_result"
    }
   ],
   "source": [
    "data_trim['passanger'].value_counts()"
   ]
  },
  {
   "cell_type": "code",
   "execution_count": 8,
   "metadata": {},
   "outputs": [
    {
     "data": {
      "text/plain": [
       "temperature\n",
       "80    6528\n",
       "55    3840\n",
       "30    2316\n",
       "Name: count, dtype: int64"
      ]
     },
     "execution_count": 8,
     "metadata": {},
     "output_type": "execute_result"
    }
   ],
   "source": [
    "data_trim['temperature'].value_counts()"
   ]
  },
  {
   "cell_type": "code",
   "execution_count": 9,
   "metadata": {},
   "outputs": [
    {
     "data": {
      "text/plain": [
       "coupon\n",
       "Coffee House             3996\n",
       "Restaurant(<20)          2786\n",
       "Carry out & Take away    2393\n",
       "Bar                      2017\n",
       "Restaurant(20-50)        1492\n",
       "Name: count, dtype: int64"
      ]
     },
     "execution_count": 9,
     "metadata": {},
     "output_type": "execute_result"
    }
   ],
   "source": [
    "data_trim['coupon'].value_counts()"
   ]
  },
  {
   "cell_type": "code",
   "execution_count": 10,
   "metadata": {},
   "outputs": [
    {
     "data": {
      "text/plain": [
       "age\n",
       "21         2653\n",
       "26         2559\n",
       "31         2039\n",
       "50plus     1788\n",
       "36         1319\n",
       "41         1093\n",
       "46          686\n",
       "below21     547\n",
       "Name: count, dtype: int64"
      ]
     },
     "execution_count": 10,
     "metadata": {},
     "output_type": "execute_result"
    }
   ],
   "source": [
    "data_trim['age'].value_counts()"
   ]
  },
  {
   "cell_type": "markdown",
   "metadata": {},
   "source": [
    "The `age` column has these string entries, and they are not numbers."
   ]
  },
  {
   "cell_type": "code",
   "execution_count": 11,
   "metadata": {},
   "outputs": [
    {
     "data": {
      "text/plain": [
       "maritalStatus\n",
       "Married partner      5100\n",
       "Single               4752\n",
       "Unmarried partner    2186\n",
       "Divorced              516\n",
       "Widowed               130\n",
       "Name: count, dtype: int64"
      ]
     },
     "execution_count": 11,
     "metadata": {},
     "output_type": "execute_result"
    }
   ],
   "source": [
    "data_trim['maritalStatus'].value_counts()"
   ]
  },
  {
   "cell_type": "code",
   "execution_count": 12,
   "metadata": {},
   "outputs": [
    {
     "data": {
      "text/plain": [
       "occupation\n",
       "Unemployed                                   1870\n",
       "Student                                      1584\n",
       "Computer & Mathematical                      1408\n",
       "Sales & Related                              1093\n",
       "Education&Training&Library                    943\n",
       "Management                                    838\n",
       "Office & Administrative Support               639\n",
       "Arts Design Entertainment Sports & Media      629\n",
       "Business & Financial                          544\n",
       "Retired                                       495\n",
       "Food Preparation & Serving Related            298\n",
       "Healthcare Practitioners & Technical          244\n",
       "Healthcare Support                            242\n",
       "Community & Social Services                   241\n",
       "Legal                                         219\n",
       "Transportation & Material Moving              218\n",
       "Architecture & Engineering                    175\n",
       "Personal Care & Service                       175\n",
       "Protective Service                            175\n",
       "Life Physical Social Science                  170\n",
       "Construction & Extraction                     154\n",
       "Installation Maintenance & Repair             133\n",
       "Production Occupations                        110\n",
       "Building & Grounds Cleaning & Maintenance      44\n",
       "Farming Fishing & Forestry                     43\n",
       "Name: count, dtype: int64"
      ]
     },
     "execution_count": 12,
     "metadata": {},
     "output_type": "execute_result"
    }
   ],
   "source": [
    "data_trim['occupation'].value_counts()"
   ]
  },
  {
   "cell_type": "code",
   "execution_count": 13,
   "metadata": {},
   "outputs": [
    {
     "data": {
      "text/plain": [
       "income\n",
       "$25000 - $37499     2013\n",
       "$12500 - $24999     1831\n",
       "$37500 - $49999     1805\n",
       "$100000 or More     1736\n",
       "$50000 - $62499     1659\n",
       "Less than $12500    1042\n",
       "$87500 - $99999      895\n",
       "$75000 - $87499      857\n",
       "$62500 - $74999      846\n",
       "Name: count, dtype: int64"
      ]
     },
     "execution_count": 13,
     "metadata": {},
     "output_type": "execute_result"
    }
   ],
   "source": [
    "data['income'].value_counts()"
   ]
  },
  {
   "cell_type": "code",
   "execution_count": 14,
   "metadata": {
    "id": "tyvoAC5F_qRI"
   },
   "outputs": [
    {
     "data": {
      "text/plain": [
       "car\n",
       "Scooter and motorcycle                      22\n",
       "Mazda5                                      22\n",
       "do not drive                                22\n",
       "crossover                                   21\n",
       "Car that is too old to install Onstar :D    21\n",
       "Name: count, dtype: int64"
      ]
     },
     "execution_count": 14,
     "metadata": {},
     "output_type": "execute_result"
    }
   ],
   "source": [
    "data['car'].value_counts()"
   ]
  },
  {
   "cell_type": "markdown",
   "metadata": {},
   "source": [
    "The `car` column needs special care. There are as many as 12,576 null records, and some entries are irrelevant in this study: `do not drive` and `Car that is too old to install Onstar :D`.\n",
    "\n",
    "Nonetheless, you can keep the null records for those who skipped this field because they are the vast majority of the entire records:"
   ]
  },
  {
   "cell_type": "code",
   "execution_count": 15,
   "metadata": {},
   "outputs": [
    {
     "data": {
      "text/plain": [
       "np.float64(0.9914853358561968)"
      ]
     },
     "execution_count": 15,
     "metadata": {},
     "output_type": "execute_result"
    }
   ],
   "source": [
    "data['car'].isnull().sum() / data.shape[0]"
   ]
  },
  {
   "cell_type": "markdown",
   "metadata": {},
   "source": [
    "Include those 99.1% records with null values in the `car` field."
   ]
  },
  {
   "cell_type": "code",
   "execution_count": 16,
   "metadata": {},
   "outputs": [
    {
     "data": {
      "text/plain": [
       "Bar\n",
       "never    5197\n",
       "less1    3482\n",
       "1~3      2473\n",
       "4~8      1076\n",
       "gt8       349\n",
       "Name: count, dtype: int64"
      ]
     },
     "execution_count": 16,
     "metadata": {},
     "output_type": "execute_result"
    }
   ],
   "source": [
    "data_trim['Bar'].value_counts()"
   ]
  },
  {
   "cell_type": "markdown",
   "metadata": {},
   "source": [
    "As seen earlier, there are 107 null entries in the `Bar` column."
   ]
  },
  {
   "cell_type": "code",
   "execution_count": 17,
   "metadata": {},
   "outputs": [
    {
     "data": {
      "text/plain": [
       "RestaurantLessThan20\n",
       "1~3      5376\n",
       "4~8      3580\n",
       "less1    2093\n",
       "gt8      1285\n",
       "never     220\n",
       "Name: count, dtype: int64"
      ]
     },
     "execution_count": 17,
     "metadata": {},
     "output_type": "execute_result"
    }
   ],
   "source": [
    "data_trim['RestaurantLessThan20'].value_counts()"
   ]
  },
  {
   "cell_type": "markdown",
   "metadata": {},
   "source": [
    "As seen earlier, there are 130 null entries in the `RestaurantLessThan20` column."
   ]
  },
  {
   "cell_type": "code",
   "execution_count": 18,
   "metadata": {},
   "outputs": [
    {
     "data": {
      "text/plain": [
       "Y\n",
       "1    7210\n",
       "0    5474\n",
       "Name: count, dtype: int64"
      ]
     },
     "execution_count": 18,
     "metadata": {},
     "output_type": "execute_result"
    }
   ],
   "source": [
    "data_trim['Y'].value_counts()"
   ]
  },
  {
   "cell_type": "markdown",
   "metadata": {},
   "source": [
    "In addition to the issue in the `car` column, there could be more issues in the other columns we do not use in this assignment."
   ]
  },
  {
   "cell_type": "markdown",
   "metadata": {
    "id": "bSdVSpYB_qRH"
   },
   "source": [
    "3. Decide what to do about your missing data -- drop, replace, other..."
   ]
  },
  {
   "cell_type": "markdown",
   "metadata": {},
   "source": [
    "**Ans 1.3.** Remove records whose `car` field has `do not drive` or `Car that is too old to install Onstar :D` because those people should not have participated in this survey.\n",
    "\n",
    "First, select those records to remove: "
   ]
  },
  {
   "cell_type": "code",
   "execution_count": 19,
   "metadata": {},
   "outputs": [],
   "source": [
    "car_bad = [\n",
    "    'do not drive',\n",
    "    'Car that is too old to install Onstar :D'\n",
    "    ]\n",
    "\n",
    "data_trim_carvalid = data_trim.query('car not in @car_bad')"
   ]
  },
  {
   "cell_type": "markdown",
   "metadata": {},
   "source": [
    "Ensure that this data frame only include records with good values in the `car` fields: "
   ]
  },
  {
   "cell_type": "code",
   "execution_count": 20,
   "metadata": {},
   "outputs": [
    {
     "data": {
      "text/plain": [
       "car\n",
       "Scooter and motorcycle    22\n",
       "Mazda5                    22\n",
       "crossover                 21\n",
       "Name: count, dtype: int64"
      ]
     },
     "execution_count": 20,
     "metadata": {},
     "output_type": "execute_result"
    }
   ],
   "source": [
    "data_trim_carvalid['car'].value_counts()"
   ]
  },
  {
   "cell_type": "code",
   "execution_count": 21,
   "metadata": {},
   "outputs": [
    {
     "data": {
      "text/plain": [
       "12641"
      ]
     },
     "execution_count": 21,
     "metadata": {},
     "output_type": "execute_result"
    }
   ],
   "source": [
    "data_trim_carvalid.shape[0]"
   ]
  },
  {
   "cell_type": "markdown",
   "metadata": {},
   "source": [
    "The total number of the records in the original data frame `data` is"
   ]
  },
  {
   "cell_type": "code",
   "execution_count": 22,
   "metadata": {},
   "outputs": [
    {
     "data": {
      "text/plain": [
       "12684"
      ]
     },
     "execution_count": 22,
     "metadata": {},
     "output_type": "execute_result"
    }
   ],
   "source": [
    "data.shape[0]"
   ]
  },
  {
   "cell_type": "markdown",
   "metadata": {},
   "source": [
    "This total number is 43 greater than that of `data_trim_carvalid` after subtracting 43 bad records.  From now on, use the second data frame.\n",
    "\n",
    "---"
   ]
  },
  {
   "cell_type": "markdown",
   "metadata": {
    "id": "YE6oJbXd_qRI"
   },
   "source": [
    "4. What proportion of the total observations chose to accept the coupon?\n",
    "\n"
   ]
  },
  {
   "cell_type": "markdown",
   "metadata": {
    "id": "86GGqBTv_qRI"
   },
   "source": [
    "**Ans 1.4.** See the `Y` column and its definition in the problem statement, and split those people into two groups: \n",
    "\n",
    "* **The `Y` field is 1:** People who have answered _\"right away\"_ or _\"later before the coupon expires\"_\n",
    "* **The `Y` field is 0:** The other people who have answered _\"no, I do not want the coupon\"_\n",
    "\n",
    "As mentioned earlier, there is no null entry in the `Y` column. Hence all records have either 1 or 0 in the `Y` field. Hence you can get the acceptance rate from the number of the records in the first group divided by that of records in the entire data frame:"
   ]
  },
  {
   "cell_type": "code",
   "execution_count": 23,
   "metadata": {},
   "outputs": [
    {
     "data": {
      "text/plain": [
       "0.5682303615220314"
      ]
     },
     "execution_count": 23,
     "metadata": {},
     "output_type": "execute_result"
    }
   ],
   "source": [
    "data_trim_carvalid.query('Y == 1').shape[0] \\\n",
    "    / data_trim_carvalid.shape[0]"
   ]
  },
  {
   "cell_type": "markdown",
   "metadata": {},
   "source": [
    "The acceptance rate of the all people is approximately **56.8%**.\n",
    "\n",
    "---"
   ]
  },
  {
   "cell_type": "markdown",
   "metadata": {
    "id": "vflz0DoE_qRI"
   },
   "source": [
    "5. Use a bar plot to visualize the `coupon` column."
   ]
  },
  {
   "cell_type": "markdown",
   "metadata": {},
   "source": [
    "**Ans 1.5.** Count the `coupon` entries in the trimmed data frame:"
   ]
  },
  {
   "cell_type": "code",
   "execution_count": 24,
   "metadata": {},
   "outputs": [
    {
     "data": {
      "text/html": [
       "<div>\n",
       "<style scoped>\n",
       "    .dataframe tbody tr th:only-of-type {\n",
       "        vertical-align: middle;\n",
       "    }\n",
       "\n",
       "    .dataframe tbody tr th {\n",
       "        vertical-align: top;\n",
       "    }\n",
       "\n",
       "    .dataframe thead th {\n",
       "        text-align: right;\n",
       "    }\n",
       "</style>\n",
       "<table border=\"1\" class=\"dataframe\">\n",
       "  <thead>\n",
       "    <tr style=\"text-align: right;\">\n",
       "      <th></th>\n",
       "      <th>coupon</th>\n",
       "      <th>count</th>\n",
       "    </tr>\n",
       "  </thead>\n",
       "  <tbody>\n",
       "    <tr>\n",
       "      <th>0</th>\n",
       "      <td>Coffee House</td>\n",
       "      <td>3983</td>\n",
       "    </tr>\n",
       "    <tr>\n",
       "      <th>1</th>\n",
       "      <td>Restaurant(&lt;20)</td>\n",
       "      <td>2776</td>\n",
       "    </tr>\n",
       "    <tr>\n",
       "      <th>2</th>\n",
       "      <td>Carry out &amp; Take away</td>\n",
       "      <td>2385</td>\n",
       "    </tr>\n",
       "    <tr>\n",
       "      <th>3</th>\n",
       "      <td>Bar</td>\n",
       "      <td>2013</td>\n",
       "    </tr>\n",
       "    <tr>\n",
       "      <th>4</th>\n",
       "      <td>Restaurant(20-50)</td>\n",
       "      <td>1484</td>\n",
       "    </tr>\n",
       "  </tbody>\n",
       "</table>\n",
       "</div>"
      ],
      "text/plain": [
       "                  coupon  count\n",
       "0           Coffee House   3983\n",
       "1        Restaurant(<20)   2776\n",
       "2  Carry out & Take away   2385\n",
       "3                    Bar   2013\n",
       "4      Restaurant(20-50)   1484"
      ]
     },
     "execution_count": 24,
     "metadata": {},
     "output_type": "execute_result"
    }
   ],
   "source": [
    "coupon_count = data_trim_carvalid[['coupon']]\\\n",
    "    .value_counts().to_frame().reset_index()\n",
    "\n",
    "coupon_count "
   ]
  },
  {
   "cell_type": "markdown",
   "metadata": {},
   "source": [
    "Draw a bar graph for the count of every coupon type by using Seaborn:"
   ]
  },
  {
   "cell_type": "code",
   "execution_count": 25,
   "metadata": {},
   "outputs": [
    {
     "data": {
      "image/png": "[encoded data removed]",
      "text/plain": [
       "<Figure size 640x480 with 1 Axes>"
      ]
     },
     "metadata": {},
     "output_type": "display_data"
    }
   ],
   "source": [
    "sns.barplot(data=coupon_count, x='count', y='coupon')\n",
    "\n",
    "plt.title('# of every type of coupons')\n",
    "plt.xlabel('# of Coupons')\n",
    "plt.ylabel('Type of coupon')\n",
    "\n",
    "plt.show()"
   ]
  },
  {
   "cell_type": "markdown",
   "metadata": {},
   "source": [
    "---"
   ]
  },
  {
   "cell_type": "markdown",
   "metadata": {
    "id": "Qw4lCyx2_qRI"
   },
   "source": [
    "6. Use a histogram to visualize the temperature column."
   ]
  },
  {
   "cell_type": "markdown",
   "metadata": {},
   "source": [
    "**Ans 1.6.** Draw a histogram of the temperature. The $x$ axis is for the temperature in Fahrenheit and the $y$ axis is for the number of records. At this time use the plotting feature of Pandas:"
   ]
  },
  {
   "cell_type": "code",
   "execution_count": 26,
   "metadata": {
    "id": "Yg9Anv71_qRI"
   },
   "outputs": [
    {
     "data": {
      "image/png": "[encoded data removed]",
      "text/plain": [
       "<Figure size 640x480 with 1 Axes>"
      ]
     },
     "metadata": {},
     "output_type": "display_data"
    }
   ],
   "source": [
    "# data_trim_carvalid[['temperature']].hist()\n",
    "data_trim_carvalid[['temperature']].plot(\\\n",
    "    kind='hist',\n",
    "    title=\"# of records for every outdoor temperature (F)\",\n",
    "    xlabel=\"Outdoor temperature (F)\",\n",
    "    ylabel=\"# of records\",\n",
    "    legend=False\n",
    "    )\n",
    "\n",
    "plt.show()"
   ]
  },
  {
   "cell_type": "markdown",
   "metadata": {},
   "source": [
    "---"
   ]
  },
  {
   "cell_type": "markdown",
   "metadata": {
    "id": "FupfgeJk_qRJ"
   },
   "source": [
    "**Investigating the Bar Coupons**\n",
    "\n",
    "Now, we will lead you through an exploration of just the bar related coupons.  \n",
    "\n",
    "1. Create a new `DataFrame` that contains just the bar coupons.\n"
   ]
  },
  {
   "cell_type": "markdown",
   "metadata": {},
   "source": [
    "**Ans 2.1.** Create the data frame `DataFrame` from the data frame `data_trim_carvalid` where the `coupon` field is `Bar`:"
   ]
  },
  {
   "cell_type": "code",
   "execution_count": 27,
   "metadata": {
    "id": "tMBlWuGq_qRJ"
   },
   "outputs": [],
   "source": [
    "DataFrame = data_trim_carvalid.query('coupon == \"Bar\"')"
   ]
  },
  {
   "cell_type": "markdown",
   "metadata": {},
   "source": [
    "Ensure that the data frame was made: "
   ]
  },
  {
   "cell_type": "code",
   "execution_count": 28,
   "metadata": {},
   "outputs": [
    {
     "data": {
      "text/html": [
       "<div>\n",
       "<style scoped>\n",
       "    .dataframe tbody tr th:only-of-type {\n",
       "        vertical-align: middle;\n",
       "    }\n",
       "\n",
       "    .dataframe tbody tr th {\n",
       "        vertical-align: top;\n",
       "    }\n",
       "\n",
       "    .dataframe thead th {\n",
       "        text-align: right;\n",
       "    }\n",
       "</style>\n",
       "<table border=\"1\" class=\"dataframe\">\n",
       "  <thead>\n",
       "    <tr style=\"text-align: right;\">\n",
       "      <th></th>\n",
       "      <th>passanger</th>\n",
       "      <th>temperature</th>\n",
       "      <th>coupon</th>\n",
       "      <th>age</th>\n",
       "      <th>maritalStatus</th>\n",
       "      <th>occupation</th>\n",
       "      <th>income</th>\n",
       "      <th>car</th>\n",
       "      <th>Bar</th>\n",
       "      <th>RestaurantLessThan20</th>\n",
       "      <th>Y</th>\n",
       "    </tr>\n",
       "  </thead>\n",
       "  <tbody>\n",
       "    <tr>\n",
       "      <th>9</th>\n",
       "      <td>Kid(s)</td>\n",
       "      <td>80</td>\n",
       "      <td>Bar</td>\n",
       "      <td>21</td>\n",
       "      <td>Unmarried partner</td>\n",
       "      <td>Unemployed</td>\n",
       "      <td>$37500 - $49999</td>\n",
       "      <td>NaN</td>\n",
       "      <td>never</td>\n",
       "      <td>4~8</td>\n",
       "      <td>0</td>\n",
       "    </tr>\n",
       "    <tr>\n",
       "      <th>13</th>\n",
       "      <td>Alone</td>\n",
       "      <td>55</td>\n",
       "      <td>Bar</td>\n",
       "      <td>21</td>\n",
       "      <td>Unmarried partner</td>\n",
       "      <td>Unemployed</td>\n",
       "      <td>$37500 - $49999</td>\n",
       "      <td>NaN</td>\n",
       "      <td>never</td>\n",
       "      <td>4~8</td>\n",
       "      <td>1</td>\n",
       "    </tr>\n",
       "    <tr>\n",
       "      <th>17</th>\n",
       "      <td>Alone</td>\n",
       "      <td>55</td>\n",
       "      <td>Bar</td>\n",
       "      <td>21</td>\n",
       "      <td>Unmarried partner</td>\n",
       "      <td>Unemployed</td>\n",
       "      <td>$37500 - $49999</td>\n",
       "      <td>NaN</td>\n",
       "      <td>never</td>\n",
       "      <td>4~8</td>\n",
       "      <td>0</td>\n",
       "    </tr>\n",
       "    <tr>\n",
       "      <th>24</th>\n",
       "      <td>Friend(s)</td>\n",
       "      <td>80</td>\n",
       "      <td>Bar</td>\n",
       "      <td>21</td>\n",
       "      <td>Single</td>\n",
       "      <td>Architecture &amp; Engineering</td>\n",
       "      <td>$62500 - $74999</td>\n",
       "      <td>NaN</td>\n",
       "      <td>never</td>\n",
       "      <td>4~8</td>\n",
       "      <td>1</td>\n",
       "    </tr>\n",
       "    <tr>\n",
       "      <th>35</th>\n",
       "      <td>Alone</td>\n",
       "      <td>55</td>\n",
       "      <td>Bar</td>\n",
       "      <td>21</td>\n",
       "      <td>Single</td>\n",
       "      <td>Architecture &amp; Engineering</td>\n",
       "      <td>$62500 - $74999</td>\n",
       "      <td>NaN</td>\n",
       "      <td>never</td>\n",
       "      <td>4~8</td>\n",
       "      <td>1</td>\n",
       "    </tr>\n",
       "  </tbody>\n",
       "</table>\n",
       "</div>"
      ],
      "text/plain": [
       "    passanger  temperature coupon age      maritalStatus  \\\n",
       "9      Kid(s)           80    Bar  21  Unmarried partner   \n",
       "13      Alone           55    Bar  21  Unmarried partner   \n",
       "17      Alone           55    Bar  21  Unmarried partner   \n",
       "24  Friend(s)           80    Bar  21             Single   \n",
       "35      Alone           55    Bar  21             Single   \n",
       "\n",
       "                    occupation           income  car    Bar  \\\n",
       "9                   Unemployed  $37500 - $49999  NaN  never   \n",
       "13                  Unemployed  $37500 - $49999  NaN  never   \n",
       "17                  Unemployed  $37500 - $49999  NaN  never   \n",
       "24  Architecture & Engineering  $62500 - $74999  NaN  never   \n",
       "35  Architecture & Engineering  $62500 - $74999  NaN  never   \n",
       "\n",
       "   RestaurantLessThan20  Y  \n",
       "9                   4~8  0  \n",
       "13                  4~8  1  \n",
       "17                  4~8  0  \n",
       "24                  4~8  1  \n",
       "35                  4~8  1  "
      ]
     },
     "execution_count": 28,
     "metadata": {},
     "output_type": "execute_result"
    }
   ],
   "source": [
    "DataFrame.head()"
   ]
  },
  {
   "cell_type": "markdown",
   "metadata": {},
   "source": [
    "---"
   ]
  },
  {
   "cell_type": "markdown",
   "metadata": {
    "id": "8ue6uCqf_qRJ"
   },
   "source": [
    "2. What proportion of bar coupons were accepted?\n"
   ]
  },
  {
   "cell_type": "markdown",
   "metadata": {},
   "source": [
    "**Ans 2.2.** The data frame `DataFrame` only contains all the people who received the bar coupons. And there is no null entry in the `Y` column as seen earlier. Therefore, you can get the acceptance rate by counting the number of all records whose `Y` field is 1 divided by the total number of recordfs of this data frame:"
   ]
  },
  {
   "cell_type": "code",
   "execution_count": 29,
   "metadata": {},
   "outputs": [
    {
     "data": {
      "text/plain": [
       "0.4098360655737705"
      ]
     },
     "execution_count": 29,
     "metadata": {},
     "output_type": "execute_result"
    }
   ],
   "source": [
    "DataFrame.query('Y == 1').shape[0] / DataFrame.shape[0]"
   ]
  },
  {
   "cell_type": "markdown",
   "metadata": {},
   "source": [
    "It is approximately 41.0%.\n",
    "\n",
    "---"
   ]
  },
  {
   "cell_type": "markdown",
   "metadata": {
    "id": "85nA_iEi_qRK"
   },
   "source": [
    "3. Compare the acceptance rate between those who went to a bar 3 or fewer times a month to those who went more.\n"
   ]
  },
  {
   "cell_type": "markdown",
   "metadata": {},
   "source": [
    "**Ans 2.3.** Trim the dataframe `DataFrame` for the records of people who went to any bar three or fewer times, that is, those who have answered _\"Never\"_, _\"Less than 1 time\"_, or _\"Between 1 time and 3 times\"_:"
   ]
  },
  {
   "cell_type": "code",
   "execution_count": 30,
   "metadata": {},
   "outputs": [
    {
     "data": {
      "text/html": [
       "<div>\n",
       "<style scoped>\n",
       "    .dataframe tbody tr th:only-of-type {\n",
       "        vertical-align: middle;\n",
       "    }\n",
       "\n",
       "    .dataframe tbody tr th {\n",
       "        vertical-align: top;\n",
       "    }\n",
       "\n",
       "    .dataframe thead th {\n",
       "        text-align: right;\n",
       "    }\n",
       "</style>\n",
       "<table border=\"1\" class=\"dataframe\">\n",
       "  <thead>\n",
       "    <tr style=\"text-align: right;\">\n",
       "      <th></th>\n",
       "      <th>passanger</th>\n",
       "      <th>temperature</th>\n",
       "      <th>coupon</th>\n",
       "      <th>age</th>\n",
       "      <th>maritalStatus</th>\n",
       "      <th>occupation</th>\n",
       "      <th>income</th>\n",
       "      <th>car</th>\n",
       "      <th>Bar</th>\n",
       "      <th>RestaurantLessThan20</th>\n",
       "      <th>Y</th>\n",
       "    </tr>\n",
       "  </thead>\n",
       "  <tbody>\n",
       "    <tr>\n",
       "      <th>9</th>\n",
       "      <td>Kid(s)</td>\n",
       "      <td>80</td>\n",
       "      <td>Bar</td>\n",
       "      <td>21</td>\n",
       "      <td>Unmarried partner</td>\n",
       "      <td>Unemployed</td>\n",
       "      <td>$37500 - $49999</td>\n",
       "      <td>NaN</td>\n",
       "      <td>never</td>\n",
       "      <td>4~8</td>\n",
       "      <td>0</td>\n",
       "    </tr>\n",
       "    <tr>\n",
       "      <th>13</th>\n",
       "      <td>Alone</td>\n",
       "      <td>55</td>\n",
       "      <td>Bar</td>\n",
       "      <td>21</td>\n",
       "      <td>Unmarried partner</td>\n",
       "      <td>Unemployed</td>\n",
       "      <td>$37500 - $49999</td>\n",
       "      <td>NaN</td>\n",
       "      <td>never</td>\n",
       "      <td>4~8</td>\n",
       "      <td>1</td>\n",
       "    </tr>\n",
       "    <tr>\n",
       "      <th>17</th>\n",
       "      <td>Alone</td>\n",
       "      <td>55</td>\n",
       "      <td>Bar</td>\n",
       "      <td>21</td>\n",
       "      <td>Unmarried partner</td>\n",
       "      <td>Unemployed</td>\n",
       "      <td>$37500 - $49999</td>\n",
       "      <td>NaN</td>\n",
       "      <td>never</td>\n",
       "      <td>4~8</td>\n",
       "      <td>0</td>\n",
       "    </tr>\n",
       "    <tr>\n",
       "      <th>24</th>\n",
       "      <td>Friend(s)</td>\n",
       "      <td>80</td>\n",
       "      <td>Bar</td>\n",
       "      <td>21</td>\n",
       "      <td>Single</td>\n",
       "      <td>Architecture &amp; Engineering</td>\n",
       "      <td>$62500 - $74999</td>\n",
       "      <td>NaN</td>\n",
       "      <td>never</td>\n",
       "      <td>4~8</td>\n",
       "      <td>1</td>\n",
       "    </tr>\n",
       "    <tr>\n",
       "      <th>35</th>\n",
       "      <td>Alone</td>\n",
       "      <td>55</td>\n",
       "      <td>Bar</td>\n",
       "      <td>21</td>\n",
       "      <td>Single</td>\n",
       "      <td>Architecture &amp; Engineering</td>\n",
       "      <td>$62500 - $74999</td>\n",
       "      <td>NaN</td>\n",
       "      <td>never</td>\n",
       "      <td>4~8</td>\n",
       "      <td>1</td>\n",
       "    </tr>\n",
       "  </tbody>\n",
       "</table>\n",
       "</div>"
      ],
      "text/plain": [
       "    passanger  temperature coupon age      maritalStatus  \\\n",
       "9      Kid(s)           80    Bar  21  Unmarried partner   \n",
       "13      Alone           55    Bar  21  Unmarried partner   \n",
       "17      Alone           55    Bar  21  Unmarried partner   \n",
       "24  Friend(s)           80    Bar  21             Single   \n",
       "35      Alone           55    Bar  21             Single   \n",
       "\n",
       "                    occupation           income  car    Bar  \\\n",
       "9                   Unemployed  $37500 - $49999  NaN  never   \n",
       "13                  Unemployed  $37500 - $49999  NaN  never   \n",
       "17                  Unemployed  $37500 - $49999  NaN  never   \n",
       "24  Architecture & Engineering  $62500 - $74999  NaN  never   \n",
       "35  Architecture & Engineering  $62500 - $74999  NaN  never   \n",
       "\n",
       "   RestaurantLessThan20  Y  \n",
       "9                   4~8  0  \n",
       "13                  4~8  1  \n",
       "17                  4~8  0  \n",
       "24                  4~8  1  \n",
       "35                  4~8  1  "
      ]
     },
     "execution_count": 30,
     "metadata": {},
     "output_type": "execute_result"
    }
   ],
   "source": [
    "bar_few = DataFrame.query('Bar in [\"never\", \"less1\", \"1~3\"]')\n",
    "\n",
    "bar_few.head()"
   ]
  },
  {
   "cell_type": "markdown",
   "metadata": {},
   "source": [
    "Similarly, trim the dataframe `DataFrame` for those who went to any bar 4 times or more, that is, those who have answered _\"Between 4 times and 8 times\"_ or _\"More than 8 times\"_: "
   ]
  },
  {
   "cell_type": "code",
   "execution_count": 31,
   "metadata": {},
   "outputs": [
    {
     "data": {
      "text/html": [
       "<div>\n",
       "<style scoped>\n",
       "    .dataframe tbody tr th:only-of-type {\n",
       "        vertical-align: middle;\n",
       "    }\n",
       "\n",
       "    .dataframe tbody tr th {\n",
       "        vertical-align: top;\n",
       "    }\n",
       "\n",
       "    .dataframe thead th {\n",
       "        text-align: right;\n",
       "    }\n",
       "</style>\n",
       "<table border=\"1\" class=\"dataframe\">\n",
       "  <thead>\n",
       "    <tr style=\"text-align: right;\">\n",
       "      <th></th>\n",
       "      <th>passanger</th>\n",
       "      <th>temperature</th>\n",
       "      <th>coupon</th>\n",
       "      <th>age</th>\n",
       "      <th>maritalStatus</th>\n",
       "      <th>occupation</th>\n",
       "      <th>income</th>\n",
       "      <th>car</th>\n",
       "      <th>Bar</th>\n",
       "      <th>RestaurantLessThan20</th>\n",
       "      <th>Y</th>\n",
       "    </tr>\n",
       "  </thead>\n",
       "  <tbody>\n",
       "    <tr>\n",
       "      <th>156</th>\n",
       "      <td>Friend(s)</td>\n",
       "      <td>80</td>\n",
       "      <td>Bar</td>\n",
       "      <td>26</td>\n",
       "      <td>Single</td>\n",
       "      <td>Healthcare Support</td>\n",
       "      <td>$37500 - $49999</td>\n",
       "      <td>NaN</td>\n",
       "      <td>gt8</td>\n",
       "      <td>gt8</td>\n",
       "      <td>1</td>\n",
       "    </tr>\n",
       "    <tr>\n",
       "      <th>167</th>\n",
       "      <td>Alone</td>\n",
       "      <td>55</td>\n",
       "      <td>Bar</td>\n",
       "      <td>26</td>\n",
       "      <td>Single</td>\n",
       "      <td>Healthcare Support</td>\n",
       "      <td>$37500 - $49999</td>\n",
       "      <td>NaN</td>\n",
       "      <td>gt8</td>\n",
       "      <td>gt8</td>\n",
       "      <td>1</td>\n",
       "    </tr>\n",
       "    <tr>\n",
       "      <th>171</th>\n",
       "      <td>Alone</td>\n",
       "      <td>55</td>\n",
       "      <td>Bar</td>\n",
       "      <td>26</td>\n",
       "      <td>Single</td>\n",
       "      <td>Healthcare Support</td>\n",
       "      <td>$37500 - $49999</td>\n",
       "      <td>NaN</td>\n",
       "      <td>gt8</td>\n",
       "      <td>gt8</td>\n",
       "      <td>1</td>\n",
       "    </tr>\n",
       "    <tr>\n",
       "      <th>454</th>\n",
       "      <td>Friend(s)</td>\n",
       "      <td>80</td>\n",
       "      <td>Bar</td>\n",
       "      <td>31</td>\n",
       "      <td>Single</td>\n",
       "      <td>Management</td>\n",
       "      <td>$50000 - $62499</td>\n",
       "      <td>NaN</td>\n",
       "      <td>gt8</td>\n",
       "      <td>gt8</td>\n",
       "      <td>0</td>\n",
       "    </tr>\n",
       "    <tr>\n",
       "      <th>465</th>\n",
       "      <td>Alone</td>\n",
       "      <td>55</td>\n",
       "      <td>Bar</td>\n",
       "      <td>31</td>\n",
       "      <td>Single</td>\n",
       "      <td>Management</td>\n",
       "      <td>$50000 - $62499</td>\n",
       "      <td>NaN</td>\n",
       "      <td>gt8</td>\n",
       "      <td>gt8</td>\n",
       "      <td>1</td>\n",
       "    </tr>\n",
       "  </tbody>\n",
       "</table>\n",
       "</div>"
      ],
      "text/plain": [
       "     passanger  temperature coupon age maritalStatus          occupation  \\\n",
       "156  Friend(s)           80    Bar  26        Single  Healthcare Support   \n",
       "167      Alone           55    Bar  26        Single  Healthcare Support   \n",
       "171      Alone           55    Bar  26        Single  Healthcare Support   \n",
       "454  Friend(s)           80    Bar  31        Single          Management   \n",
       "465      Alone           55    Bar  31        Single          Management   \n",
       "\n",
       "              income  car  Bar RestaurantLessThan20  Y  \n",
       "156  $37500 - $49999  NaN  gt8                  gt8  1  \n",
       "167  $37500 - $49999  NaN  gt8                  gt8  1  \n",
       "171  $37500 - $49999  NaN  gt8                  gt8  1  \n",
       "454  $50000 - $62499  NaN  gt8                  gt8  0  \n",
       "465  $50000 - $62499  NaN  gt8                  gt8  1  "
      ]
     },
     "execution_count": 31,
     "metadata": {},
     "output_type": "execute_result"
    }
   ],
   "source": [
    "bar_many = DataFrame.query('Bar in [\"4~8\", \"gt8\"]')\n",
    "\n",
    "bar_many.head()"
   ]
  },
  {
   "cell_type": "markdown",
   "metadata": {},
   "source": [
    "Like the previous problem, count the records who have accepted the bar coupon ($Y = 1$) and divide it by the total number for each group. First, calculate the acceptance rate of the first group for people who go to a bar 3 times or less:"
   ]
  },
  {
   "cell_type": "code",
   "execution_count": 32,
   "metadata": {},
   "outputs": [
    {
     "data": {
      "text/plain": [
       "np.float64(0.3710306406685237)"
      ]
     },
     "execution_count": 32,
     "metadata": {},
     "output_type": "execute_result"
    }
   ],
   "source": [
    "bar_few[['Y']].value_counts()[1] / bar_few.shape[0]"
   ]
  },
  {
   "cell_type": "markdown",
   "metadata": {},
   "source": [
    "Repeat it for the other group of people who went to bars 4 times or more:"
   ]
  },
  {
   "cell_type": "code",
   "execution_count": 33,
   "metadata": {},
   "outputs": [
    {
     "data": {
      "text/plain": [
       "np.float64(0.766497461928934)"
      ]
     },
     "execution_count": 33,
     "metadata": {},
     "output_type": "execute_result"
    }
   ],
   "source": [
    "bar_many[['Y']].value_counts()[1] / bar_many.shape[0]"
   ]
  },
  {
   "cell_type": "markdown",
   "metadata": {},
   "source": [
    "Hence the coupon acceptance rate of those who went to the bar 3 times or less is significantly lower than the one of the other group of people who went to bars 4 times or more: 37.1% vs. 76.6%.\n",
    "\n",
    "---"
   ]
  },
  {
   "cell_type": "markdown",
   "metadata": {
    "id": "RBgcQwH4_qRK"
   },
   "source": [
    "4. Compare the acceptance rate between drivers who go to a bar more than once a month and are over the age of 25 to the all others.  Is there a difference?"
   ]
  },
  {
   "cell_type": "markdown",
   "metadata": {
    "id": "bf28bbeX_qRK"
   },
   "source": [
    "**Ans 2.4.** Compare the two groups in the people who received the bar coupons: \n",
    "\n",
    "* *Group 4a*: {Go to a bar more than ~once~ <ins>three times</ins> a month} _and also_ {over the age of 25}\n",
    "* *Group 4b*: all others"
   ]
  },
  {
   "cell_type": "markdown",
   "metadata": {},
   "source": [
    "*Group 4a* is part of the dataframe `data_bar_many` for those who went to the bar 4 times or more in the previous problem. Select those records for the age of over 25:"
   ]
  },
  {
   "cell_type": "code",
   "execution_count": 34,
   "metadata": {},
   "outputs": [
    {
     "data": {
      "text/html": [
       "<div>\n",
       "<style scoped>\n",
       "    .dataframe tbody tr th:only-of-type {\n",
       "        vertical-align: middle;\n",
       "    }\n",
       "\n",
       "    .dataframe tbody tr th {\n",
       "        vertical-align: top;\n",
       "    }\n",
       "\n",
       "    .dataframe thead th {\n",
       "        text-align: right;\n",
       "    }\n",
       "</style>\n",
       "<table border=\"1\" class=\"dataframe\">\n",
       "  <thead>\n",
       "    <tr style=\"text-align: right;\">\n",
       "      <th></th>\n",
       "      <th>passanger</th>\n",
       "      <th>temperature</th>\n",
       "      <th>coupon</th>\n",
       "      <th>age</th>\n",
       "      <th>maritalStatus</th>\n",
       "      <th>occupation</th>\n",
       "      <th>income</th>\n",
       "      <th>car</th>\n",
       "      <th>Bar</th>\n",
       "      <th>RestaurantLessThan20</th>\n",
       "      <th>Y</th>\n",
       "    </tr>\n",
       "  </thead>\n",
       "  <tbody>\n",
       "    <tr>\n",
       "      <th>156</th>\n",
       "      <td>Friend(s)</td>\n",
       "      <td>80</td>\n",
       "      <td>Bar</td>\n",
       "      <td>26</td>\n",
       "      <td>Single</td>\n",
       "      <td>Healthcare Support</td>\n",
       "      <td>$37500 - $49999</td>\n",
       "      <td>NaN</td>\n",
       "      <td>gt8</td>\n",
       "      <td>gt8</td>\n",
       "      <td>1</td>\n",
       "    </tr>\n",
       "    <tr>\n",
       "      <th>167</th>\n",
       "      <td>Alone</td>\n",
       "      <td>55</td>\n",
       "      <td>Bar</td>\n",
       "      <td>26</td>\n",
       "      <td>Single</td>\n",
       "      <td>Healthcare Support</td>\n",
       "      <td>$37500 - $49999</td>\n",
       "      <td>NaN</td>\n",
       "      <td>gt8</td>\n",
       "      <td>gt8</td>\n",
       "      <td>1</td>\n",
       "    </tr>\n",
       "    <tr>\n",
       "      <th>171</th>\n",
       "      <td>Alone</td>\n",
       "      <td>55</td>\n",
       "      <td>Bar</td>\n",
       "      <td>26</td>\n",
       "      <td>Single</td>\n",
       "      <td>Healthcare Support</td>\n",
       "      <td>$37500 - $49999</td>\n",
       "      <td>NaN</td>\n",
       "      <td>gt8</td>\n",
       "      <td>gt8</td>\n",
       "      <td>1</td>\n",
       "    </tr>\n",
       "    <tr>\n",
       "      <th>454</th>\n",
       "      <td>Friend(s)</td>\n",
       "      <td>80</td>\n",
       "      <td>Bar</td>\n",
       "      <td>31</td>\n",
       "      <td>Single</td>\n",
       "      <td>Management</td>\n",
       "      <td>$50000 - $62499</td>\n",
       "      <td>NaN</td>\n",
       "      <td>gt8</td>\n",
       "      <td>gt8</td>\n",
       "      <td>0</td>\n",
       "    </tr>\n",
       "    <tr>\n",
       "      <th>465</th>\n",
       "      <td>Alone</td>\n",
       "      <td>55</td>\n",
       "      <td>Bar</td>\n",
       "      <td>31</td>\n",
       "      <td>Single</td>\n",
       "      <td>Management</td>\n",
       "      <td>$50000 - $62499</td>\n",
       "      <td>NaN</td>\n",
       "      <td>gt8</td>\n",
       "      <td>gt8</td>\n",
       "      <td>1</td>\n",
       "    </tr>\n",
       "  </tbody>\n",
       "</table>\n",
       "</div>"
      ],
      "text/plain": [
       "     passanger  temperature coupon age maritalStatus          occupation  \\\n",
       "156  Friend(s)           80    Bar  26        Single  Healthcare Support   \n",
       "167      Alone           55    Bar  26        Single  Healthcare Support   \n",
       "171      Alone           55    Bar  26        Single  Healthcare Support   \n",
       "454  Friend(s)           80    Bar  31        Single          Management   \n",
       "465      Alone           55    Bar  31        Single          Management   \n",
       "\n",
       "              income  car  Bar RestaurantLessThan20  Y  \n",
       "156  $37500 - $49999  NaN  gt8                  gt8  1  \n",
       "167  $37500 - $49999  NaN  gt8                  gt8  1  \n",
       "171  $37500 - $49999  NaN  gt8                  gt8  1  \n",
       "454  $50000 - $62499  NaN  gt8                  gt8  0  \n",
       "465  $50000 - $62499  NaN  gt8                  gt8  1  "
      ]
     },
     "execution_count": 34,
     "metadata": {},
     "output_type": "execute_result"
    }
   ],
   "source": [
    "group_4a = DataFrame.query('1 == 1 \\\n",
    "    & Bar in [\"4~8\", \"gt8\"] \\\n",
    "    & age in [\"26\", \"31\", \"36\", \"41\", \"46\", \"50plus\"] \\\n",
    "    ')\n",
    "\n",
    "group_4a.head()"
   ]
  },
  {
   "cell_type": "markdown",
   "metadata": {},
   "source": [
    "Calculate the acceptance rate of *Group 4a*: "
   ]
  },
  {
   "cell_type": "code",
   "execution_count": 35,
   "metadata": {},
   "outputs": [
    {
     "data": {
      "text/plain": [
       "0.7686567164179104"
      ]
     },
     "execution_count": 35,
     "metadata": {},
     "output_type": "execute_result"
    }
   ],
   "source": [
    "group_4a.query('Y == 1').shape[0] / group_4a.shape[0]"
   ]
  },
  {
   "cell_type": "markdown",
   "metadata": {},
   "source": [
    "*Group 4b* is the people who received the bar coupons excluding ones in *Group 4a*:"
   ]
  },
  {
   "cell_type": "code",
   "execution_count": 36,
   "metadata": {},
   "outputs": [],
   "source": [
    "group_4b = DataFrame.query('index not in @group_4a.index')"
   ]
  },
  {
   "cell_type": "markdown",
   "metadata": {},
   "source": [
    "Calculate the acceptance rate of *Group 4b*:"
   ]
  },
  {
   "cell_type": "code",
   "execution_count": 37,
   "metadata": {},
   "outputs": [
    {
     "data": {
      "text/plain": [
       "0.3842469398616285"
      ]
     },
     "execution_count": 37,
     "metadata": {},
     "output_type": "execute_result"
    }
   ],
   "source": [
    "group_4b.query('Y == 1').shape[0] / group_4b.shape[0]"
   ]
  },
  {
   "cell_type": "markdown",
   "metadata": {},
   "source": [
    "Hence, among the people who received the bar coupons, *Group 4a* for people who went to any bar 4 times or more and also being over the age of 25 has a higher acceptance rate comparing to *Group 4b* for others: 76.9% vs. 38.4%.\n",
    "\n",
    "---"
   ]
  },
  {
   "cell_type": "markdown",
   "metadata": {
    "id": "S4RKT4PJ_qRK"
   },
   "source": [
    "5. Use the same process to compare the acceptance rate between drivers who go to bars more than once a month and had passengers that were not a kid and had occupations other than farming, fishing, or forestry.\n"
   ]
  },
  {
   "cell_type": "markdown",
   "metadata": {
    "id": "sENaI2Tg_qRK"
   },
   "source": [
    "**Ans 2.5.** There are two groups in the people who received the bar coupons: \n",
    "\n",
    "* Group 5a: {Go to the bar more than ~~once~~ <ins>3 times</ins> a month} <br> _and also_ {Has passengers excluding Kid(s)}<br> _and also_ {Has an occupation excluding \"Farming\", \"Fishing\", or \"Forestry\"}\n",
    "* Group 5b: all others"
   ]
  },
  {
   "cell_type": "markdown",
   "metadata": {},
   "source": [
    "Get a data frame for *Group 5a*: "
   ]
  },
  {
   "cell_type": "code",
   "execution_count": 38,
   "metadata": {},
   "outputs": [
    {
     "data": {
      "text/html": [
       "<div>\n",
       "<style scoped>\n",
       "    .dataframe tbody tr th:only-of-type {\n",
       "        vertical-align: middle;\n",
       "    }\n",
       "\n",
       "    .dataframe tbody tr th {\n",
       "        vertical-align: top;\n",
       "    }\n",
       "\n",
       "    .dataframe thead th {\n",
       "        text-align: right;\n",
       "    }\n",
       "</style>\n",
       "<table border=\"1\" class=\"dataframe\">\n",
       "  <thead>\n",
       "    <tr style=\"text-align: right;\">\n",
       "      <th></th>\n",
       "      <th>passanger</th>\n",
       "      <th>temperature</th>\n",
       "      <th>coupon</th>\n",
       "      <th>age</th>\n",
       "      <th>maritalStatus</th>\n",
       "      <th>occupation</th>\n",
       "      <th>income</th>\n",
       "      <th>car</th>\n",
       "      <th>Bar</th>\n",
       "      <th>RestaurantLessThan20</th>\n",
       "      <th>Y</th>\n",
       "    </tr>\n",
       "  </thead>\n",
       "  <tbody>\n",
       "    <tr>\n",
       "      <th>156</th>\n",
       "      <td>Friend(s)</td>\n",
       "      <td>80</td>\n",
       "      <td>Bar</td>\n",
       "      <td>26</td>\n",
       "      <td>Single</td>\n",
       "      <td>Healthcare Support</td>\n",
       "      <td>$37500 - $49999</td>\n",
       "      <td>NaN</td>\n",
       "      <td>gt8</td>\n",
       "      <td>gt8</td>\n",
       "      <td>1</td>\n",
       "    </tr>\n",
       "    <tr>\n",
       "      <th>167</th>\n",
       "      <td>Alone</td>\n",
       "      <td>55</td>\n",
       "      <td>Bar</td>\n",
       "      <td>26</td>\n",
       "      <td>Single</td>\n",
       "      <td>Healthcare Support</td>\n",
       "      <td>$37500 - $49999</td>\n",
       "      <td>NaN</td>\n",
       "      <td>gt8</td>\n",
       "      <td>gt8</td>\n",
       "      <td>1</td>\n",
       "    </tr>\n",
       "    <tr>\n",
       "      <th>171</th>\n",
       "      <td>Alone</td>\n",
       "      <td>55</td>\n",
       "      <td>Bar</td>\n",
       "      <td>26</td>\n",
       "      <td>Single</td>\n",
       "      <td>Healthcare Support</td>\n",
       "      <td>$37500 - $49999</td>\n",
       "      <td>NaN</td>\n",
       "      <td>gt8</td>\n",
       "      <td>gt8</td>\n",
       "      <td>1</td>\n",
       "    </tr>\n",
       "    <tr>\n",
       "      <th>454</th>\n",
       "      <td>Friend(s)</td>\n",
       "      <td>80</td>\n",
       "      <td>Bar</td>\n",
       "      <td>31</td>\n",
       "      <td>Single</td>\n",
       "      <td>Management</td>\n",
       "      <td>$50000 - $62499</td>\n",
       "      <td>NaN</td>\n",
       "      <td>gt8</td>\n",
       "      <td>gt8</td>\n",
       "      <td>0</td>\n",
       "    </tr>\n",
       "    <tr>\n",
       "      <th>465</th>\n",
       "      <td>Alone</td>\n",
       "      <td>55</td>\n",
       "      <td>Bar</td>\n",
       "      <td>31</td>\n",
       "      <td>Single</td>\n",
       "      <td>Management</td>\n",
       "      <td>$50000 - $62499</td>\n",
       "      <td>NaN</td>\n",
       "      <td>gt8</td>\n",
       "      <td>gt8</td>\n",
       "      <td>1</td>\n",
       "    </tr>\n",
       "  </tbody>\n",
       "</table>\n",
       "</div>"
      ],
      "text/plain": [
       "     passanger  temperature coupon age maritalStatus          occupation  \\\n",
       "156  Friend(s)           80    Bar  26        Single  Healthcare Support   \n",
       "167      Alone           55    Bar  26        Single  Healthcare Support   \n",
       "171      Alone           55    Bar  26        Single  Healthcare Support   \n",
       "454  Friend(s)           80    Bar  31        Single          Management   \n",
       "465      Alone           55    Bar  31        Single          Management   \n",
       "\n",
       "              income  car  Bar RestaurantLessThan20  Y  \n",
       "156  $37500 - $49999  NaN  gt8                  gt8  1  \n",
       "167  $37500 - $49999  NaN  gt8                  gt8  1  \n",
       "171  $37500 - $49999  NaN  gt8                  gt8  1  \n",
       "454  $50000 - $62499  NaN  gt8                  gt8  0  \n",
       "465  $50000 - $62499  NaN  gt8                  gt8  1  "
      ]
     },
     "execution_count": 38,
     "metadata": {},
     "output_type": "execute_result"
    }
   ],
   "source": [
    "group_5a = DataFrame.query('1 == 1 \\\n",
    "    & Bar in [\"4~8\", \"gt8\"] \\\n",
    "    & passanger != \"Kid(s)\" \\\n",
    "    & occupation != \"Farming Fishing & Forestry\" \\\n",
    "    ')\n",
    "\n",
    "group_5a.head()"
   ]
  },
  {
   "cell_type": "markdown",
   "metadata": {},
   "source": [
    "Calculate the acceptance rate of *Group 5a*:"
   ]
  },
  {
   "cell_type": "code",
   "execution_count": 39,
   "metadata": {},
   "outputs": [
    {
     "data": {
      "text/plain": [
       "0.7724867724867724"
      ]
     },
     "execution_count": 39,
     "metadata": {},
     "output_type": "execute_result"
    }
   ],
   "source": [
    "group_5a.query('Y == 1').shape[0] / group_5a.shape[0]"
   ]
  },
  {
   "cell_type": "markdown",
   "metadata": {},
   "source": [
    "*Group 5b* is the people who received the bar coupons excluding ones in *Group 5a*:"
   ]
  },
  {
   "cell_type": "code",
   "execution_count": 40,
   "metadata": {},
   "outputs": [],
   "source": [
    "group_5b = DataFrame.query('index not in @group_5a.index')"
   ]
  },
  {
   "cell_type": "markdown",
   "metadata": {},
   "source": [
    "Calculate the acceptance rate of *Group 5b*:"
   ]
  },
  {
   "cell_type": "code",
   "execution_count": 41,
   "metadata": {},
   "outputs": [
    {
     "data": {
      "text/plain": [
       "0.37225877192982454"
      ]
     },
     "execution_count": 41,
     "metadata": {},
     "output_type": "execute_result"
    }
   ],
   "source": [
    "group_5b.query('Y == 1').shape[0] / group_5b.shape[0]"
   ]
  },
  {
   "cell_type": "markdown",
   "metadata": {},
   "source": [
    "Hence, among the people who received the bar coupons, *Group 5a* has a higher acceptance rate comparing to *Group 5b* for others: 77.2% vs. 37.2%.\n",
    "\n",
    "---"
   ]
  },
  {
   "cell_type": "markdown",
   "metadata": {
    "id": "n2LIUTil_qRK"
   },
   "source": [
    "6. Compare the acceptance rates between those drivers who:\n",
    "\n",
    "- go to bars more than once a month, had passengers that were not a kid, and were not widowed *OR*\n",
    "- go to bars more than once a month and are under the age of 30 *OR*\n",
    "- go to cheap restaurants more than 4 times a month and income is less than 50K.\n",
    "\n"
   ]
  },
  {
   "cell_type": "markdown",
   "metadata": {
    "id": "aK_wEzx7_qRK"
   },
   "source": [
    "**Ans 2.6** Let *Group 6a*, *Group 6b*, and *Group 6c* be these three groups."
   ]
  },
  {
   "cell_type": "markdown",
   "metadata": {},
   "source": [
    "First, get a data frame for *Group 6a* for \n",
    "\n",
    "> go to bars more than once a month and are under the age of 30\n",
    "\n",
    "or\n",
    "\n",
    "* going to bars more than once a month\n",
    "* having passengers that were not a kid\n",
    "* not widowed"
   ]
  },
  {
   "cell_type": "code",
   "execution_count": 42,
   "metadata": {},
   "outputs": [
    {
     "data": {
      "text/html": [
       "<div>\n",
       "<style scoped>\n",
       "    .dataframe tbody tr th:only-of-type {\n",
       "        vertical-align: middle;\n",
       "    }\n",
       "\n",
       "    .dataframe tbody tr th {\n",
       "        vertical-align: top;\n",
       "    }\n",
       "\n",
       "    .dataframe thead th {\n",
       "        text-align: right;\n",
       "    }\n",
       "</style>\n",
       "<table border=\"1\" class=\"dataframe\">\n",
       "  <thead>\n",
       "    <tr style=\"text-align: right;\">\n",
       "      <th></th>\n",
       "      <th>passanger</th>\n",
       "      <th>temperature</th>\n",
       "      <th>coupon</th>\n",
       "      <th>age</th>\n",
       "      <th>maritalStatus</th>\n",
       "      <th>occupation</th>\n",
       "      <th>income</th>\n",
       "      <th>car</th>\n",
       "      <th>Bar</th>\n",
       "      <th>RestaurantLessThan20</th>\n",
       "      <th>Y</th>\n",
       "    </tr>\n",
       "  </thead>\n",
       "  <tbody>\n",
       "    <tr>\n",
       "      <th>156</th>\n",
       "      <td>Friend(s)</td>\n",
       "      <td>80</td>\n",
       "      <td>Bar</td>\n",
       "      <td>26</td>\n",
       "      <td>Single</td>\n",
       "      <td>Healthcare Support</td>\n",
       "      <td>$37500 - $49999</td>\n",
       "      <td>NaN</td>\n",
       "      <td>gt8</td>\n",
       "      <td>gt8</td>\n",
       "      <td>1</td>\n",
       "    </tr>\n",
       "    <tr>\n",
       "      <th>167</th>\n",
       "      <td>Alone</td>\n",
       "      <td>55</td>\n",
       "      <td>Bar</td>\n",
       "      <td>26</td>\n",
       "      <td>Single</td>\n",
       "      <td>Healthcare Support</td>\n",
       "      <td>$37500 - $49999</td>\n",
       "      <td>NaN</td>\n",
       "      <td>gt8</td>\n",
       "      <td>gt8</td>\n",
       "      <td>1</td>\n",
       "    </tr>\n",
       "    <tr>\n",
       "      <th>171</th>\n",
       "      <td>Alone</td>\n",
       "      <td>55</td>\n",
       "      <td>Bar</td>\n",
       "      <td>26</td>\n",
       "      <td>Single</td>\n",
       "      <td>Healthcare Support</td>\n",
       "      <td>$37500 - $49999</td>\n",
       "      <td>NaN</td>\n",
       "      <td>gt8</td>\n",
       "      <td>gt8</td>\n",
       "      <td>1</td>\n",
       "    </tr>\n",
       "    <tr>\n",
       "      <th>454</th>\n",
       "      <td>Friend(s)</td>\n",
       "      <td>80</td>\n",
       "      <td>Bar</td>\n",
       "      <td>31</td>\n",
       "      <td>Single</td>\n",
       "      <td>Management</td>\n",
       "      <td>$50000 - $62499</td>\n",
       "      <td>NaN</td>\n",
       "      <td>gt8</td>\n",
       "      <td>gt8</td>\n",
       "      <td>0</td>\n",
       "    </tr>\n",
       "    <tr>\n",
       "      <th>465</th>\n",
       "      <td>Alone</td>\n",
       "      <td>55</td>\n",
       "      <td>Bar</td>\n",
       "      <td>31</td>\n",
       "      <td>Single</td>\n",
       "      <td>Management</td>\n",
       "      <td>$50000 - $62499</td>\n",
       "      <td>NaN</td>\n",
       "      <td>gt8</td>\n",
       "      <td>gt8</td>\n",
       "      <td>1</td>\n",
       "    </tr>\n",
       "  </tbody>\n",
       "</table>\n",
       "</div>"
      ],
      "text/plain": [
       "     passanger  temperature coupon age maritalStatus          occupation  \\\n",
       "156  Friend(s)           80    Bar  26        Single  Healthcare Support   \n",
       "167      Alone           55    Bar  26        Single  Healthcare Support   \n",
       "171      Alone           55    Bar  26        Single  Healthcare Support   \n",
       "454  Friend(s)           80    Bar  31        Single          Management   \n",
       "465      Alone           55    Bar  31        Single          Management   \n",
       "\n",
       "              income  car  Bar RestaurantLessThan20  Y  \n",
       "156  $37500 - $49999  NaN  gt8                  gt8  1  \n",
       "167  $37500 - $49999  NaN  gt8                  gt8  1  \n",
       "171  $37500 - $49999  NaN  gt8                  gt8  1  \n",
       "454  $50000 - $62499  NaN  gt8                  gt8  0  \n",
       "465  $50000 - $62499  NaN  gt8                  gt8  1  "
      ]
     },
     "execution_count": 42,
     "metadata": {},
     "output_type": "execute_result"
    }
   ],
   "source": [
    "group_6a = DataFrame.query('1 == 1 \\\n",
    "    & Bar in [\"4~8\", \"gt8\"] \\\n",
    "    & passanger != \"Kid(s)\" \\\n",
    "    & maritalStatus != \"Widowed\" \\\n",
    "    ')\n",
    "\n",
    "group_6a.head()"
   ]
  },
  {
   "cell_type": "markdown",
   "metadata": {},
   "source": [
    "Calculate the acceptance rate of *Group 6a*:"
   ]
  },
  {
   "cell_type": "code",
   "execution_count": 43,
   "metadata": {},
   "outputs": [
    {
     "data": {
      "text/plain": [
       "0.7724867724867724"
      ]
     },
     "execution_count": 43,
     "metadata": {},
     "output_type": "execute_result"
    }
   ],
   "source": [
    "group_6a.query('Y == 1').shape[0] / group_6a.shape[0]"
   ]
  },
  {
   "cell_type": "markdown",
   "metadata": {},
   "source": [
    "Second, get a data frame for *Group 6b* for \n",
    "\n",
    "> go to bars more than once a month and are under the age of 30\n",
    "\n",
    "or\n",
    "\n",
    "* go to bars more than once a month\n",
    "* under the age of 30"
   ]
  },
  {
   "cell_type": "code",
   "execution_count": 44,
   "metadata": {},
   "outputs": [
    {
     "data": {
      "text/html": [
       "<div>\n",
       "<style scoped>\n",
       "    .dataframe tbody tr th:only-of-type {\n",
       "        vertical-align: middle;\n",
       "    }\n",
       "\n",
       "    .dataframe tbody tr th {\n",
       "        vertical-align: top;\n",
       "    }\n",
       "\n",
       "    .dataframe thead th {\n",
       "        text-align: right;\n",
       "    }\n",
       "</style>\n",
       "<table border=\"1\" class=\"dataframe\">\n",
       "  <thead>\n",
       "    <tr style=\"text-align: right;\">\n",
       "      <th></th>\n",
       "      <th>passanger</th>\n",
       "      <th>temperature</th>\n",
       "      <th>coupon</th>\n",
       "      <th>age</th>\n",
       "      <th>maritalStatus</th>\n",
       "      <th>occupation</th>\n",
       "      <th>income</th>\n",
       "      <th>car</th>\n",
       "      <th>Bar</th>\n",
       "      <th>RestaurantLessThan20</th>\n",
       "      <th>Y</th>\n",
       "    </tr>\n",
       "  </thead>\n",
       "  <tbody>\n",
       "    <tr>\n",
       "      <th>156</th>\n",
       "      <td>Friend(s)</td>\n",
       "      <td>80</td>\n",
       "      <td>Bar</td>\n",
       "      <td>26</td>\n",
       "      <td>Single</td>\n",
       "      <td>Healthcare Support</td>\n",
       "      <td>$37500 - $49999</td>\n",
       "      <td>NaN</td>\n",
       "      <td>gt8</td>\n",
       "      <td>gt8</td>\n",
       "      <td>1</td>\n",
       "    </tr>\n",
       "    <tr>\n",
       "      <th>167</th>\n",
       "      <td>Alone</td>\n",
       "      <td>55</td>\n",
       "      <td>Bar</td>\n",
       "      <td>26</td>\n",
       "      <td>Single</td>\n",
       "      <td>Healthcare Support</td>\n",
       "      <td>$37500 - $49999</td>\n",
       "      <td>NaN</td>\n",
       "      <td>gt8</td>\n",
       "      <td>gt8</td>\n",
       "      <td>1</td>\n",
       "    </tr>\n",
       "    <tr>\n",
       "      <th>171</th>\n",
       "      <td>Alone</td>\n",
       "      <td>55</td>\n",
       "      <td>Bar</td>\n",
       "      <td>26</td>\n",
       "      <td>Single</td>\n",
       "      <td>Healthcare Support</td>\n",
       "      <td>$37500 - $49999</td>\n",
       "      <td>NaN</td>\n",
       "      <td>gt8</td>\n",
       "      <td>gt8</td>\n",
       "      <td>1</td>\n",
       "    </tr>\n",
       "    <tr>\n",
       "      <th>591</th>\n",
       "      <td>Friend(s)</td>\n",
       "      <td>80</td>\n",
       "      <td>Bar</td>\n",
       "      <td>26</td>\n",
       "      <td>Single</td>\n",
       "      <td>Office &amp; Administrative Support</td>\n",
       "      <td>$50000 - $62499</td>\n",
       "      <td>NaN</td>\n",
       "      <td>4~8</td>\n",
       "      <td>1~3</td>\n",
       "      <td>1</td>\n",
       "    </tr>\n",
       "    <tr>\n",
       "      <th>602</th>\n",
       "      <td>Alone</td>\n",
       "      <td>55</td>\n",
       "      <td>Bar</td>\n",
       "      <td>26</td>\n",
       "      <td>Single</td>\n",
       "      <td>Office &amp; Administrative Support</td>\n",
       "      <td>$50000 - $62499</td>\n",
       "      <td>NaN</td>\n",
       "      <td>4~8</td>\n",
       "      <td>1~3</td>\n",
       "      <td>1</td>\n",
       "    </tr>\n",
       "  </tbody>\n",
       "</table>\n",
       "</div>"
      ],
      "text/plain": [
       "     passanger  temperature coupon age maritalStatus  \\\n",
       "156  Friend(s)           80    Bar  26        Single   \n",
       "167      Alone           55    Bar  26        Single   \n",
       "171      Alone           55    Bar  26        Single   \n",
       "591  Friend(s)           80    Bar  26        Single   \n",
       "602      Alone           55    Bar  26        Single   \n",
       "\n",
       "                          occupation           income  car  Bar  \\\n",
       "156               Healthcare Support  $37500 - $49999  NaN  gt8   \n",
       "167               Healthcare Support  $37500 - $49999  NaN  gt8   \n",
       "171               Healthcare Support  $37500 - $49999  NaN  gt8   \n",
       "591  Office & Administrative Support  $50000 - $62499  NaN  4~8   \n",
       "602  Office & Administrative Support  $50000 - $62499  NaN  4~8   \n",
       "\n",
       "    RestaurantLessThan20  Y  \n",
       "156                  gt8  1  \n",
       "167                  gt8  1  \n",
       "171                  gt8  1  \n",
       "591                  1~3  1  \n",
       "602                  1~3  1  "
      ]
     },
     "execution_count": 44,
     "metadata": {},
     "output_type": "execute_result"
    }
   ],
   "source": [
    "group_6b = DataFrame.query('1 == 1 \\\n",
    "    & Bar in [\"4~8\", \"gt8\"] \\\n",
    "    & age in [\"below21\", \"21\", \"26\"] \\\n",
    "    ')\n",
    "\n",
    "group_6b.head()"
   ]
  },
  {
   "cell_type": "markdown",
   "metadata": {},
   "source": [
    "Calculate the acceptance rate of *Group 6a*:"
   ]
  },
  {
   "cell_type": "code",
   "execution_count": 45,
   "metadata": {},
   "outputs": [
    {
     "data": {
      "text/plain": [
       "0.8059701492537313"
      ]
     },
     "execution_count": 45,
     "metadata": {},
     "output_type": "execute_result"
    }
   ],
   "source": [
    "group_6b.query('Y == 1').shape[0] / group_6b.shape[0]"
   ]
  },
  {
   "cell_type": "markdown",
   "metadata": {},
   "source": [
    "Third, get a data frame for *Group 6c* for \n",
    "\n",
    "> go to cheap restaurants more than 4 times a month and income is less than 50K\n",
    "\n",
    "or \n",
    "\n",
    "* going to restaurant ~~more than~~ 4 times <ins>or more</ins> a month and every time spending less than $20\n",
    "* income is less than 50K"
   ]
  },
  {
   "cell_type": "code",
   "execution_count": 46,
   "metadata": {},
   "outputs": [
    {
     "data": {
      "text/html": [
       "<div>\n",
       "<style scoped>\n",
       "    .dataframe tbody tr th:only-of-type {\n",
       "        vertical-align: middle;\n",
       "    }\n",
       "\n",
       "    .dataframe tbody tr th {\n",
       "        vertical-align: top;\n",
       "    }\n",
       "\n",
       "    .dataframe thead th {\n",
       "        text-align: right;\n",
       "    }\n",
       "</style>\n",
       "<table border=\"1\" class=\"dataframe\">\n",
       "  <thead>\n",
       "    <tr style=\"text-align: right;\">\n",
       "      <th></th>\n",
       "      <th>passanger</th>\n",
       "      <th>temperature</th>\n",
       "      <th>coupon</th>\n",
       "      <th>age</th>\n",
       "      <th>maritalStatus</th>\n",
       "      <th>occupation</th>\n",
       "      <th>income</th>\n",
       "      <th>car</th>\n",
       "      <th>Bar</th>\n",
       "      <th>RestaurantLessThan20</th>\n",
       "      <th>Y</th>\n",
       "    </tr>\n",
       "  </thead>\n",
       "  <tbody>\n",
       "    <tr>\n",
       "      <th>9</th>\n",
       "      <td>Kid(s)</td>\n",
       "      <td>80</td>\n",
       "      <td>Bar</td>\n",
       "      <td>21</td>\n",
       "      <td>Unmarried partner</td>\n",
       "      <td>Unemployed</td>\n",
       "      <td>$37500 - $49999</td>\n",
       "      <td>NaN</td>\n",
       "      <td>never</td>\n",
       "      <td>4~8</td>\n",
       "      <td>0</td>\n",
       "    </tr>\n",
       "    <tr>\n",
       "      <th>13</th>\n",
       "      <td>Alone</td>\n",
       "      <td>55</td>\n",
       "      <td>Bar</td>\n",
       "      <td>21</td>\n",
       "      <td>Unmarried partner</td>\n",
       "      <td>Unemployed</td>\n",
       "      <td>$37500 - $49999</td>\n",
       "      <td>NaN</td>\n",
       "      <td>never</td>\n",
       "      <td>4~8</td>\n",
       "      <td>1</td>\n",
       "    </tr>\n",
       "    <tr>\n",
       "      <th>17</th>\n",
       "      <td>Alone</td>\n",
       "      <td>55</td>\n",
       "      <td>Bar</td>\n",
       "      <td>21</td>\n",
       "      <td>Unmarried partner</td>\n",
       "      <td>Unemployed</td>\n",
       "      <td>$37500 - $49999</td>\n",
       "      <td>NaN</td>\n",
       "      <td>never</td>\n",
       "      <td>4~8</td>\n",
       "      <td>0</td>\n",
       "    </tr>\n",
       "    <tr>\n",
       "      <th>156</th>\n",
       "      <td>Friend(s)</td>\n",
       "      <td>80</td>\n",
       "      <td>Bar</td>\n",
       "      <td>26</td>\n",
       "      <td>Single</td>\n",
       "      <td>Healthcare Support</td>\n",
       "      <td>$37500 - $49999</td>\n",
       "      <td>NaN</td>\n",
       "      <td>gt8</td>\n",
       "      <td>gt8</td>\n",
       "      <td>1</td>\n",
       "    </tr>\n",
       "    <tr>\n",
       "      <th>167</th>\n",
       "      <td>Alone</td>\n",
       "      <td>55</td>\n",
       "      <td>Bar</td>\n",
       "      <td>26</td>\n",
       "      <td>Single</td>\n",
       "      <td>Healthcare Support</td>\n",
       "      <td>$37500 - $49999</td>\n",
       "      <td>NaN</td>\n",
       "      <td>gt8</td>\n",
       "      <td>gt8</td>\n",
       "      <td>1</td>\n",
       "    </tr>\n",
       "  </tbody>\n",
       "</table>\n",
       "</div>"
      ],
      "text/plain": [
       "     passanger  temperature coupon age      maritalStatus          occupation  \\\n",
       "9       Kid(s)           80    Bar  21  Unmarried partner          Unemployed   \n",
       "13       Alone           55    Bar  21  Unmarried partner          Unemployed   \n",
       "17       Alone           55    Bar  21  Unmarried partner          Unemployed   \n",
       "156  Friend(s)           80    Bar  26             Single  Healthcare Support   \n",
       "167      Alone           55    Bar  26             Single  Healthcare Support   \n",
       "\n",
       "              income  car    Bar RestaurantLessThan20  Y  \n",
       "9    $37500 - $49999  NaN  never                  4~8  0  \n",
       "13   $37500 - $49999  NaN  never                  4~8  1  \n",
       "17   $37500 - $49999  NaN  never                  4~8  0  \n",
       "156  $37500 - $49999  NaN    gt8                  gt8  1  \n",
       "167  $37500 - $49999  NaN    gt8                  gt8  1  "
      ]
     },
     "execution_count": 46,
     "metadata": {},
     "output_type": "execute_result"
    }
   ],
   "source": [
    "group_6c = DataFrame.query('1 == 1 \\\n",
    "    & RestaurantLessThan20 in [\"4~8\", \"gt8\"] \\\n",
    "    & income in [\\\n",
    "        \"Less than $12500\", \"$12500\", \"$12500 - $24999\", \\\n",
    "        \"$25000 - $37499\", \"$37500 - $49999\" \\\n",
    "        ] \\\n",
    "    ')\n",
    "\n",
    "group_6c.head()"
   ]
  },
  {
   "cell_type": "markdown",
   "metadata": {},
   "source": [
    "As shown in the query for `RestaurantLessThan20` in the command, none of the selected records contains a null entry in this field. Calculate the acceptance rate of *Group 6c*: "
   ]
  },
  {
   "cell_type": "code",
   "execution_count": 47,
   "metadata": {},
   "outputs": [
    {
     "data": {
      "text/plain": [
       "0.45348837209302323"
      ]
     },
     "execution_count": 47,
     "metadata": {},
     "output_type": "execute_result"
    }
   ],
   "source": [
    "group_6c.query('Y == 1').shape[0] / group_6c.shape[0]"
   ]
  },
  {
   "cell_type": "markdown",
   "metadata": {},
   "source": [
    "To sum up, the acceptance rates for those three groups are\n",
    "\n",
    "* *Group 6a*: 77.2%\n",
    "* *Group 6b*: 80.6%\n",
    "* *Group 6c*: 45.3%\n",
    "\n",
    "Comparing to the acceptance rate of the entire data frame you got in **Ans 2.2**, which was 41.0%, *Group 6a* and *Group 6b* have significantly higher acceptance rates whereas *Group 6c* has a slightly higher acceptance rate.\n",
    "\n",
    "---"
   ]
  },
  {
   "cell_type": "markdown",
   "metadata": {
    "id": "v3fL3QkO_qRK"
   },
   "source": [
    "7.  Based on these observations, what do you hypothesize about drivers who accepted the bar coupons?"
   ]
  },
  {
   "cell_type": "markdown",
   "metadata": {
    "id": "Y48naDFh_qRL"
   },
   "source": [
    "**Ans 2.7.** So far you have compared groups of people who received bar coupons with several factors.\n",
    "\n",
    "A single factor:\n",
    "\n",
    "* Frequent bar visitors has a higher acceptance rate comparing to rare visitors. (**Ans 2.3**)\n",
    "\n",
    "\n",
    "Multiple factors:\n",
    "\n",
    "* Old frequent bar visitors have a higher acceptance rate. (**Ans 2.4**)\n",
    "* Frequent bar visitors without kids on the passenger seat and also having jobs of neither farming, fishing, nor forestry have a higher acceptance rate. (**Ans 2.5**)\n",
    "* Frequent bar visitors without a kid on the passenger seat and also not being widowed have a higer acceptance rate. (*Group 6a* in **Ans 2.6**)\n",
    "* Young frequent bar visitors have a higher acceptance rate. (*Group 6b* in **Ans 2.6**)\n",
    "* Low-income, frequent cheap restaurant visitors have the acceptance rate that is similar to the average. (*Group 6c* in **Ans 2.6**)\n",
    "\n",
    "You cannot tell which factor has affected the acceptance rate by seeing those multi-factor cases. It is like someone says _\"white women are small\"_ but you cannot tell whether white people are small in general or women are small in general, until you compare those white women with the entire white population and with the entire women population. In **Ans 3**, you revisit **Ans 2.4** and check how every factor&mdash;the age and the frequency to visit bars&mdash;affect the acceptance rate."
   ]
  },
  {
   "cell_type": "markdown",
   "metadata": {
    "id": "r4Hu1zOb_qRL"
   },
   "source": [
    "### Independent Investigation\n",
    "\n",
    "Using the bar coupon example as motivation, you are to explore one of the other coupon groups and try to determine the characteristics of passengers who accept the coupons.  "
   ]
  },
  {
   "cell_type": "markdown",
   "metadata": {
    "id": "0c71cQhu_qRL"
   },
   "source": [
    "**Ans 3.** Verify **Ans 2.4** and see if there is any correlation between the age and the acceptance rate. Consider the four groups: \n",
    "\n",
    "* *Group 3a (\"old frequent visitor\")*: Goes to bars 4 times or more. Over the age of 25.\n",
    "* *Group 3b (\"young frequent visitor\")*: Goes to bars 4 times or more. At the age of 25 or younger.\n",
    "* *Group 3c (\"old rare visitor\")*: Goes to bars 3 times or less. Over the age of 25.\n",
    "* *Group 3d (\"young rare visitor\")*: Goes to bars 3 times or less. At the age of 25 or younger.\n",
    "\n",
    "*Group 3a* is the same as Group 4a whose acceptance rate is 76.9%. A set of *Group 3b*, *Group 3c*, and *Group 3d* are the same as *Group 4b*."
   ]
  },
  {
   "cell_type": "markdown",
   "metadata": {},
   "source": [
    "Calculate the acceptance rate of *Group 3b (\"young frequent visitor\")*:"
   ]
  },
  {
   "cell_type": "code",
   "execution_count": 48,
   "metadata": {
    "id": "QEsBkvIN_qRL"
   },
   "outputs": [],
   "source": [
    "group_3b = DataFrame.query('1 == 1 \\\n",
    "    & Bar in [\"4~8\", \"gt8\"] \\\n",
    "    & age in [\"below21\", \"21\"] \\\n",
    "    ')"
   ]
  },
  {
   "cell_type": "code",
   "execution_count": 49,
   "metadata": {
    "id": "fTC2WGE3_qRL"
   },
   "outputs": [
    {
     "data": {
      "text/plain": [
       "0.7619047619047619"
      ]
     },
     "execution_count": 49,
     "metadata": {},
     "output_type": "execute_result"
    }
   ],
   "source": [
    "group_3b.query('Y == 1').shape[0] / group_3b.shape[0]"
   ]
  },
  {
   "cell_type": "markdown",
   "metadata": {},
   "source": [
    "Calculate the acceptance rate of *Group 3c (\"old rare visitor\")*:"
   ]
  },
  {
   "cell_type": "code",
   "execution_count": 50,
   "metadata": {},
   "outputs": [],
   "source": [
    "group_3c = DataFrame.query('1 == 1 \\\n",
    "    & Bar not in [\"4~8\", \"gt8\"] \\\n",
    "    & age not in [\"below21\", \"21\"] \\\n",
    "    ')"
   ]
  },
  {
   "cell_type": "code",
   "execution_count": 51,
   "metadata": {
    "id": "RrqUWn7d_qRL"
   },
   "outputs": [
    {
     "data": {
      "text/plain": [
       "0.3449527959331881"
      ]
     },
     "execution_count": 51,
     "metadata": {},
     "output_type": "execute_result"
    }
   ],
   "source": [
    "group_3c.query('Y == 1').shape[0] / group_3c.shape[0]"
   ]
  },
  {
   "cell_type": "markdown",
   "metadata": {},
   "source": [
    "Calculate the acceptance rate of Group 3d (\"young rare visitor\"):"
   ]
  },
  {
   "cell_type": "code",
   "execution_count": 52,
   "metadata": {},
   "outputs": [],
   "source": [
    "group_3d = DataFrame.query('1 == 1 \\\n",
    "    & Bar not in [\"4~8\", \"gt8\"] \\\n",
    "    & age     in [\"below21\", \"21\"] \\\n",
    "    ')"
   ]
  },
  {
   "cell_type": "code",
   "execution_count": 53,
   "metadata": {},
   "outputs": [
    {
     "data": {
      "text/plain": [
       "0.4533029612756264"
      ]
     },
     "execution_count": 53,
     "metadata": {},
     "output_type": "execute_result"
    }
   ],
   "source": [
    "group_3d.query('Y == 1').shape[0] / group_3d.shape[0]"
   ]
  },
  {
   "cell_type": "markdown",
   "metadata": {},
   "source": [
    "To summarize those acceptance rates, frequent visitors have a little correlation between the age and the acceptance rates whereas rare visitors have a more correlation: young rare visitors tend to accept the bar coupons comparing to old rare visitors.\n",
    "\n",
    "| Acceptance Rate   | Old    | Young |\n",
    "|-------------------|--------|-------|\n",
    "| Frequent visitors | 76.9 % | 76.2% |\n",
    "| Rare visitors     | 34.5 % | 45.3% |\n",
    "\n",
    "You can revisit **Ans 2.5** and **Ans 2.6** with multiple factors and check which factor affects the acceptance rate in a similar fashion. &#9632;"
   ]
  }
 ],
 "metadata": {
  "colab": {
   "provenance": []
  },
  "kernelspec": {
   "display_name": "Python 3 (ipykernel)",
   "language": "python",
   "name": "python3"
  },
  "language_info": {
   "codemirror_mode": {
    "name": "ipython",
    "version": 3
   },
   "file_extension": ".py",
   "mimetype": "text/x-python",
   "name": "python",
   "nbconvert_exporter": "python",
   "pygments_lexer": "ipython3",
   "version": "3.13.1"
  }
 },
 "nbformat": 4,
 "nbformat_minor": 4
}
